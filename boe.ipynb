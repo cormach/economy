{
 "cells": [
  {
   "cell_type": "code",
   "execution_count": null,
   "id": "f52dceb6",
   "metadata": {},
   "outputs": [],
   "source": [
    "import pandas as pd\n",
    "import requests\n",
    "import zipfile\n",
    "import io\n",
    "import os\n",
    "import csv\n",
    "import ctypes as ct\n",
    "import numpy as np\n",
    "from collections import Counter\n",
    "import matplotlib.pyplot as plt\n",
    "import re\n"
   ]
  },
  {
   "cell_type": "markdown",
   "id": "8ef6ba88",
   "metadata": {},
   "source": [
    "- \"https://www.bankofengland.co.uk/-/media/boe/files/markets/asset-purchase-facility/gilt-purchase-operational-results.xlsx\"\n",
    "- \"https://www.bankofengland.co.uk/-/media/boe/files/markets/asset-purchase-facility/gilt-sales-time-series.xlsx\""
   ]
  },
  {
   "cell_type": "code",
   "execution_count": null,
   "id": "9195ab1e",
   "metadata": {},
   "outputs": [],
   "source": [
    "df_buy = pd.ExcelFile(\"downloads/gilt-purchase-operational-results.XLSX\")"
   ]
  },
  {
   "cell_type": "code",
   "execution_count": null,
   "id": "e5b15969",
   "metadata": {},
   "outputs": [],
   "source": [
    "df_buy.sheet_names"
   ]
  },
  {
   "cell_type": "code",
   "execution_count": null,
   "id": "28bd8241",
   "metadata": {},
   "outputs": [],
   "source": [
    "df_buy = pd.read_excel(\"downloads/gilt-purchase-operational-results.XLSX\", sheet_name=\"APF Gilts\", header=1)"
   ]
  },
  {
   "cell_type": "code",
   "execution_count": null,
   "id": "f45974d5",
   "metadata": {},
   "outputs": [],
   "source": [
    "df_buy.columns"
   ]
  },
  {
   "cell_type": "code",
   "execution_count": null,
   "id": "fd29b519",
   "metadata": {},
   "outputs": [],
   "source": [
    "df_boe = df_buy[['Operation date','Total allocation (proceeds £mn)', 'Total allocation (nominal £mn)']].copy()"
   ]
  },
  {
   "cell_type": "code",
   "execution_count": null,
   "id": "2ba44874",
   "metadata": {},
   "outputs": [],
   "source": [
    "df_boe['Operation date'] = pd.to_datetime(df_boe['Operation date'], format='%d-%m-%Y')"
   ]
  },
  {
   "cell_type": "code",
   "execution_count": null,
   "id": "be864659",
   "metadata": {},
   "outputs": [],
   "source": [
    "df_boe.set_index('Operation date', inplace=True)"
   ]
  },
  {
   "cell_type": "code",
   "execution_count": null,
   "id": "06e76c48",
   "metadata": {},
   "outputs": [],
   "source": [
    "df_boe.cumsum(axis=0).plot()"
   ]
  },
  {
   "cell_type": "code",
   "execution_count": null,
   "id": "82a888b3",
   "metadata": {},
   "outputs": [],
   "source": [
    "df_sell = pd.ExcelFile(\"downloads/gilt-sales-time-series.XLSX\")"
   ]
  },
  {
   "cell_type": "code",
   "execution_count": null,
   "id": "e7629a47",
   "metadata": {},
   "outputs": [],
   "source": [
    "df_sell.sheet_names"
   ]
  },
  {
   "cell_type": "code",
   "execution_count": null,
   "id": "eba79973",
   "metadata": {},
   "outputs": [],
   "source": [
    "df_sell = pd.read_excel(\"downloads/gilt-sales-time-series.XLSX\", sheet_name=\"APF gilt sales\", header=1)"
   ]
  },
  {
   "cell_type": "code",
   "execution_count": null,
   "id": "71c216b1",
   "metadata": {},
   "outputs": [],
   "source": [
    "df_sell.columns"
   ]
  },
  {
   "cell_type": "code",
   "execution_count": null,
   "id": "8846cd3b",
   "metadata": {},
   "outputs": [],
   "source": [
    "df_boe_exit = df_sell[['Operation date','Total allocation (proceeds £mn)', 'Total allocation (nominal £mn)']].copy()\n",
    "df_boe_exit['Operation date'] = pd.to_datetime(df_boe_exit['Operation date'], format='%d-%m-%Y')\n",
    "df_boe_exit.set_index('Operation date', inplace=True)\n",
    "df_boe_exit.cumsum(axis=0).plot()"
   ]
  },
  {
   "cell_type": "code",
   "execution_count": null,
   "id": "d9a92cab",
   "metadata": {},
   "outputs": [],
   "source": [
    "bonds = df_buy[['ISIN','Bond\\n']].drop_duplicates()"
   ]
  },
  {
   "cell_type": "code",
   "execution_count": null,
   "id": "093c31c5",
   "metadata": {},
   "outputs": [],
   "source": [
    "from collections import defaultdict\n",
    "isin_bond_map = defaultdict(list)\n",
    "for row in bonds.itertuples():\n",
    "    isin_bond_map[row.ISIN].append(row._2)\n",
    "for isin, bond in isin_bond_map.items():\n",
    "    if len(bond) > 1:\n",
    "        raise Exception(f\"There are duplicates in the BoE list: {isin}\")\n",
    "isin_bond_map['GB0008881541']"
   ]
  },
  {
   "cell_type": "code",
   "execution_count": null,
   "id": "c75a1761",
   "metadata": {},
   "outputs": [],
   "source": [
    "gilt_level_buys = df_buy[[\n",
    "    'ISIN',\n",
    "    'Operation date',\n",
    "    'Total allocation (proceeds £mn)',\n",
    "    'Total allocation (nominal £mn)'\n",
    "    ]].copy()\n",
    "gilt_level_buys.set_index('Operation date', inplace=True)\n",
    "gilt_level_buys.index = pd.to_datetime(gilt_level_buys.index, format='%d-%m-%Y').to_period('M').to_timestamp('M')\n",
    "gilt_level_buys.reset_index(inplace=True)\n"
   ]
  },
  {
   "cell_type": "code",
   "execution_count": null,
   "id": "8ee50919",
   "metadata": {},
   "outputs": [],
   "source": [
    "gilt_buys_ts = gilt_level_buys.pivot_table(\n",
    "    index='Operation date', \n",
    "    columns='ISIN', \n",
    "    values='Total allocation (nominal £mn)', aggfunc='sum')"
   ]
  },
  {
   "cell_type": "code",
   "execution_count": null,
   "id": "88079e21",
   "metadata": {},
   "outputs": [],
   "source": [
    "gilt_buys_ts.columns"
   ]
  },
  {
   "cell_type": "code",
   "execution_count": null,
   "id": "3ab10a25",
   "metadata": {},
   "outputs": [],
   "source": [
    "gilt_buys_ts = gilt_buys_ts.fillna(0).cumsum()\n",
    "gilt_buys_ts.head()\n",
    "# TODO: Clip once the Bond has matured"
   ]
  },
  {
   "cell_type": "code",
   "execution_count": null,
   "id": "4ce0d066",
   "metadata": {},
   "outputs": [],
   "source": [
    "gilt_buys_total = gilt_level_buys.reset_index().groupby([ 'ISIN']).agg(\n",
    "    Total_Allocation_Proceeds=('Total allocation (proceeds £mn)', 'sum'),\n",
    "    Total_Allocation_Nominal=('Total allocation (nominal £mn)', 'sum'),\n",
    "    Last_Purchase_Month=('Operation date', 'max')\n",
    ")\n",
    "gilt_buys_total.reset_index(inplace=True)\n",
    "gilt_buys_total.head()\n",
    "    "
   ]
  },
  {
   "cell_type": "code",
   "execution_count": null,
   "id": "804eff23",
   "metadata": {},
   "outputs": [],
   "source": [
    "from bgs.load_gilt_details import load_csv_blocks\n",
    "details = load_csv_blocks(\"downloads/BGSDetails.csv\")"
   ]
  },
  {
   "cell_type": "code",
   "execution_count": null,
   "id": "92f5c859",
   "metadata": {},
   "outputs": [],
   "source": [
    "conv_details.columns"
   ]
  },
  {
   "cell_type": "code",
   "execution_count": null,
   "id": "911d2900",
   "metadata": {},
   "outputs": [],
   "source": [
    "conv_details.head()"
   ]
  },
  {
   "cell_type": "code",
   "execution_count": null,
   "id": "35785b89",
   "metadata": {},
   "outputs": [],
   "source": [
    "conv_details.replace(to_replace=32112, value=32120, inplace=True)"
   ]
  },
  {
   "cell_type": "code",
   "execution_count": null,
   "id": "91c851e2",
   "metadata": {},
   "outputs": [],
   "source": [
    "conv_details[conv_details['Sequence']== '32120']"
   ]
  },
  {
   "cell_type": "code",
   "execution_count": null,
   "id": "623f06e3",
   "metadata": {},
   "outputs": [],
   "source": [
    "isin_bond_details = conv_details[['ISIN Code', 'Latest redemption date','%','Sequence']].copy()"
   ]
  },
  {
   "cell_type": "code",
   "execution_count": null,
   "id": "1439c73b",
   "metadata": {},
   "outputs": [],
   "source": [
    "[x for x in gilt_buys_total['ISIN'] if x not in isin_bond_details['ISIN Code'].to_list()]"
   ]
  },
  {
   "cell_type": "code",
   "execution_count": null,
   "id": "1b9c1328",
   "metadata": {},
   "outputs": [],
   "source": [
    "gilt_buys_total['ISIN'][0]"
   ]
  },
  {
   "cell_type": "code",
   "execution_count": null,
   "id": "f0c27781",
   "metadata": {},
   "outputs": [],
   "source": [
    "isin_bond_details[isin_bond_details['ISIN Code']=='GB0002404191']['Latest redemption date'].values[0]"
   ]
  },
  {
   "cell_type": "code",
   "execution_count": null,
   "id": "c63cac32",
   "metadata": {},
   "outputs": [],
   "source": [
    "gilt_buys_total['maturity_date'] = gilt_buys_total['ISIN'].map(\n",
    "    lambda x: isin_bond_details[\n",
    "        isin_bond_details['ISIN Code']==x\n",
    "        ]['Latest redemption date'].values[0]\n",
    "    )\n",
    "gilt_buys_total['bgs_id'] = gilt_buys_total['ISIN'].map(\n",
    "    lambda x: isin_bond_details[\n",
    "        isin_bond_details['ISIN Code']==x\n",
    "        ]['Sequence'].values[0]\n",
    "    )"
   ]
  },
  {
   "cell_type": "code",
   "execution_count": null,
   "id": "5eda6848",
   "metadata": {},
   "outputs": [],
   "source": [
    "gilt_buys_total['maturity_date'] = pd.to_datetime(\n",
    "    gilt_buys_total['maturity_date'], format=\"%d %b %Y\"\n",
    ")"
   ]
  },
  {
   "cell_type": "code",
   "execution_count": null,
   "id": "3fc4be9a",
   "metadata": {},
   "outputs": [],
   "source": []
  },
  {
   "cell_type": "code",
   "execution_count": null,
   "id": "248c4edc",
   "metadata": {},
   "outputs": [],
   "source": [
    "bond_sales = df_sell[['ISIN','Bond\\n']].drop_duplicates()"
   ]
  },
  {
   "cell_type": "code",
   "execution_count": null,
   "id": "1732257d",
   "metadata": {},
   "outputs": [],
   "source": [
    "isin_bond_sales_map = defaultdict(list)\n",
    "for row in bond_sales.itertuples():\n",
    "    isin_bond_sales_map[row.ISIN].append(row._2)\n",
    "for isin, bond in isin_bond_sales_map.items():\n",
    "    if len(bond) > 1:\n",
    "        raise Exception(f\"There are duplicates in the BoE list: {isin}\")\n",
    "isin_bond_sales_map['GB0008881541']"
   ]
  },
  {
   "cell_type": "code",
   "execution_count": null,
   "id": "3267d5eb",
   "metadata": {},
   "outputs": [],
   "source": [
    "gilt_level_sales = df_sell[[\n",
    "    'ISIN',\n",
    "    'Operation date',\n",
    "    'Total allocation (proceeds £mn)',\n",
    "    'Total allocation (nominal £mn)'\n",
    "    ]].copy()\n",
    "gilt_level_sales.set_index('Operation date', inplace=True)\n",
    "gilt_level_sales.index = pd.to_datetime(gilt_level_sales.index, format='%d-%m-%Y').to_period('M').to_timestamp('M')\n",
    "gilt_level_sales.reset_index(inplace=True)\n",
    "gilt_level_sales.head()"
   ]
  },
  {
   "cell_type": "code",
   "execution_count": null,
   "id": "dcf6c833",
   "metadata": {},
   "outputs": [],
   "source": [
    "sales_by_isin=gilt_level_sales.groupby('ISIN')[['Total allocation (nominal £mn)', 'Total allocation (proceeds £mn)']].sum().reset_index()"
   ]
  },
  {
   "cell_type": "code",
   "execution_count": null,
   "id": "482f4e22",
   "metadata": {},
   "outputs": [],
   "source": [
    "sales_by_isin['maturity_date'] = sales_by_isin['ISIN'].map(\n",
    "    lambda x: isin_bond_details[\n",
    "        isin_bond_details['ISIN Code']==x\n",
    "        ]['Latest redemption date'].values[0]\n",
    "    )\n",
    "sales_by_isin['maturity_date'] = pd.to_datetime(\n",
    "    sales_by_isin['maturity_date'], format=\"%d %b %Y\"\n",
    ")"
   ]
  },
  {
   "cell_type": "code",
   "execution_count": null,
   "id": "8ddabb6a",
   "metadata": {},
   "outputs": [],
   "source": [
    "matured_sales = sales_by_isin['maturity_date'] > pd.Timestamp('2025-04-30')"
   ]
  },
  {
   "cell_type": "code",
   "execution_count": null,
   "id": "2ad7afa8",
   "metadata": {},
   "outputs": [],
   "source": [
    "matured = gilt_buys_total['maturity_date'] > pd.Timestamp.now()"
   ]
  },
  {
   "cell_type": "code",
   "execution_count": null,
   "id": "8dac5c91",
   "metadata": {},
   "outputs": [],
   "source": [
    "sales_by_isin[matured_sales].shape, gilt_buys_total[matured].shape"
   ]
  },
  {
   "cell_type": "code",
   "execution_count": null,
   "id": "4bb6ae86",
   "metadata": {},
   "outputs": [],
   "source": [
    "check_sales = sales_by_isin[matured_sales]['Total allocation (nominal £mn)'].sum()\n",
    "check_sales"
   ]
  },
  {
   "cell_type": "code",
   "execution_count": null,
   "id": "0001f1da",
   "metadata": {},
   "outputs": [],
   "source": [
    "unsold = [x for x in gilt_buys_total[matured]['ISIN'].to_list() if x not in sales_by_isin[matured_sales]['ISIN'].to_list()]  \n",
    "unsold"
   ]
  },
  {
   "cell_type": "code",
   "execution_count": null,
   "id": "8eb46558",
   "metadata": {},
   "outputs": [],
   "source": [
    "conv_details[conv_details['ISIN Code']==unsold[0]].T"
   ]
  },
  {
   "cell_type": "code",
   "execution_count": null,
   "id": "2bc83181",
   "metadata": {},
   "outputs": [],
   "source": [
    "boe_portfolio = gilt_buys_total[matured].set_index('ISIN').merge(\n",
    "    sales_by_isin[matured_sales][[\n",
    "        'ISIN',\n",
    "        'Total allocation (nominal £mn)',\n",
    "        'Total allocation (proceeds £mn)'\n",
    "        ]].set_index('ISIN'),\n",
    "        how='left',\n",
    "        left_index=True,\n",
    "        right_index=True,\n",
    "        suffixes=('_buy', '_sell')\n",
    "        ).copy().fillna(0).reset_index()"
   ]
  },
  {
   "cell_type": "code",
   "execution_count": null,
   "id": "e26f1ad6",
   "metadata": {},
   "outputs": [],
   "source": [
    "boe_portfolio.head()"
   ]
  },
  {
   "cell_type": "code",
   "execution_count": null,
   "id": "43720db5",
   "metadata": {},
   "outputs": [],
   "source": [
    "boe_portfolio[boe_portfolio['ISIN']==unsold[0]]"
   ]
  },
  {
   "cell_type": "code",
   "execution_count": null,
   "id": "68469ba2",
   "metadata": {},
   "outputs": [],
   "source": []
  },
  {
   "cell_type": "code",
   "execution_count": null,
   "id": "13f81330",
   "metadata": {},
   "outputs": [],
   "source": [
    "assert boe_portfolio['Total allocation (nominal £mn)'].sum() == check_sales"
   ]
  },
  {
   "cell_type": "code",
   "execution_count": null,
   "id": "3798e4e7",
   "metadata": {},
   "outputs": [],
   "source": [
    "boe_portfolio['current_position'] = boe_portfolio['Total_Allocation_Nominal'] - boe_portfolio['Total allocation (nominal £mn)']\n",
    "boe_portfolio['position_cost'] = boe_portfolio['Total_Allocation_Proceeds'] - boe_portfolio['Total allocation (proceeds £mn)']"
   ]
  },
  {
   "cell_type": "code",
   "execution_count": null,
   "id": "219344ad",
   "metadata": {},
   "outputs": [],
   "source": [
    "boe_portfolio['Coupon']=boe_portfolio['ISIN'].map(\n",
    "    lambda x: isin_bond_details[\n",
    "        isin_bond_details['ISIN Code']==x\n",
    "        ]['%'].values[0]\n",
    "    )"
   ]
  },
  {
   "cell_type": "code",
   "execution_count": null,
   "id": "802a202c",
   "metadata": {},
   "outputs": [],
   "source": [
    "boe_portfolio.groupby('Coupon')['current_position'].sum().plot(\n",
    "    kind='bar', figsize=(12, 6), title='BoE Portfolio by Coupon'\n",
    ")"
   ]
  },
  {
   "cell_type": "code",
   "execution_count": null,
   "id": "0b41190e",
   "metadata": {},
   "outputs": [],
   "source": [
    "boe_portfolio.groupby('Coupon')['position_cost'].sum().cumsum()"
   ]
  },
  {
   "cell_type": "code",
   "execution_count": null,
   "id": "12841a0a",
   "metadata": {},
   "outputs": [],
   "source": [
    "from bgs.load_bgs_prices import load_prices\n",
    "price_df=load_prices(\"downloads/BGSPrices.csv\")"
   ]
  },
  {
   "cell_type": "code",
   "execution_count": null,
   "id": "e27bf938",
   "metadata": {},
   "outputs": [],
   "source": [
    "price_df.index = pd.to_datetime(price_df.index, format=\"%d %b %Y\").to_period('M').to_timestamp('M')"
   ]
  },
  {
   "cell_type": "code",
   "execution_count": null,
   "id": "9347ec1f",
   "metadata": {},
   "outputs": [],
   "source": [
    "price_df.loc['Apr 2025',32100]"
   ]
  },
  {
   "cell_type": "code",
   "execution_count": null,
   "id": "8884087d",
   "metadata": {},
   "outputs": [],
   "source": [
    "boe_portfolio['mkt_price'] = boe_portfolio['bgs_id'].map(\n",
    "    lambda x: price_df.loc['Apr 2025', int(x)].values[0])"
   ]
  },
  {
   "cell_type": "code",
   "execution_count": null,
   "id": "7216a314",
   "metadata": {},
   "outputs": [],
   "source": [
    "boe_portfolio.head()"
   ]
  },
  {
   "cell_type": "code",
   "execution_count": null,
   "id": "a521ae54",
   "metadata": {},
   "outputs": [],
   "source": [
    "boe_portfolio['p&l'] = boe_portfolio['mkt_price'] * boe_portfolio['current_position']/100 - boe_portfolio['position_cost']  "
   ]
  },
  {
   "cell_type": "code",
   "execution_count": null,
   "id": "04a779fa",
   "metadata": {},
   "outputs": [],
   "source": [
    "boe_portfolio['p&l'].sum()"
   ]
  },
  {
   "cell_type": "code",
   "execution_count": null,
   "id": "47619d8d",
   "metadata": {},
   "outputs": [],
   "source": [
    "boe_portfolio.groupby('Coupon')['p&l'].sum().plot(\n",
    "    kind='bar', figsize=(12, 6), title='BoE Portfolio Loses by Coupon'\n",
    ")"
   ]
  },
  {
   "cell_type": "code",
   "execution_count": null,
   "id": "da9e15f9",
   "metadata": {},
   "outputs": [],
   "source": [
    "boe_portfolio.groupby('Coupon')['p&l'].sum().cumsum()"
   ]
  },
  {
   "cell_type": "code",
   "execution_count": null,
   "id": "96555678",
   "metadata": {},
   "outputs": [],
   "source": [
    "from bgs.load_bgs_amounts import load_bgs_amounts\n",
    "tables = load_bgs_amounts(\"downloads/BGSAmounts.csv\")"
   ]
  },
  {
   "cell_type": "code",
   "execution_count": null,
   "id": "a53bc004",
   "metadata": {},
   "outputs": [],
   "source": [
    "conv_amt = tables['Conventionals']"
   ]
  },
  {
   "cell_type": "code",
   "execution_count": null,
   "id": "56eda70c",
   "metadata": {},
   "outputs": [],
   "source": [
    "conv_amt.loc['30 Apr 2025','32100']"
   ]
  },
  {
   "cell_type": "code",
   "execution_count": null,
   "id": "58e96986",
   "metadata": {},
   "outputs": [],
   "source": [
    "boe_portfolio['tot_outstanding'] = boe_portfolio['bgs_id'].map(\n",
    "    lambda x: conv_amt.loc['30 Apr 2025', x])"
   ]
  },
  {
   "cell_type": "code",
   "execution_count": null,
   "id": "739d8223",
   "metadata": {},
   "outputs": [],
   "source": [
    "boe_portfolio.head()"
   ]
  },
  {
   "cell_type": "code",
   "execution_count": null,
   "id": "6084baea",
   "metadata": {},
   "outputs": [],
   "source": [
    "boe_portfolio['pct_ownership']=boe_portfolio['current_position']/boe_portfolio['tot_outstanding'].astype(float).fillna(0)"
   ]
  },
  {
   "cell_type": "code",
   "execution_count": null,
   "id": "ce99772b",
   "metadata": {},
   "outputs": [],
   "source": [
    "boe_portfolio['pct_ownership'].plot(kind='hist')"
   ]
  },
  {
   "cell_type": "code",
   "execution_count": null,
   "id": "360eac26",
   "metadata": {},
   "outputs": [],
   "source": [
    "boe_portfolio.plot(x='pct_ownership',y='p&l', kind='scatter')"
   ]
  },
  {
   "cell_type": "code",
   "execution_count": null,
   "id": "dd5f1cf8",
   "metadata": {},
   "outputs": [],
   "source": [
    "boe_portfolio[boe_portfolio['pct_ownership']>0.5][['ISIN','p&l', 'pct_ownership']].sort_values(by='p&l', ascending=True)"
   ]
  },
  {
   "cell_type": "code",
   "execution_count": null,
   "id": "8db4bf7a",
   "metadata": {},
   "outputs": [],
   "source": [
    "conv_details.loc[conv_details['ISIN Code']=='GB00BFWFPP71'].T"
   ]
  },
  {
   "cell_type": "code",
   "execution_count": null,
   "id": "908e7630",
   "metadata": {},
   "outputs": [],
   "source": [
    "boe_end_purchase_port =  gilt_buys_total.loc[gilt_buys_total['maturity_date'] > gilt_buys_total['Last_Purchase_Month'].max()]"
   ]
  },
  {
   "cell_type": "code",
   "execution_count": null,
   "id": "53280128",
   "metadata": {},
   "outputs": [],
   "source": [
    "boe_end_purchase_port['year'] = boe_end_purchase_port['maturity_date'].dt.year\n",
    "boe_end_purchase_port.groupby('year')['Total_Allocation_Nominal'].sum().cumsum().plot(kind='bar', x='year', y='Total_Allocation_Nominal')"
   ]
  },
  {
   "cell_type": "code",
   "execution_count": null,
   "id": "3b3e9997",
   "metadata": {},
   "outputs": [],
   "source": []
  }
 ],
 "metadata": {
  "kernelspec": {
   "display_name": ".venv (3.12.10)",
   "language": "python",
   "name": "python3"
  },
  "language_info": {
   "codemirror_mode": {
    "name": "ipython",
    "version": 3
   },
   "file_extension": ".py",
   "mimetype": "text/x-python",
   "name": "python",
   "nbconvert_exporter": "python",
   "pygments_lexer": "ipython3",
   "version": "3.12.10"
  }
 },
 "nbformat": 4,
 "nbformat_minor": 5
}
