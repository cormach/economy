{
 "cells": [
  {
   "cell_type": "code",
   "execution_count": null,
   "id": "f52dceb6",
   "metadata": {},
   "outputs": [],
   "source": [
    "import pandas as pd\n",
    "import requests\n",
    "import zipfile\n",
    "import io\n",
    "import os\n",
    "import csv\n",
    "import ctypes as ct\n",
    "import numpy as np\n",
    "from collections import Counter\n",
    "import matplotlib.pyplot as plt\n",
    "import re\n",
    "from functools import reduce\n"
   ]
  },
  {
   "cell_type": "markdown",
   "id": "8ef6ba88",
   "metadata": {},
   "source": [
    "- \"https://www.bankofengland.co.uk/-/media/boe/files/markets/asset-purchase-facility/gilt-purchase-operational-results.xlsx\"\n",
    "- \"https://www.bankofengland.co.uk/-/media/boe/files/markets/asset-purchase-facility/gilt-sales-time-series.xlsx\""
   ]
  },
  {
   "cell_type": "code",
   "execution_count": null,
   "id": "9195ab1e",
   "metadata": {},
   "outputs": [],
   "source": [
    "df_buy = pd.ExcelFile(\"downloads/gilt-purchase-operational-results.XLSX\")"
   ]
  },
  {
   "cell_type": "code",
   "execution_count": null,
   "id": "e5b15969",
   "metadata": {},
   "outputs": [],
   "source": [
    "df_buy.sheet_names"
   ]
  },
  {
   "cell_type": "code",
   "execution_count": null,
   "id": "28bd8241",
   "metadata": {},
   "outputs": [],
   "source": [
    "df_buy = pd.read_excel(\"downloads/gilt-purchase-operational-results.XLSX\", sheet_name=\"APF Gilts\", header=1)"
   ]
  },
  {
   "cell_type": "code",
   "execution_count": null,
   "id": "f45974d5",
   "metadata": {},
   "outputs": [],
   "source": [
    "df_buy.columns"
   ]
  },
  {
   "cell_type": "code",
   "execution_count": null,
   "id": "fd29b519",
   "metadata": {},
   "outputs": [],
   "source": [
    "df_boe = df_buy[['Operation date','Total allocation (proceeds £mn)', 'Total allocation (nominal £mn)']].copy()"
   ]
  },
  {
   "cell_type": "code",
   "execution_count": null,
   "id": "451ef495",
   "metadata": {},
   "outputs": [],
   "source": [
    "df_boe['Operation date'] = pd.to_datetime(df_boe['Operation date'], format='%d-%m-%Y')\n",
    "df_boe.groupby('Operation date').sum().cumsum().plot()"
   ]
  },
  {
   "cell_type": "code",
   "execution_count": null,
   "id": "2ba44874",
   "metadata": {},
   "outputs": [],
   "source": [
    "\n"
   ]
  },
  {
   "cell_type": "code",
   "execution_count": null,
   "id": "be864659",
   "metadata": {},
   "outputs": [],
   "source": [
    "df_boe.set_index('Operation date', inplace=True)"
   ]
  },
  {
   "cell_type": "code",
   "execution_count": null,
   "id": "15a2b600",
   "metadata": {},
   "outputs": [],
   "source": [
    "df_boe.head()"
   ]
  },
  {
   "cell_type": "code",
   "execution_count": null,
   "id": "06e76c48",
   "metadata": {},
   "outputs": [],
   "source": [
    "df_boe.cumsum(axis=0).plot()"
   ]
  },
  {
   "cell_type": "markdown",
   "id": "3dd85724",
   "metadata": {},
   "source": [
    "## Accrual Calculations"
   ]
  },
  {
   "cell_type": "code",
   "execution_count": null,
   "id": "38593f38",
   "metadata": {},
   "outputs": [],
   "source": [
    "df_buy.head()"
   ]
  },
  {
   "cell_type": "code",
   "execution_count": null,
   "id": "754ef220",
   "metadata": {},
   "outputs": [],
   "source": [
    "from bgs.load_gilt_details import load_csv_blocks\n",
    "from bgs.load_bgs_prices import load_prices\n",
    "from bgs.load_bgs_amounts import load_bgs_amounts\n",
    "from bgs.bgs_utils import clean_date, clean_percentage\n",
    "from bgs.gilt_analytics import coupon_schedule\n"
   ]
  },
  {
   "cell_type": "code",
   "execution_count": null,
   "id": "7d253ae0",
   "metadata": {},
   "outputs": [],
   "source": [
    "details = load_csv_blocks(\"downloads/BGSDetails.csv\")\n",
    "\n",
    "conv_details = details['Conventionals']\n",
    "conv_details['%'] = conv_details['%'].apply(clean_percentage)\n",
    "conv_details['Sequence'] = conv_details['Sequence'].apply(lambda x: np.int64(x))\n",
    "\n",
    "new_details = details['Index-Linked New-style']\n",
    "new_details['%'] = new_details['%'].apply(clean_percentage)\n",
    "new_details['Sequence'] = new_details['Sequence'].apply(lambda x: np.int64(x))\n",
    "\n",
    "old_details = details['Index-Linked Old-style']\n",
    "old_details['%'] = old_details['%'].apply(clean_percentage)\n",
    "old_details['Sequence'] = old_details['Sequence'].apply(lambda x: np.int64(x))\n",
    "\n",
    "date_variables = [\"Latest redemption date\",\"Issue date\",\"First coupon payable on date\",]\n",
    "for date_var in date_variables:\n",
    "    conv_details[date_var] = conv_details[date_var].apply(clean_date)\n",
    "    old_details[date_var] = old_details[date_var].apply(clean_date)\n",
    "    new_details[date_var] = new_details[date_var].apply(clean_date)"
   ]
  },
  {
   "cell_type": "code",
   "execution_count": null,
   "id": "c80ac2e2",
   "metadata": {},
   "outputs": [],
   "source": [
    "conv_details.columns"
   ]
  },
  {
   "cell_type": "code",
   "execution_count": null,
   "id": "f4f60a83",
   "metadata": {},
   "outputs": [],
   "source": [
    "conv_details.head()"
   ]
  },
  {
   "cell_type": "code",
   "execution_count": null,
   "id": "ca03d133",
   "metadata": {},
   "outputs": [],
   "source": [
    "conv_details.replace(to_replace=32112, value=32120, inplace=True)"
   ]
  },
  {
   "cell_type": "code",
   "execution_count": null,
   "id": "94dcd61c",
   "metadata": {},
   "outputs": [],
   "source": [
    "conv_details[conv_details['Sequence']== 32120]"
   ]
  },
  {
   "cell_type": "code",
   "execution_count": null,
   "id": "82a888b3",
   "metadata": {},
   "outputs": [],
   "source": [
    "df_sell = pd.ExcelFile(\"downloads/gilt-sales-time-series.XLSX\")"
   ]
  },
  {
   "cell_type": "code",
   "execution_count": null,
   "id": "e7629a47",
   "metadata": {},
   "outputs": [],
   "source": [
    "df_sell.sheet_names"
   ]
  },
  {
   "cell_type": "code",
   "execution_count": null,
   "id": "eba79973",
   "metadata": {},
   "outputs": [],
   "source": [
    "df_sell = pd.read_excel(\"downloads/gilt-sales-time-series.XLSX\", sheet_name=\"APF gilt sales\", header=1)"
   ]
  },
  {
   "cell_type": "code",
   "execution_count": null,
   "id": "71c216b1",
   "metadata": {},
   "outputs": [],
   "source": [
    "df_sell.columns"
   ]
  },
  {
   "cell_type": "code",
   "execution_count": null,
   "id": "e9f85b3b",
   "metadata": {},
   "outputs": [],
   "source": [
    "df_sell['Operation date'] = pd.to_datetime(df_sell['Operation date'], format='%d-%m-%Y')\n",
    "last_date = df_sell['Operation date'].min()"
   ]
  },
  {
   "cell_type": "markdown",
   "id": "6051faf6",
   "metadata": {},
   "source": [
    "There are three dates - the date when the buying stopped, the maturity date of the bond, and the date when the selling starts"
   ]
  },
  {
   "cell_type": "code",
   "execution_count": null,
   "id": "bfe9071f",
   "metadata": {},
   "outputs": [],
   "source": [
    "# first bond in the list\n",
    "gilt_isin = \"GB0031829509\"\n",
    "\n",
    "purchase_history = df_buy[df_buy['ISIN'] == gilt_isin][['Operation date','Settlement date', 'Total allocation (proceeds £mn)','Total allocation (nominal £mn)']].copy()\n",
    "start_purchase = purchase_history['Operation date'].min().strftime(\"%Y-%m-%d\")\n",
    "bond = conv_details[conv_details['ISIN Code']==gilt_isin].copy()\n",
    "issue_date=bond['Issue date'].dt.strftime(\"%Y-%m-%d\").values[0]\n",
    "maturity_date=bond['Latest redemption date'].dt.strftime(\"%Y-%m-%d\").values[0]\n",
    "first_cpn_date=bond['First coupon payable on date'].dt.strftime(\"%Y-%m-%d\").values[0]\n",
    "last_cpn_date=bond['Latest redemption date'].dt.strftime(\"%Y-%m-%d\").values[0]\n",
    "coupon=bond['%'].values[0]/100"
   ]
  },
  {
   "cell_type": "code",
   "execution_count": null,
   "id": "92dea61e",
   "metadata": {},
   "outputs": [],
   "source": [
    "start_purchase"
   ]
  },
  {
   "cell_type": "code",
   "execution_count": null,
   "id": "45ff4e1d",
   "metadata": {},
   "outputs": [],
   "source": [
    "schedule = coupon_schedule(start_purchase, issue_date, maturity_date, first_cpn_date, last_cpn_date)"
   ]
  },
  {
   "cell_type": "code",
   "execution_count": null,
   "id": "0e3e6739",
   "metadata": {},
   "outputs": [],
   "source": [
    "coupons_due = [pd.to_datetime([x.serialNumber()-1], unit=\"D\", origin=pd.Timestamp(\"1899-12-31\")) for x in schedule]"
   ]
  },
  {
   "cell_type": "code",
   "execution_count": null,
   "id": "bd266f6b",
   "metadata": {},
   "outputs": [],
   "source": [
    "\n",
    "# coupons_due = [x for x in coupons_due if x < last_date]\n"
   ]
  },
  {
   "cell_type": "code",
   "execution_count": null,
   "id": "3b2ec9b1",
   "metadata": {},
   "outputs": [],
   "source": [
    "bond_payments = pd.DataFrame({\n",
    "    'coupon': [coupon]*len(coupons_due),\n",
    "    'principal': [0]*(len(coupons_due)-1)+[1]\n",
    "}, index=reduce(lambda x,y: x.union(y),coupons_due ))\n"
   ]
  },
  {
   "cell_type": "code",
   "execution_count": null,
   "id": "b285a81d",
   "metadata": {},
   "outputs": [],
   "source": [
    "ownership = purchase_history.groupby('Settlement date')[['Total allocation (proceeds £mn)','Total allocation (nominal £mn)']].sum().cumsum().resample('D').last().ffill()"
   ]
  },
  {
   "cell_type": "code",
   "execution_count": null,
   "id": "c96deb3e",
   "metadata": {},
   "outputs": [],
   "source": [
    "# first date\n",
    "ownership.index.max()\n"
   ]
  },
  {
   "cell_type": "code",
   "execution_count": null,
   "id": "63be41c5",
   "metadata": {},
   "outputs": [],
   "source": [
    "# filter coupons due before last date\n",
    "cash_flows_due = bond_payments[bond_payments.index < last_date].copy()"
   ]
  },
  {
   "cell_type": "code",
   "execution_count": null,
   "id": "8244e63e",
   "metadata": {},
   "outputs": [],
   "source": [
    "cash_flows_due = cash_flows_due.merge(ownership, left_index=True, right_index=True, how='left').ffill()\n",
    "cash_flows_due['cash_flow'] = (cash_flows_due['coupon']+ cash_flows_due['principal']) * cash_flows_due['Total allocation (nominal £mn)'] "
   ]
  },
  {
   "cell_type": "code",
   "execution_count": null,
   "id": "1b52de95",
   "metadata": {},
   "outputs": [],
   "source": [
    "cash_flows_due"
   ]
  },
  {
   "cell_type": "code",
   "execution_count": null,
   "id": "21255a5d",
   "metadata": {},
   "outputs": [],
   "source": [
    "cash_flows_due['cash_flow'].sum()"
   ]
  },
  {
   "cell_type": "code",
   "execution_count": null,
   "id": "b2f6c412",
   "metadata": {},
   "outputs": [],
   "source": [
    "df_buy['ISIN'].unique()"
   ]
  },
  {
   "cell_type": "code",
   "execution_count": null,
   "id": "96c62644",
   "metadata": {},
   "outputs": [],
   "source": [
    "payments = []\n",
    "for gilt_isin in df_buy['ISIN'].unique():\n",
    "    purchase_history = df_buy[df_buy['ISIN'] == gilt_isin][['Operation date','Settlement date', 'Total allocation (proceeds £mn)','Total allocation (nominal £mn)']].copy()\n",
    "    start_purchase = purchase_history['Operation date'].min().strftime(\"%Y-%m-%d\")\n",
    "    bond = conv_details[conv_details['ISIN Code']==gilt_isin].copy()\n",
    "    issue_date=bond['Issue date'].dt.strftime(\"%Y-%m-%d\").values[0]\n",
    "    maturity_date=bond['Latest redemption date'].dt.strftime(\"%Y-%m-%d\").values[0]\n",
    "    first_cpn_date=bond['First coupon payable on date'].dt.strftime(\"%Y-%m-%d\").values[0]\n",
    "    last_cpn_date=bond['Latest redemption date'].dt.strftime(\"%Y-%m-%d\").values[0]\n",
    "    coupon=bond['%'].values[0]/100\n",
    "\n",
    "    schedule = coupon_schedule(start_purchase, issue_date, maturity_date, first_cpn_date, last_cpn_date)\n",
    "    coupons_due = [pd.to_datetime([x.serialNumber()-1], unit=\"D\", origin=pd.Timestamp(\"1899-12-31\")) for x in schedule]\n",
    "    bond_payments = pd.DataFrame({\n",
    "        'coupon': [coupon]*len(coupons_due),\n",
    "        'principal': [0]*(len(coupons_due)-1)+[1]\n",
    "    }, index=reduce(lambda x,y: x.union(y),coupons_due ))\n",
    "\n",
    "    ownership = purchase_history.groupby('Settlement date')[['Total allocation (proceeds £mn)','Total allocation (nominal £mn)']].sum().cumsum().resample('D').last().ffill()\n",
    "    cash_flows_due = bond_payments[bond_payments.index < last_date].copy()\n",
    "    cash_flows_due = cash_flows_due.merge(ownership, left_index=True, right_index=True, how='left').ffill()\n",
    "    cash_flows_due[gilt_isin] = (cash_flows_due['coupon']+ cash_flows_due['principal']) * cash_flows_due['Total allocation (nominal £mn)'] \n",
    "    payments.append(cash_flows_due[[gilt_isin]])\n",
    "\n"
   ]
  },
  {
   "cell_type": "code",
   "execution_count": null,
   "id": "313f98ca",
   "metadata": {},
   "outputs": [],
   "source": [
    "boe_cashflows_by_isin = pd.concat(payments, axis=1).fillna(0)"
   ]
  },
  {
   "cell_type": "code",
   "execution_count": null,
   "id": "cffdf31c",
   "metadata": {},
   "outputs": [],
   "source": [
    "boe_cashflows_by_isin.head()"
   ]
  },
  {
   "cell_type": "code",
   "execution_count": null,
   "id": "023a3395",
   "metadata": {},
   "outputs": [],
   "source": [
    "boe_cf = boe_cashflows_by_isin.sum(axis=1).cumsum().reset_index().set_index('index').rename(columns={\n",
    "    0: 'Cumulative Cash Flows (£mn)'\n",
    "})\n",
    "boe_exposure = df_boe.groupby(\n",
    "    'Operation date'\n",
    "    )['Total allocation (proceeds £mn)'].sum().cumsum(axis=0).resample('D').last().ffill().reset_index().set_index('Operation date')"
   ]
  },
  {
   "cell_type": "code",
   "execution_count": null,
   "id": "c3dcd82b",
   "metadata": {},
   "outputs": [],
   "source": [
    "boe_exposure"
   ]
  },
  {
   "cell_type": "code",
   "execution_count": null,
   "id": "c47f7299",
   "metadata": {},
   "outputs": [],
   "source": [
    "boe_exposure = boe_exposure.merge(\n",
    "        boe_cf, left_index=True, right_index=True, how='left').ffill().fillna(0)\n",
    "\n"
   ]
  },
  {
   "cell_type": "code",
   "execution_count": null,
   "id": "66fda8c3",
   "metadata": {},
   "outputs": [],
   "source": [
    "boe_exposure"
   ]
  },
  {
   "cell_type": "code",
   "execution_count": null,
   "id": "11a5f2b6",
   "metadata": {},
   "outputs": [],
   "source": [
    "(boe_exposure['Total allocation (proceeds £mn)'] - boe_exposure['Cumulative Cash Flows (£mn)']).plot()"
   ]
  },
  {
   "cell_type": "code",
   "execution_count": null,
   "id": "c599933a",
   "metadata": {},
   "outputs": [],
   "source": [
    "payments_to_hmt = pd.read_csv('downloads/MT6A.csv',skiprows=8,names=[\"Date\",\"MT6A\"])\n",
    "q_start =  payments_to_hmt.loc[payments_to_hmt['Date']==\"2009 Q1\"].index[0]\n",
    "q_end = payments_to_hmt.loc[payments_to_hmt['Date']==\"1993 JAN\"].index[0] -1\n",
    "payments_to_hmt_q = payments_to_hmt.iloc[q_start:q_end].copy()\n",
    "payments_to_hmt_q.tail()\n",
    "payments_to_hmt_q['date']=payments_to_hmt_q['Date'].apply(lambda x: f\"{x.split(' Q')[0]}-{int(x.split(' Q')[1])*3}-01\")\n",
    "payments_to_hmt_q['date']=pd.to_datetime(payments_to_hmt_q['date'], format='%Y-%m-%d')\n",
    "payments_to_hmt_q.set_index('date', inplace=True)\n",
    "payments_to_hmt_q.head()"
   ]
  },
  {
   "cell_type": "code",
   "execution_count": null,
   "id": "a74cc1d6",
   "metadata": {},
   "outputs": [],
   "source": [
    "boe_exposure = boe_exposure.merge(\n",
    "        payments_to_hmt_q.cumsum().resample('D').last().ffill().reset_index().set_index('date'), left_index=True, right_index=True, how='left').ffill().fillna(0)\n",
    "\n"
   ]
  },
  {
   "cell_type": "code",
   "execution_count": null,
   "id": "95c8b21c",
   "metadata": {},
   "outputs": [],
   "source": [
    "boe_exposure"
   ]
  },
  {
   "cell_type": "code",
   "execution_count": null,
   "id": "6baa5519",
   "metadata": {},
   "outputs": [],
   "source": [
    "(boe_exposure['Total allocation (proceeds £mn)'] - boe_exposure['Cumulative Cash Flows (£mn)'] + boe_exposure['MT6A']).plot()"
   ]
  },
  {
   "cell_type": "markdown",
   "id": "d25b8e1a",
   "metadata": {},
   "source": [
    "### Base Rate Funding"
   ]
  },
  {
   "cell_type": "code",
   "execution_count": null,
   "id": "4938bc47",
   "metadata": {},
   "outputs": [],
   "source": [
    "boe_base_rate = pd.read_csv(\"downloads/Bank Rate history and data  Bank of England Database.csv\")\n",
    "boe_base_rate.head()\n",
    "boe_base_rate['Date Changed'] = pd.to_datetime(boe_base_rate['Date Changed'], format=\"%d %b %y\", errors='coerce')\n",
    "base_rate = boe_base_rate.copy().set_index('Date Changed').resample('D').ffill().reset_index().set_index('Date Changed')\n",
    "base_rate.index = pd.to_datetime(base_rate.index)\n",
    "base_rate.head()"
   ]
  },
  {
   "cell_type": "code",
   "execution_count": null,
   "id": "282e7577",
   "metadata": {},
   "outputs": [],
   "source": [
    "base_rate.index"
   ]
  },
  {
   "cell_type": "code",
   "execution_count": null,
   "id": "fa90f5f7",
   "metadata": {},
   "outputs": [],
   "source": [
    "boe_exposure.index = pd.to_datetime(boe_exposure.index, format=\"%Y-%m-%d %H:%M:%S\")"
   ]
  },
  {
   "cell_type": "code",
   "execution_count": null,
   "id": "5b05ee60",
   "metadata": {},
   "outputs": [],
   "source": [
    "boe_exposure.index"
   ]
  },
  {
   "cell_type": "code",
   "execution_count": null,
   "id": "0032bf18",
   "metadata": {},
   "outputs": [],
   "source": [
    "boe_exposure = boe_exposure.merge(\n",
    "        base_rate, left_index=True, right_index=True, how='left')"
   ]
  },
  {
   "cell_type": "code",
   "execution_count": null,
   "id": "594e53a7",
   "metadata": {},
   "outputs": [],
   "source": [
    "boe_exposure.head()"
   ]
  },
  {
   "cell_type": "code",
   "execution_count": null,
   "id": "1aef4372",
   "metadata": {},
   "outputs": [],
   "source": [
    "funding_cost = (boe_exposure['Total allocation (proceeds £mn)'] * (boe_exposure['Rate'] / 100) / 365).cumsum().reset_index().set_index('Operation date')"
   ]
  },
  {
   "cell_type": "code",
   "execution_count": null,
   "id": "d3f762b0",
   "metadata": {},
   "outputs": [],
   "source": [
    "funding_cost.plot()"
   ]
  },
  {
   "cell_type": "code",
   "execution_count": null,
   "id": "91b86bdd",
   "metadata": {},
   "outputs": [],
   "source": [
    "funding_cost.head()"
   ]
  },
  {
   "cell_type": "code",
   "execution_count": null,
   "id": "d8c78b5b",
   "metadata": {},
   "outputs": [],
   "source": [
    "boe_exposure = boe_exposure.merge(\n",
    "        funding_cost.rename(columns={\n",
    "                0:'funding_cost'\n",
    "        }), left_index=True, right_index=True, how='left')"
   ]
  },
  {
   "cell_type": "code",
   "execution_count": null,
   "id": "6628b17a",
   "metadata": {},
   "outputs": [],
   "source": [
    "boe_exposure.head()"
   ]
  },
  {
   "cell_type": "code",
   "execution_count": null,
   "id": "daab499b",
   "metadata": {},
   "outputs": [],
   "source": [
    "(boe_exposure['Total allocation (proceeds £mn)'] - boe_exposure['Cumulative Cash Flows (£mn)'] + boe_exposure['MT6A'] - boe_exposure['funding_cost']).plot()"
   ]
  },
  {
   "cell_type": "markdown",
   "id": "512024da",
   "metadata": {},
   "source": [
    "### Gain / Loss on a position"
   ]
  },
  {
   "cell_type": "code",
   "execution_count": null,
   "id": "5354b65d",
   "metadata": {},
   "outputs": [],
   "source": []
  },
  {
   "cell_type": "markdown",
   "id": "c48ac095",
   "metadata": {},
   "source": [
    "### Positions when selling starts"
   ]
  },
  {
   "cell_type": "code",
   "execution_count": null,
   "id": "00e476aa",
   "metadata": {},
   "outputs": [],
   "source": [
    "df_end_qe=df_buy[['Operation date','Total allocation (proceeds £mn)', 'Total allocation (nominal £mn)','ISIN']].copy()\n",
    "holdings_by_isin=df_end_qe.groupby('ISIN')[['Total allocation (proceeds £mn)', 'Total allocation (nominal £mn)']].sum()\n",
    "holdings_by_isin.rename(columns={\n",
    "    'Total allocation (proceeds £mn)': 'cost_of_investment',\n",
    "    'Total allocation (nominal £mn)': 'investment'\n",
    "}, inplace=True)\n",
    "holdings_by_isin"
   ]
  },
  {
   "cell_type": "code",
   "execution_count": null,
   "id": "b8220b35",
   "metadata": {},
   "outputs": [],
   "source": [
    "df_qt=df_sell[['Operation date','Total allocation (proceeds £mn)', 'Total allocation (nominal £mn)','ISIN']].copy()\n",
    "sales_by_isin=df_qt.groupby('ISIN')[['Total allocation (proceeds £mn)', 'Total allocation (nominal £mn)']].sum()\n",
    "sales_by_isin.rename(columns={\n",
    "    'Total allocation (proceeds £mn)': 'sales_proceeds',\n",
    "    'Total allocation (nominal £mn)': 'investment_reduction'\n",
    "}, inplace=True)\n",
    "sales_by_isin"
   ]
  },
  {
   "cell_type": "code",
   "execution_count": null,
   "id": "8ec155ec",
   "metadata": {},
   "outputs": [],
   "source": [
    "positions = holdings_by_isin.merge(sales_by_isin, left_index=True, right_index=True, how='left').fillna(0)\n",
    "positions.head()"
   ]
  },
  {
   "cell_type": "code",
   "execution_count": null,
   "id": "e222bfb1",
   "metadata": {},
   "outputs": [],
   "source": [
    "def p_l(row):\n",
    "    if row['investment_reduction'] > 0:\n",
    "        return row['sales_proceeds'] - (row['cost_of_investment'] / row['investment']) * row['investment_reduction']\n",
    "    else:\n",
    "        return 0\n",
    "positions['p_l'] = positions.apply(p_l, axis=1)\n",
    "positions.head()"
   ]
  },
  {
   "cell_type": "code",
   "execution_count": null,
   "id": "852dd86a",
   "metadata": {},
   "outputs": [],
   "source": [
    "positions['p_l'].sum()"
   ]
  },
  {
   "cell_type": "code",
   "execution_count": null,
   "id": "d9ea84b0",
   "metadata": {},
   "outputs": [],
   "source": [
    "conv_details.columns"
   ]
  },
  {
   "cell_type": "code",
   "execution_count": null,
   "id": "8846cd3b",
   "metadata": {},
   "outputs": [],
   "source": [
    "df_boe_exit = df_sell[['Operation date','Total allocation (proceeds £mn)', 'Total allocation (nominal £mn)']].copy()\n",
    "df_boe_exit['Operation date'] = pd.to_datetime(df_boe_exit['Operation date'], format='%d-%m-%Y')\n",
    "df_boe_exit.set_index('Operation date', inplace=True)\n",
    "df_boe_exit.cumsum(axis=0).plot()"
   ]
  },
  {
   "cell_type": "code",
   "execution_count": null,
   "id": "d9a92cab",
   "metadata": {},
   "outputs": [],
   "source": [
    "bonds = df_buy[['ISIN','Bond\\n']].drop_duplicates()"
   ]
  },
  {
   "cell_type": "code",
   "execution_count": null,
   "id": "093c31c5",
   "metadata": {},
   "outputs": [],
   "source": [
    "from collections import defaultdict\n",
    "isin_bond_map = defaultdict(list)\n",
    "for row in bonds.itertuples():\n",
    "    isin_bond_map[row.ISIN].append(row._2)\n",
    "for isin, bond in isin_bond_map.items():\n",
    "    if len(bond) > 1:\n",
    "        raise Exception(f\"There are duplicates in the BoE list: {isin}\")\n",
    "isin_bond_map['GB0008881541']"
   ]
  },
  {
   "cell_type": "code",
   "execution_count": null,
   "id": "c75a1761",
   "metadata": {},
   "outputs": [],
   "source": [
    "gilt_level_buys = df_buy[[\n",
    "    'ISIN',\n",
    "    'Operation date',\n",
    "    'Total allocation (proceeds £mn)',\n",
    "    'Total allocation (nominal £mn)'\n",
    "    ]].copy()\n",
    "gilt_level_buys.set_index('Operation date', inplace=True)\n",
    "gilt_level_buys.index = pd.to_datetime(gilt_level_buys.index, format='%d-%m-%Y').to_period('M').to_timestamp('M')\n",
    "gilt_level_buys.reset_index(inplace=True)\n"
   ]
  },
  {
   "cell_type": "code",
   "execution_count": null,
   "id": "8ee50919",
   "metadata": {},
   "outputs": [],
   "source": [
    "gilt_buys_ts = gilt_level_buys.pivot_table(\n",
    "    index='Operation date', \n",
    "    columns='ISIN', \n",
    "    values='Total allocation (nominal £mn)', aggfunc='sum')"
   ]
  },
  {
   "cell_type": "code",
   "execution_count": null,
   "id": "88079e21",
   "metadata": {},
   "outputs": [],
   "source": [
    "gilt_buys_ts.columns"
   ]
  },
  {
   "cell_type": "code",
   "execution_count": null,
   "id": "3ab10a25",
   "metadata": {},
   "outputs": [],
   "source": [
    "gilt_buys_ts = gilt_buys_ts.fillna(0).cumsum()\n",
    "gilt_buys_ts.head()\n",
    "# TODO: Clip once the Bond has matured"
   ]
  },
  {
   "cell_type": "code",
   "execution_count": null,
   "id": "4ce0d066",
   "metadata": {},
   "outputs": [],
   "source": [
    "gilt_buys_total = gilt_level_buys.reset_index().groupby([ 'ISIN']).agg(\n",
    "    Total_Allocation_Proceeds=('Total allocation (proceeds £mn)', 'sum'),\n",
    "    Total_Allocation_Nominal=('Total allocation (nominal £mn)', 'sum'),\n",
    "    Last_Purchase_Month=('Operation date', 'max')\n",
    ")\n",
    "gilt_buys_total.reset_index(inplace=True)\n",
    "gilt_buys_total.head()\n",
    "    "
   ]
  },
  {
   "cell_type": "code",
   "execution_count": null,
   "id": "623f06e3",
   "metadata": {},
   "outputs": [],
   "source": [
    "isin_bond_details = conv_details[['ISIN Code', 'Latest redemption date','%','Sequence']].copy()"
   ]
  },
  {
   "cell_type": "code",
   "execution_count": null,
   "id": "1439c73b",
   "metadata": {},
   "outputs": [],
   "source": [
    "[x for x in gilt_buys_total['ISIN'] if x not in isin_bond_details['ISIN Code'].to_list()]"
   ]
  },
  {
   "cell_type": "code",
   "execution_count": null,
   "id": "1b9c1328",
   "metadata": {},
   "outputs": [],
   "source": [
    "gilt_buys_total['ISIN'][0]"
   ]
  },
  {
   "cell_type": "code",
   "execution_count": null,
   "id": "f0c27781",
   "metadata": {},
   "outputs": [],
   "source": [
    "isin_bond_details[isin_bond_details['ISIN Code']=='GB0002404191']['Latest redemption date'].values[0]"
   ]
  },
  {
   "cell_type": "code",
   "execution_count": null,
   "id": "c63cac32",
   "metadata": {},
   "outputs": [],
   "source": [
    "gilt_buys_total['maturity_date'] = gilt_buys_total['ISIN'].map(\n",
    "    lambda x: isin_bond_details[\n",
    "        isin_bond_details['ISIN Code']==x\n",
    "        ]['Latest redemption date'].values[0]\n",
    "    )\n",
    "gilt_buys_total['bgs_id'] = gilt_buys_total['ISIN'].map(\n",
    "    lambda x: isin_bond_details[\n",
    "        isin_bond_details['ISIN Code']==x\n",
    "        ]['Sequence'].values[0]\n",
    "    )"
   ]
  },
  {
   "cell_type": "code",
   "execution_count": null,
   "id": "5bdc8c91",
   "metadata": {},
   "outputs": [],
   "source": [
    "gilt_buys_total.head()"
   ]
  },
  {
   "cell_type": "code",
   "execution_count": null,
   "id": "5eda6848",
   "metadata": {},
   "outputs": [],
   "source": [
    "gilt_buys_total['maturity_date'] = pd.to_datetime(\n",
    "    gilt_buys_total['maturity_date'], format=\"%d %b %Y\"\n",
    ")"
   ]
  },
  {
   "cell_type": "code",
   "execution_count": null,
   "id": "248c4edc",
   "metadata": {},
   "outputs": [],
   "source": [
    "bond_sales = df_sell[['ISIN','Bond\\n']].drop_duplicates()\n",
    "bond_sales"
   ]
  },
  {
   "cell_type": "code",
   "execution_count": null,
   "id": "1732257d",
   "metadata": {},
   "outputs": [],
   "source": [
    "isin_bond_sales_map = defaultdict(list)\n",
    "for row in bond_sales.itertuples():\n",
    "    isin_bond_sales_map[row.ISIN].append(row._2)\n",
    "for isin, bond in isin_bond_sales_map.items():\n",
    "    if len(bond) > 1:\n",
    "        raise Exception(f\"There are duplicates in the BoE list: {isin}\")\n",
    "isin_bond_sales_map['GB0008881541']"
   ]
  },
  {
   "cell_type": "code",
   "execution_count": null,
   "id": "23f11eae",
   "metadata": {},
   "outputs": [],
   "source": [
    "isin_bond_sales_map"
   ]
  },
  {
   "cell_type": "code",
   "execution_count": null,
   "id": "3267d5eb",
   "metadata": {},
   "outputs": [],
   "source": [
    "gilt_level_sales = df_sell[[\n",
    "    'ISIN',\n",
    "    'Operation date',\n",
    "    'Total allocation (proceeds £mn)',\n",
    "    'Total allocation (nominal £mn)'\n",
    "    ]].copy()\n",
    "gilt_level_sales.set_index('Operation date', inplace=True)\n",
    "gilt_level_sales.index = pd.to_datetime(gilt_level_sales.index, format='%d-%m-%Y').to_period('M').to_timestamp('M')\n",
    "gilt_level_sales.reset_index(inplace=True)\n",
    "gilt_level_sales.head()"
   ]
  },
  {
   "cell_type": "code",
   "execution_count": null,
   "id": "dcf6c833",
   "metadata": {},
   "outputs": [],
   "source": [
    "sales_by_isin=gilt_level_sales.groupby('ISIN')[['Total allocation (nominal £mn)', 'Total allocation (proceeds £mn)']].sum().reset_index()"
   ]
  },
  {
   "cell_type": "code",
   "execution_count": null,
   "id": "482f4e22",
   "metadata": {},
   "outputs": [],
   "source": [
    "sales_by_isin['maturity_date'] = sales_by_isin['ISIN'].map(\n",
    "    lambda x: isin_bond_details[\n",
    "        isin_bond_details['ISIN Code']==x\n",
    "        ]['Latest redemption date'].values[0]\n",
    "    )\n",
    "sales_by_isin['maturity_date'] = pd.to_datetime(\n",
    "    sales_by_isin['maturity_date'], format=\"%d %b %Y\"\n",
    ")"
   ]
  },
  {
   "cell_type": "code",
   "execution_count": null,
   "id": "8ddabb6a",
   "metadata": {},
   "outputs": [],
   "source": [
    "matured_sales = sales_by_isin['maturity_date'] > pd.Timestamp('2025-04-30')\n",
    "len(matured_sales)- matured_sales.sum()"
   ]
  },
  {
   "cell_type": "code",
   "execution_count": null,
   "id": "2ad7afa8",
   "metadata": {},
   "outputs": [],
   "source": [
    "matured = gilt_buys_total['maturity_date'] > pd.Timestamp.now()"
   ]
  },
  {
   "cell_type": "code",
   "execution_count": null,
   "id": "8dac5c91",
   "metadata": {},
   "outputs": [],
   "source": [
    "sales_by_isin[matured_sales].shape, gilt_buys_total[matured].shape"
   ]
  },
  {
   "cell_type": "code",
   "execution_count": null,
   "id": "4bb6ae86",
   "metadata": {},
   "outputs": [],
   "source": [
    "check_sales = sales_by_isin[matured_sales]['Total allocation (nominal £mn)'].sum()\n",
    "check_sales"
   ]
  },
  {
   "cell_type": "code",
   "execution_count": null,
   "id": "0001f1da",
   "metadata": {},
   "outputs": [],
   "source": [
    "unsold = [x for x in gilt_buys_total[matured]['ISIN'].to_list() if x not in sales_by_isin[matured_sales]['ISIN'].to_list()]  \n",
    "unsold"
   ]
  },
  {
   "cell_type": "code",
   "execution_count": null,
   "id": "8eb46558",
   "metadata": {},
   "outputs": [],
   "source": [
    "# conv_details[conv_details['ISIN Code']==unsold[0]].T"
   ]
  },
  {
   "cell_type": "code",
   "execution_count": null,
   "id": "2bc83181",
   "metadata": {},
   "outputs": [],
   "source": [
    "boe_portfolio = gilt_buys_total[matured].set_index('ISIN').merge(\n",
    "    sales_by_isin[matured_sales][[\n",
    "        'ISIN',\n",
    "        'Total allocation (nominal £mn)',\n",
    "        'Total allocation (proceeds £mn)'\n",
    "        ]].set_index('ISIN'),\n",
    "        how='left',\n",
    "        left_index=True,\n",
    "        right_index=True,\n",
    "        suffixes=('_buy', '_sell')\n",
    "        ).copy().fillna(0).reset_index()"
   ]
  },
  {
   "cell_type": "code",
   "execution_count": null,
   "id": "e26f1ad6",
   "metadata": {},
   "outputs": [],
   "source": [
    "boe_portfolio.head()"
   ]
  },
  {
   "cell_type": "code",
   "execution_count": null,
   "id": "43720db5",
   "metadata": {},
   "outputs": [],
   "source": [
    "# boe_portfolio[boe_portfolio['ISIN']==unsold[0]]"
   ]
  },
  {
   "cell_type": "code",
   "execution_count": null,
   "id": "68469ba2",
   "metadata": {},
   "outputs": [],
   "source": []
  },
  {
   "cell_type": "code",
   "execution_count": null,
   "id": "13f81330",
   "metadata": {},
   "outputs": [],
   "source": [
    "assert boe_portfolio['Total allocation (nominal £mn)'].sum() == check_sales"
   ]
  },
  {
   "cell_type": "code",
   "execution_count": null,
   "id": "3798e4e7",
   "metadata": {},
   "outputs": [],
   "source": [
    "boe_portfolio['current_position'] = boe_portfolio['Total_Allocation_Nominal'] - boe_portfolio['Total allocation (nominal £mn)']\n",
    "boe_portfolio['position_cost'] = boe_portfolio['Total_Allocation_Proceeds'] - boe_portfolio['Total allocation (proceeds £mn)']"
   ]
  },
  {
   "cell_type": "code",
   "execution_count": null,
   "id": "219344ad",
   "metadata": {},
   "outputs": [],
   "source": [
    "boe_portfolio['Coupon']=boe_portfolio['ISIN'].map(\n",
    "    lambda x: isin_bond_details[\n",
    "        isin_bond_details['ISIN Code']==x\n",
    "        ]['%'].values[0]\n",
    "    )"
   ]
  },
  {
   "cell_type": "code",
   "execution_count": null,
   "id": "802a202c",
   "metadata": {},
   "outputs": [],
   "source": [
    "boe_portfolio.groupby('Coupon')['current_position'].sum().plot(\n",
    "    kind='bar', figsize=(12, 6), title='BoE Portfolio by Coupon'\n",
    ")"
   ]
  },
  {
   "cell_type": "code",
   "execution_count": null,
   "id": "0b41190e",
   "metadata": {},
   "outputs": [],
   "source": [
    "boe_portfolio.groupby('Coupon')['position_cost'].sum().cumsum()"
   ]
  },
  {
   "cell_type": "code",
   "execution_count": null,
   "id": "12841a0a",
   "metadata": {},
   "outputs": [],
   "source": [
    "price_df=load_prices(\"downloads/BGSPrices.csv\")"
   ]
  },
  {
   "cell_type": "code",
   "execution_count": null,
   "id": "e27bf938",
   "metadata": {},
   "outputs": [],
   "source": [
    "price_df.index = pd.to_datetime(price_df.index, format=\"%d %b %Y\").to_period('M').to_timestamp('M')"
   ]
  },
  {
   "cell_type": "code",
   "execution_count": null,
   "id": "9347ec1f",
   "metadata": {},
   "outputs": [],
   "source": [
    "price_df.loc['Apr 2025',32100]"
   ]
  },
  {
   "cell_type": "code",
   "execution_count": null,
   "id": "8884087d",
   "metadata": {},
   "outputs": [],
   "source": [
    "boe_portfolio['mkt_price'] = boe_portfolio['bgs_id'].map(\n",
    "    lambda x: price_df.loc['Apr 2025', int(x)].values[0])"
   ]
  },
  {
   "cell_type": "code",
   "execution_count": null,
   "id": "7216a314",
   "metadata": {},
   "outputs": [],
   "source": [
    "boe_portfolio.head()"
   ]
  },
  {
   "cell_type": "code",
   "execution_count": null,
   "id": "a521ae54",
   "metadata": {},
   "outputs": [],
   "source": [
    "boe_portfolio['p&l'] = boe_portfolio['mkt_price'] * boe_portfolio['current_position']/100 - boe_portfolio['position_cost']  "
   ]
  },
  {
   "cell_type": "code",
   "execution_count": null,
   "id": "04a779fa",
   "metadata": {},
   "outputs": [],
   "source": [
    "boe_portfolio['p&l'].sum()"
   ]
  },
  {
   "cell_type": "code",
   "execution_count": null,
   "id": "47619d8d",
   "metadata": {},
   "outputs": [],
   "source": [
    "boe_portfolio.groupby('Coupon')['p&l'].sum().plot(\n",
    "    kind='bar', figsize=(12, 6), title='BoE Portfolio Loses by Coupon'\n",
    ")"
   ]
  },
  {
   "cell_type": "code",
   "execution_count": null,
   "id": "da9e15f9",
   "metadata": {},
   "outputs": [],
   "source": [
    "boe_portfolio.groupby('Coupon')['p&l'].sum().cumsum()"
   ]
  },
  {
   "cell_type": "code",
   "execution_count": null,
   "id": "96555678",
   "metadata": {},
   "outputs": [],
   "source": [
    "\n",
    "tables = load_bgs_amounts(\"downloads/BGSAmounts.csv\")"
   ]
  },
  {
   "cell_type": "code",
   "execution_count": null,
   "id": "a53bc004",
   "metadata": {},
   "outputs": [],
   "source": [
    "conv = tables['Conventionals']\n",
    "conv.replace(\"Redeemed\", \"\", inplace=True)\n",
    "conv = conv.apply(pd.to_numeric, errors='coerce')\n",
    "conv.fillna(0, inplace=True)\n",
    "conv.index = pd.Index([clean_date(x) for x in list(conv.index)]).to_period('M').to_timestamp('M')\n",
    "conv.columns = [np.int64(x.strip()) for x in conv.columns]"
   ]
  },
  {
   "cell_type": "code",
   "execution_count": null,
   "id": "56eda70c",
   "metadata": {},
   "outputs": [],
   "source": [
    "conv.loc['30 Apr 2025',32100]"
   ]
  },
  {
   "cell_type": "code",
   "execution_count": null,
   "id": "58e96986",
   "metadata": {},
   "outputs": [],
   "source": [
    "boe_portfolio['tot_outstanding'] = boe_portfolio['bgs_id'].map(\n",
    "    lambda x: conv.loc['30 Apr 2025', x])"
   ]
  },
  {
   "cell_type": "code",
   "execution_count": null,
   "id": "739d8223",
   "metadata": {},
   "outputs": [],
   "source": [
    "conv.loc['30 Apr 2025',32100]"
   ]
  },
  {
   "cell_type": "code",
   "execution_count": null,
   "id": "6084baea",
   "metadata": {},
   "outputs": [],
   "source": [
    "boe_portfolio['pct_ownership']=boe_portfolio['current_position']/boe_portfolio['tot_outstanding'].astype(float).fillna(0)"
   ]
  },
  {
   "cell_type": "code",
   "execution_count": null,
   "id": "ce99772b",
   "metadata": {},
   "outputs": [],
   "source": [
    "boe_portfolio['pct_ownership'].plot(kind='hist')"
   ]
  },
  {
   "cell_type": "code",
   "execution_count": null,
   "id": "360eac26",
   "metadata": {},
   "outputs": [],
   "source": [
    "boe_portfolio.plot(x='pct_ownership',y='p&l', kind='scatter')"
   ]
  },
  {
   "cell_type": "code",
   "execution_count": null,
   "id": "dd5f1cf8",
   "metadata": {},
   "outputs": [],
   "source": [
    "boe_portfolio[boe_portfolio['pct_ownership']>0.5][['ISIN','p&l', 'pct_ownership']].sort_values(by='p&l', ascending=True)"
   ]
  },
  {
   "cell_type": "code",
   "execution_count": null,
   "id": "8db4bf7a",
   "metadata": {},
   "outputs": [],
   "source": [
    "conv_details.loc[conv_details['ISIN Code']=='GB00BFWFPP71'].T"
   ]
  },
  {
   "cell_type": "code",
   "execution_count": null,
   "id": "908e7630",
   "metadata": {},
   "outputs": [],
   "source": [
    "boe_end_purchase_port =  gilt_buys_total.loc[gilt_buys_total['maturity_date'] > gilt_buys_total['Last_Purchase_Month'].max()]"
   ]
  },
  {
   "cell_type": "code",
   "execution_count": null,
   "id": "53280128",
   "metadata": {},
   "outputs": [],
   "source": [
    "boe_end_purchase_port['year'] = boe_end_purchase_port['maturity_date'].dt.year\n",
    "boe_end_purchase_port.groupby('year')['Total_Allocation_Nominal'].sum().plot(kind='bar', x='year', y='Total_Allocation_Nominal')"
   ]
  },
  {
   "cell_type": "code",
   "execution_count": null,
   "id": "98f6a458",
   "metadata": {},
   "outputs": [],
   "source": [
    "boe_end_purchase_port.groupby('year')['Total_Allocation_Nominal'].sum().cumsum().plot(kind='bar', x='year', y='Total_Allocation_Nominal')"
   ]
  },
  {
   "cell_type": "code",
   "execution_count": null,
   "id": "3b3e9997",
   "metadata": {},
   "outputs": [],
   "source": [
    "conv_details[conv_details['Sequence']==32100]"
   ]
  },
  {
   "cell_type": "code",
   "execution_count": null,
   "id": "59b8b595",
   "metadata": {},
   "outputs": [],
   "source": [
    "boe_end_purchase_port.head()"
   ]
  },
  {
   "cell_type": "code",
   "execution_count": null,
   "id": "7f5192c1",
   "metadata": {},
   "outputs": [],
   "source": [
    "boe_portfolio"
   ]
  },
  {
   "cell_type": "code",
   "execution_count": null,
   "id": "2a4d9eeb",
   "metadata": {},
   "outputs": [],
   "source": []
  }
 ],
 "metadata": {
  "kernelspec": {
   "display_name": ".venv",
   "language": "python",
   "name": "python3"
  },
  "language_info": {
   "codemirror_mode": {
    "name": "ipython",
    "version": 3
   },
   "file_extension": ".py",
   "mimetype": "text/x-python",
   "name": "python",
   "nbconvert_exporter": "python",
   "pygments_lexer": "ipython3",
   "version": "3.12.10"
  }
 },
 "nbformat": 4,
 "nbformat_minor": 5
}
