{
 "cells": [
  {
   "cell_type": "code",
   "execution_count": null,
   "id": "f52dceb6",
   "metadata": {},
   "outputs": [],
   "source": [
    "import pandas as pd\n",
    "import requests\n",
    "import zipfile\n",
    "import io\n",
    "import os\n",
    "import csv\n",
    "import ctypes as ct\n",
    "import numpy as np\n",
    "from collections import Counter\n",
    "import matplotlib.pyplot as plt\n",
    "import re\n"
   ]
  },
  {
   "cell_type": "markdown",
   "id": "8ef6ba88",
   "metadata": {},
   "source": [
    "- \"https://www.bankofengland.co.uk/-/media/boe/files/markets/asset-purchase-facility/gilt-purchase-operational-results.xlsx\"\n",
    "- \"https://www.bankofengland.co.uk/-/media/boe/files/markets/asset-purchase-facility/gilt-sales-time-series.xlsx\""
   ]
  },
  {
   "cell_type": "code",
   "execution_count": null,
   "id": "9195ab1e",
   "metadata": {},
   "outputs": [],
   "source": [
    "df_buy = pd.ExcelFile(\"downloads/gilt-purchase-operational-results.XLSX\")"
   ]
  },
  {
   "cell_type": "code",
   "execution_count": null,
   "id": "e5b15969",
   "metadata": {},
   "outputs": [],
   "source": [
    "df_buy.sheet_names"
   ]
  },
  {
   "cell_type": "code",
   "execution_count": null,
   "id": "28bd8241",
   "metadata": {},
   "outputs": [],
   "source": [
    "df_buy = pd.read_excel(\"downloads/gilt-purchase-operational-results.XLSX\", sheet_name=\"APF Gilts\", header=1)"
   ]
  },
  {
   "cell_type": "code",
   "execution_count": null,
   "id": "f45974d5",
   "metadata": {},
   "outputs": [],
   "source": [
    "df_buy.columns"
   ]
  },
  {
   "cell_type": "code",
   "execution_count": null,
   "id": "fd29b519",
   "metadata": {},
   "outputs": [],
   "source": [
    "df_boe = df_buy[['Operation date','Total allocation (proceeds £mn)', 'Total allocation (nominal £mn)']].copy()"
   ]
  },
  {
   "cell_type": "code",
   "execution_count": null,
   "id": "2ba44874",
   "metadata": {},
   "outputs": [],
   "source": [
    "df_boe['Operation date'] = pd.to_datetime(df_boe['Operation date'], format='%d-%m-%Y')"
   ]
  },
  {
   "cell_type": "code",
   "execution_count": null,
   "id": "be864659",
   "metadata": {},
   "outputs": [],
   "source": [
    "df_boe.set_index('Operation date', inplace=True)"
   ]
  },
  {
   "cell_type": "code",
   "execution_count": null,
   "id": "06e76c48",
   "metadata": {},
   "outputs": [],
   "source": [
    "df_boe.cumsum(axis=0).plot()"
   ]
  },
  {
   "cell_type": "code",
   "execution_count": null,
   "id": "82a888b3",
   "metadata": {},
   "outputs": [],
   "source": [
    "df_sell = pd.ExcelFile(\"downloads/gilt-sales-time-series.XLSX\")"
   ]
  },
  {
   "cell_type": "code",
   "execution_count": null,
   "id": "e7629a47",
   "metadata": {},
   "outputs": [],
   "source": [
    "df_sell.sheet_names"
   ]
  },
  {
   "cell_type": "code",
   "execution_count": null,
   "id": "eba79973",
   "metadata": {},
   "outputs": [],
   "source": [
    "df_sell = pd.read_excel(\"downloads/gilt-sales-time-series.XLSX\", sheet_name=\"APF gilt sales\", header=1)"
   ]
  },
  {
   "cell_type": "code",
   "execution_count": null,
   "id": "71c216b1",
   "metadata": {},
   "outputs": [],
   "source": [
    "df_sell.columns"
   ]
  },
  {
   "cell_type": "code",
   "execution_count": null,
   "id": "8846cd3b",
   "metadata": {},
   "outputs": [],
   "source": [
    "df_boe_exit = df_sell[['Operation date','Total allocation (proceeds £mn)', 'Total allocation (nominal £mn)']].copy()\n",
    "df_boe_exit['Operation date'] = pd.to_datetime(df_boe_exit['Operation date'], format='%d-%m-%Y')\n",
    "df_boe_exit.set_index('Operation date', inplace=True)\n",
    "df_boe_exit.cumsum(axis=0).plot()"
   ]
  },
  {
   "cell_type": "code",
   "execution_count": null,
   "id": "d9a92cab",
   "metadata": {},
   "outputs": [],
   "source": [
    "bonds = df_buy[['ISIN','Bond\\n']].drop_duplicates()"
   ]
  },
  {
   "cell_type": "code",
   "execution_count": null,
   "id": "093c31c5",
   "metadata": {},
   "outputs": [],
   "source": [
    "from collections import defaultdict\n",
    "isin_bond_map = defaultdict(list)\n",
    "for row in bonds.itertuples():\n",
    "    isin_bond_map[row.ISIN].append(row._2)\n",
    "for isin, bond in isin_bond_map.items():\n",
    "    if len(bond) > 1:\n",
    "        raise Exception(f\"There are duplicates in the BoE list: {isin}\")\n",
    "isin_bond_map['GB0008881541']"
   ]
  },
  {
   "cell_type": "code",
   "execution_count": null,
   "id": "c75a1761",
   "metadata": {},
   "outputs": [],
   "source": [
    "gilt_level_buys = df_buy[[\n",
    "    'ISIN',\n",
    "    'Operation date',\n",
    "    'Total allocation (proceeds £mn)',\n",
    "    'Total allocation (nominal £mn)'\n",
    "    ]].copy()\n",
    "gilt_level_buys.set_index('Operation date', inplace=True)\n",
    "gilt_level_buys.index = pd.to_datetime(gilt_level_buys.index, format='%d-%m-%Y').to_period('M').to_timestamp('M')\n",
    "gilt_level_buys.reset_index(inplace=True)\n"
   ]
  },
  {
   "cell_type": "code",
   "execution_count": null,
   "id": "8ee50919",
   "metadata": {},
   "outputs": [],
   "source": [
    "gilt_buys_ts = gilt_level_buys.pivot_table(\n",
    "    index='Operation date', \n",
    "    columns='ISIN', \n",
    "    values='Total allocation (nominal £mn)', aggfunc='sum')"
   ]
  },
  {
   "cell_type": "code",
   "execution_count": null,
   "id": "88079e21",
   "metadata": {},
   "outputs": [],
   "source": [
    "gilt_buys_ts.columns"
   ]
  },
  {
   "cell_type": "code",
   "execution_count": null,
   "id": "3ab10a25",
   "metadata": {},
   "outputs": [],
   "source": [
    "gilt_buys_ts = gilt_buys_ts.fillna(0).cumsum()\n",
    "gilt_buys_ts.head()\n",
    "# TODO: Clip once the Bond has matured"
   ]
  },
  {
   "cell_type": "code",
   "execution_count": null,
   "id": "4ce0d066",
   "metadata": {},
   "outputs": [],
   "source": [
    "gilt_buys_total = gilt_level_buys.reset_index().groupby([ 'ISIN']).agg(\n",
    "    Total_Allocation_Proceeds=('Total allocation (proceeds £mn)', 'sum'),\n",
    "    Total_Allocation_Nominal=('Total allocation (nominal £mn)', 'sum'),\n",
    "    Last_Purchase_Month=('Operation date', 'max')\n",
    ")\n",
    "gilt_buys_total.reset_index(inplace=True)\n",
    "gilt_buys_total.head()\n",
    "    "
   ]
  },
  {
   "cell_type": "code",
   "execution_count": null,
   "id": "804eff23",
   "metadata": {},
   "outputs": [],
   "source": [
    "from bgs.load_gilt_details import load_csv_blocks\n",
    "details = load_csv_blocks(\"downloads/BGSDetails.csv\")"
   ]
  },
  {
   "cell_type": "code",
   "execution_count": null,
   "id": "3014fa97",
   "metadata": {},
   "outputs": [],
   "source": [
    "conv_details = details['Conventionals']"
   ]
  },
  {
   "cell_type": "code",
   "execution_count": null,
   "id": "92f5c859",
   "metadata": {},
   "outputs": [],
   "source": [
    "conv_details.columns"
   ]
  },
  {
   "cell_type": "code",
   "execution_count": null,
   "id": "911d2900",
   "metadata": {},
   "outputs": [],
   "source": [
    "conv_details.head()"
   ]
  },
  {
   "cell_type": "code",
   "execution_count": null,
   "id": "623f06e3",
   "metadata": {},
   "outputs": [],
   "source": [
    "isin_bond_details = conv_details[['ISIN Code', 'Latest redemption date','%']].copy()"
   ]
  },
  {
   "cell_type": "code",
   "execution_count": null,
   "id": "1439c73b",
   "metadata": {},
   "outputs": [],
   "source": [
    "[x for x in gilt_buys_total['ISIN'] if x not in isin_bond_details['ISIN Code'].to_list()]"
   ]
  },
  {
   "cell_type": "code",
   "execution_count": null,
   "id": "1b9c1328",
   "metadata": {},
   "outputs": [],
   "source": [
    "gilt_buys_total['ISIN'][0]"
   ]
  },
  {
   "cell_type": "code",
   "execution_count": null,
   "id": "f0c27781",
   "metadata": {},
   "outputs": [],
   "source": [
    "isin_bond_details[isin_bond_details['ISIN Code']=='GB0002404191']['Latest redemption date'].values[0]"
   ]
  },
  {
   "cell_type": "code",
   "execution_count": null,
   "id": "c63cac32",
   "metadata": {},
   "outputs": [],
   "source": [
    "gilt_buys_total['maturity_date'] = gilt_buys_total['ISIN'].map(\n",
    "    lambda x: isin_bond_details[\n",
    "        isin_bond_details['ISIN Code']==x\n",
    "        ]['Latest redemption date'].values[0]\n",
    "    )"
   ]
  },
  {
   "cell_type": "code",
   "execution_count": null,
   "id": "5eda6848",
   "metadata": {},
   "outputs": [],
   "source": [
    "gilt_buys_total['maturity_date'] = pd.to_datetime(\n",
    "    gilt_buys_total['maturity_date'], format=\"%d %b %Y\"\n",
    ")"
   ]
  },
  {
   "cell_type": "code",
   "execution_count": null,
   "id": "2ad7afa8",
   "metadata": {},
   "outputs": [],
   "source": [
    "matured = gilt_buys_total['maturity_date'] > pd.Timestamp.now()"
   ]
  },
  {
   "cell_type": "code",
   "execution_count": null,
   "id": "43720db5",
   "metadata": {},
   "outputs": [],
   "source": [
    "boe_portfolio = gilt_buys_total[matured].copy()"
   ]
  },
  {
   "cell_type": "code",
   "execution_count": null,
   "id": "219344ad",
   "metadata": {},
   "outputs": [],
   "source": [
    "boe_portfolio['Coupon']=boe_portfolio['ISIN'].map(\n",
    "    lambda x: isin_bond_details[\n",
    "        isin_bond_details['ISIN Code']==x\n",
    "        ]['%'].values[0]\n",
    "    )"
   ]
  },
  {
   "cell_type": "code",
   "execution_count": null,
   "id": "802a202c",
   "metadata": {},
   "outputs": [],
   "source": [
    "boe_portfolio.groupby('Coupon')['Total_Allocation_Nominal'].sum().plot(\n",
    "    kind='bar', figsize=(12, 6), title='BoE Portfolio by Coupon'\n",
    ")"
   ]
  },
  {
   "cell_type": "code",
   "execution_count": null,
   "id": "0b41190e",
   "metadata": {},
   "outputs": [],
   "source": [
    "boe_portfolio.groupby('Coupon')['Total_Allocation_Nominal'].sum().cumsum()"
   ]
  },
  {
   "cell_type": "code",
   "execution_count": null,
   "id": "12841a0a",
   "metadata": {},
   "outputs": [],
   "source": []
  }
 ],
 "metadata": {
  "kernelspec": {
   "display_name": ".venv (3.12.10)",
   "language": "python",
   "name": "python3"
  },
  "language_info": {
   "codemirror_mode": {
    "name": "ipython",
    "version": 3
   },
   "file_extension": ".py",
   "mimetype": "text/x-python",
   "name": "python",
   "nbconvert_exporter": "python",
   "pygments_lexer": "ipython3",
   "version": "3.12.10"
  }
 },
 "nbformat": 4,
 "nbformat_minor": 5
}
