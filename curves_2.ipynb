{
 "cells": [
  {
   "cell_type": "code",
   "execution_count": null,
   "id": "c59b4f48",
   "metadata": {},
   "outputs": [],
   "source": [
    "import pandas as pd\n",
    "import requests\n",
    "import zipfile\n",
    "import io\n",
    "import os\n",
    "import csv\n",
    "import ctypes as ct\n",
    "import numpy as np\n",
    "from collections import Counter\n",
    "import matplotlib.pyplot as plt\n",
    "from matplotlib.dates import YearLocator\n",
    "from matplotlib.ticker import PercentFormatter\n",
    "import re\n",
    "import seaborn as sns\n",
    "import QuantLib as ql\n",
    "\n",
    "from scipy import interpolate, optimize\n",
    "\n",
    "from bgs.bgs_utils import clean_date, clean_percentage\n",
    "from bgs.load_bgs_amounts import load_bgs_amounts\n",
    "from bgs.load_gilt_details import load_csv_blocks\n",
    "from bgs.load_bgs_prices import load_prices\n",
    "from bgs.gilt_analytics import gilt_yield, yield_series, yield_curve, from_iso, yield_curves_pw, yield_curve_rv, yield_curve_pw, Gilt, yield_curves_pw_2\n",
    "from bgs.linker_analytics import linker_real_yield\n",
    "\n",
    "%load_ext autoreload\n",
    "%autoreload 2"
   ]
  },
  {
   "cell_type": "code",
   "execution_count": null,
   "id": "bd028c36",
   "metadata": {},
   "outputs": [],
   "source": [
    "import pandas as pd\n",
    "import requests\n",
    "import zipfile\n",
    "import io\n",
    "import os\n",
    "import csv\n",
    "import ctypes as ct\n",
    "import numpy as np\n",
    "from collections import Counter\n",
    "import matplotlib.pyplot as plt\n",
    "from matplotlib.dates import YearLocator\n",
    "from matplotlib.ticker import PercentFormatter\n",
    "import re\n",
    "import seaborn as sns\n",
    "import QuantLib as ql\n",
    "\n",
    "from bgs.bgs_utils import clean_date, clean_percentage\n",
    "from bgs.load_bgs_amounts import load_bgs_amounts\n",
    "from bgs.load_gilt_details import load_csv_blocks\n",
    "from bgs.load_bgs_prices import load_prices\n",
    "from bgs.gilt_analytics import gilt_yield, yield_series, yield_curve, from_iso, yield_curves_pw, yield_curve_rv\n",
    "from bgs.linker_analytics import linker_real_yield\n",
    "\n",
    "%load_ext autoreload\n",
    "%autoreload 2"
   ]
  },
  {
   "cell_type": "markdown",
   "id": "d40df4b5",
   "metadata": {},
   "source": [
    "### British Gilt Survey Amounts Table"
   ]
  },
  {
   "cell_type": "code",
   "execution_count": null,
   "id": "8f2db88c",
   "metadata": {},
   "outputs": [],
   "source": [
    "tables = load_bgs_amounts(\"downloads/BGSAmounts.csv\")\n",
    "\n",
    "conv = tables['Conventionals']\n",
    "conv.replace(\"Redeemed\", \"\", inplace=True)\n",
    "conv = conv.apply(pd.to_numeric, errors='coerce')\n",
    "conv.fillna(0, inplace=True)\n",
    "conv.index = pd.Index([clean_date(x) for x in list(conv.index)]).to_period('M').to_timestamp('M')\n",
    "conv.columns = [np.int64(x.strip()) for x in conv.columns]\n",
    "\n",
    "old = tables['Calculated indexed nominal Old-style']\n",
    "old.replace(\"Redeemed\", \"\", inplace=True)\n",
    "old = old.apply(pd.to_numeric, errors='coerce')\n",
    "old.fillna(0, inplace=True)\n",
    "old.index = pd.Index([clean_date(x) for x in list(old.index)]).to_period('M').to_timestamp('M')\n",
    "old.columns = [np.int64(x.strip()) for x in old.columns]\n",
    "\n",
    "new = tables['Calculated indexed nominal New-style']\n",
    "new.replace(\"Redeemed\", \"\", inplace=True)\n",
    "new = new.apply(pd.to_numeric, errors='coerce')\n",
    "new.fillna(0, inplace=True)\n",
    "new.index = pd.Index([clean_date(x) for x in list(new.index)]).to_period('M').to_timestamp('M')\n",
    "new.columns = [np.int64(x.strip()) for x in new.columns]\n",
    "\n",
    "new_no_idx = tables['Index-linked New-style']\n",
    "new_no_idx.replace(\"Redeemed\", \"\", inplace=True)\n",
    "new_no_idx = new_no_idx.apply(pd.to_numeric, errors='coerce')\n",
    "new_no_idx.fillna(0, inplace=True)\n",
    "new_no_idx.index = pd.Index([clean_date(x) for x in list(new_no_idx.index)]).to_period('M').to_timestamp('M')\n",
    "new_no_idx.columns = [np.int64(x.strip()) for x in new_no_idx.columns]"
   ]
  },
  {
   "cell_type": "markdown",
   "id": "e3e222e9",
   "metadata": {},
   "source": [
    "### British Gilts Survey Month End Prices"
   ]
  },
  {
   "cell_type": "code",
   "execution_count": null,
   "id": "5daad94c",
   "metadata": {},
   "outputs": [],
   "source": [
    "price_df=load_prices(\"downloads/BGSPrices.csv\")\n",
    "price_df.index = pd.to_datetime(price_df.index, format=\"%d %b %Y\").to_period('M').to_timestamp('M')\n",
    "for text in ['Amalgamated', 'Redeemed', 'redeemed']:\n",
    "    price_df = price_df.replace(text, 0)\n",
    "price_df = price_df.replace('missing', None)\n",
    "price_df = price_df.ffill(axis=0)\n",
    "price_df = price_df.fillna(0)\n",
    "price_df.columns = [np.int64(x) for x in price_df.columns]"
   ]
  },
  {
   "cell_type": "markdown",
   "id": "f86a98d3",
   "metadata": {},
   "source": [
    "### British Gilts Survey Details Table (Bond Static Data, Coupon Maturity etc.) "
   ]
  },
  {
   "cell_type": "code",
   "execution_count": null,
   "id": "ea6dcea0",
   "metadata": {},
   "outputs": [],
   "source": [
    "details = load_csv_blocks(\"downloads/BGSDetails.csv\")\n",
    "\n",
    "conv_details = details['Conventionals']\n",
    "conv_details['%'] = conv_details['%'].apply(clean_percentage)\n",
    "conv_details['Sequence'] = conv_details['Sequence'].apply(lambda x: np.int64(x))\n",
    "\n",
    "new_details = details['Index-Linked New-style']\n",
    "new_details['%'] = new_details['%'].apply(clean_percentage)\n",
    "new_details['Sequence'] = new_details['Sequence'].apply(lambda x: np.int64(x))\n",
    "\n",
    "old_details = details['Index-Linked Old-style']\n",
    "old_details['%'] = old_details['%'].apply(clean_percentage)\n",
    "old_details['Sequence'] = old_details['Sequence'].apply(lambda x: np.int64(x))\n",
    "\n",
    "strip_details = details['Strips']\n",
    "strip_details['%'] = 0.0\n",
    "strip_details['Sequence'] = strip_details['Sequence'].apply(lambda x: np.int64(x))\n",
    "\n",
    "date_variables = [\"Latest redemption date\",\"Issue date\",\"First coupon payable on date\",]\n",
    "for date_var in date_variables:\n",
    "    conv_details[date_var] = conv_details[date_var].apply(clean_date)\n",
    "    old_details[date_var] = old_details[date_var].apply(clean_date)\n",
    "    new_details[date_var] = new_details[date_var].apply(clean_date)\n",
    "strip_details['Latest redemption date'] = strip_details['Latest redemption date'].apply(clean_date)"
   ]
  },
  {
   "cell_type": "markdown",
   "id": "1e27e009",
   "metadata": {},
   "source": [
    "### British Gilt Survey Amounts Table"
   ]
  },
  {
   "cell_type": "code",
   "execution_count": null,
   "id": "5a8a849d",
   "metadata": {},
   "outputs": [],
   "source": [
    "tables = load_bgs_amounts(\"downloads/BGSAmounts.csv\")\n",
    "\n",
    "conv = tables['Conventionals']\n",
    "conv.replace(\"Redeemed\", \"\", inplace=True)\n",
    "conv = conv.apply(pd.to_numeric, errors='coerce')\n",
    "conv.fillna(0, inplace=True)\n",
    "conv.index = pd.Index([clean_date(x) for x in list(conv.index)]).to_period('M').to_timestamp('M')\n",
    "conv.columns = [np.int64(x.strip()) for x in conv.columns]\n",
    "\n",
    "old = tables['Calculated indexed nominal Old-style']\n",
    "old.replace(\"Redeemed\", \"\", inplace=True)\n",
    "old = old.apply(pd.to_numeric, errors='coerce')\n",
    "old.fillna(0, inplace=True)\n",
    "old.index = pd.Index([clean_date(x) for x in list(old.index)]).to_period('M').to_timestamp('M')\n",
    "old.columns = [np.int64(x.strip()) for x in old.columns]\n",
    "\n",
    "new = tables['Calculated indexed nominal New-style']\n",
    "new.replace(\"Redeemed\", \"\", inplace=True)\n",
    "new = new.apply(pd.to_numeric, errors='coerce')\n",
    "new.fillna(0, inplace=True)\n",
    "new.index = pd.Index([clean_date(x) for x in list(new.index)]).to_period('M').to_timestamp('M')\n",
    "new.columns = [np.int64(x.strip()) for x in new.columns]\n",
    "\n",
    "new_no_idx = tables['Index-linked New-style']\n",
    "new_no_idx.replace(\"Redeemed\", \"\", inplace=True)\n",
    "new_no_idx = new_no_idx.apply(pd.to_numeric, errors='coerce')\n",
    "new_no_idx.fillna(0, inplace=True)\n",
    "new_no_idx.index = pd.Index([clean_date(x) for x in list(new_no_idx.index)]).to_period('M').to_timestamp('M')\n",
    "new_no_idx.columns = [np.int64(x.strip()) for x in new_no_idx.columns]"
   ]
  },
  {
   "cell_type": "markdown",
   "id": "99dc9751",
   "metadata": {},
   "source": [
    "### British Gilts Survey Month End Prices"
   ]
  },
  {
   "cell_type": "code",
   "execution_count": null,
   "id": "7b578a5b",
   "metadata": {},
   "outputs": [],
   "source": [
    "price_df=load_prices(\"downloads/BGSPrices.csv\")\n",
    "price_df.index = pd.to_datetime(price_df.index, format=\"%d %b %Y\").to_period('M').to_timestamp('M')\n",
    "for text in ['Amalgamated', 'Redeemed', 'redeemed']:\n",
    "    price_df = price_df.replace(text, 0)\n",
    "price_df = price_df.replace('missing', None)\n",
    "price_df = price_df.ffill(axis=0)\n",
    "price_df = price_df.fillna(0)\n",
    "price_df.columns = [np.int64(x) for x in price_df.columns]"
   ]
  },
  {
   "cell_type": "markdown",
   "id": "d4bd6aae",
   "metadata": {},
   "source": [
    "### British Gilts Survey Details Table (Bond Static Data, Coupon Maturity etc.) "
   ]
  },
  {
   "cell_type": "code",
   "execution_count": null,
   "id": "1cb29d03",
   "metadata": {},
   "outputs": [],
   "source": [
    "details = load_csv_blocks(\"downloads/BGSDetails.csv\")\n",
    "\n",
    "conv_details = details['Conventionals']\n",
    "conv_details['%'] = conv_details['%'].apply(clean_percentage)\n",
    "conv_details['Sequence'] = conv_details['Sequence'].apply(lambda x: np.int64(x))\n",
    "\n",
    "new_details = details['Index-Linked New-style']\n",
    "new_details['%'] = new_details['%'].apply(clean_percentage)\n",
    "new_details['Sequence'] = new_details['Sequence'].apply(lambda x: np.int64(x))\n",
    "\n",
    "old_details = details['Index-Linked Old-style']\n",
    "old_details['%'] = old_details['%'].apply(clean_percentage)\n",
    "old_details['Sequence'] = old_details['Sequence'].apply(lambda x: np.int64(x))\n",
    "\n",
    "strip_details = details['Strips']\n",
    "strip_details['%'] = 0.0\n",
    "strip_details['Sequence'] = strip_details['Sequence'].apply(lambda x: np.int64(x))\n",
    "\n",
    "date_variables = [\"Latest redemption date\",\"Issue date\",\"First coupon payable on date\",]\n",
    "for date_var in date_variables:\n",
    "    conv_details[date_var] = conv_details[date_var].apply(clean_date)\n",
    "    old_details[date_var] = old_details[date_var].apply(clean_date)\n",
    "    new_details[date_var] = new_details[date_var].apply(clean_date)\n",
    "strip_details['Latest redemption date'] = strip_details['Latest redemption date'].apply(clean_date)"
   ]
  },
  {
   "cell_type": "code",
   "execution_count": null,
   "id": "165e5f94",
   "metadata": {},
   "outputs": [],
   "source": [
    "all_conv = conv_details[['Sequence', 'ISIN Code','%','Latest redemption date', 'Issue date', 'First coupon payable on date']]\n"
   ]
  },
  {
   "cell_type": "code",
   "execution_count": null,
   "id": "9410c1a6",
   "metadata": {},
   "outputs": [],
   "source": [
    "month_end_dates = pd.date_range(start='2024-01-31', end='2025-04-30', freq='ME').strftime(\"%Y-%m-%d\").to_list()"
   ]
  },
  {
   "cell_type": "code",
   "execution_count": null,
   "id": "eee5c579",
   "metadata": {},
   "outputs": [],
   "source": [
    "def bgs_gilt_yield(bgs_id, calc_date):\n",
    "\n",
    "    bond = conv_details[conv_details['Sequence']==bgs_id]\n",
    "    issue_date=bond['Issue date'].dt.strftime(\"%Y-%m-%d\").values[0]\n",
    "    maturity_date=bond['Latest redemption date'].dt.strftime(\"%Y-%m-%d\").values[0]\n",
    "    first_cpn_date=bond['First coupon payable on date'].dt.strftime(\"%Y-%m-%d\").values[0]\n",
    "    last_cpn_date=bond['Latest redemption date'].dt.strftime(\"%Y-%m-%d\").values[0]\n",
    "    coupon=bond['%'].values[0]/100\n",
    "\n",
    "    clean_price=price_df.loc[calc_date,bgs_id]\n",
    "\n",
    "\n",
    "    return gilt_yield(\n",
    "        trade_date=calc_date,\n",
    "        issue_date=issue_date,\n",
    "        maturity_date=maturity_date,\n",
    "        first_cpn_date=first_cpn_date,\n",
    "        last_cpn_date=last_cpn_date,\n",
    "        clean_price=clean_price,\n",
    "        coupon=coupon)"
   ]
  },
  {
   "cell_type": "code",
   "execution_count": null,
   "id": "9d7104e2",
   "metadata": {},
   "outputs": [],
   "source": [
    "dislocations = []\n",
    "starting = all_conv.copy()\n",
    "calculation_date = month_end_dates[0]\n",
    "\n",
    "gilts_list = starting.loc[(starting['Latest redemption date'] > pd.to_datetime(calculation_date))&(starting['Issue date']< pd.to_datetime(calculation_date))]\n",
    "gilts_list['Amount_Outstanding']=gilts_list['Sequence'].map( lambda x: conv.loc[calculation_date, x])\n",
    "gilts_list['price'] = gilts_list['Sequence'].apply(lambda x: price_df[x].loc[calculation_date])"
   ]
  },
  {
   "cell_type": "code",
   "execution_count": null,
   "id": "67c44f9e",
   "metadata": {},
   "outputs": [],
   "source": [
    "X = ((gilts_list['Latest redemption date'] - pd.Timestamp(\"1970-01-01\")).dt.days).to_list()\n",
    "# X = [np.array(X)[:, np.newaxis]]\n",
    "X = np.array(X).reshape(-1, 1)\n",
    "y = gilts_list['price']"
   ]
  },
  {
   "cell_type": "code",
   "execution_count": null,
   "id": "9f409480",
   "metadata": {},
   "outputs": [],
   "source": [
    "from sklearn.pipeline import make_pipeline\n",
    "from sklearn import preprocessing\n",
    "from sklearn.svm import SVR\n",
    "\n",
    "pipeline = make_pipeline(\n",
    "    preprocessing.StandardScaler(),\n",
    "    SVR(kernel='linear', epsilon=0.01, C=100, gamma = 0.01),\n",
    ")"
   ]
  },
  {
   "cell_type": "code",
   "execution_count": null,
   "id": "b63f8ae0",
   "metadata": {},
   "outputs": [],
   "source": [
    "pipeline.fit(X, y)"
   ]
  },
  {
   "cell_type": "code",
   "execution_count": null,
   "id": "d61d6ede",
   "metadata": {},
   "outputs": [],
   "source": [
    "gilts_list['decision_line'] = pipeline.predict(X)"
   ]
  },
  {
   "cell_type": "code",
   "execution_count": null,
   "id": "c9cdcecc",
   "metadata": {},
   "outputs": [],
   "source": [
    "condition = (gilts_list['decision_line'] - gilts_list['price']) > 2\n",
    "gilts_list['segmentation'] = condition.apply(lambda x: 1 if x else 0)"
   ]
  },
  {
   "cell_type": "code",
   "execution_count": null,
   "id": "62cf5982",
   "metadata": {},
   "outputs": [],
   "source": [
    "sns.set_theme(style=\"darkgrid\")\n",
    "\n",
    "# use the scatterplot function to build the bubble map\n",
    "ax = sns.scatterplot(\n",
    "    data=gilts_list,\n",
    "    x=\"Latest redemption date\",\n",
    "    y=\"price\",\n",
    "    size=\"Amount_Outstanding\",\n",
    "    hue=\"segmentation\",\n",
    "    legend=False,\n",
    "    sizes=(10, 500)\n",
    ")\n",
    "\n",
    "# show the graph\n",
    "ax.plot(gilts_list['Latest redemption date'], gilts_list['decision_line'])\n",
    "plt.show()"
   ]
  },
  {
   "cell_type": "code",
   "execution_count": null,
   "id": "3dd6239a",
   "metadata": {},
   "outputs": [],
   "source": [
    "gilts_list['yield'] = gilts_list['Sequence'].apply(lambda x: bgs_gilt_yield(bgs_id=x, calc_date=calculation_date))"
   ]
  },
  {
   "cell_type": "code",
   "execution_count": null,
   "id": "d54affff",
   "metadata": {},
   "outputs": [],
   "source": [
    "curves = yield_curves_pw(calculation_date, gilts_list)"
   ]
  },
  {
   "cell_type": "code",
   "execution_count": null,
   "id": "5c5edd43",
   "metadata": {},
   "outputs": [],
   "source": [
    "from matplotlib.dates import YearLocator\n",
    "from matplotlib.ticker import PercentFormatter\n",
    "\n",
    "# f = plt.figure(figsize=(8, 5))\n",
    "fig, axs = plt.subplots(len(curves), figsize=(12, 14))\n",
    "\n",
    "for i, tag in enumerate(curves.keys()):\n",
    "\n",
    "    ax = axs[i]\n",
    "    \n",
    "    ax.xaxis.grid(True, \"major\", color=\"lightgray\")\n",
    "    ax.yaxis.grid(True, \"major\", color=\"lightgray\")\n",
    "    ax.xaxis.set_major_locator(YearLocator(10))\n",
    "\n",
    "    ax.yaxis.set_major_formatter(PercentFormatter(1.0))\n",
    "    styles = iter([\"-\", \"--\", \":\", \"-.\",\"o\",\"+\"])\n",
    "\n",
    "    dates = [from_iso(calculation_date) + ql.Period(i, ql.Months) for i in range(12 * 48 + 1)]\n",
    "\n",
    "    day_count = ql.ActualActual(ql.ActualActual.Bond)\n",
    "    \n",
    "    rates = [\n",
    "    curves[tag].zeroRate(d, day_count, ql.Continuous).rate() for d in dates\n",
    "    ]\n",
    "    ax.plot_date(\n",
    "        [d.to_date() for d in dates],\n",
    "        rates,\n",
    "        next(styles),\n",
    "        label=tag,\n",
    "    )\n",
    "    sns.scatterplot(\n",
    "    data=gilts_list,\n",
    "    x=\"Latest redemption date\",\n",
    "    y=\"yield\",\n",
    "    ax=ax\n",
    ")\n",
    "# ax.legend(loc=\"best\")\n",
    "\n",
    "# sns.scatterplot(\n",
    "#     data=gilts_list,\n",
    "#     x=\"Latest redemption date\",\n",
    "#     y=\"yield\",\n",
    "#     hue=\"low_coupon\",\n",
    "#     ax=ax\n",
    "# )"
   ]
  },
  {
   "cell_type": "code",
   "execution_count": null,
   "id": "7f78223c",
   "metadata": {},
   "outputs": [],
   "source": [
    "curves_2 = yield_curves_pw_2(calculation_date, gilts_list)"
   ]
  },
  {
   "cell_type": "code",
   "execution_count": null,
   "id": "78580b92",
   "metadata": {},
   "outputs": [],
   "source": [
    "from matplotlib.dates import YearLocator\n",
    "from matplotlib.ticker import PercentFormatter\n",
    "\n",
    "# f = plt.figure(figsize=(8, 5))\n",
    "fig, axs = plt.subplots(len(curves_2), figsize=(12, 30))\n",
    "\n",
    "for i, tag in enumerate(curves_2.keys()):\n",
    "\n",
    "    ax = axs[i]\n",
    "    \n",
    "    ax.xaxis.grid(True, \"major\", color=\"lightgray\")\n",
    "    ax.yaxis.grid(True, \"major\", color=\"lightgray\")\n",
    "    ax.xaxis.set_major_locator(YearLocator(10))\n",
    "\n",
    "    ax.yaxis.set_major_formatter(PercentFormatter(1.0))\n",
    "    styles = iter([\"-\", \"--\", \":\", \"-.\",\"o\",\"+\"])\n",
    "\n",
    "    dates = [from_iso(calculation_date) + ql.Period(i, ql.Months) for i in range(12 * 48 + 1)]\n",
    "\n",
    "    day_count = ql.ActualActual(ql.ActualActual.Bond)\n",
    "    \n",
    "    rates = [\n",
    "    curves_2[tag].zeroRate(d, day_count, ql.Continuous).rate() for d in dates\n",
    "    ]\n",
    "    ax.plot_date(\n",
    "        [d.to_date() for d in dates],\n",
    "        rates,\n",
    "        next(styles),\n",
    "        label=tag,\n",
    "    )\n",
    "    sns.scatterplot(\n",
    "    data=gilts_list,\n",
    "    x=\"Latest redemption date\",\n",
    "    y=\"yield\",\n",
    "    ax=ax\n",
    ")\n",
    "# ax.legend(loc=\"best\")\n",
    "\n",
    "# sns.scatterplot(\n",
    "#     data=gilts_list,\n",
    "#     x=\"Latest redemption date\",\n",
    "#     y=\"yield\",\n",
    "#     hue=\"low_coupon\",\n",
    "#     ax=ax\n",
    "# )"
   ]
  },
  {
   "cell_type": "code",
   "execution_count": null,
   "id": "07a42c99",
   "metadata": {},
   "outputs": [],
   "source": [
    "fig, axs = plt.subplots(len(curves), figsize=(12, 14))\n",
    "\n",
    "for i, tag in enumerate(curves.keys()):\n",
    "\n",
    "    ax = axs[i]\n",
    "    \n",
    "    ax.xaxis.grid(True, \"major\", color=\"lightgray\")\n",
    "    ax.yaxis.grid(True, \"major\", color=\"lightgray\")\n",
    "    ax.xaxis.set_major_locator(YearLocator(10))\n",
    "\n",
    "    ax.yaxis.set_major_formatter(PercentFormatter(1.0))\n",
    "    styles = iter([\"-\", \"--\", \":\", \"-.\",\"o\",\"+\"])\n",
    "\n",
    "\n",
    "\n",
    "    dates = [from_iso(d) for d in gilts_list['Latest redemption date'].to_list()]\n",
    "\n",
    "    day_count = ql.ActualActual(ql.ActualActual.Bond)\n",
    "    \n",
    "    rates = [\n",
    "    curves[tag].zeroRate(d, day_count, ql.Continuous).rate() for d in dates\n",
    "    ]\n",
    "    ax.plot_date(\n",
    "    [d.to_date() for d in dates],\n",
    "    rates,\n",
    "    next(styles),\n",
    ")\n",
    "\n",
    "    sns.scatterplot(\n",
    "        data=gilts_list,\n",
    "        x=\"Latest redemption date\",\n",
    "        y=\"yield\",\n",
    "        ax=ax\n",
    "    )\n",
    "\n",
    "    cost = [abs(x - y) for x, y in zip(rates, gilts_list['yield'])]\n",
    "    print(tag, max(cost))"
   ]
  },
  {
   "cell_type": "code",
   "execution_count": null,
   "id": "73c195e8",
   "metadata": {},
   "outputs": [],
   "source": [
    "plt.hist(cost, bins=30)"
   ]
  },
  {
   "cell_type": "code",
   "execution_count": null,
   "id": "b1ed00f8",
   "metadata": {},
   "outputs": [],
   "source": [
    "curve = yield_curve_pw(calculation_date, gilts_list)"
   ]
  },
  {
   "cell_type": "code",
   "execution_count": null,
   "id": "f16c35ec",
   "metadata": {},
   "outputs": [],
   "source": [
    "f = plt.figure(figsize=(8, 5))\n",
    "ax = f.add_subplot(1, 1, 1)\n",
    "\n",
    "\n",
    "ax.xaxis.grid(True, \"major\", color=\"lightgray\")\n",
    "ax.yaxis.grid(True, \"major\", color=\"lightgray\")\n",
    "ax.xaxis.set_major_locator(YearLocator(10))\n",
    "\n",
    "ax.yaxis.set_major_formatter(PercentFormatter(1.0))\n",
    "styles = iter([\"-\", \"--\", \":\", \"-.\",\"o\",\"+\"])\n",
    "\n",
    "dates = [from_iso(calculation_date) + ql.Period(i, ql.Months) for i in range(12 * 48 + 1)]\n",
    "\n",
    "day_count = ql.ActualActual(ql.ActualActual.Bond)\n",
    "\n",
    "rates = [\n",
    "curve.zeroRate(d, day_count, ql.Continuous).rate() for d in dates\n",
    "]\n",
    "ax.plot_date(\n",
    "    [d.to_date() for d in dates],\n",
    "    rates,\n",
    "    next(styles),\n",
    ")\n",
    "\n",
    "sns.scatterplot(\n",
    "    data=gilts_list,\n",
    "    x=\"Latest redemption date\",\n",
    "    y=\"yield\",\n",
    "    ax=ax\n",
    ")"
   ]
  },
  {
   "cell_type": "code",
   "execution_count": null,
   "id": "3001a33b",
   "metadata": {},
   "outputs": [],
   "source": [
    "gilts_list.tail()"
   ]
  },
  {
   "cell_type": "code",
   "execution_count": null,
   "id": "3ff75015",
   "metadata": {},
   "outputs": [],
   "source": [
    "loo = gilts_list.iloc[-6]"
   ]
  },
  {
   "cell_type": "code",
   "execution_count": null,
   "id": "902c28a9",
   "metadata": {},
   "outputs": [],
   "source": [
    "loo['ISIN Code']"
   ]
  },
  {
   "cell_type": "code",
   "execution_count": null,
   "id": "4f9349b2",
   "metadata": {},
   "outputs": [],
   "source": [
    "exc_list = gilts_list.loc[~gilts_list['ISIN Code'].isin([loo['ISIN Code']])].copy()"
   ]
  },
  {
   "cell_type": "code",
   "execution_count": null,
   "id": "412b1233",
   "metadata": {},
   "outputs": [],
   "source": [
    "exc_curve = yield_curve_pw(calculation_date, exc_list)"
   ]
  },
  {
   "cell_type": "code",
   "execution_count": null,
   "id": "7d19bc69",
   "metadata": {},
   "outputs": [],
   "source": [
    "loo_mat = from_iso(loo['Latest redemption date'])"
   ]
  },
  {
   "cell_type": "code",
   "execution_count": null,
   "id": "2dcd69bd",
   "metadata": {},
   "outputs": [],
   "source": [
    "exc_curve.zeroRate(loo_mat, day_count, ql.Continuous).rate()"
   ]
  },
  {
   "cell_type": "code",
   "execution_count": null,
   "id": "fb0450c5",
   "metadata": {},
   "outputs": [],
   "source": [
    "bgs_gilt_yield(loo['Sequence'], calculation_date)"
   ]
  },
  {
   "cell_type": "code",
   "execution_count": null,
   "id": "16bc72a4",
   "metadata": {},
   "outputs": [],
   "source": [
    "f = plt.figure(figsize=(8, 5))\n",
    "ax = f.add_subplot(1, 1, 1)\n",
    "\n",
    "\n",
    "ax.xaxis.grid(True, \"major\", color=\"lightgray\")\n",
    "ax.yaxis.grid(True, \"major\", color=\"lightgray\")\n",
    "ax.xaxis.set_major_locator(YearLocator(10))\n",
    "\n",
    "ax.yaxis.set_major_formatter(PercentFormatter(1.0))\n",
    "styles = iter([\"-\", \"--\", \":\", \"-.\",\"o\",\"+\"])\n",
    "\n",
    "dates = [from_iso(calculation_date) + ql.Period(i, ql.Months) for i in range(12 * 48 + 1)]\n",
    "\n",
    "day_count = ql.ActualActual(ql.ActualActual.Bond)\n",
    "\n",
    "rates = [\n",
    "exc_curve.zeroRate(d, day_count, ql.Continuous).rate() for d in dates\n",
    "]\n",
    "ax.plot_date(\n",
    "    [d.to_date() for d in dates],\n",
    "    rates,\n",
    "    next(styles),\n",
    ")\n",
    "\n"
   ]
  },
  {
   "cell_type": "code",
   "execution_count": null,
   "id": "d2a712a3",
   "metadata": {},
   "outputs": [],
   "source": [
    "bond_yield = []\n",
    "curve_yield = []\n",
    "curve_price = []\n",
    "first_bond = gilts_list['Latest redemption date'].min()\n",
    "last_bond = gilts_list['Latest redemption date'].max()\n",
    "for _, loo in gilts_list.iterrows():\n",
    "    yld = bgs_gilt_yield(loo['Sequence'], calculation_date)\n",
    "    bond_yield.append(yld)\n",
    "    if (loo['Latest redemption date'] == first_bond) or (loo['Latest redemption date'] == last_bond):\n",
    "        loo_yld = yld\n",
    "        fitted_price = loo['price']\n",
    "    else:\n",
    "        exc_list = gilts_list.loc[~gilts_list['ISIN Code'].isin([loo['ISIN Code']])].copy()\n",
    "        exc_curve = yield_curve_pw(calculation_date, exc_list)\n",
    "        loo_mat = from_iso(loo['Latest redemption date'])\n",
    "        loo_yld = exc_curve.zeroRate(loo_mat, day_count, ql.Continuous).rate()\n",
    "        bond = Gilt(\n",
    "            trade_date=from_iso(calculation_date),\n",
    "            issue_date=from_iso(loo['Issue date']),\n",
    "            maturity_date=from_iso(loo['Latest redemption date']),\n",
    "            first_cpn_date=from_iso(loo['First coupon payable on date']),\n",
    "            last_cpn_date=from_iso(loo['Latest redemption date']),\n",
    "            coupon=loo['%']/100,\n",
    "        )\n",
    "        fitted_price = bond.price(loo_yld)\n",
    "    curve_price.append(fitted_price)\n",
    "    curve_yield.append(loo_yld)"
   ]
  },
  {
   "cell_type": "code",
   "execution_count": null,
   "id": "76d6ef14",
   "metadata": {},
   "outputs": [],
   "source": [
    "gilts_list['curve_yield'] = curve_yield\n",
    "gilts_list['curve_price'] = curve_price\n",
    "gilts_list['yield'] = bond_yield\n",
    "\n",
    "gilts_list['dislocation'] = (gilts_list['curve_yield'] - gilts_list['yield']).abs()\n",
    "gilts_list['price_diff'] = (gilts_list['curve_price'] - gilts_list['price']).abs()\n"
   ]
  },
  {
   "cell_type": "code",
   "execution_count": null,
   "id": "c5d12e6c",
   "metadata": {},
   "outputs": [],
   "source": [
    "gilts_list['dislocation'].plot(kind='hist', bins=20)"
   ]
  },
  {
   "cell_type": "code",
   "execution_count": null,
   "id": "f2254482",
   "metadata": {},
   "outputs": [],
   "source": [
    "gilts_list.loc[gilts_list['dislocation'] < 0.0005].shape"
   ]
  },
  {
   "cell_type": "code",
   "execution_count": null,
   "id": "ecf47a07",
   "metadata": {},
   "outputs": [],
   "source": [
    "refit = yield_curve_pw(calculation_date, gilts_list.loc[gilts_list['dislocation'] < 0.0005])\n"
   ]
  },
  {
   "cell_type": "code",
   "execution_count": null,
   "id": "ce30abdd",
   "metadata": {},
   "outputs": [],
   "source": [
    "f = plt.figure(figsize=(8, 5))\n",
    "ax = f.add_subplot(1, 1, 1)\n",
    "\n",
    "\n",
    "ax.xaxis.grid(True, \"major\", color=\"lightgray\")\n",
    "ax.yaxis.grid(True, \"major\", color=\"lightgray\")\n",
    "ax.xaxis.set_major_locator(YearLocator(10))\n",
    "\n",
    "ax.yaxis.set_major_formatter(PercentFormatter(1.0))\n",
    "styles = iter([\"-\", \"--\", \":\", \"-.\",\"o\",\"+\"])\n",
    "\n",
    "dates = [from_iso(calculation_date) + ql.Period(i, ql.Months) for i in range(12 * 48 + 1)]\n",
    "\n",
    "day_count = ql.ActualActual(ql.ActualActual.Bond)\n",
    "\n",
    "rates = [\n",
    "refit.zeroRate(d, day_count, ql.Continuous).rate() for d in dates\n",
    "]\n",
    "ax.plot_date(\n",
    "    [d.to_date() for d in dates],\n",
    "    rates,\n",
    "    next(styles),\n",
    ")\n",
    "\n",
    "sns.scatterplot(\n",
    "    data=gilts_list.loc[gilts_list['dislocation'] < 0.0005],\n",
    "    x=\"Latest redemption date\",\n",
    "    y=\"yield\",\n",
    "    ax=ax\n",
    ")"
   ]
  },
  {
   "cell_type": "code",
   "execution_count": null,
   "id": "597093e4",
   "metadata": {},
   "outputs": [],
   "source": [
    "# https://stackoverflow.com/questions/29382903/how-to-apply-piecewise-linear-fit-in-python\n",
    "\n",
    "def lambda_factory(ab):\n",
    "    return lambda x:x*ab[0]+ab[1]\n",
    "\n",
    "def broken_line(x, x0, y0):\n",
    "    cl = []\n",
    "    fl = []\n",
    "    for i in range(len(x0)-1):\n",
    "        ab = np.polyfit(x0[i:i+2], y0[i:i+2], 1)\n",
    "        # Compute and append a \"condition\" interval\n",
    "        cl.append(np.logical_and(x >= x0[i], x <= x0[i+1]))\n",
    "        # Create a line function for the interval\n",
    "        fl.append(lambda_factory(ab))\n",
    "    return(np.piecewise(x, condlist=cl, funclist=fl))\n",
    "\n",
    "x0 = np.array([1, 3, 5, 10])\n",
    "y0 = np.array([2, 1, 5, 7])\n",
    "\n",
    "x = np.linspace(1, 10, 30)\n",
    "\n",
    "plt.plot(x, broken_line(x, x0, y0))\n",
    "# plt.plot(x0, y0)\n",
    "plt.show()"
   ]
  },
  {
   "cell_type": "code",
   "execution_count": null,
   "id": "40924e9a",
   "metadata": {},
   "outputs": [],
   "source": [
    "broken_line(x, x0, y0)"
   ]
  },
  {
   "cell_type": "code",
   "execution_count": null,
   "id": "a7e01597",
   "metadata": {},
   "outputs": [],
   "source": []
  },
  {
   "cell_type": "code",
   "execution_count": null,
   "id": "5701a4b3",
   "metadata": {},
   "outputs": [],
   "source": []
  },
  {
   "cell_type": "code",
   "execution_count": null,
   "id": "cfbb1722",
   "metadata": {},
   "outputs": [],
   "source": [
    "f = plt.figure(figsize=(8, 5))\n",
    "ax = f.add_subplot(1, 1, 1)\n",
    "\n",
    "ax.xaxis.grid(True, \"major\", color=\"lightgray\")\n",
    "ax.yaxis.grid(True, \"major\", color=\"lightgray\")\n",
    "ax.xaxis.set_major_locator(YearLocator(10))\n",
    "\n",
    "ax.yaxis.set_major_formatter(PercentFormatter(1.0))\n",
    "styles = iter([\"-\", \"--\", \":\", \"-.\",\"o\",\"+\"])\n",
    "\n",
    "X = ((gilts_list['Latest redemption date'] - pd.Timestamp(\"1970-01-01\")).dt.days).to_list()\n",
    "tck = interpolate.splrep(X, gilts_list['yield'], k=2, s=0)\n",
    "\n",
    "dates = pd.date_range(start=gilts_list['Latest redemption date'].min(), end=gilts_list['Latest redemption date'].max(), freq='ME')\n",
    "epoch_dates = ((dates - pd.Timestamp(\"1970-01-01\")).days).to_list()\n",
    "\n",
    "rates = interpolate.splev(epoch_dates, tck, der=0)\n",
    "\n",
    "ax.plot_date(\n",
    "    dates,\n",
    "    rates,\n",
    "    next(styles),\n",
    ")\n",
    "\n",
    "sns.scatterplot(\n",
    "    data=gilts_list,\n",
    "    x=\"Latest redemption date\",\n",
    "    y=\"yield\",\n",
    "    ax=ax\n",
    ")"
   ]
  },
  {
   "cell_type": "code",
   "execution_count": null,
   "id": "32a185a4",
   "metadata": {},
   "outputs": [],
   "source": [
    "f = plt.figure(figsize=(8, 5))\n",
    "ax = f.add_subplot(1, 1, 1)\n",
    "\n",
    "ax.xaxis.grid(True, \"major\", color=\"lightgray\")\n",
    "ax.yaxis.grid(True, \"major\", color=\"lightgray\")\n",
    "ax.xaxis.set_major_locator(YearLocator(10))\n",
    "\n",
    "ax.yaxis.set_major_formatter(PercentFormatter(1.0))\n",
    "styles = iter([\"-\", \"--\", \":\", \"-.\",\"o\",\"+\"])\n",
    "\n",
    "X = ((gilts_list['Latest redemption date'] - pd.Timestamp(\"1970-01-01\")).dt.days).to_list()\n",
    "\n",
    "def piecewise_linear(x, x0, y0, k1, k2):\n",
    "    return np.piecewise(x, [x < x0], [lambda x:k1*x + y0-k1*x0, lambda x:k2*x + y0-k2*x0])\n",
    "\n",
    "dates = pd.date_range(start=gilts_list['Latest redemption date'].min(), end=gilts_list['Latest redemption date'].max(), freq='ME')\n",
    "epoch_dates = ((dates - pd.Timestamp(\"1970-01-01\")).days).to_list()\n",
    "\n",
    "p , e = optimize.curve_fit(piecewise_linear, X, gilts_list['yield'])\n",
    "\n",
    "rates = piecewise_linear(epoch_dates, *p)\n",
    "\n",
    "ax.plot_date(\n",
    "    dates,\n",
    "    rates,\n",
    "    next(styles),\n",
    ")\n",
    "\n",
    "sns.scatterplot(\n",
    "    data=gilts_list,\n",
    "    x=\"Latest redemption date\",\n",
    "    y=\"yield\",\n",
    "    ax=ax\n",
    ")"
   ]
  },
  {
   "cell_type": "code",
   "execution_count": null,
   "id": "b7acd5d7",
   "metadata": {},
   "outputs": [],
   "source": [
    "def lambda_factory(ab):\n",
    "    return lambda x:x*ab[0]+ab[1]\n",
    "\n",
    "def broken_line(x, x0, y0):\n",
    "    cl = []\n",
    "    fl = []\n",
    "    for i in range(len(x0)-1):\n",
    "        ab = np.polyfit(x0[i:i+2], y0[i:i+2], 1)\n",
    "        # Compute and append a \"condition\" interval\n",
    "        cl.append(np.logical_and(x >= x0[i], x <= x0[i+1]))\n",
    "        # Create a line function for the interval\n",
    "        fl.append(lambda_factory(ab))\n",
    "    return(np.piecewise(x, condlist=cl, funclist=fl))\n",
    "\n",
    "# x0 = np.array([1, 3, 5, 10])\n",
    "# y0 = np.array([2, 1, 5, 7])\n",
    "\n",
    "# x = np.linspace(1, 10, 30)\n",
    "\n",
    "# plt.plot(x, broken_line(x, x0, y0))\n",
    "\n",
    "f = plt.figure(figsize=(8, 5))\n",
    "ax = f.add_subplot(1, 1, 1)\n",
    "\n",
    "ax.xaxis.grid(True, \"major\", color=\"lightgray\")\n",
    "ax.yaxis.grid(True, \"major\", color=\"lightgray\")\n",
    "ax.xaxis.set_major_locator(YearLocator(10))\n",
    "\n",
    "ax.yaxis.set_major_formatter(PercentFormatter(1.0))\n",
    "styles = iter([\"-\", \"--\", \":\", \"-.\",\"o\",\"+\"])\n",
    "\n",
    "X = np.array(((gilts_list['Latest redemption date'] - pd.Timestamp(\"1970-01-01\")).dt.days).to_list())\n",
    "\n",
    "\n",
    "dates = pd.date_range(start=gilts_list['Latest redemption date'].min(), end=gilts_list['Latest redemption date'].max(), freq='ME')\n",
    "epoch_dates = np.array(((dates - pd.Timestamp(\"1970-01-01\")).days).to_list())\n",
    "\n",
    "rates = broken_line(epoch_dates, X, gilts_list['yield'])\n",
    "\n",
    "ax.plot_date(\n",
    "    dates,\n",
    "    rates,\n",
    "    next(styles),\n",
    ")\n",
    "\n",
    "sns.scatterplot(\n",
    "    data=gilts_list,\n",
    "    x=\"Latest redemption date\",\n",
    "    y=\"yield\",\n",
    "    ax=ax\n",
    ")"
   ]
  },
  {
   "cell_type": "code",
   "execution_count": null,
   "id": "5d02df4d",
   "metadata": {},
   "outputs": [],
   "source": [
    "rates"
   ]
  },
  {
   "cell_type": "code",
   "execution_count": null,
   "id": "dab3c988",
   "metadata": {},
   "outputs": [],
   "source": []
  }
 ],
 "metadata": {
  "kernelspec": {
   "display_name": ".venv",
   "language": "python",
   "name": "python3"
  },
  "language_info": {
   "codemirror_mode": {
    "name": "ipython",
    "version": 3
   },
   "file_extension": ".py",
   "mimetype": "text/x-python",
   "name": "python",
   "nbconvert_exporter": "python",
   "pygments_lexer": "ipython3",
   "version": "3.12.10"
  }
 },
 "nbformat": 4,
 "nbformat_minor": 5
}
