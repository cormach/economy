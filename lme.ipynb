{
 "cells": [
  {
   "cell_type": "code",
   "execution_count": null,
   "id": "cfd7dcc8",
   "metadata": {},
   "outputs": [],
   "source": [
    "import pandas as pd\n",
    "import requests\n",
    "import zipfile\n",
    "import io\n",
    "import os\n",
    "import csv\n",
    "import ctypes as ct\n",
    "import numpy as np\n",
    "from collections import Counter\n",
    "import matplotlib.pyplot as plt\n",
    "import re\n",
    "import seaborn as sns\n",
    "\n",
    "from bgs.load_bgs_amounts import load_bgs_amounts\n",
    "from bgs.load_gilt_details import load_csv_blocks\n",
    "from bgs.load_bgs_prices import load_prices\n",
    "\n",
    "def clean_date(bgs_index):\n",
    "    if re.match(r'^\\d{2}\\s\\w{3}\\s+\\d{4}$', bgs_index):\n",
    "        return pd.to_datetime(bgs_index, format=\"%d %b %Y\", errors='coerce').to_period('M').to_timestamp('M')\n",
    "    else:\n",
    "        return pd.to_datetime(bgs_index).to_period('M').to_timestamp('M')\n",
    "\n",
    "def clean_percentage(x):\n",
    "    if x.strip() in ['Variable','Floating']:\n",
    "        return x\n",
    "    try:\n",
    "        x = float(x)\n",
    "    except (ValueError, TypeError):\n",
    "        units, fractions = x.split(' ')\n",
    "        num, denom = map(float, fractions.split('/'))\n",
    "        x = float(units) + num / denom\n",
    "        print(x)\n",
    "    return x\n",
    "tables = load_bgs_amounts(\"downloads/BGSAmounts.csv\")\n",
    "\n",
    "conv = tables['Conventionals']\n",
    "conv.replace(\"Redeemed\", \"\", inplace=True)\n",
    "conv = conv.apply(pd.to_numeric, errors='coerce')\n",
    "conv.fillna(0, inplace=True)\n",
    "conv.index = pd.Index([clean_date(x) for x in list(conv.index)]).to_period('M').to_timestamp('M')\n",
    "\n",
    "old = tables['Calculated indexed nominal Old-style']\n",
    "old.replace(\"Redeemed\", \"\", inplace=True)\n",
    "old = old.apply(pd.to_numeric, errors='coerce')\n",
    "old.fillna(0, inplace=True)\n",
    "old.index = pd.Index([clean_date(x) for x in list(old.index)]).to_period('M').to_timestamp('M')\n",
    "\n",
    "new = tables['Calculated indexed nominal New-style']\n",
    "new.replace(\"Redeemed\", \"\", inplace=True)\n",
    "new = new.apply(pd.to_numeric, errors='coerce')\n",
    "new.fillna(0, inplace=True)\n",
    "new.index = pd.Index([clean_date(x) for x in list(new.index)]).to_period('M').to_timestamp('M')\n",
    "\n",
    "new_no_idx = tables['Index-linked New-style']\n",
    "new_no_idx.replace(\"Redeemed\", \"\", inplace=True)\n",
    "new_no_idx = new_no_idx.apply(pd.to_numeric, errors='coerce')\n",
    "new_no_idx.fillna(0, inplace=True)\n",
    "new_no_idx.index = pd.Index([clean_date(x) for x in list(new_no_idx.index)]).to_period('M').to_timestamp('M')\n",
    "\n",
    "price_df=load_prices(\"downloads/BGSPrices.csv\")\n",
    "price_df.index = pd.to_datetime(price_df.index, format=\"%d %b %Y\").to_period('M').to_timestamp('M')\n",
    "for text in ['Amalgamated', 'Redeemed', 'redeemed']:\n",
    "    price_df = price_df.replace(text, 0)\n",
    "price_df = price_df.replace('missing', None)\n",
    "price_df = price_df.ffill(axis=0)\n",
    "price_df = price_df.fillna(0)\n",
    "details = load_csv_blocks(\"downloads/BGSDetails.csv\")\n",
    "\n",
    "conv_details = details['Conventionals']\n",
    "conv_details['%'] = conv_details['%'].apply(clean_percentage)\n",
    "\n",
    "new_details = details['Index-Linked New-style']\n",
    "new_details['%'] = new_details['%'].apply(clean_percentage)\n",
    "\n",
    "old_details = details['Index-Linked Old-style']\n",
    "old_details['%'] = old_details['%'].apply(clean_percentage)\n"
   ]
  },
  {
   "cell_type": "code",
   "execution_count": null,
   "id": "bddc130e",
   "metadata": {},
   "outputs": [],
   "source": [
    "last = '2025-04-30'"
   ]
  },
  {
   "cell_type": "code",
   "execution_count": null,
   "id": "63a52acc",
   "metadata": {},
   "outputs": [],
   "source": [
    "outstanding = conv.loc[last, conv.loc[last] !=0].reset_index()['index'].to_list()\n",
    "outstanding[0]"
   ]
  },
  {
   "cell_type": "code",
   "execution_count": null,
   "id": "02777ef2",
   "metadata": {},
   "outputs": [],
   "source": [
    "last_price = price_df.loc[last, [int(x) for x in outstanding]]\n",
    "principal = conv.loc[last, outstanding]"
   ]
  },
  {
   "cell_type": "code",
   "execution_count": null,
   "id": "8b6f487f",
   "metadata": {},
   "outputs": [],
   "source": [
    "principal.index = principal.index.astype(int)\n",
    "principal.name = 'balance_outstanding'\n",
    "last_price.name = 'price'"
   ]
  },
  {
   "cell_type": "code",
   "execution_count": null,
   "id": "987cc599",
   "metadata": {},
   "outputs": [],
   "source": [
    "data_set_april = last_price.reset_index().merge(principal.reset_index(), on='index')\n",
    "data_set_april.rename(columns={'index': 'Sequence'}, inplace=True)"
   ]
  },
  {
   "cell_type": "code",
   "execution_count": null,
   "id": "0cab4d55",
   "metadata": {},
   "outputs": [],
   "source": [
    "(data_set_april['balance_outstanding']*data_set_april['price']).sum()/data_set_april['balance_outstanding'].sum()"
   ]
  },
  {
   "cell_type": "code",
   "execution_count": null,
   "id": "626db0c9",
   "metadata": {},
   "outputs": [],
   "source": [
    "(data_set_april['balance_outstanding']*0.16).sum()\n"
   ]
  },
  {
   "cell_type": "code",
   "execution_count": null,
   "id": "c7e32593",
   "metadata": {},
   "outputs": [],
   "source": [
    "data_set_april.head()"
   ]
  },
  {
   "cell_type": "code",
   "execution_count": null,
   "id": "f8d398d3",
   "metadata": {},
   "outputs": [],
   "source": [
    "conv_details['Sequence'] = conv_details['Sequence'].astype(int)"
   ]
  },
  {
   "cell_type": "code",
   "execution_count": null,
   "id": "61a23bef",
   "metadata": {},
   "outputs": [],
   "source": [
    "len([x for x in conv_details['Sequence'] if x in [int(y) for y in outstanding]])"
   ]
  },
  {
   "cell_type": "code",
   "execution_count": null,
   "id": "ab51beab",
   "metadata": {},
   "outputs": [],
   "source": [
    "len(outstanding)"
   ]
  },
  {
   "cell_type": "code",
   "execution_count": null,
   "id": "7711e35b",
   "metadata": {},
   "outputs": [],
   "source": [
    "conv_details.columns"
   ]
  },
  {
   "cell_type": "code",
   "execution_count": null,
   "id": "af273ef1",
   "metadata": {},
   "outputs": [],
   "source": [
    "date_variables = [\"Latest redemption date\",\"Issue date\",\"First coupon payable on date\",]\n",
    "static_variables = ['%', \"Frequency\",\"Sequence\",'ISIN Code']+date_variables\n",
    "data_set_april = data_set_april.merge(conv_details[static_variables].set_index(\"Sequence\"), on='Sequence', how='inner')\n",
    "for date_var in date_variables:\n",
    "    data_set_april[date_var] = data_set_april[date_var].apply(clean_date)\n",
    "data_set_april.head()"
   ]
  },
  {
   "cell_type": "code",
   "execution_count": null,
   "id": "9be83e7f",
   "metadata": {},
   "outputs": [],
   "source": [
    "(data_set_april['balance_outstanding']*data_set_april['%']).sum()/data_set_april['balance_outstanding'].sum()"
   ]
  },
  {
   "cell_type": "code",
   "execution_count": null,
   "id": "58c8a71e",
   "metadata": {},
   "outputs": [],
   "source": [
    "data_set_april['balance_outstanding'].plot(kind='hist')"
   ]
  },
  {
   "cell_type": "code",
   "execution_count": null,
   "id": "201071f9",
   "metadata": {},
   "outputs": [],
   "source": [
    "sns.set_theme(style=\"darkgrid\")\n",
    "\n",
    "# use the scatterplot function to build the bubble map\n",
    "ax = sns.scatterplot(\n",
    "    data=data_set_april,\n",
    "    x=\"Latest redemption date\",\n",
    "    y=\"price\",\n",
    "    size=\"balance_outstanding\",\n",
    "    legend=False,\n",
    "    sizes=(10, 500)\n",
    ")\n",
    "\n",
    "# show the graph\n",
    "plt.show()"
   ]
  },
  {
   "cell_type": "code",
   "execution_count": null,
   "id": "ad3ac81c",
   "metadata": {},
   "outputs": [],
   "source": [
    "range = ax.get_xaxis().get_data_interval()\n"
   ]
  },
  {
   "cell_type": "code",
   "execution_count": null,
   "id": "f20be2f8",
   "metadata": {},
   "outputs": [],
   "source": [
    "(data_set_april['Latest redemption date'].min() - pd.Timestamp(\"1970-01-01\")).days "
   ]
  },
  {
   "cell_type": "code",
   "execution_count": null,
   "id": "dc45aa8c",
   "metadata": {},
   "outputs": [],
   "source": [
    "X = ((data_set_april['Latest redemption date'] - pd.Timestamp(\"1970-01-01\")).dt.days).to_list()\n",
    "# X = [np.array(X)[:, np.newaxis]]\n",
    "X = np.array(X).reshape(-1, 1)\n",
    "y = data_set_april['price']"
   ]
  },
  {
   "cell_type": "code",
   "execution_count": null,
   "id": "18360b8a",
   "metadata": {},
   "outputs": [],
   "source": [
    "from sklearn.pipeline import make_pipeline\n",
    "from sklearn import preprocessing\n",
    "from sklearn.svm import SVR\n",
    "\n",
    "pipeline = make_pipeline(\n",
    "    preprocessing.StandardScaler(),\n",
    "    SVR(kernel='linear', epsilon=0.01, C=100, gamma = 0.01),\n",
    ")"
   ]
  },
  {
   "cell_type": "code",
   "execution_count": null,
   "id": "7fc14d13",
   "metadata": {},
   "outputs": [],
   "source": [
    "pipeline.fit(X, y)"
   ]
  },
  {
   "cell_type": "code",
   "execution_count": null,
   "id": "adb42886",
   "metadata": {},
   "outputs": [],
   "source": [
    "y_hat = pipeline.predict(X)"
   ]
  },
  {
   "cell_type": "code",
   "execution_count": null,
   "id": "83e36747",
   "metadata": {},
   "outputs": [],
   "source": [
    "sns.set_theme(style=\"darkgrid\")\n",
    "\n",
    "# use the scatterplot function to build the bubble map\n",
    "ax = sns.scatterplot(\n",
    "    data=data_set_april,\n",
    "    x=\"Latest redemption date\",\n",
    "    y=\"price\",\n",
    "    size=\"balance_outstanding\",\n",
    "    legend=False,\n",
    "    sizes=(10, 500)\n",
    ")\n",
    "\n",
    "# show the graph\n",
    "ax.plot(data_set_april['Latest redemption date'], y_hat)\n",
    "plt.show()"
   ]
  },
  {
   "cell_type": "code",
   "execution_count": null,
   "id": "aee806cd",
   "metadata": {},
   "outputs": [],
   "source": [
    "decision_line = pd.DataFrame(\n",
    "    {\n",
    "        \"Latest redemption date\": data_set_april['Latest redemption date'],\n",
    "        \"decision_line_price\": y_hat\n",
    "    })"
   ]
  },
  {
   "cell_type": "code",
   "execution_count": null,
   "id": "d2b3d087",
   "metadata": {},
   "outputs": [],
   "source": [
    "data_set_april = data_set_april.merge(decision_line, on='Latest redemption date', how='inner')"
   ]
  },
  {
   "cell_type": "code",
   "execution_count": null,
   "id": "b74e48aa",
   "metadata": {},
   "outputs": [],
   "source": [
    "((data_set_april['decision_line_price'] - data_set_april['price'])/data_set_april['price']).plot(kind='hist', bins=50, title='Difference between decision line and actual price')"
   ]
  },
  {
   "cell_type": "code",
   "execution_count": null,
   "id": "f0f80ed3",
   "metadata": {},
   "outputs": [],
   "source": [
    "(y_hat.max()-y_hat.min())/(range[1] -range[0])"
   ]
  },
  {
   "cell_type": "code",
   "execution_count": null,
   "id": "cab28455",
   "metadata": {},
   "outputs": [],
   "source": [
    "sns.set_theme(style=\"darkgrid\")\n",
    "\n",
    "f, axs = plt.subplots(1, 1, figsize=(8, 4))\n",
    "\n",
    "condition = (data_set_april['decision_line_price'] - data_set_april['price']) > 2\n",
    "data_set_april['segmentation'] = condition.apply(lambda x: 'low coupon' if x else 'high coupon')\n",
    "\n",
    "# use the scatterplot function to build the bubble map\n",
    "sns.scatterplot(\n",
    "    data=data_set_april,\n",
    "    x=\"Latest redemption date\",\n",
    "    y=\"price\",\n",
    "    size=\"balance_outstanding\",\n",
    "    sizes=(10, 500),\n",
    "    hue='segmentation',\n",
    "    legend='brief',\n",
    "    ax=axs\n",
    ")\n",
    "\n",
    "# show the graph\n",
    "axs.plot(data_set_april['Latest redemption date'], y_hat, )\n",
    "sns.move_legend(axs, \"upper left\", bbox_to_anchor=(1, 1))\n",
    "f.show()"
   ]
  },
  {
   "cell_type": "code",
   "execution_count": null,
   "id": "01953f9c",
   "metadata": {},
   "outputs": [],
   "source": [
    "focus = data_set_april.loc[(data_set_april['segmentation'] == 'low coupon')&(data_set_april['price']<100)].copy()"
   ]
  },
  {
   "cell_type": "code",
   "execution_count": null,
   "id": "9775c2de",
   "metadata": {},
   "outputs": [],
   "source": [
    "focus['balance_outstanding'].sum()"
   ]
  },
  {
   "cell_type": "code",
   "execution_count": null,
   "id": "e08e5a8a",
   "metadata": {},
   "outputs": [],
   "source": [
    "((100 - focus['price'])*focus['balance_outstanding']).sum()/100"
   ]
  },
  {
   "cell_type": "code",
   "execution_count": null,
   "id": "5a8b060f",
   "metadata": {},
   "outputs": [],
   "source": [
    "focus"
   ]
  },
  {
   "cell_type": "code",
   "execution_count": null,
   "id": "a778bf82",
   "metadata": {},
   "outputs": [],
   "source": [
    "# "
   ]
  },
  {
   "cell_type": "code",
   "execution_count": null,
   "id": "16b9a108",
   "metadata": {},
   "outputs": [],
   "source": [
    "data_set_april.tail(10)"
   ]
  },
  {
   "cell_type": "code",
   "execution_count": null,
   "id": "172614a5",
   "metadata": {},
   "outputs": [],
   "source": [
    "data_set_april[data_set_april['ISIN Code'].isin(['GB00BMBL1D50', 'GB00B54QLM75'])]"
   ]
  },
  {
   "cell_type": "code",
   "execution_count": null,
   "id": "f1f09d8b",
   "metadata": {},
   "outputs": [],
   "source": [
    "convexity = price_df.loc[\"2020-05-31\":, [32280, 32282]]"
   ]
  },
  {
   "cell_type": "code",
   "execution_count": null,
   "id": "66c0e8ac",
   "metadata": {},
   "outputs": [],
   "source": [
    "convexity.head()"
   ]
  },
  {
   "cell_type": "code",
   "execution_count": null,
   "id": "dfb27893",
   "metadata": {},
   "outputs": [],
   "source": [
    "from bgs.gilt_analytics import gilt_yield"
   ]
  },
  {
   "cell_type": "code",
   "execution_count": null,
   "id": "1e58ac84",
   "metadata": {},
   "outputs": [],
   "source": [
    "\"UKT_4%_2060\", \"UKT_0.5%_2061\""
   ]
  },
  {
   "cell_type": "code",
   "execution_count": null,
   "id": "31ec3e53",
   "metadata": {},
   "outputs": [],
   "source": [
    "convexity.loc[\"2020-05-31\",32280]"
   ]
  },
  {
   "cell_type": "code",
   "execution_count": null,
   "id": "e06cbd65",
   "metadata": {},
   "outputs": [],
   "source": [
    "id = 32282\n",
    "bond = data_set_april[data_set_april['Sequence']==id]\n",
    "issue_date=bond['Issue date'].dt.strftime(\"%Y-%m-%d\").values[0]\n",
    "maturity_date=bond['Latest redemption date'].dt.strftime(\"%Y-%m-%d\").values[0]\n",
    "first_cpn_date=bond['First coupon payable on date'].dt.strftime(\"%Y-%m-%d\").values[0]\n",
    "last_cpn_date=bond['Latest redemption date'].dt.strftime(\"%Y-%m-%d\").values[0]\n",
    "coupon=bond['%'].values[0]/100\n",
    "\n",
    "today=\"2020-06-30\"\n",
    "clean_price=convexity.loc[today,id]\n",
    "\n",
    "\n",
    "gilt_yield(\n",
    "    today=today,\n",
    "    issue_date=issue_date,\n",
    "    maturity_date=maturity_date,\n",
    "    first_cpn_date=first_cpn_date,\n",
    "    last_cpn_date=last_cpn_date,\n",
    "    clean_price=clean_price,\n",
    "    coupon=coupon\n",
    ")"
   ]
  },
  {
   "cell_type": "code",
   "execution_count": null,
   "id": "9410e5c7",
   "metadata": {},
   "outputs": [],
   "source": [
    "today, issue_date, maturity_date, first_cpn_date, last_cpn_date, clean_price, coupon"
   ]
  },
  {
   "cell_type": "code",
   "execution_count": null,
   "id": "0897a243",
   "metadata": {},
   "outputs": [],
   "source": [
    "r = convexity[32280].reset_index().iterrows().__next__()\n"
   ]
  },
  {
   "cell_type": "code",
   "execution_count": null,
   "id": "a124b0f9",
   "metadata": {},
   "outputs": [],
   "source": [
    "r[1]['index'].isoformat().split(\"T\")[0]"
   ]
  },
  {
   "cell_type": "code",
   "execution_count": null,
   "id": "b933903a",
   "metadata": {},
   "outputs": [],
   "source": [
    "r[1][32280]"
   ]
  },
  {
   "cell_type": "code",
   "execution_count": null,
   "id": "b71c5d83",
   "metadata": {},
   "outputs": [],
   "source": [
    "def yield_series(price_series, issue_date, maturity_date, first_cpn_date, last_cpn_date, coupon):\n",
    "    # Calculate the yield series based on the provided parameters\n",
    "    name = price_series.name\n",
    "    df = price_series.reset_index().rename(columns={name: \"price\"})\n",
    "    df['yield'] = df.apply(lambda x: gilt_yield(\n",
    "        today=x['index'].isoformat().split(\"T\")[0],\n",
    "        issue_date=issue_date,\n",
    "        maturity_date=maturity_date,\n",
    "        first_cpn_date=first_cpn_date,\n",
    "        last_cpn_date=last_cpn_date,\n",
    "        clean_price=x[\"price\"],\n",
    "        coupon=coupon/100\n",
    "    ), axis=1)\n",
    "    df.set_index('index', inplace=True)\n",
    "    return df"
   ]
  },
  {
   "cell_type": "code",
   "execution_count": null,
   "id": "7c3eab1c",
   "metadata": {},
   "outputs": [],
   "source": [
    "id = 32280\n",
    "bond = data_set_april[data_set_april['Sequence']==id]\n",
    "issue_date=bond['Issue date'].dt.strftime(\"%Y-%m-%d\").values[0]\n",
    "maturity_date=bond['Latest redemption date'].dt.strftime(\"%Y-%m-%d\").values[0]\n",
    "first_cpn_date=bond['First coupon payable on date'].dt.strftime(\"%Y-%m-%d\").values[0]\n",
    "last_cpn_date=bond['Latest redemption date'].dt.strftime(\"%Y-%m-%d\").values[0]\n",
    "coupon=bond['%'].values[0]\n",
    "\n",
    "ukt_4_2060 = yield_series(convexity[id], issue_date, maturity_date, first_cpn_date, last_cpn_date, coupon)\n"
   ]
  },
  {
   "cell_type": "code",
   "execution_count": null,
   "id": "9ec74c6c",
   "metadata": {},
   "outputs": [],
   "source": [
    "id = 32282\n",
    "bond = data_set_april[data_set_april['Sequence']==id]\n",
    "issue_date=bond['Issue date'].dt.strftime(\"%Y-%m-%d\").values[0]\n",
    "maturity_date=bond['Latest redemption date'].dt.strftime(\"%Y-%m-%d\").values[0]\n",
    "first_cpn_date=bond['First coupon payable on date'].dt.strftime(\"%Y-%m-%d\").values[0]\n",
    "last_cpn_date=bond['Latest redemption date'].dt.strftime(\"%Y-%m-%d\").values[0]\n",
    "coupon=bond['%'].values[0]\n",
    "ukt_0_5_2061 = yield_series(convexity[id], issue_date, maturity_date, first_cpn_date, last_cpn_date, coupon)"
   ]
  },
  {
   "cell_type": "code",
   "execution_count": null,
   "id": "f83f81af",
   "metadata": {},
   "outputs": [],
   "source": [
    "ukt_4_2060['norm_price'] = ukt_4_2060['price']/ukt_4_2060['price'].max()\n",
    "ukt_0_5_2061['norm_price'] = ukt_0_5_2061['price']/ukt_0_5_2061['price'].max()"
   ]
  },
  {
   "cell_type": "code",
   "execution_count": null,
   "id": "6bf94136",
   "metadata": {},
   "outputs": [],
   "source": [
    "f = plt.figure(figsize=(10, 5), )\n",
    "fig, ax = plt.subplots(1, 1)\n",
    "fig.suptitle(\"The cost of a low coupon bond\")\n",
    "sns.lineplot(data=ukt_4_2060, x='yield',y='norm_price', label='UKT 4% 2060', ax=ax)\n",
    "sns.lineplot(data=ukt_0_5_2061, x='yield',y='norm_price', label='UKT 0.5% 2061', ax=ax)"
   ]
  },
  {
   "cell_type": "code",
   "execution_count": null,
   "id": "1f2805a6",
   "metadata": {},
   "outputs": [],
   "source": [
    "ukt_0_5_2061.tail()"
   ]
  },
  {
   "cell_type": "code",
   "execution_count": null,
   "id": "a5a55f06",
   "metadata": {},
   "outputs": [],
   "source": [
    "(ukt_4_2060['yield'] - ukt_0_5_2061['yield']).plot(title=\"Low Price Bonds no longer reflecting Economics\")"
   ]
  }
 ],
 "metadata": {
  "kernelspec": {
   "display_name": ".venv (3.12.10)",
   "language": "python",
   "name": "python3"
  },
  "language_info": {
   "codemirror_mode": {
    "name": "ipython",
    "version": 3
   },
   "file_extension": ".py",
   "mimetype": "text/x-python",
   "name": "python",
   "nbconvert_exporter": "python",
   "pygments_lexer": "ipython3",
   "version": "3.12.10"
  }
 },
 "nbformat": 4,
 "nbformat_minor": 5
}
