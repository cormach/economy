{
 "cells": [
  {
   "cell_type": "code",
   "execution_count": null,
   "id": "cfd7dcc8",
   "metadata": {},
   "outputs": [],
   "source": [
    "import pandas as pd\n",
    "import requests\n",
    "import zipfile\n",
    "import io\n",
    "import os\n",
    "import csv\n",
    "import ctypes as ct\n",
    "import numpy as np\n",
    "from collections import Counter\n",
    "import matplotlib.pyplot as plt\n",
    "import re\n",
    "import seaborn as sns\n",
    "\n",
    "from bgs.load_bgs_amounts import load_bgs_amounts\n",
    "from bgs.load_gilt_details import load_csv_blocks\n",
    "from bgs.load_bgs_prices import load_prices\n",
    "from bgs.gilt_analytics import gilt_yield\n",
    "\n",
    "def clean_date(bgs_index):\n",
    "    if re.match(r'^\\d{2}\\s\\w{3}\\s+\\d{4}$', bgs_index):\n",
    "        return pd.to_datetime(bgs_index, format=\"%d %b %Y\", errors='coerce').to_period('M').to_timestamp('M')\n",
    "    else:\n",
    "        return pd.to_datetime(bgs_index).to_period('M').to_timestamp('M')\n",
    "\n",
    "def clean_percentage(x):\n",
    "    if x.strip() in ['Variable','Floating']:\n",
    "        return x\n",
    "    try:\n",
    "        x = float(x)\n",
    "    except (ValueError, TypeError):\n",
    "        units, fractions = x.split(' ')\n",
    "        num, denom = map(float, fractions.split('/'))\n",
    "        x = float(units) + num / denom\n",
    "        print(x)\n",
    "    return x\n",
    "tables = load_bgs_amounts(\"downloads/BGSAmounts.csv\")\n",
    "\n",
    "conv = tables['Conventionals']\n",
    "conv.replace(\"Redeemed\", \"\", inplace=True)\n",
    "conv = conv.apply(pd.to_numeric, errors='coerce')\n",
    "conv.fillna(0, inplace=True)\n",
    "conv.index = pd.Index([clean_date(x) for x in list(conv.index)]).to_period('M').to_timestamp('M')\n",
    "\n",
    "old = tables['Calculated indexed nominal Old-style']\n",
    "old.replace(\"Redeemed\", \"\", inplace=True)\n",
    "old = old.apply(pd.to_numeric, errors='coerce')\n",
    "old.fillna(0, inplace=True)\n",
    "old.index = pd.Index([clean_date(x) for x in list(old.index)]).to_period('M').to_timestamp('M')\n",
    "\n",
    "new = tables['Calculated indexed nominal New-style']\n",
    "new.replace(\"Redeemed\", \"\", inplace=True)\n",
    "new = new.apply(pd.to_numeric, errors='coerce')\n",
    "new.fillna(0, inplace=True)\n",
    "new.index = pd.Index([clean_date(x) for x in list(new.index)]).to_period('M').to_timestamp('M')\n",
    "\n",
    "new_no_idx = tables['Index-linked New-style']\n",
    "new_no_idx.replace(\"Redeemed\", \"\", inplace=True)\n",
    "new_no_idx = new_no_idx.apply(pd.to_numeric, errors='coerce')\n",
    "new_no_idx.fillna(0, inplace=True)\n",
    "new_no_idx.index = pd.Index([clean_date(x) for x in list(new_no_idx.index)]).to_period('M').to_timestamp('M')\n",
    "\n",
    "price_df=load_prices(\"downloads/BGSPrices.csv\")\n",
    "price_df.index = pd.to_datetime(price_df.index, format=\"%d %b %Y\").to_period('M').to_timestamp('M')\n",
    "for text in ['Amalgamated', 'Redeemed', 'redeemed']:\n",
    "    price_df = price_df.replace(text, 0)\n",
    "price_df = price_df.replace('missing', None)\n",
    "price_df = price_df.ffill(axis=0)\n",
    "price_df = price_df.fillna(0)\n",
    "details = load_csv_blocks(\"downloads/BGSDetails.csv\")\n",
    "\n",
    "conv_details = details['Conventionals']\n",
    "conv_details['%'] = conv_details['%'].apply(clean_percentage)\n",
    "\n",
    "new_details = details['Index-Linked New-style']\n",
    "new_details['%'] = new_details['%'].apply(clean_percentage)\n",
    "\n",
    "old_details = details['Index-Linked Old-style']\n",
    "old_details['%'] = old_details['%'].apply(clean_percentage)\n"
   ]
  },
  {
   "cell_type": "code",
   "execution_count": null,
   "id": "bddc130e",
   "metadata": {},
   "outputs": [],
   "source": [
    "last = '2025-04-30'"
   ]
  },
  {
   "cell_type": "code",
   "execution_count": null,
   "id": "63a52acc",
   "metadata": {},
   "outputs": [],
   "source": [
    "outstanding = conv.loc[last, conv.loc[last] !=0].reset_index()['index'].to_list()\n",
    "outstanding[0]"
   ]
  },
  {
   "cell_type": "code",
   "execution_count": null,
   "id": "02777ef2",
   "metadata": {},
   "outputs": [],
   "source": [
    "last_price = price_df.loc[last, [int(x) for x in outstanding]]\n",
    "principal = conv.loc[last, outstanding]"
   ]
  },
  {
   "cell_type": "code",
   "execution_count": null,
   "id": "8b6f487f",
   "metadata": {},
   "outputs": [],
   "source": [
    "principal.index = principal.index.astype(int)\n",
    "principal.name = 'balance_outstanding'\n",
    "last_price.name = 'price'"
   ]
  },
  {
   "cell_type": "code",
   "execution_count": null,
   "id": "987cc599",
   "metadata": {},
   "outputs": [],
   "source": [
    "data_set_april = last_price.reset_index().merge(principal.reset_index(), on='index')\n",
    "data_set_april.rename(columns={'index': 'Sequence'}, inplace=True)"
   ]
  },
  {
   "cell_type": "code",
   "execution_count": null,
   "id": "0cab4d55",
   "metadata": {},
   "outputs": [],
   "source": [
    "(data_set_april['balance_outstanding']*data_set_april['price']).sum()/data_set_april['balance_outstanding'].sum()"
   ]
  },
  {
   "cell_type": "code",
   "execution_count": null,
   "id": "626db0c9",
   "metadata": {},
   "outputs": [],
   "source": [
    "(data_set_april['balance_outstanding']*0.16).sum()\n"
   ]
  },
  {
   "cell_type": "code",
   "execution_count": null,
   "id": "c7e32593",
   "metadata": {},
   "outputs": [],
   "source": [
    "data_set_april.head()"
   ]
  },
  {
   "cell_type": "code",
   "execution_count": null,
   "id": "f8d398d3",
   "metadata": {},
   "outputs": [],
   "source": [
    "conv_details['Sequence'] = conv_details['Sequence'].astype(int)"
   ]
  },
  {
   "cell_type": "code",
   "execution_count": null,
   "id": "61a23bef",
   "metadata": {},
   "outputs": [],
   "source": [
    "len([x for x in conv_details['Sequence'] if x in [int(y) for y in outstanding]])"
   ]
  },
  {
   "cell_type": "code",
   "execution_count": null,
   "id": "ab51beab",
   "metadata": {},
   "outputs": [],
   "source": [
    "len(outstanding)"
   ]
  },
  {
   "cell_type": "code",
   "execution_count": null,
   "id": "7711e35b",
   "metadata": {},
   "outputs": [],
   "source": [
    "conv_details.columns"
   ]
  },
  {
   "cell_type": "code",
   "execution_count": null,
   "id": "af273ef1",
   "metadata": {},
   "outputs": [],
   "source": [
    "date_variables = [\"Latest redemption date\",\"Issue date\",\"First coupon payable on date\",]\n",
    "static_variables = ['%', \"Frequency\",\"Sequence\",'ISIN Code']+date_variables\n",
    "data_set_april = data_set_april.merge(conv_details[static_variables].set_index(\"Sequence\"), on='Sequence', how='inner')\n",
    "for date_var in date_variables:\n",
    "    data_set_april[date_var] = data_set_april[date_var].apply(clean_date)\n",
    "data_set_april.head()"
   ]
  },
  {
   "cell_type": "code",
   "execution_count": null,
   "id": "9be83e7f",
   "metadata": {},
   "outputs": [],
   "source": [
    "(data_set_april['balance_outstanding']*data_set_april['%']).sum()/data_set_april['balance_outstanding'].sum()"
   ]
  },
  {
   "cell_type": "code",
   "execution_count": null,
   "id": "58c8a71e",
   "metadata": {},
   "outputs": [],
   "source": [
    "data_set_april['balance_outstanding'].plot(kind='hist')"
   ]
  },
  {
   "cell_type": "code",
   "execution_count": null,
   "id": "201071f9",
   "metadata": {},
   "outputs": [],
   "source": [
    "sns.set_theme(style=\"darkgrid\")\n",
    "\n",
    "# use the scatterplot function to build the bubble map\n",
    "ax = sns.scatterplot(\n",
    "    data=data_set_april,\n",
    "    x=\"Latest redemption date\",\n",
    "    y=\"price\",\n",
    "    size=\"balance_outstanding\",\n",
    "    legend=False,\n",
    "    sizes=(10, 500)\n",
    ")\n",
    "\n",
    "# show the graph\n",
    "plt.show()"
   ]
  },
  {
   "cell_type": "code",
   "execution_count": null,
   "id": "ad3ac81c",
   "metadata": {},
   "outputs": [],
   "source": [
    "range = ax.get_xaxis().get_data_interval()\n"
   ]
  },
  {
   "cell_type": "code",
   "execution_count": null,
   "id": "f20be2f8",
   "metadata": {},
   "outputs": [],
   "source": [
    "(data_set_april['Latest redemption date'].min() - pd.Timestamp(\"1970-01-01\")).days "
   ]
  },
  {
   "cell_type": "code",
   "execution_count": null,
   "id": "dc45aa8c",
   "metadata": {},
   "outputs": [],
   "source": [
    "X = ((data_set_april['Latest redemption date'] - pd.Timestamp(\"1970-01-01\")).dt.days).to_list()\n",
    "# X = [np.array(X)[:, np.newaxis]]\n",
    "X = np.array(X).reshape(-1, 1)\n",
    "y = data_set_april['price']"
   ]
  },
  {
   "cell_type": "code",
   "execution_count": null,
   "id": "18360b8a",
   "metadata": {},
   "outputs": [],
   "source": [
    "from sklearn.pipeline import make_pipeline\n",
    "from sklearn import preprocessing\n",
    "from sklearn.svm import SVR\n",
    "\n",
    "pipeline = make_pipeline(\n",
    "    preprocessing.StandardScaler(),\n",
    "    SVR(kernel='linear', epsilon=0.01, C=100, gamma = 0.01),\n",
    ")"
   ]
  },
  {
   "cell_type": "code",
   "execution_count": null,
   "id": "7fc14d13",
   "metadata": {},
   "outputs": [],
   "source": [
    "pipeline.fit(X, y)"
   ]
  },
  {
   "cell_type": "code",
   "execution_count": null,
   "id": "adb42886",
   "metadata": {},
   "outputs": [],
   "source": [
    "y_hat = pipeline.predict(X)"
   ]
  },
  {
   "cell_type": "code",
   "execution_count": null,
   "id": "83e36747",
   "metadata": {},
   "outputs": [],
   "source": [
    "sns.set_theme(style=\"darkgrid\")\n",
    "\n",
    "# use the scatterplot function to build the bubble map\n",
    "ax = sns.scatterplot(\n",
    "    data=data_set_april,\n",
    "    x=\"Latest redemption date\",\n",
    "    y=\"price\",\n",
    "    size=\"balance_outstanding\",\n",
    "    legend=False,\n",
    "    sizes=(10, 500)\n",
    ")\n",
    "\n",
    "# show the graph\n",
    "ax.plot(data_set_april['Latest redemption date'], y_hat)\n",
    "plt.show()"
   ]
  },
  {
   "cell_type": "code",
   "execution_count": null,
   "id": "aee806cd",
   "metadata": {},
   "outputs": [],
   "source": [
    "decision_line = pd.DataFrame(\n",
    "    {\n",
    "        \"Latest redemption date\": data_set_april['Latest redemption date'],\n",
    "        \"decision_line_price\": y_hat\n",
    "    })"
   ]
  },
  {
   "cell_type": "code",
   "execution_count": null,
   "id": "d2b3d087",
   "metadata": {},
   "outputs": [],
   "source": [
    "data_set_april = data_set_april.merge(decision_line, on='Latest redemption date', how='inner')"
   ]
  },
  {
   "cell_type": "code",
   "execution_count": null,
   "id": "b74e48aa",
   "metadata": {},
   "outputs": [],
   "source": [
    "((data_set_april['decision_line_price'] - data_set_april['price'])/data_set_april['price']).plot(kind='hist', bins=50, title='Difference between decision line and actual price')"
   ]
  },
  {
   "cell_type": "code",
   "execution_count": null,
   "id": "f0f80ed3",
   "metadata": {},
   "outputs": [],
   "source": [
    "(y_hat.max()-y_hat.min())/(range[1] -range[0])"
   ]
  },
  {
   "cell_type": "code",
   "execution_count": null,
   "id": "cab28455",
   "metadata": {},
   "outputs": [],
   "source": [
    "sns.set_theme(style=\"darkgrid\")\n",
    "\n",
    "f, axs = plt.subplots(1, 1, figsize=(8, 4))\n",
    "\n",
    "condition = (data_set_april['decision_line_price'] - data_set_april['price']) > 2\n",
    "data_set_april['segmentation'] = condition.apply(lambda x: 'low coupon' if x else 'high coupon')\n",
    "\n",
    "# use the scatterplot function to build the bubble map\n",
    "sns.scatterplot(\n",
    "    data=data_set_april,\n",
    "    x=\"Latest redemption date\",\n",
    "    y=\"price\",\n",
    "    size=\"balance_outstanding\",\n",
    "    sizes=(10, 500),\n",
    "    hue='segmentation',\n",
    "    legend='brief',\n",
    "    ax=axs\n",
    ")\n",
    "\n",
    "# show the graph\n",
    "axs.plot(data_set_april['Latest redemption date'], y_hat, )\n",
    "sns.move_legend(axs, \"upper left\", bbox_to_anchor=(1, 1))\n",
    "f.show()"
   ]
  },
  {
   "cell_type": "code",
   "execution_count": null,
   "id": "01953f9c",
   "metadata": {},
   "outputs": [],
   "source": [
    "focus = data_set_april.loc[(data_set_april['segmentation'] == 'low coupon')&(data_set_april['price']<100)].copy()"
   ]
  },
  {
   "cell_type": "code",
   "execution_count": null,
   "id": "9775c2de",
   "metadata": {},
   "outputs": [],
   "source": [
    "focus['balance_outstanding'].sum()"
   ]
  },
  {
   "cell_type": "code",
   "execution_count": null,
   "id": "e08e5a8a",
   "metadata": {},
   "outputs": [],
   "source": [
    "((100 - focus['price'])*focus['balance_outstanding']).sum()/100"
   ]
  },
  {
   "cell_type": "code",
   "execution_count": null,
   "id": "5a8b060f",
   "metadata": {},
   "outputs": [],
   "source": [
    "focus"
   ]
  },
  {
   "cell_type": "code",
   "execution_count": null,
   "id": "a778bf82",
   "metadata": {},
   "outputs": [],
   "source": [
    "# "
   ]
  },
  {
   "cell_type": "code",
   "execution_count": null,
   "id": "16b9a108",
   "metadata": {},
   "outputs": [],
   "source": [
    "data_set_april.tail(20)"
   ]
  },
  {
   "cell_type": "code",
   "execution_count": null,
   "id": "172614a5",
   "metadata": {},
   "outputs": [],
   "source": [
    "data_set_april[data_set_april['ISIN Code'].isin(['GB00BMBL1D50', 'GB00B54QLM75'])]"
   ]
  },
  {
   "cell_type": "code",
   "execution_count": null,
   "id": "f1f09d8b",
   "metadata": {},
   "outputs": [],
   "source": [
    "convexity = price_df.loc[\"2020-05-31\":, [32280, 32282]]"
   ]
  },
  {
   "cell_type": "code",
   "execution_count": null,
   "id": "66c0e8ac",
   "metadata": {},
   "outputs": [],
   "source": [
    "convexity.head()"
   ]
  },
  {
   "cell_type": "code",
   "execution_count": null,
   "id": "dfb27893",
   "metadata": {},
   "outputs": [],
   "source": []
  },
  {
   "cell_type": "code",
   "execution_count": null,
   "id": "1e58ac84",
   "metadata": {},
   "outputs": [],
   "source": [
    "\"UKT_4%_2060\", \"UKT_0.5%_2061\""
   ]
  },
  {
   "cell_type": "code",
   "execution_count": null,
   "id": "31ec3e53",
   "metadata": {},
   "outputs": [],
   "source": [
    "convexity.loc[\"2020-05-31\",32280]"
   ]
  },
  {
   "cell_type": "code",
   "execution_count": null,
   "id": "e06cbd65",
   "metadata": {},
   "outputs": [],
   "source": [
    "id = 32282\n",
    "bond = data_set_april[data_set_april['Sequence']==id]\n",
    "issue_date=bond['Issue date'].dt.strftime(\"%Y-%m-%d\").values[0]\n",
    "maturity_date=bond['Latest redemption date'].dt.strftime(\"%Y-%m-%d\").values[0]\n",
    "first_cpn_date=bond['First coupon payable on date'].dt.strftime(\"%Y-%m-%d\").values[0]\n",
    "last_cpn_date=bond['Latest redemption date'].dt.strftime(\"%Y-%m-%d\").values[0]\n",
    "coupon=bond['%'].values[0]/100\n",
    "\n",
    "today=\"2020-06-30\"\n",
    "clean_price=convexity.loc[today,id]\n",
    "\n",
    "\n",
    "gilt_yield(\n",
    "    today=today,\n",
    "    issue_date=issue_date,\n",
    "    maturity_date=maturity_date,\n",
    "    first_cpn_date=first_cpn_date,\n",
    "    last_cpn_date=last_cpn_date,\n",
    "    clean_price=clean_price,\n",
    "    coupon=coupon\n",
    ")"
   ]
  },
  {
   "cell_type": "code",
   "execution_count": null,
   "id": "9410e5c7",
   "metadata": {},
   "outputs": [],
   "source": [
    "today, issue_date, maturity_date, first_cpn_date, last_cpn_date, clean_price, coupon"
   ]
  },
  {
   "cell_type": "code",
   "execution_count": null,
   "id": "0897a243",
   "metadata": {},
   "outputs": [],
   "source": [
    "r = convexity[32280].reset_index().iterrows().__next__()\n"
   ]
  },
  {
   "cell_type": "code",
   "execution_count": null,
   "id": "a124b0f9",
   "metadata": {},
   "outputs": [],
   "source": [
    "r[1]['index'].isoformat().split(\"T\")[0]"
   ]
  },
  {
   "cell_type": "code",
   "execution_count": null,
   "id": "b933903a",
   "metadata": {},
   "outputs": [],
   "source": [
    "r[1][32280]"
   ]
  },
  {
   "cell_type": "code",
   "execution_count": null,
   "id": "b71c5d83",
   "metadata": {},
   "outputs": [],
   "source": [
    "def yield_series(price_series, issue_date, maturity_date, first_cpn_date, last_cpn_date, coupon):\n",
    "    # Calculate the yield series based on the provided parameters\n",
    "    name = price_series.name\n",
    "    df = price_series.reset_index().rename(columns={name: \"price\"})\n",
    "    df['yield'] = df.apply(lambda x: gilt_yield(\n",
    "        today=x['index'].isoformat().split(\"T\")[0],\n",
    "        issue_date=issue_date,\n",
    "        maturity_date=maturity_date,\n",
    "        first_cpn_date=first_cpn_date,\n",
    "        last_cpn_date=last_cpn_date,\n",
    "        clean_price=x[\"price\"],\n",
    "        coupon=coupon/100\n",
    "    ), axis=1)\n",
    "    df.set_index('index', inplace=True)\n",
    "    return df"
   ]
  },
  {
   "cell_type": "code",
   "execution_count": null,
   "id": "7c3eab1c",
   "metadata": {},
   "outputs": [],
   "source": [
    "id = 32280\n",
    "bond = data_set_april[data_set_april['Sequence']==id]\n",
    "issue_date=bond['Issue date'].dt.strftime(\"%Y-%m-%d\").values[0]\n",
    "maturity_date=bond['Latest redemption date'].dt.strftime(\"%Y-%m-%d\").values[0]\n",
    "first_cpn_date=bond['First coupon payable on date'].dt.strftime(\"%Y-%m-%d\").values[0]\n",
    "last_cpn_date=bond['Latest redemption date'].dt.strftime(\"%Y-%m-%d\").values[0]\n",
    "coupon=bond['%'].values[0]\n",
    "\n",
    "ukt_4_2060 = yield_series(convexity[id], issue_date, maturity_date, first_cpn_date, last_cpn_date, coupon)\n"
   ]
  },
  {
   "cell_type": "code",
   "execution_count": null,
   "id": "9ec74c6c",
   "metadata": {},
   "outputs": [],
   "source": [
    "id = 32282\n",
    "bond = data_set_april[data_set_april['Sequence']==id]\n",
    "issue_date=bond['Issue date'].dt.strftime(\"%Y-%m-%d\").values[0]\n",
    "maturity_date=bond['Latest redemption date'].dt.strftime(\"%Y-%m-%d\").values[0]\n",
    "first_cpn_date=bond['First coupon payable on date'].dt.strftime(\"%Y-%m-%d\").values[0]\n",
    "last_cpn_date=bond['Latest redemption date'].dt.strftime(\"%Y-%m-%d\").values[0]\n",
    "coupon=bond['%'].values[0]\n",
    "ukt_0_5_2061 = yield_series(convexity[id], issue_date, maturity_date, first_cpn_date, last_cpn_date, coupon)"
   ]
  },
  {
   "cell_type": "code",
   "execution_count": null,
   "id": "f83f81af",
   "metadata": {},
   "outputs": [],
   "source": [
    "ukt_4_2060['norm_price'] = ukt_4_2060['price']/ukt_4_2060['price'].max()\n",
    "ukt_0_5_2061['norm_price'] = ukt_0_5_2061['price']/ukt_0_5_2061['price'].max()"
   ]
  },
  {
   "cell_type": "code",
   "execution_count": null,
   "id": "6bf94136",
   "metadata": {},
   "outputs": [],
   "source": [
    "f = plt.figure(figsize=(10, 5), )\n",
    "fig, ax = plt.subplots(1, 1)\n",
    "fig.suptitle(\"The cost of a low coupon bond\")\n",
    "sns.lineplot(data=ukt_4_2060, x='yield',y='norm_price', label='UKT 4% 2060', ax=ax)\n",
    "sns.lineplot(data=ukt_0_5_2061, x='yield',y='norm_price', label='UKT 0.5% 2061', ax=ax)"
   ]
  },
  {
   "cell_type": "code",
   "execution_count": null,
   "id": "1f2805a6",
   "metadata": {},
   "outputs": [],
   "source": [
    "ukt_0_5_2061.tail()"
   ]
  },
  {
   "cell_type": "code",
   "execution_count": null,
   "id": "a5a55f06",
   "metadata": {},
   "outputs": [],
   "source": [
    "(ukt_4_2060['yield'] - ukt_0_5_2061['yield']).plot(title=\"Low Price Bonds no longer reflecting Economics\")"
   ]
  },
  {
   "cell_type": "code",
   "execution_count": null,
   "id": "7083854c",
   "metadata": {},
   "outputs": [],
   "source": [
    "# 30 years\n",
    "data_set_april[data_set_april['Sequence'].isin([32260, 32262])]"
   ]
  },
  {
   "cell_type": "code",
   "execution_count": null,
   "id": "72a47e0b",
   "metadata": {},
   "outputs": [],
   "source": [
    "thirty_years = price_df.loc[\"2020-06-30\":, [32260, 32262]]"
   ]
  },
  {
   "cell_type": "code",
   "execution_count": null,
   "id": "ea0b6207",
   "metadata": {},
   "outputs": [],
   "source": [
    "id = 32260\n",
    "bond = data_set_april[data_set_april['Sequence']==id]\n",
    "issue_date=bond['Issue date'].dt.strftime(\"%Y-%m-%d\").values[0]\n",
    "maturity_date=bond['Latest redemption date'].dt.strftime(\"%Y-%m-%d\").values[0]\n",
    "first_cpn_date=bond['First coupon payable on date'].dt.strftime(\"%Y-%m-%d\").values[0]\n",
    "last_cpn_date=bond['Latest redemption date'].dt.strftime(\"%Y-%m-%d\").values[0]\n",
    "coupon=bond['%'].values[0]\n",
    "\n",
    "ukt4_25_2049 = yield_series(thirty_years[id], issue_date, maturity_date, first_cpn_date, last_cpn_date, coupon)"
   ]
  },
  {
   "cell_type": "code",
   "execution_count": null,
   "id": "075fb4eb",
   "metadata": {},
   "outputs": [],
   "source": [
    "id = 32262\n",
    "bond = data_set_april[data_set_april['Sequence']==id]\n",
    "issue_date=bond['Issue date'].dt.strftime(\"%Y-%m-%d\").values[0]\n",
    "maturity_date=bond['Latest redemption date'].dt.strftime(\"%Y-%m-%d\").values[0]\n",
    "first_cpn_date=bond['First coupon payable on date'].dt.strftime(\"%Y-%m-%d\").values[0]\n",
    "last_cpn_date=bond['Latest redemption date'].dt.strftime(\"%Y-%m-%d\").values[0]\n",
    "coupon=bond['%'].values[0]\n",
    "\n",
    "ukt0_625_2050 = yield_series(thirty_years[id], issue_date, maturity_date, first_cpn_date, last_cpn_date, coupon)"
   ]
  },
  {
   "cell_type": "code",
   "execution_count": null,
   "id": "031b5a9e",
   "metadata": {},
   "outputs": [],
   "source": [
    "ukt4_25_2049['norm_price'] = ukt4_25_2049['price']/ukt4_25_2049['price'].max()\n",
    "ukt0_625_2050['norm_price'] = ukt0_625_2050['price']/ukt0_625_2050['price'].max()"
   ]
  },
  {
   "cell_type": "code",
   "execution_count": null,
   "id": "5544eeec",
   "metadata": {},
   "outputs": [],
   "source": [
    "f = plt.figure(figsize=(10, 5), )\n",
    "fig, ax = plt.subplots(1, 1)\n",
    "fig.suptitle(\"The cost of a low coupon bond\")\n",
    "sns.lineplot(data=ukt4_25_2049, x='yield',y='norm_price', label='UKT 4.25% 2049', ax=ax)\n",
    "sns.lineplot(data=ukt0_625_2050, x='yield',y='norm_price', label='UKT 0.625% 2050', ax=ax)"
   ]
  },
  {
   "cell_type": "code",
   "execution_count": null,
   "id": "4d5d1abd",
   "metadata": {},
   "outputs": [],
   "source": [
    "(ukt4_25_2049['yield'] - ukt0_625_2050['yield']).plot(title=\"Low Price Bonds no longer reflecting Economics\")"
   ]
  },
  {
   "cell_type": "code",
   "execution_count": null,
   "id": "466240cb",
   "metadata": {},
   "outputs": [],
   "source": [
    "# 30 year UK Treasury Strip 07DEC2050C = 76800\tUKT07DEC2050C\tGB00B0BDTH75\n",
    "strip = price_df.loc[\"2020-06-30\":, 76800].reset_index().rename(columns={76800: \"price\"}).set_index('index')\n",
    "f = plt.figure(figsize=(10, 5), )\n",
    "fig, ax = plt.subplots(1, 1)\n",
    "fig.suptitle(\"Strip versus low coupon\")\n",
    "sns.lineplot(data=ukt4_25_2049, x=ukt4_25_2049.index,y='price', label='UKT 4.25% 2049', ax=ax)\n",
    "sns.lineplot(data=ukt0_625_2050, x=ukt0_625_2050.index,y='price', label='UKT 0.625% 2050', ax=ax)\n",
    "sns.lineplot(data=strip, x=strip.index,y=strip['price'], label='Strip 07DEC2050C', ax=ax)\n"
   ]
  },
  {
   "cell_type": "code",
   "execution_count": null,
   "id": "feedc44c",
   "metadata": {},
   "outputs": [],
   "source": [
    "\n",
    "ax = ukt4_25_2049['yield'].plot(title=\"The Tax Benefit of Low Coupon Bonds\")\n",
    "(ukt0_625_2050['price'] / strip['price']).plot(secondary_y=True)"
   ]
  },
  {
   "cell_type": "code",
   "execution_count": null,
   "id": "4ddbbaf9",
   "metadata": {},
   "outputs": [],
   "source": [
    "fig, (ax1, ax2, ax3) = plt.subplots(1, 3)\n",
    "fig.set_figwidth(15)\n",
    "fig.suptitle(\"The Tax Benefit of Low Coupon Bonds\")\n",
    "ax1.set_title(\"Rising Yields at the Maturity Date\")\n",
    "ax1.set_ylabel(\"Yield %\")\n",
    "ax2.set_title(\"Normal Behaviour in High Coupon\")\n",
    "ax3.set_title(\"Tax Benefit Raises Value of Low Coupon\")\n",
    "ax3.set_ylabel(\"Price Diff to Zero Coupon\")\n",
    "ax1 = ukt4_25_2049['yield'].plot(ax=ax1)\n",
    "(ukt4_25_2049['price'] - strip['price']).plot(ax=ax2, secondary_y=True)\n",
    "(ukt0_625_2050['price'] - strip['price']).plot(ax=ax3, secondary_y=True)"
   ]
  },
  {
   "cell_type": "code",
   "execution_count": null,
   "id": "230f7fb4",
   "metadata": {},
   "outputs": [],
   "source": [
    "boe_curves = \"downloads/GLC Nominal month end data_2025 to present.xlsx\"\n",
    "df_curves = pd.ExcelFile(boe_curves)\n",
    "df_curves.sheet_names"
   ]
  },
  {
   "cell_type": "code",
   "execution_count": null,
   "id": "d0622755",
   "metadata": {},
   "outputs": [],
   "source": [
    "df_curve = pd.read_excel(boe_curves, sheet_name='4. spot curve', skiprows=3)"
   ]
  },
  {
   "cell_type": "code",
   "execution_count": null,
   "id": "0e28e7e7",
   "metadata": {},
   "outputs": [],
   "source": [
    "df_curve.head()"
   ]
  },
  {
   "cell_type": "code",
   "execution_count": null,
   "id": "d7390814",
   "metadata": {},
   "outputs": [],
   "source": [
    "df_curve = df_curve.set_index('years:')\n",
    "spot_curve = df_curve.loc['2025-04-30'].to_dict()"
   ]
  },
  {
   "cell_type": "code",
   "execution_count": null,
   "id": "c98b2eb2",
   "metadata": {},
   "outputs": [],
   "source": [
    "focus.head()"
   ]
  },
  {
   "cell_type": "code",
   "execution_count": null,
   "id": "cc9b0f95",
   "metadata": {},
   "outputs": [],
   "source": [
    "flat_long = spot_curve.get(40)\n",
    "focus['new coupon'] = ((focus['Latest redemption date'].dt.year-2025) + (focus['Latest redemption date'].dt.month)//6*0.5).apply(\n",
    "    lambda x: spot_curve.get(x, flat_long))\n"
   ]
  },
  {
   "cell_type": "code",
   "execution_count": null,
   "id": "2e8225c9",
   "metadata": {},
   "outputs": [],
   "source": [
    "focus['refinanced'] = (1 - focus['price']/100)*focus['balance_outstanding']"
   ]
  },
  {
   "cell_type": "code",
   "execution_count": null,
   "id": "0598cffb",
   "metadata": {},
   "outputs": [],
   "source": [
    "(focus['refinanced']*focus['new coupon']/100).sum()"
   ]
  },
  {
   "cell_type": "code",
   "execution_count": null,
   "id": "25d0aa9a",
   "metadata": {},
   "outputs": [],
   "source": [
    "(focus['balance_outstanding']*focus['%']/100).sum()"
   ]
  },
  {
   "cell_type": "markdown",
   "id": "5ea45133",
   "metadata": {},
   "source": [
    "### Bank of England Portfolio"
   ]
  },
  {
   "cell_type": "code",
   "execution_count": null,
   "id": "83668d0f",
   "metadata": {},
   "outputs": [],
   "source": [
    "df_buy = pd.read_excel(\"downloads/gilt-purchase-operational-results.XLSX\", sheet_name=\"APF Gilts\", header=1)\n",
    "df_sell = pd.read_excel(\"downloads/gilt-sales-time-series.XLSX\", sheet_name=\"APF gilt sales\", header=1)\n",
    "\n",
    "df_boe = df_buy[['Operation date','Total allocation (proceeds £mn)', 'Total allocation (nominal £mn)']].copy()\n",
    "df_boe['Operation date'] = pd.to_datetime(df_boe['Operation date'], format='%d-%m-%Y')\n",
    "df_boe.set_index('Operation date', inplace=True)\n",
    "\n",
    "df_boe_exit = df_sell[['Operation date','Total allocation (proceeds £mn)', 'Total allocation (nominal £mn)']].copy()\n",
    "df_boe_exit['Operation date'] = pd.to_datetime(df_boe_exit['Operation date'], format='%d-%m-%Y')\n",
    "df_boe_exit.set_index('Operation date', inplace=True)"
   ]
  },
  {
   "cell_type": "code",
   "execution_count": null,
   "id": "79b84bea",
   "metadata": {},
   "outputs": [],
   "source": [
    "isin_bond_details = conv_details[['ISIN Code', 'Latest redemption date','%','Sequence']].copy()\n",
    "\n",
    "gilt_level_buys = df_buy[[\n",
    "    'ISIN',\n",
    "    'Operation date',\n",
    "    'Total allocation (proceeds £mn)',\n",
    "    'Total allocation (nominal £mn)'\n",
    "    ]].copy()\n",
    "gilt_level_buys.set_index('Operation date', inplace=True)\n",
    "gilt_level_buys.index = pd.to_datetime(gilt_level_buys.index, format='%d-%m-%Y').to_period('M').to_timestamp('M')\n",
    "gilt_level_buys.reset_index(inplace=True)\n",
    "\n",
    "gilt_buys_ts = gilt_level_buys.pivot_table(\n",
    "    index='Operation date', \n",
    "    columns='ISIN', \n",
    "    values='Total allocation (nominal £mn)', aggfunc='sum')\n",
    "\n",
    "gilt_buys_ts = gilt_buys_ts.fillna(0).cumsum()\n",
    "\n",
    "gilt_buys_total = gilt_level_buys.reset_index().groupby([ 'ISIN']).agg(\n",
    "    Total_Allocation_Proceeds=('Total allocation (proceeds £mn)', 'sum'),\n",
    "    Total_Allocation_Nominal=('Total allocation (nominal £mn)', 'sum'),\n",
    "    Last_Purchase_Month=('Operation date', 'max')\n",
    ")\n",
    "gilt_buys_total.reset_index(inplace=True)\n",
    "\n",
    "gilt_buys_total['maturity_date'] = gilt_buys_total['ISIN'].map(\n",
    "    lambda x: isin_bond_details[\n",
    "        isin_bond_details['ISIN Code']==x\n",
    "        ]['Latest redemption date'].values[0]\n",
    "    )\n",
    "gilt_buys_total['bgs_id'] = gilt_buys_total['ISIN'].map(\n",
    "    lambda x: isin_bond_details[\n",
    "        isin_bond_details['ISIN Code']==x\n",
    "        ]['Sequence'].values[0]\n",
    ")\n",
    "\n",
    "gilt_buys_total['maturity_date'] = pd.to_datetime(\n",
    "    gilt_buys_total['maturity_date'], format=\"%d %b %Y\"\n",
    ")"
   ]
  },
  {
   "cell_type": "code",
   "execution_count": null,
   "id": "87c7adcf",
   "metadata": {},
   "outputs": [],
   "source": [
    "gilt_level_sales = df_sell[[\n",
    "    'ISIN',\n",
    "    'Operation date',\n",
    "    'Total allocation (proceeds £mn)',\n",
    "    'Total allocation (nominal £mn)'\n",
    "    ]].copy()\n",
    "gilt_level_sales.set_index('Operation date', inplace=True)\n",
    "gilt_level_sales.index = pd.to_datetime(gilt_level_sales.index, format='%d-%m-%Y').to_period('M').to_timestamp('M')\n",
    "gilt_level_sales.reset_index(inplace=True)\n",
    "gilt_level_sales.head()"
   ]
  },
  {
   "cell_type": "code",
   "execution_count": null,
   "id": "ea02ef9a",
   "metadata": {},
   "outputs": [],
   "source": [
    "isin_bond_details = conv_details[['ISIN Code', 'Latest redemption date','%','Sequence']].copy()\n",
    "\n"
   ]
  },
  {
   "cell_type": "code",
   "execution_count": null,
   "id": "ac3236bb",
   "metadata": {},
   "outputs": [],
   "source": [
    "sales_by_isin=gilt_level_sales.groupby('ISIN')[['Total allocation (nominal £mn)', 'Total allocation (proceeds £mn)']].sum().reset_index()\n",
    "sales_by_isin['maturity_date'] = sales_by_isin['ISIN'].map(\n",
    "    lambda x: isin_bond_details[\n",
    "        isin_bond_details['ISIN Code']==x\n",
    "        ]['Latest redemption date'].values[0]\n",
    "    )\n",
    "sales_by_isin['maturity_date'] = pd.to_datetime(\n",
    "    sales_by_isin['maturity_date'], format=\"%d %b %Y\"\n",
    ")"
   ]
  },
  {
   "cell_type": "code",
   "execution_count": null,
   "id": "1636374b",
   "metadata": {},
   "outputs": [],
   "source": [
    "matured_sales = sales_by_isin['maturity_date'] > pd.Timestamp('2025-04-30')\n",
    "matured = gilt_buys_total['maturity_date'] > pd.Timestamp('2025-04-30')"
   ]
  },
  {
   "cell_type": "code",
   "execution_count": null,
   "id": "a379d971",
   "metadata": {},
   "outputs": [],
   "source": [
    "data_set_april"
   ]
  },
  {
   "cell_type": "code",
   "execution_count": null,
   "id": "1b2739e3",
   "metadata": {},
   "outputs": [],
   "source": [
    "boe_portfolio = gilt_buys_total[matured].set_index('ISIN').merge(\n",
    "    sales_by_isin[matured_sales][[\n",
    "        'ISIN',\n",
    "        'Total allocation (nominal £mn)',\n",
    "        'Total allocation (proceeds £mn)'\n",
    "        ]].set_index('ISIN'),\n",
    "        how='left',\n",
    "        left_index=True,\n",
    "        right_index=True,\n",
    "        suffixes=('_buy', '_sell')\n",
    "        ).copy().fillna(0).reset_index()\n",
    "\n",
    "boe_portfolio['mkt_price'] = boe_portfolio['bgs_id'].map(\n",
    "    lambda x: data_set_april.loc[data_set_april['Sequence']==x]['price'].values[0])"
   ]
  },
  {
   "cell_type": "code",
   "execution_count": null,
   "id": "4410af4c",
   "metadata": {},
   "outputs": [],
   "source": [
    "boe_portfolio.head()"
   ]
  },
  {
   "cell_type": "code",
   "execution_count": null,
   "id": "5859c7be",
   "metadata": {},
   "outputs": [],
   "source": [
    "boe_low_coupon = [boe_isin for boe_isin in boe_portfolio['ISIN'].to_list() if boe_isin in focus['ISIN Code'].to_list()]\n",
    "boe_high_coupon = [boe_isin for boe_isin in boe_portfolio['ISIN'].to_list() if boe_isin not in focus['ISIN Code'].to_list()]"
   ]
  },
  {
   "cell_type": "code",
   "execution_count": null,
   "id": "7ec0fbea",
   "metadata": {},
   "outputs": [],
   "source": [
    "len(boe_low_coupon), len(boe_high_coupon)"
   ]
  },
  {
   "cell_type": "code",
   "execution_count": null,
   "id": "59312826",
   "metadata": {},
   "outputs": [],
   "source": [
    "boe_portfolio['current position'] = boe_portfolio['Total_Allocation_Nominal'] - boe_portfolio['Total allocation (nominal £mn)']"
   ]
  },
  {
   "cell_type": "code",
   "execution_count": null,
   "id": "236b7790",
   "metadata": {},
   "outputs": [],
   "source": [
    "boe_portfolio[boe_portfolio['ISIN'].isin(boe_low_coupon)]['current position'].sum()"
   ]
  },
  {
   "cell_type": "code",
   "execution_count": null,
   "id": "255e69b1",
   "metadata": {},
   "outputs": [],
   "source": [
    "boe_portfolio[boe_portfolio['ISIN'].isin(boe_high_coupon)]['current position'].sum()"
   ]
  },
  {
   "cell_type": "code",
   "execution_count": null,
   "id": "09c0c9c6",
   "metadata": {},
   "outputs": [],
   "source": [
    "boe_portfolio['mtm'] = (boe_portfolio['mkt_price']-100) * boe_portfolio['current position']/100"
   ]
  },
  {
   "cell_type": "code",
   "execution_count": null,
   "id": "0f5ca09d",
   "metadata": {},
   "outputs": [],
   "source": [
    "boe_portfolio[boe_portfolio['ISIN'].isin(boe_low_coupon)]['mtm'].sum()"
   ]
  },
  {
   "cell_type": "code",
   "execution_count": null,
   "id": "6d8cb7fc",
   "metadata": {},
   "outputs": [],
   "source": [
    "boe_portfolio[boe_portfolio['ISIN'].isin(boe_high_coupon)]['mtm'].sum()"
   ]
  },
  {
   "cell_type": "code",
   "execution_count": null,
   "id": "73355198",
   "metadata": {},
   "outputs": [],
   "source": [
    "# To bring the portfolio to zero and swap everything up will cost\n",
    "boe_portfolio[boe_portfolio['ISIN'].isin(boe_low_coupon)]['mtm'].sum() + boe_portfolio[boe_portfolio['ISIN'].isin(boe_high_coupon)]['mtm'].sum()"
   ]
  },
  {
   "cell_type": "code",
   "execution_count": null,
   "id": "4bfbb391",
   "metadata": {},
   "outputs": [],
   "source": [
    "# The old cost of interest was\n",
    "(focus['balance_outstanding']*focus['%']/100).sum()"
   ]
  },
  {
   "cell_type": "code",
   "execution_count": null,
   "id": "8c52de45",
   "metadata": {},
   "outputs": [],
   "source": [
    "# The new cost of interest is\n",
    "(focus['refinanced']*focus['new coupon']/100).sum()"
   ]
  },
  {
   "cell_type": "code",
   "execution_count": null,
   "id": "fd2c8f12",
   "metadata": {},
   "outputs": [],
   "source": [
    "# But the government has reduced the national debt by\n",
    "((100 - focus['price'])*focus['balance_outstanding']).sum()/100"
   ]
  },
  {
   "cell_type": "code",
   "execution_count": null,
   "id": "b40bb747",
   "metadata": {},
   "outputs": [],
   "source": [
    "# netting this together with the injection into the BoE portfolio the net reduction in national debt is\n",
    "reduction = ((100 - focus['price'])*focus['balance_outstanding']).sum()/100 + boe_portfolio[boe_portfolio['ISIN'].isin(boe_low_coupon)]['mtm'].sum() + boe_portfolio[boe_portfolio['ISIN'].isin(boe_high_coupon)]['mtm'].sum()\n",
    "reduction"
   ]
  },
  {
   "cell_type": "code",
   "execution_count": null,
   "id": "9fbf73f9",
   "metadata": {},
   "outputs": [],
   "source": [
    "# reducing the national debt to gdp by percentage points\n",
    "f\"{reduction / (738159 *4):.2%}\""
   ]
  },
  {
   "cell_type": "code",
   "execution_count": null,
   "id": "47efc894",
   "metadata": {},
   "outputs": [],
   "source": []
  }
 ],
 "metadata": {
  "kernelspec": {
   "display_name": ".venv (3.12.10)",
   "language": "python",
   "name": "python3"
  },
  "language_info": {
   "codemirror_mode": {
    "name": "ipython",
    "version": 3
   },
   "file_extension": ".py",
   "mimetype": "text/x-python",
   "name": "python",
   "nbconvert_exporter": "python",
   "pygments_lexer": "ipython3",
   "version": "3.12.10"
  }
 },
 "nbformat": 4,
 "nbformat_minor": 5
}
