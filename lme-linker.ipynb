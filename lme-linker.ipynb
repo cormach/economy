{
 "cells": [
  {
   "cell_type": "code",
   "execution_count": null,
   "id": "24f6ec6b",
   "metadata": {},
   "outputs": [],
   "source": [
    "import pandas as pd\n",
    "import requests\n",
    "import zipfile\n",
    "import io\n",
    "import os\n",
    "import csv\n",
    "import ctypes as ct\n",
    "import numpy as np\n",
    "from collections import Counter\n",
    "import matplotlib.pyplot as plt\n",
    "import re\n",
    "import seaborn as sns\n",
    "import QuantLib as ql\n",
    "\n",
    "from bgs.load_bgs_amounts import load_bgs_amounts\n",
    "from bgs.load_gilt_details import load_csv_blocks\n",
    "from bgs.load_bgs_prices import load_prices\n",
    "from bgs.gilt_analytics import gilt_yield\n",
    "from bgs.linker_analytics import linker_real_yield"
   ]
  },
  {
   "cell_type": "code",
   "execution_count": 2,
   "id": "587c36eb",
   "metadata": {},
   "outputs": [],
   "source": [
    "def clean_date(bgs_index):\n",
    "    if re.match(r'^\\d{2}\\s\\w{3}\\s+\\d{4}$', bgs_index):\n",
    "        return pd.to_datetime(bgs_index, format=\"%d %b %Y\", errors='coerce')\n",
    "    else:\n",
    "        return pd.to_datetime(bgs_index)\n",
    "\n",
    "def clean_percentage(x):\n",
    "    if x.strip() in ['Variable','Floating']:\n",
    "        return x\n",
    "    try:\n",
    "        x = float(x)\n",
    "    except (ValueError, TypeError):\n",
    "        units, fractions = x.split(' ')\n",
    "        num, denom = map(float, fractions.split('/'))\n",
    "        x = float(units) + num / denom\n",
    "        print(x)\n",
    "    return x"
   ]
  },
  {
   "cell_type": "code",
   "execution_count": 3,
   "id": "3d72a0aa",
   "metadata": {},
   "outputs": [],
   "source": [
    "tables = load_bgs_amounts(\"downloads/BGSAmounts.csv\")\n",
    "\n",
    "conv = tables['Conventionals']\n",
    "conv.replace(\"Redeemed\", \"\", inplace=True)\n",
    "conv = conv.apply(pd.to_numeric, errors='coerce')\n",
    "conv.fillna(0, inplace=True)\n",
    "conv.index = pd.Index([clean_date(x) for x in list(conv.index)]).to_period('M').to_timestamp('M')\n",
    "\n",
    "old = tables['Calculated indexed nominal Old-style']\n",
    "old.replace(\"Redeemed\", \"\", inplace=True)\n",
    "old = old.apply(pd.to_numeric, errors='coerce')\n",
    "old.fillna(0, inplace=True)\n",
    "old.index = pd.Index([clean_date(x) for x in list(old.index)]).to_period('M').to_timestamp('M')\n",
    "\n",
    "new = tables['Calculated indexed nominal New-style']\n",
    "new.replace(\"Redeemed\", \"\", inplace=True)\n",
    "new = new.apply(pd.to_numeric, errors='coerce')\n",
    "new.fillna(0, inplace=True)\n",
    "new.index = pd.Index([clean_date(x) for x in list(new.index)]).to_period('M').to_timestamp('M')\n",
    "\n",
    "new_no_idx = tables['Index-linked New-style']\n",
    "new_no_idx.replace(\"Redeemed\", \"\", inplace=True)\n",
    "new_no_idx = new_no_idx.apply(pd.to_numeric, errors='coerce')\n",
    "new_no_idx.fillna(0, inplace=True)\n",
    "new_no_idx.index = pd.Index([clean_date(x) for x in list(new_no_idx.index)]).to_period('M').to_timestamp('M')\n"
   ]
  },
  {
   "cell_type": "code",
   "execution_count": 4,
   "id": "ee896022",
   "metadata": {},
   "outputs": [
    {
     "name": "stderr",
     "output_type": "stream",
     "text": [
      "/tmp/ipykernel_3051/736416946.py:4: FutureWarning: Downcasting behavior in `replace` is deprecated and will be removed in a future version. To retain the old behavior, explicitly call `result.infer_objects(copy=False)`. To opt-in to the future behavior, set `pd.set_option('future.no_silent_downcasting', True)`\n",
      "  price_df = price_df.replace(text, 0)\n",
      "/tmp/ipykernel_3051/736416946.py:6: FutureWarning: Downcasting object dtype arrays on .fillna, .ffill, .bfill is deprecated and will change in a future version. Call result.infer_objects(copy=False) instead. To opt-in to the future behavior, set `pd.set_option('future.no_silent_downcasting', True)`\n",
      "  price_df = price_df.ffill(axis=0)\n"
     ]
    }
   ],
   "source": [
    "price_df=load_prices(\"downloads/BGSPrices.csv\")\n",
    "price_df.index = pd.to_datetime(price_df.index, format=\"%d %b %Y\").to_period('M').to_timestamp('M')\n",
    "for text in ['Amalgamated', 'Redeemed', 'redeemed']:\n",
    "    price_df = price_df.replace(text, 0)\n",
    "price_df = price_df.replace('missing', None)\n",
    "price_df = price_df.ffill(axis=0)\n",
    "price_df = price_df.fillna(0)"
   ]
  },
  {
   "cell_type": "code",
   "execution_count": 5,
   "id": "0e5e4337",
   "metadata": {},
   "outputs": [
    {
     "data": {
      "text/plain": [
       "dict_keys(['Conventionals', 'Index-Linked Old-style', 'Index-Linked New-style'])"
      ]
     },
     "execution_count": 5,
     "metadata": {},
     "output_type": "execute_result"
    }
   ],
   "source": [
    "details = load_csv_blocks(\"downloads/BGSDetails.csv\")\n",
    "\n",
    "details.keys()"
   ]
  },
  {
   "cell_type": "code",
   "execution_count": 6,
   "id": "b8310da7",
   "metadata": {},
   "outputs": [
    {
     "name": "stdout",
     "output_type": "stream",
     "text": [
      "3.75\n"
     ]
    }
   ],
   "source": [
    "\n",
    "conv_details = details['Conventionals']\n",
    "conv_details['%'] = conv_details['%'].apply(clean_percentage)\n",
    "\n",
    "new_details = details['Index-Linked New-style']\n",
    "new_details['%'] = new_details['%'].apply(clean_percentage)\n",
    "\n",
    "old_details = details['Index-Linked Old-style']\n",
    "old_details['%'] = old_details['%'].apply(clean_percentage)\n"
   ]
  },
  {
   "cell_type": "code",
   "execution_count": 7,
   "id": "e4236093",
   "metadata": {},
   "outputs": [],
   "source": [
    "last = '2025-04-30'"
   ]
  },
  {
   "cell_type": "code",
   "execution_count": 8,
   "id": "a5fb6c2f",
   "metadata": {},
   "outputs": [
    {
     "data": {
      "text/plain": [
       "'55280'"
      ]
     },
     "execution_count": 8,
     "metadata": {},
     "output_type": "execute_result"
    }
   ],
   "source": [
    "linkers = new.loc[last, new.loc[last] !=0].reset_index()['index'].to_list()\n",
    "linkers[0]"
   ]
  },
  {
   "cell_type": "code",
   "execution_count": 9,
   "id": "7779fa98",
   "metadata": {},
   "outputs": [],
   "source": [
    "last_price = price_df.loc[last, [int(x) for x in linkers]]\n",
    "principal = new.loc[last, linkers]"
   ]
  },
  {
   "cell_type": "code",
   "execution_count": 10,
   "id": "e1e0eec7",
   "metadata": {},
   "outputs": [],
   "source": [
    "principal.index = principal.index.astype(int)\n",
    "principal.name = 'balance_outstanding'\n",
    "last_price.name = 'price'"
   ]
  },
  {
   "cell_type": "code",
   "execution_count": 11,
   "id": "f563b775",
   "metadata": {},
   "outputs": [],
   "source": [
    "data_set_april = last_price.reset_index().merge(principal.reset_index(), on='index')\n",
    "data_set_april.rename(columns={'index': 'Sequence'}, inplace=True)"
   ]
  },
  {
   "cell_type": "code",
   "execution_count": 12,
   "id": "16cd140b",
   "metadata": {},
   "outputs": [
    {
     "data": {
      "text/plain": [
       "np.float64(80.75752808115158)"
      ]
     },
     "execution_count": 12,
     "metadata": {},
     "output_type": "execute_result"
    }
   ],
   "source": [
    "#Average Price\n",
    "(data_set_april['balance_outstanding']*data_set_april['price']).sum()/data_set_april['balance_outstanding'].sum()"
   ]
  },
  {
   "cell_type": "code",
   "execution_count": 13,
   "id": "85bcf321",
   "metadata": {},
   "outputs": [
    {
     "data": {
      "text/html": [
       "<div>\n",
       "<style scoped>\n",
       "    .dataframe tbody tr th:only-of-type {\n",
       "        vertical-align: middle;\n",
       "    }\n",
       "\n",
       "    .dataframe tbody tr th {\n",
       "        vertical-align: top;\n",
       "    }\n",
       "\n",
       "    .dataframe thead th {\n",
       "        text-align: right;\n",
       "    }\n",
       "</style>\n",
       "<table border=\"1\" class=\"dataframe\">\n",
       "  <thead>\n",
       "    <tr style=\"text-align: right;\">\n",
       "      <th></th>\n",
       "      <th>Sequence</th>\n",
       "      <th>price</th>\n",
       "      <th>balance_outstanding</th>\n",
       "    </tr>\n",
       "  </thead>\n",
       "  <tbody>\n",
       "    <tr>\n",
       "      <th>0</th>\n",
       "      <td>55280</td>\n",
       "      <td>99.822</td>\n",
       "      <td>20527.9</td>\n",
       "    </tr>\n",
       "    <tr>\n",
       "      <th>1</th>\n",
       "      <td>55300</td>\n",
       "      <td>103.049</td>\n",
       "      <td>28768.8</td>\n",
       "    </tr>\n",
       "    <tr>\n",
       "      <th>2</th>\n",
       "      <td>55310</td>\n",
       "      <td>99.967</td>\n",
       "      <td>25309.3</td>\n",
       "    </tr>\n",
       "    <tr>\n",
       "      <th>3</th>\n",
       "      <td>55320</td>\n",
       "      <td>99.130</td>\n",
       "      <td>25654.0</td>\n",
       "    </tr>\n",
       "    <tr>\n",
       "      <th>4</th>\n",
       "      <td>55340</td>\n",
       "      <td>97.042</td>\n",
       "      <td>15437.8</td>\n",
       "    </tr>\n",
       "  </tbody>\n",
       "</table>\n",
       "</div>"
      ],
      "text/plain": [
       "   Sequence    price  balance_outstanding\n",
       "0     55280   99.822              20527.9\n",
       "1     55300  103.049              28768.8\n",
       "2     55310   99.967              25309.3\n",
       "3     55320   99.130              25654.0\n",
       "4     55340   97.042              15437.8"
      ]
     },
     "execution_count": 13,
     "metadata": {},
     "output_type": "execute_result"
    }
   ],
   "source": [
    "data_set_april.head()"
   ]
  },
  {
   "cell_type": "code",
   "execution_count": 14,
   "id": "1c1aa202",
   "metadata": {},
   "outputs": [],
   "source": [
    "new_details['Sequence'] = new_details['Sequence'].astype(int)"
   ]
  },
  {
   "cell_type": "code",
   "execution_count": 15,
   "id": "1fed44fc",
   "metadata": {},
   "outputs": [
    {
     "data": {
      "text/plain": [
       "32"
      ]
     },
     "execution_count": 15,
     "metadata": {},
     "output_type": "execute_result"
    }
   ],
   "source": [
    "len([x for x in new_details['Sequence'] if x in [int(y) for y in linkers]])"
   ]
  },
  {
   "cell_type": "code",
   "execution_count": 16,
   "id": "2771c1e8",
   "metadata": {},
   "outputs": [
    {
     "data": {
      "text/plain": [
       "32"
      ]
     },
     "execution_count": 16,
     "metadata": {},
     "output_type": "execute_result"
    }
   ],
   "source": [
    "len(linkers)"
   ]
  },
  {
   "cell_type": "code",
   "execution_count": 17,
   "id": "575a1ed7",
   "metadata": {},
   "outputs": [
    {
     "data": {
      "text/plain": [
       "Index(['Sequence', 'Inst Code', 'Sedol', 'ISIN Code', '%', 'Stock', 'Suffix',\n",
       "       'Special features', 'First year', 'Last year', 'Issue date',\n",
       "       'First coupon payable on date', 'Earliest redemption date',\n",
       "       'Latest redemption date', 'A (B, C ...) stock merged on date',\n",
       "       'Actually redeemed', 'Frequency', 'Payment date 1', 'Payment date 2',\n",
       "       'Payment date 3', 'Payment date 4', 'First coupon',\n",
       "       'IL coupon rounding', 'IL redemption rounding', 'Indexing lag',\n",
       "       'Base month', 'Base RPI', 'Number of calls', 'Call payment 1',\n",
       "       'due on 1', 'Call payment 2', 'due on 2', 'Call payment 3', 'due on 3',\n",
       "       'Call payment 4', 'due on 4', ''],\n",
       "      dtype='object')"
      ]
     },
     "execution_count": 17,
     "metadata": {},
     "output_type": "execute_result"
    }
   ],
   "source": [
    "new_details.columns"
   ]
  },
  {
   "cell_type": "code",
   "execution_count": 18,
   "id": "fba930b7",
   "metadata": {},
   "outputs": [
    {
     "data": {
      "text/html": [
       "<div>\n",
       "<style scoped>\n",
       "    .dataframe tbody tr th:only-of-type {\n",
       "        vertical-align: middle;\n",
       "    }\n",
       "\n",
       "    .dataframe tbody tr th {\n",
       "        vertical-align: top;\n",
       "    }\n",
       "\n",
       "    .dataframe thead th {\n",
       "        text-align: right;\n",
       "    }\n",
       "</style>\n",
       "<table border=\"1\" class=\"dataframe\">\n",
       "  <thead>\n",
       "    <tr style=\"text-align: right;\">\n",
       "      <th></th>\n",
       "      <th>Sequence</th>\n",
       "      <th>price</th>\n",
       "      <th>balance_outstanding</th>\n",
       "      <th>%</th>\n",
       "      <th>Frequency</th>\n",
       "      <th>ISIN Code</th>\n",
       "      <th>Latest redemption date</th>\n",
       "      <th>Issue date</th>\n",
       "      <th>First coupon payable on date</th>\n",
       "    </tr>\n",
       "  </thead>\n",
       "  <tbody>\n",
       "    <tr>\n",
       "      <th>0</th>\n",
       "      <td>55280</td>\n",
       "      <td>99.822</td>\n",
       "      <td>20527.9</td>\n",
       "      <td>0.125</td>\n",
       "      <td>2</td>\n",
       "      <td>GB00BYY5F144</td>\n",
       "      <td>2026-03-22</td>\n",
       "      <td>2015-07-16</td>\n",
       "      <td>2015-09-22</td>\n",
       "    </tr>\n",
       "    <tr>\n",
       "      <th>1</th>\n",
       "      <td>55300</td>\n",
       "      <td>103.049</td>\n",
       "      <td>28768.8</td>\n",
       "      <td>1.250</td>\n",
       "      <td>2</td>\n",
       "      <td>GB00B128DH60</td>\n",
       "      <td>2027-11-22</td>\n",
       "      <td>2006-04-26</td>\n",
       "      <td>2006-11-22</td>\n",
       "    </tr>\n",
       "    <tr>\n",
       "      <th>2</th>\n",
       "      <td>55310</td>\n",
       "      <td>99.967</td>\n",
       "      <td>25309.3</td>\n",
       "      <td>0.125</td>\n",
       "      <td>2</td>\n",
       "      <td>GB00BZ1NTB69</td>\n",
       "      <td>2028-08-10</td>\n",
       "      <td>2018-06-21</td>\n",
       "      <td>2019-02-10</td>\n",
       "    </tr>\n",
       "    <tr>\n",
       "      <th>3</th>\n",
       "      <td>55320</td>\n",
       "      <td>99.130</td>\n",
       "      <td>25654.0</td>\n",
       "      <td>0.125</td>\n",
       "      <td>2</td>\n",
       "      <td>GB00B3Y1JG82</td>\n",
       "      <td>2029-03-22</td>\n",
       "      <td>2011-11-23</td>\n",
       "      <td>2012-03-22</td>\n",
       "    </tr>\n",
       "    <tr>\n",
       "      <th>4</th>\n",
       "      <td>55340</td>\n",
       "      <td>97.042</td>\n",
       "      <td>15437.8</td>\n",
       "      <td>0.125</td>\n",
       "      <td>2</td>\n",
       "      <td>GB00BNNGP551</td>\n",
       "      <td>2031-08-10</td>\n",
       "      <td>2021-01-28</td>\n",
       "      <td>2021-08-10</td>\n",
       "    </tr>\n",
       "  </tbody>\n",
       "</table>\n",
       "</div>"
      ],
      "text/plain": [
       "   Sequence    price  balance_outstanding      % Frequency     ISIN Code  \\\n",
       "0     55280   99.822              20527.9  0.125         2  GB00BYY5F144   \n",
       "1     55300  103.049              28768.8  1.250         2  GB00B128DH60   \n",
       "2     55310   99.967              25309.3  0.125         2  GB00BZ1NTB69   \n",
       "3     55320   99.130              25654.0  0.125         2  GB00B3Y1JG82   \n",
       "4     55340   97.042              15437.8  0.125         2  GB00BNNGP551   \n",
       "\n",
       "  Latest redemption date Issue date First coupon payable on date  \n",
       "0             2026-03-22 2015-07-16                   2015-09-22  \n",
       "1             2027-11-22 2006-04-26                   2006-11-22  \n",
       "2             2028-08-10 2018-06-21                   2019-02-10  \n",
       "3             2029-03-22 2011-11-23                   2012-03-22  \n",
       "4             2031-08-10 2021-01-28                   2021-08-10  "
      ]
     },
     "execution_count": 18,
     "metadata": {},
     "output_type": "execute_result"
    }
   ],
   "source": [
    "date_variables = [\"Latest redemption date\",\"Issue date\",\"First coupon payable on date\",]\n",
    "static_variables = ['%', \"Frequency\",\"Sequence\",'ISIN Code']+date_variables\n",
    "data_set_april = data_set_april.merge(new_details[static_variables].set_index(\"Sequence\"), on='Sequence', how='inner')\n",
    "for date_var in date_variables:\n",
    "    data_set_april[date_var] = data_set_april[date_var].apply(clean_date)\n",
    "data_set_april.head()"
   ]
  },
  {
   "cell_type": "code",
   "execution_count": 19,
   "id": "9efbde72",
   "metadata": {},
   "outputs": [
    {
     "data": {
      "text/plain": [
       "np.float64(0.5083613626563174)"
      ]
     },
     "execution_count": 19,
     "metadata": {},
     "output_type": "execute_result"
    }
   ],
   "source": [
    "(data_set_april['balance_outstanding']*data_set_april['%']).sum()/data_set_april['balance_outstanding'].sum()"
   ]
  },
  {
   "cell_type": "code",
   "execution_count": 20,
   "id": "cab59924",
   "metadata": {},
   "outputs": [
    {
     "data": {
      "text/plain": [
       "<Axes: ylabel='Frequency'>"
      ]
     },
     "execution_count": 20,
     "metadata": {},
     "output_type": "execute_result"
    },
    {
     "data": {
      "image/png": "[encoded data removed]",
      "text/plain": [
       "<Figure size 640x480 with 1 Axes>"
      ]
     },
     "metadata": {},
     "output_type": "display_data"
    }
   ],
   "source": [
    "data_set_april['balance_outstanding'].plot(kind='hist')"
   ]
  },
  {
   "cell_type": "code",
   "execution_count": 21,
   "id": "bafd0079",
   "metadata": {},
   "outputs": [
    {
     "data": {
      "image/png": "[encoded data removed]",
      "text/plain": [
       "<Figure size 640x480 with 1 Axes>"
      ]
     },
     "metadata": {},
     "output_type": "display_data"
    }
   ],
   "source": [
    "sns.set_theme(style=\"darkgrid\")\n",
    "\n",
    "# use the scatterplot function to build the bubble map\n",
    "ax = sns.scatterplot(\n",
    "    data=data_set_april,\n",
    "    x=\"Latest redemption date\",\n",
    "    y=\"price\",\n",
    "    size=\"balance_outstanding\",\n",
    "    legend=False,\n",
    "    sizes=(10, 500)\n",
    ")\n",
    "\n",
    "# show the graph\n",
    "plt.show()"
   ]
  },
  {
   "cell_type": "code",
   "execution_count": 22,
   "id": "6d556dd9",
   "metadata": {},
   "outputs": [],
   "source": [
    "august = \"2022-08-31\"\n",
    "september = \"2022-09-30\"\n",
    "december = \"2022-12-31\""
   ]
  },
  {
   "cell_type": "code",
   "execution_count": 23,
   "id": "ef974498",
   "metadata": {},
   "outputs": [],
   "source": [
    "liz_linkers  = new.loc[august, new.loc[august] !=0].reset_index()['index'].to_list()"
   ]
  },
  {
   "cell_type": "code",
   "execution_count": 24,
   "id": "04283a1a",
   "metadata": {},
   "outputs": [],
   "source": [
    "august_price = price_df.loc[august, [int(x) for x in liz_linkers]]\n",
    "september_price = price_df.loc[september, [int(x) for x in liz_linkers]]\n",
    "december_price = price_df.loc[december, [int(x) for x in liz_linkers]]"
   ]
  },
  {
   "cell_type": "code",
   "execution_count": 25,
   "id": "c608804d",
   "metadata": {},
   "outputs": [],
   "source": [
    "last_price.name='Apr-2025'\n",
    "august_price.name='Aug-2022'\n",
    "september_price.name='Sep-2022'\n",
    "december_price.name='Dec-2022'"
   ]
  },
  {
   "cell_type": "code",
   "execution_count": 26,
   "id": "673968a6",
   "metadata": {},
   "outputs": [],
   "source": [
    "history = pd.concat([last_price, august_price, september_price, december_price], axis=1)"
   ]
  },
  {
   "cell_type": "code",
   "execution_count": 27,
   "id": "f5bdf8a6",
   "metadata": {},
   "outputs": [
    {
     "data": {
      "text/html": [
       "<div>\n",
       "<style scoped>\n",
       "    .dataframe tbody tr th:only-of-type {\n",
       "        vertical-align: middle;\n",
       "    }\n",
       "\n",
       "    .dataframe tbody tr th {\n",
       "        vertical-align: top;\n",
       "    }\n",
       "\n",
       "    .dataframe thead th {\n",
       "        text-align: right;\n",
       "    }\n",
       "</style>\n",
       "<table border=\"1\" class=\"dataframe\">\n",
       "  <thead>\n",
       "    <tr style=\"text-align: right;\">\n",
       "      <th></th>\n",
       "      <th>Apr-2025</th>\n",
       "      <th>Aug-2022</th>\n",
       "      <th>Sep-2022</th>\n",
       "      <th>Dec-2022</th>\n",
       "    </tr>\n",
       "  </thead>\n",
       "  <tbody>\n",
       "    <tr>\n",
       "      <th>55280</th>\n",
       "      <td>99.822</td>\n",
       "      <td>108.205</td>\n",
       "      <td>101.036</td>\n",
       "      <td>100.937</td>\n",
       "    </tr>\n",
       "    <tr>\n",
       "      <th>55300</th>\n",
       "      <td>103.049</td>\n",
       "      <td>116.836</td>\n",
       "      <td>106.484</td>\n",
       "      <td>105.846</td>\n",
       "    </tr>\n",
       "    <tr>\n",
       "      <th>55310</th>\n",
       "      <td>99.967</td>\n",
       "      <td>111.371</td>\n",
       "      <td>100.421</td>\n",
       "      <td>100.252</td>\n",
       "    </tr>\n",
       "    <tr>\n",
       "      <th>55320</th>\n",
       "      <td>99.130</td>\n",
       "      <td>111.793</td>\n",
       "      <td>100.102</td>\n",
       "      <td>99.826</td>\n",
       "    </tr>\n",
       "    <tr>\n",
       "      <th>55340</th>\n",
       "      <td>97.042</td>\n",
       "      <td>115.234</td>\n",
       "      <td>101.326</td>\n",
       "      <td>100.660</td>\n",
       "    </tr>\n",
       "    <tr>\n",
       "      <th>55350</th>\n",
       "      <td>102.862</td>\n",
       "      <td>127.450</td>\n",
       "      <td>111.520</td>\n",
       "      <td>110.980</td>\n",
       "    </tr>\n",
       "    <tr>\n",
       "      <th>55360</th>\n",
       "      <td>97.882</td>\n",
       "      <td>NaN</td>\n",
       "      <td>NaN</td>\n",
       "      <td>NaN</td>\n",
       "    </tr>\n",
       "    <tr>\n",
       "      <th>55375</th>\n",
       "      <td>97.053</td>\n",
       "      <td>122.230</td>\n",
       "      <td>106.790</td>\n",
       "      <td>105.190</td>\n",
       "    </tr>\n",
       "    <tr>\n",
       "      <th>55380</th>\n",
       "      <td>98.790</td>\n",
       "      <td>NaN</td>\n",
       "      <td>NaN</td>\n",
       "      <td>NaN</td>\n",
       "    </tr>\n",
       "    <tr>\n",
       "      <th>55385</th>\n",
       "      <td>86.960</td>\n",
       "      <td>116.210</td>\n",
       "      <td>102.270</td>\n",
       "      <td>96.820</td>\n",
       "    </tr>\n",
       "    <tr>\n",
       "      <th>55400</th>\n",
       "      <td>96.530</td>\n",
       "      <td>132.930</td>\n",
       "      <td>117.620</td>\n",
       "      <td>110.270</td>\n",
       "    </tr>\n",
       "    <tr>\n",
       "      <th>55405</th>\n",
       "      <td>80.970</td>\n",
       "      <td>116.030</td>\n",
       "      <td>103.430</td>\n",
       "      <td>95.070</td>\n",
       "    </tr>\n",
       "    <tr>\n",
       "      <th>55410</th>\n",
       "      <td>85.370</td>\n",
       "      <td>125.560</td>\n",
       "      <td>112.150</td>\n",
       "      <td>103.070</td>\n",
       "    </tr>\n",
       "    <tr>\n",
       "      <th>55415</th>\n",
       "      <td>76.330</td>\n",
       "      <td>116.960</td>\n",
       "      <td>103.630</td>\n",
       "      <td>94.200</td>\n",
       "    </tr>\n",
       "    <tr>\n",
       "      <th>55420</th>\n",
       "      <td>81.450</td>\n",
       "      <td>128.050</td>\n",
       "      <td>113.920</td>\n",
       "      <td>103.240</td>\n",
       "    </tr>\n",
       "    <tr>\n",
       "      <th>55430</th>\n",
       "      <td>70.530</td>\n",
       "      <td>115.990</td>\n",
       "      <td>103.510</td>\n",
       "      <td>92.200</td>\n",
       "    </tr>\n",
       "    <tr>\n",
       "      <th>55435</th>\n",
       "      <td>76.760</td>\n",
       "      <td>NaN</td>\n",
       "      <td>NaN</td>\n",
       "      <td>NaN</td>\n",
       "    </tr>\n",
       "    <tr>\n",
       "      <th>55440</th>\n",
       "      <td>67.080</td>\n",
       "      <td>116.020</td>\n",
       "      <td>104.130</td>\n",
       "      <td>90.930</td>\n",
       "    </tr>\n",
       "    <tr>\n",
       "      <th>55450</th>\n",
       "      <td>76.280</td>\n",
       "      <td>133.070</td>\n",
       "      <td>120.760</td>\n",
       "      <td>104.520</td>\n",
       "    </tr>\n",
       "    <tr>\n",
       "      <th>55460</th>\n",
       "      <td>63.280</td>\n",
       "      <td>115.940</td>\n",
       "      <td>105.210</td>\n",
       "      <td>89.840</td>\n",
       "    </tr>\n",
       "    <tr>\n",
       "      <th>55465</th>\n",
       "      <td>94.790</td>\n",
       "      <td>NaN</td>\n",
       "      <td>NaN</td>\n",
       "      <td>NaN</td>\n",
       "    </tr>\n",
       "    <tr>\n",
       "      <th>55470</th>\n",
       "      <td>68.480</td>\n",
       "      <td>127.210</td>\n",
       "      <td>115.630</td>\n",
       "      <td>99.090</td>\n",
       "    </tr>\n",
       "    <tr>\n",
       "      <th>55475</th>\n",
       "      <td>60.000</td>\n",
       "      <td>116.010</td>\n",
       "      <td>105.440</td>\n",
       "      <td>89.330</td>\n",
       "    </tr>\n",
       "    <tr>\n",
       "      <th>55480</th>\n",
       "      <td>61.460</td>\n",
       "      <td>121.150</td>\n",
       "      <td>110.550</td>\n",
       "      <td>93.110</td>\n",
       "    </tr>\n",
       "    <tr>\n",
       "      <th>55485</th>\n",
       "      <td>80.170</td>\n",
       "      <td>NaN</td>\n",
       "      <td>NaN</td>\n",
       "      <td>NaN</td>\n",
       "    </tr>\n",
       "    <tr>\n",
       "      <th>55500</th>\n",
       "      <td>81.140</td>\n",
       "      <td>159.120</td>\n",
       "      <td>149.390</td>\n",
       "      <td>123.760</td>\n",
       "    </tr>\n",
       "    <tr>\n",
       "      <th>55525</th>\n",
       "      <td>55.640</td>\n",
       "      <td>118.940</td>\n",
       "      <td>114.090</td>\n",
       "      <td>89.820</td>\n",
       "    </tr>\n",
       "    <tr>\n",
       "      <th>55550</th>\n",
       "      <td>54.870</td>\n",
       "      <td>119.310</td>\n",
       "      <td>117.100</td>\n",
       "      <td>90.190</td>\n",
       "    </tr>\n",
       "    <tr>\n",
       "      <th>55600</th>\n",
       "      <td>58.500</td>\n",
       "      <td>131.270</td>\n",
       "      <td>132.130</td>\n",
       "      <td>100.230</td>\n",
       "    </tr>\n",
       "    <tr>\n",
       "      <th>55650</th>\n",
       "      <td>49.840</td>\n",
       "      <td>124.670</td>\n",
       "      <td>126.920</td>\n",
       "      <td>92.740</td>\n",
       "    </tr>\n",
       "    <tr>\n",
       "      <th>55700</th>\n",
       "      <td>48.860</td>\n",
       "      <td>126.990</td>\n",
       "      <td>129.790</td>\n",
       "      <td>92.850</td>\n",
       "    </tr>\n",
       "    <tr>\n",
       "      <th>55800</th>\n",
       "      <td>55.190</td>\n",
       "      <td>138.250</td>\n",
       "      <td>148.460</td>\n",
       "      <td>97.700</td>\n",
       "    </tr>\n",
       "    <tr>\n",
       "      <th>55250</th>\n",
       "      <td>NaN</td>\n",
       "      <td>101.759</td>\n",
       "      <td>100.768</td>\n",
       "      <td>NaN</td>\n",
       "    </tr>\n",
       "    <tr>\n",
       "      <th>55270</th>\n",
       "      <td>NaN</td>\n",
       "      <td>107.099</td>\n",
       "      <td>102.239</td>\n",
       "      <td>101.683</td>\n",
       "    </tr>\n",
       "  </tbody>\n",
       "</table>\n",
       "</div>"
      ],
      "text/plain": [
       "       Apr-2025  Aug-2022  Sep-2022  Dec-2022\n",
       "55280    99.822   108.205   101.036   100.937\n",
       "55300   103.049   116.836   106.484   105.846\n",
       "55310    99.967   111.371   100.421   100.252\n",
       "55320    99.130   111.793   100.102    99.826\n",
       "55340    97.042   115.234   101.326   100.660\n",
       "55350   102.862   127.450   111.520   110.980\n",
       "55360    97.882       NaN       NaN       NaN\n",
       "55375    97.053   122.230   106.790   105.190\n",
       "55380    98.790       NaN       NaN       NaN\n",
       "55385    86.960   116.210   102.270    96.820\n",
       "55400    96.530   132.930   117.620   110.270\n",
       "55405    80.970   116.030   103.430    95.070\n",
       "55410    85.370   125.560   112.150   103.070\n",
       "55415    76.330   116.960   103.630    94.200\n",
       "55420    81.450   128.050   113.920   103.240\n",
       "55430    70.530   115.990   103.510    92.200\n",
       "55435    76.760       NaN       NaN       NaN\n",
       "55440    67.080   116.020   104.130    90.930\n",
       "55450    76.280   133.070   120.760   104.520\n",
       "55460    63.280   115.940   105.210    89.840\n",
       "55465    94.790       NaN       NaN       NaN\n",
       "55470    68.480   127.210   115.630    99.090\n",
       "55475    60.000   116.010   105.440    89.330\n",
       "55480    61.460   121.150   110.550    93.110\n",
       "55485    80.170       NaN       NaN       NaN\n",
       "55500    81.140   159.120   149.390   123.760\n",
       "55525    55.640   118.940   114.090    89.820\n",
       "55550    54.870   119.310   117.100    90.190\n",
       "55600    58.500   131.270   132.130   100.230\n",
       "55650    49.840   124.670   126.920    92.740\n",
       "55700    48.860   126.990   129.790    92.850\n",
       "55800    55.190   138.250   148.460    97.700\n",
       "55250       NaN   101.759   100.768       NaN\n",
       "55270       NaN   107.099   102.239   101.683"
      ]
     },
     "execution_count": 27,
     "metadata": {},
     "output_type": "execute_result"
    }
   ],
   "source": [
    "history = history.replace(0.000, np.nan)\n",
    "history"
   ]
  },
  {
   "cell_type": "code",
   "execution_count": 28,
   "id": "bd22dff3",
   "metadata": {},
   "outputs": [],
   "source": [
    "history = history.reset_index().rename(columns={'index':'Sequence'})\n",
    "history = history.merge(new_details[['Sequence','Latest redemption date']], on='Sequence', how='left')"
   ]
  },
  {
   "cell_type": "code",
   "execution_count": 29,
   "id": "a5f8e526",
   "metadata": {},
   "outputs": [],
   "source": [
    "history['Latest redemption date'] = history['Latest redemption date'].apply(clean_date)\n",
    "history.set_index('Latest redemption date', inplace=True)\n",
    "history.drop(columns=['Sequence'], inplace=True)\n"
   ]
  },
  {
   "cell_type": "code",
   "execution_count": 30,
   "id": "192e917c",
   "metadata": {},
   "outputs": [
    {
     "data": {
      "text/plain": [
       "<Axes: xlabel='Latest redemption date'>"
      ]
     },
     "execution_count": 30,
     "metadata": {},
     "output_type": "execute_result"
    },
    {
     "data": {
      "image/png": "[encoded data removed]",
      "text/plain": [
       "<Figure size 640x480 with 1 Axes>"
      ]
     },
     "metadata": {},
     "output_type": "display_data"
    }
   ],
   "source": [
    "sns.scatterplot(data=history[['Aug-2022','Sep-2022','Dec-2022','Apr-2025']])"
   ]
  },
  {
   "cell_type": "code",
   "execution_count": 31,
   "id": "3ed85ed5",
   "metadata": {},
   "outputs": [],
   "source": [
    "higher_prices = [55360,55380, 55465,55485, 55500]"
   ]
  },
  {
   "cell_type": "code",
   "execution_count": 32,
   "id": "44ff7f56",
   "metadata": {},
   "outputs": [
    {
     "data": {
      "text/html": [
       "<div>\n",
       "<style scoped>\n",
       "    .dataframe tbody tr th:only-of-type {\n",
       "        vertical-align: middle;\n",
       "    }\n",
       "\n",
       "    .dataframe tbody tr th {\n",
       "        vertical-align: top;\n",
       "    }\n",
       "\n",
       "    .dataframe thead th {\n",
       "        text-align: right;\n",
       "    }\n",
       "</style>\n",
       "<table border=\"1\" class=\"dataframe\">\n",
       "  <thead>\n",
       "    <tr style=\"text-align: right;\">\n",
       "      <th></th>\n",
       "      <th>Sequence</th>\n",
       "      <th>price</th>\n",
       "      <th>balance_outstanding</th>\n",
       "      <th>%</th>\n",
       "      <th>Frequency</th>\n",
       "      <th>ISIN Code</th>\n",
       "      <th>Latest redemption date</th>\n",
       "      <th>Issue date</th>\n",
       "      <th>First coupon payable on date</th>\n",
       "    </tr>\n",
       "  </thead>\n",
       "  <tbody>\n",
       "    <tr>\n",
       "      <th>6</th>\n",
       "      <td>55360</td>\n",
       "      <td>97.882</td>\n",
       "      <td>19168.4</td>\n",
       "      <td>0.750</td>\n",
       "      <td>2</td>\n",
       "      <td>GB00BMF9LJ15</td>\n",
       "      <td>2033-11-22</td>\n",
       "      <td>2023-06-28</td>\n",
       "      <td>2023-11-22</td>\n",
       "    </tr>\n",
       "    <tr>\n",
       "      <th>8</th>\n",
       "      <td>55380</td>\n",
       "      <td>98.790</td>\n",
       "      <td>5395.0</td>\n",
       "      <td>1.125</td>\n",
       "      <td>2</td>\n",
       "      <td>GB00BT7HZZ68</td>\n",
       "      <td>2035-09-22</td>\n",
       "      <td>2025-01-29</td>\n",
       "      <td>2025-09-22</td>\n",
       "    </tr>\n",
       "    <tr>\n",
       "      <th>20</th>\n",
       "      <td>55465</td>\n",
       "      <td>94.790</td>\n",
       "      <td>5026.1</td>\n",
       "      <td>1.875</td>\n",
       "      <td>2</td>\n",
       "      <td>GB00BT7J0134</td>\n",
       "      <td>2049-09-22</td>\n",
       "      <td>2025-03-12</td>\n",
       "      <td>2025-09-22</td>\n",
       "    </tr>\n",
       "    <tr>\n",
       "      <th>24</th>\n",
       "      <td>55485</td>\n",
       "      <td>80.170</td>\n",
       "      <td>15663.1</td>\n",
       "      <td>1.250</td>\n",
       "      <td>2</td>\n",
       "      <td>GB00BPSNBG80</td>\n",
       "      <td>2054-11-22</td>\n",
       "      <td>2024-03-14</td>\n",
       "      <td>2024-05-22</td>\n",
       "    </tr>\n",
       "    <tr>\n",
       "      <th>25</th>\n",
       "      <td>55500</td>\n",
       "      <td>81.140</td>\n",
       "      <td>20846.3</td>\n",
       "      <td>1.250</td>\n",
       "      <td>2</td>\n",
       "      <td>GB00B0CNHZ09</td>\n",
       "      <td>2055-11-22</td>\n",
       "      <td>2005-09-23</td>\n",
       "      <td>2006-05-22</td>\n",
       "    </tr>\n",
       "  </tbody>\n",
       "</table>\n",
       "</div>"
      ],
      "text/plain": [
       "    Sequence   price  balance_outstanding      % Frequency     ISIN Code  \\\n",
       "6      55360  97.882              19168.4  0.750         2  GB00BMF9LJ15   \n",
       "8      55380  98.790               5395.0  1.125         2  GB00BT7HZZ68   \n",
       "20     55465  94.790               5026.1  1.875         2  GB00BT7J0134   \n",
       "24     55485  80.170              15663.1  1.250         2  GB00BPSNBG80   \n",
       "25     55500  81.140              20846.3  1.250         2  GB00B0CNHZ09   \n",
       "\n",
       "   Latest redemption date Issue date First coupon payable on date  \n",
       "6              2033-11-22 2023-06-28                   2023-11-22  \n",
       "8              2035-09-22 2025-01-29                   2025-09-22  \n",
       "20             2049-09-22 2025-03-12                   2025-09-22  \n",
       "24             2054-11-22 2024-03-14                   2024-05-22  \n",
       "25             2055-11-22 2005-09-23                   2006-05-22  "
      ]
     },
     "execution_count": 32,
     "metadata": {},
     "output_type": "execute_result"
    }
   ],
   "source": [
    "data_set_april.loc[data_set_april['Sequence'].isin(higher_prices)]"
   ]
  },
  {
   "cell_type": "code",
   "execution_count": 33,
   "id": "9adf4e70",
   "metadata": {},
   "outputs": [
    {
     "data": {
      "text/html": [
       "<div>\n",
       "<style scoped>\n",
       "    .dataframe tbody tr th:only-of-type {\n",
       "        vertical-align: middle;\n",
       "    }\n",
       "\n",
       "    .dataframe tbody tr th {\n",
       "        vertical-align: top;\n",
       "    }\n",
       "\n",
       "    .dataframe thead th {\n",
       "        text-align: right;\n",
       "    }\n",
       "</style>\n",
       "<table border=\"1\" class=\"dataframe\">\n",
       "  <thead>\n",
       "    <tr style=\"text-align: right;\">\n",
       "      <th></th>\n",
       "      <th>Sequence</th>\n",
       "      <th>price</th>\n",
       "      <th>balance_outstanding</th>\n",
       "      <th>%</th>\n",
       "      <th>Frequency</th>\n",
       "      <th>ISIN Code</th>\n",
       "      <th>Latest redemption date</th>\n",
       "      <th>Issue date</th>\n",
       "      <th>First coupon payable on date</th>\n",
       "    </tr>\n",
       "  </thead>\n",
       "  <tbody>\n",
       "    <tr>\n",
       "      <th>25</th>\n",
       "      <td>55500</td>\n",
       "      <td>81.14</td>\n",
       "      <td>20846.3</td>\n",
       "      <td>1.25</td>\n",
       "      <td>2</td>\n",
       "      <td>GB00B0CNHZ09</td>\n",
       "      <td>2055-11-22</td>\n",
       "      <td>2005-09-23</td>\n",
       "      <td>2006-05-22</td>\n",
       "    </tr>\n",
       "  </tbody>\n",
       "</table>\n",
       "</div>"
      ],
      "text/plain": [
       "    Sequence  price  balance_outstanding     % Frequency     ISIN Code  \\\n",
       "25     55500  81.14              20846.3  1.25         2  GB00B0CNHZ09   \n",
       "\n",
       "   Latest redemption date Issue date First coupon payable on date  \n",
       "25             2055-11-22 2005-09-23                   2006-05-22  "
      ]
     },
     "execution_count": 33,
     "metadata": {},
     "output_type": "execute_result"
    }
   ],
   "source": [
    "data_set_april.loc[data_set_april['Issue date'] == data_set_april['Issue date'].min()]"
   ]
  },
  {
   "cell_type": "code",
   "execution_count": 34,
   "id": "49710a9d",
   "metadata": {},
   "outputs": [
    {
     "data": {
      "text/plain": [
       "<Axes: >"
      ]
     },
     "execution_count": 34,
     "metadata": {},
     "output_type": "execute_result"
    },
    {
     "data": {
      "image/png": "[encoded data removed]",
      "text/plain": [
       "<Figure size 640x480 with 1 Axes>"
      ]
     },
     "metadata": {},
     "output_type": "display_data"
    }
   ],
   "source": [
    "price_df[55500]['2005-09-30':].plot()"
   ]
  },
  {
   "cell_type": "code",
   "execution_count": 35,
   "id": "77ec48d3",
   "metadata": {},
   "outputs": [
    {
     "data": {
      "text/html": [
       "<div>\n",
       "<style scoped>\n",
       "    .dataframe tbody tr th:only-of-type {\n",
       "        vertical-align: middle;\n",
       "    }\n",
       "\n",
       "    .dataframe tbody tr th {\n",
       "        vertical-align: top;\n",
       "    }\n",
       "\n",
       "    .dataframe thead th {\n",
       "        text-align: right;\n",
       "    }\n",
       "</style>\n",
       "<table border=\"1\" class=\"dataframe\">\n",
       "  <thead>\n",
       "    <tr style=\"text-align: right;\">\n",
       "      <th></th>\n",
       "      <th>Sequence</th>\n",
       "      <th>price</th>\n",
       "      <th>balance_outstanding</th>\n",
       "      <th>%</th>\n",
       "      <th>Frequency</th>\n",
       "      <th>ISIN Code</th>\n",
       "      <th>Latest redemption date</th>\n",
       "      <th>Issue date</th>\n",
       "      <th>First coupon payable on date</th>\n",
       "    </tr>\n",
       "  </thead>\n",
       "  <tbody>\n",
       "    <tr>\n",
       "      <th>31</th>\n",
       "      <td>55800</td>\n",
       "      <td>55.19</td>\n",
       "      <td>6865.9</td>\n",
       "      <td>0.125</td>\n",
       "      <td>2</td>\n",
       "      <td>GB00BM8Z2W66</td>\n",
       "      <td>2073-03-22</td>\n",
       "      <td>2021-11-24</td>\n",
       "      <td>2022-03-22</td>\n",
       "    </tr>\n",
       "  </tbody>\n",
       "</table>\n",
       "</div>"
      ],
      "text/plain": [
       "    Sequence  price  balance_outstanding      % Frequency     ISIN Code  \\\n",
       "31     55800  55.19               6865.9  0.125         2  GB00BM8Z2W66   \n",
       "\n",
       "   Latest redemption date Issue date First coupon payable on date  \n",
       "31             2073-03-22 2021-11-24                   2022-03-22  "
      ]
     },
     "execution_count": 35,
     "metadata": {},
     "output_type": "execute_result"
    }
   ],
   "source": [
    "data_set_april.loc[data_set_april['Latest redemption date'] == data_set_april['Latest redemption date'].max()]"
   ]
  },
  {
   "cell_type": "code",
   "execution_count": null,
   "id": "00042a4f",
   "metadata": {},
   "outputs": [],
   "source": [
    "\n",
    "\n",
    "\n",
    "df_ons_rpi = pd.read_csv(\"downloads/ONSRPI.csv\", header=7, names=[\"date\", \"RPI\"])\n",
    "monthly_start = df_ons_rpi[df_ons_rpi[\"date\"] == \"1987 JAN\"].index[0]\n",
    "ONS_RPI_INDEX = df_ons_rpi.iloc[monthly_start:].copy()\n",
    "\n",
    "df_infl = pd.ExcelFile(\"downloads/GLC Inflation month end data_2025 to present.xlsx\")\n",
    "DF_SPOT = pd.read_excel(\n",
    "    df_infl, sheet_name=\"4. spot curve\", header=3, skiprows=[4]\n",
    ").set_index(\"years:\")\n",
    "DF_SPOT[50] = DF_SPOT[40]\n",
    "\n",
    "def get_real_yield(row):\n",
    "    [\"Latest redemption date\",\"Issue date\",\"First coupon payable on date\",]\n",
    "\n",
    "    issue_dt = row[\"Issue date\"].strftime(\"%d/%m/%Y\")\n",
    "    first_coupon_dt = row[\"First coupon payable on date\"].strftime(\"%d/%m/%Y\")\n",
    "    maturity_dt = row[\"Latest redemption date\"].strftime(\"%d/%m/%Y\")\n",
    "    coupon = row[\"%\"]\n",
    "    clean_price = row[\"price\"]\n",
    "\n",
    "    inflation_spot_curve = DF_SPOT.copy()\n",
    "    monthly_rpi_index = ONS_RPI_INDEX.copy()\n",
    "\n",
    "    previous_month_end = (\n",
    "        pd.to_datetime(last, format=\"%Y-%m-%d\") + pd.offsets.MonthEnd(-1)\n",
    "    ).strftime(\"%Y-%m-%d\")\n",
    "    infl_curve = inflation_spot_curve.loc[\n",
    "        inflation_spot_curve.index == previous_month_end\n",
    "    ].to_dict(orient=\"list\")\n",
    "\n",
    "    inflation_quotes = [\n",
    "        (ql.Period(int(key), ql.Years), value[0])\n",
    "        for key, value in infl_curve.items()\n",
    "        if key * 2 // 2 == key\n",
    "    ]\n",
    "\n",
    "    today = ql.Date(last, \"yyyy-MM-dd\")\n",
    "    issue_date = ql.Date(issue_dt, \"dd/MM/yyyy\")\n",
    "    first_coupon_date = ql.Date(first_coupon_dt, \"dd/MM/yyyy\")\n",
    "    maturity_date = ql.Date(maturity_dt, \"dd/MM/yyyy\")\n",
    "    notional = 100\n",
    "    fixed_rates = [coupon/100]\n",
    "\n",
    "    r = linker_real_yield(\n",
    "        trade_date=today,\n",
    "        ons_rpi_idx=monthly_rpi_index,\n",
    "        settlement_days=1,\n",
    "        inflation_quotes=inflation_quotes,\n",
    "        notional=notional,\n",
    "        issue_date=issue_date,\n",
    "        maturity_date=maturity_date,\n",
    "        fixedRates=fixed_rates,\n",
    "        clean_price=clean_price,\n",
    "        first_coupon_date=first_coupon_date,\n",
    "    )\n",
    "    \n",
    "    return round(r,8)"
   ]
  },
  {
   "cell_type": "code",
   "execution_count": 37,
   "id": "71b9ebab",
   "metadata": {},
   "outputs": [],
   "source": [
    "data_set_april['real_yield']=data_set_april.apply(get_real_yield, axis=1)"
   ]
  },
  {
   "cell_type": "code",
   "execution_count": 38,
   "id": "a3cceb25",
   "metadata": {},
   "outputs": [
    {
     "data": {
      "text/plain": [
       "<Axes: xlabel='Latest redemption date'>"
      ]
     },
     "execution_count": 38,
     "metadata": {},
     "output_type": "execute_result"
    },
    {
     "data": {
      "image/png": "[encoded data removed]",
      "text/plain": [
       "<Figure size 640x480 with 1 Axes>"
      ]
     },
     "metadata": {},
     "output_type": "display_data"
    }
   ],
   "source": [
    "data_set_april.plot(x='Latest redemption date', y='real_yield')"
   ]
  },
  {
   "cell_type": "code",
   "execution_count": 39,
   "id": "8c3ffa45",
   "metadata": {},
   "outputs": [
    {
     "data": {
      "text/plain": [
       "<Axes: xlabel='Issue date', ylabel='real_yield'>"
      ]
     },
     "execution_count": 39,
     "metadata": {},
     "output_type": "execute_result"
    },
    {
     "data": {
      "image/png": "[encoded data removed]",
      "text/plain": [
       "<Figure size 640x480 with 1 Axes>"
      ]
     },
     "metadata": {},
     "output_type": "display_data"
    }
   ],
   "source": [
    "sns.scatterplot(\n",
    "    data=data_set_april,\n",
    "    x=\"Issue date\",\n",
    "    y=\"real_yield\",\n",
    "    size=\"Latest redemption date\",\n",
    "    legend=False,)\n"
   ]
  },
  {
   "cell_type": "code",
   "execution_count": 40,
   "id": "63c23229",
   "metadata": {},
   "outputs": [
    {
     "data": {
      "text/html": [
       "<div>\n",
       "<style scoped>\n",
       "    .dataframe tbody tr th:only-of-type {\n",
       "        vertical-align: middle;\n",
       "    }\n",
       "\n",
       "    .dataframe tbody tr th {\n",
       "        vertical-align: top;\n",
       "    }\n",
       "\n",
       "    .dataframe thead th {\n",
       "        text-align: right;\n",
       "    }\n",
       "</style>\n",
       "<table border=\"1\" class=\"dataframe\">\n",
       "  <thead>\n",
       "    <tr style=\"text-align: right;\">\n",
       "      <th></th>\n",
       "      <th>Sequence</th>\n",
       "      <th>price</th>\n",
       "      <th>balance_outstanding</th>\n",
       "      <th>%</th>\n",
       "      <th>Frequency</th>\n",
       "      <th>ISIN Code</th>\n",
       "      <th>Latest redemption date</th>\n",
       "      <th>Issue date</th>\n",
       "      <th>First coupon payable on date</th>\n",
       "      <th>real_yield</th>\n",
       "    </tr>\n",
       "  </thead>\n",
       "  <tbody>\n",
       "    <tr>\n",
       "      <th>22</th>\n",
       "      <td>55475</td>\n",
       "      <td>60.0</td>\n",
       "      <td>14788.9</td>\n",
       "      <td>0.25</td>\n",
       "      <td>2</td>\n",
       "      <td>GB00BNNGP882</td>\n",
       "      <td>2051-03-22</td>\n",
       "      <td>2021-02-10</td>\n",
       "      <td>2021-09-22</td>\n",
       "      <td>0.023118</td>\n",
       "    </tr>\n",
       "  </tbody>\n",
       "</table>\n",
       "</div>"
      ],
      "text/plain": [
       "    Sequence  price  balance_outstanding     % Frequency     ISIN Code  \\\n",
       "22     55475   60.0              14788.9  0.25         2  GB00BNNGP882   \n",
       "\n",
       "   Latest redemption date Issue date First coupon payable on date  real_yield  \n",
       "22             2051-03-22 2021-02-10                   2021-09-22    0.023118  "
      ]
     },
     "execution_count": 40,
     "metadata": {},
     "output_type": "execute_result"
    }
   ],
   "source": [
    "data_set_april.loc[data_set_april['real_yield'] == data_set_april['real_yield'].max()]"
   ]
  },
  {
   "cell_type": "code",
   "execution_count": 41,
   "id": "19552be3",
   "metadata": {},
   "outputs": [
    {
     "data": {
      "text/html": [
       "<div>\n",
       "<style scoped>\n",
       "    .dataframe tbody tr th:only-of-type {\n",
       "        vertical-align: middle;\n",
       "    }\n",
       "\n",
       "    .dataframe tbody tr th {\n",
       "        vertical-align: top;\n",
       "    }\n",
       "\n",
       "    .dataframe thead th {\n",
       "        text-align: right;\n",
       "    }\n",
       "</style>\n",
       "<table border=\"1\" class=\"dataframe\">\n",
       "  <thead>\n",
       "    <tr style=\"text-align: right;\">\n",
       "      <th></th>\n",
       "      <th>Sequence</th>\n",
       "      <th>price</th>\n",
       "      <th>balance_outstanding</th>\n",
       "      <th>%</th>\n",
       "      <th>Frequency</th>\n",
       "      <th>ISIN Code</th>\n",
       "      <th>Latest redemption date</th>\n",
       "      <th>Issue date</th>\n",
       "      <th>First coupon payable on date</th>\n",
       "      <th>real_yield</th>\n",
       "    </tr>\n",
       "  </thead>\n",
       "  <tbody>\n",
       "    <tr>\n",
       "      <th>23</th>\n",
       "      <td>55480</td>\n",
       "      <td>61.46</td>\n",
       "      <td>20128.9</td>\n",
       "      <td>0.250</td>\n",
       "      <td>2</td>\n",
       "      <td>GB00B73ZYW09</td>\n",
       "      <td>2052-03-22</td>\n",
       "      <td>2012-09-26</td>\n",
       "      <td>2013-03-22</td>\n",
       "      <td>0.021430</td>\n",
       "    </tr>\n",
       "    <tr>\n",
       "      <th>24</th>\n",
       "      <td>55485</td>\n",
       "      <td>80.17</td>\n",
       "      <td>15663.1</td>\n",
       "      <td>1.250</td>\n",
       "      <td>2</td>\n",
       "      <td>GB00BPSNBG80</td>\n",
       "      <td>2054-11-22</td>\n",
       "      <td>2024-03-14</td>\n",
       "      <td>2024-05-22</td>\n",
       "      <td>0.021607</td>\n",
       "    </tr>\n",
       "    <tr>\n",
       "      <th>25</th>\n",
       "      <td>55500</td>\n",
       "      <td>81.14</td>\n",
       "      <td>20846.3</td>\n",
       "      <td>1.250</td>\n",
       "      <td>2</td>\n",
       "      <td>GB00B0CNHZ09</td>\n",
       "      <td>2055-11-22</td>\n",
       "      <td>2005-09-23</td>\n",
       "      <td>2006-05-22</td>\n",
       "      <td>0.020874</td>\n",
       "    </tr>\n",
       "    <tr>\n",
       "      <th>26</th>\n",
       "      <td>55525</td>\n",
       "      <td>55.64</td>\n",
       "      <td>10630.2</td>\n",
       "      <td>0.125</td>\n",
       "      <td>2</td>\n",
       "      <td>GB00BYVP4K94</td>\n",
       "      <td>2056-11-22</td>\n",
       "      <td>2016-11-30</td>\n",
       "      <td>2017-05-22</td>\n",
       "      <td>0.020376</td>\n",
       "    </tr>\n",
       "    <tr>\n",
       "      <th>27</th>\n",
       "      <td>55550</td>\n",
       "      <td>54.87</td>\n",
       "      <td>16865.2</td>\n",
       "      <td>0.125</td>\n",
       "      <td>2</td>\n",
       "      <td>GB00BP9DLZ64</td>\n",
       "      <td>2058-03-22</td>\n",
       "      <td>2014-07-30</td>\n",
       "      <td>2015-03-22</td>\n",
       "      <td>0.020057</td>\n",
       "    </tr>\n",
       "    <tr>\n",
       "      <th>28</th>\n",
       "      <td>55600</td>\n",
       "      <td>58.50</td>\n",
       "      <td>20849.9</td>\n",
       "      <td>0.375</td>\n",
       "      <td>2</td>\n",
       "      <td>GB00B4PTCY75</td>\n",
       "      <td>2062-03-22</td>\n",
       "      <td>2011-10-26</td>\n",
       "      <td>2012-03-22</td>\n",
       "      <td>0.019606</td>\n",
       "    </tr>\n",
       "    <tr>\n",
       "      <th>29</th>\n",
       "      <td>55650</td>\n",
       "      <td>49.84</td>\n",
       "      <td>12292.0</td>\n",
       "      <td>0.125</td>\n",
       "      <td>2</td>\n",
       "      <td>GB00BD9MZZ71</td>\n",
       "      <td>2065-11-22</td>\n",
       "      <td>2016-02-24</td>\n",
       "      <td>2016-05-22</td>\n",
       "      <td>0.019065</td>\n",
       "    </tr>\n",
       "    <tr>\n",
       "      <th>30</th>\n",
       "      <td>55700</td>\n",
       "      <td>48.86</td>\n",
       "      <td>19881.4</td>\n",
       "      <td>0.125</td>\n",
       "      <td>2</td>\n",
       "      <td>GB00BDX8CX86</td>\n",
       "      <td>2068-03-22</td>\n",
       "      <td>2013-09-26</td>\n",
       "      <td>2014-03-22</td>\n",
       "      <td>0.018611</td>\n",
       "    </tr>\n",
       "    <tr>\n",
       "      <th>31</th>\n",
       "      <td>55800</td>\n",
       "      <td>55.19</td>\n",
       "      <td>6865.9</td>\n",
       "      <td>0.125</td>\n",
       "      <td>2</td>\n",
       "      <td>GB00BM8Z2W66</td>\n",
       "      <td>2073-03-22</td>\n",
       "      <td>2021-11-24</td>\n",
       "      <td>2022-03-22</td>\n",
       "      <td>0.014169</td>\n",
       "    </tr>\n",
       "  </tbody>\n",
       "</table>\n",
       "</div>"
      ],
      "text/plain": [
       "    Sequence  price  balance_outstanding      % Frequency     ISIN Code  \\\n",
       "23     55480  61.46              20128.9  0.250         2  GB00B73ZYW09   \n",
       "24     55485  80.17              15663.1  1.250         2  GB00BPSNBG80   \n",
       "25     55500  81.14              20846.3  1.250         2  GB00B0CNHZ09   \n",
       "26     55525  55.64              10630.2  0.125         2  GB00BYVP4K94   \n",
       "27     55550  54.87              16865.2  0.125         2  GB00BP9DLZ64   \n",
       "28     55600  58.50              20849.9  0.375         2  GB00B4PTCY75   \n",
       "29     55650  49.84              12292.0  0.125         2  GB00BD9MZZ71   \n",
       "30     55700  48.86              19881.4  0.125         2  GB00BDX8CX86   \n",
       "31     55800  55.19               6865.9  0.125         2  GB00BM8Z2W66   \n",
       "\n",
       "   Latest redemption date Issue date First coupon payable on date  real_yield  \n",
       "23             2052-03-22 2012-09-26                   2013-03-22    0.021430  \n",
       "24             2054-11-22 2024-03-14                   2024-05-22    0.021607  \n",
       "25             2055-11-22 2005-09-23                   2006-05-22    0.020874  \n",
       "26             2056-11-22 2016-11-30                   2017-05-22    0.020376  \n",
       "27             2058-03-22 2014-07-30                   2015-03-22    0.020057  \n",
       "28             2062-03-22 2011-10-26                   2012-03-22    0.019606  \n",
       "29             2065-11-22 2016-02-24                   2016-05-22    0.019065  \n",
       "30             2068-03-22 2013-09-26                   2014-03-22    0.018611  \n",
       "31             2073-03-22 2021-11-24                   2022-03-22    0.014169  "
      ]
     },
     "execution_count": 41,
     "metadata": {},
     "output_type": "execute_result"
    }
   ],
   "source": [
    "data_set_april[data_set_april['Latest redemption date'] > '2051-03-31']"
   ]
  },
  {
   "cell_type": "code",
   "execution_count": 42,
   "id": "3b13cdae",
   "metadata": {},
   "outputs": [
    {
     "data": {
      "text/html": [
       "<div>\n",
       "<style scoped>\n",
       "    .dataframe tbody tr th:only-of-type {\n",
       "        vertical-align: middle;\n",
       "    }\n",
       "\n",
       "    .dataframe tbody tr th {\n",
       "        vertical-align: top;\n",
       "    }\n",
       "\n",
       "    .dataframe thead th {\n",
       "        text-align: right;\n",
       "    }\n",
       "</style>\n",
       "<table border=\"1\" class=\"dataframe\">\n",
       "  <thead>\n",
       "    <tr style=\"text-align: right;\">\n",
       "      <th></th>\n",
       "      <th>Sequence</th>\n",
       "      <th>price</th>\n",
       "      <th>balance_outstanding</th>\n",
       "      <th>%</th>\n",
       "      <th>Frequency</th>\n",
       "      <th>ISIN Code</th>\n",
       "      <th>Latest redemption date</th>\n",
       "      <th>Issue date</th>\n",
       "      <th>First coupon payable on date</th>\n",
       "      <th>real_yield</th>\n",
       "    </tr>\n",
       "  </thead>\n",
       "  <tbody>\n",
       "    <tr>\n",
       "      <th>20</th>\n",
       "      <td>55465</td>\n",
       "      <td>94.790</td>\n",
       "      <td>5026.1</td>\n",
       "      <td>1.875</td>\n",
       "      <td>2</td>\n",
       "      <td>GB00BT7J0134</td>\n",
       "      <td>2049-09-22</td>\n",
       "      <td>2025-03-12</td>\n",
       "      <td>2025-09-22</td>\n",
       "      <td>0.021521</td>\n",
       "    </tr>\n",
       "    <tr>\n",
       "      <th>1</th>\n",
       "      <td>55300</td>\n",
       "      <td>103.049</td>\n",
       "      <td>28768.8</td>\n",
       "      <td>1.250</td>\n",
       "      <td>2</td>\n",
       "      <td>GB00B128DH60</td>\n",
       "      <td>2027-11-22</td>\n",
       "      <td>2006-04-26</td>\n",
       "      <td>2006-11-22</td>\n",
       "      <td>0.000524</td>\n",
       "    </tr>\n",
       "    <tr>\n",
       "      <th>24</th>\n",
       "      <td>55485</td>\n",
       "      <td>80.170</td>\n",
       "      <td>15663.1</td>\n",
       "      <td>1.250</td>\n",
       "      <td>2</td>\n",
       "      <td>GB00BPSNBG80</td>\n",
       "      <td>2054-11-22</td>\n",
       "      <td>2024-03-14</td>\n",
       "      <td>2024-05-22</td>\n",
       "      <td>0.021607</td>\n",
       "    </tr>\n",
       "    <tr>\n",
       "      <th>5</th>\n",
       "      <td>55350</td>\n",
       "      <td>102.862</td>\n",
       "      <td>26595.4</td>\n",
       "      <td>1.250</td>\n",
       "      <td>2</td>\n",
       "      <td>GB00B3D4VD98</td>\n",
       "      <td>2032-11-22</td>\n",
       "      <td>2008-10-29</td>\n",
       "      <td>2009-05-22</td>\n",
       "      <td>0.008565</td>\n",
       "    </tr>\n",
       "    <tr>\n",
       "      <th>25</th>\n",
       "      <td>55500</td>\n",
       "      <td>81.140</td>\n",
       "      <td>20846.3</td>\n",
       "      <td>1.250</td>\n",
       "      <td>2</td>\n",
       "      <td>GB00B0CNHZ09</td>\n",
       "      <td>2055-11-22</td>\n",
       "      <td>2005-09-23</td>\n",
       "      <td>2006-05-22</td>\n",
       "      <td>0.020874</td>\n",
       "    </tr>\n",
       "  </tbody>\n",
       "</table>\n",
       "</div>"
      ],
      "text/plain": [
       "    Sequence    price  balance_outstanding      % Frequency     ISIN Code  \\\n",
       "20     55465   94.790               5026.1  1.875         2  GB00BT7J0134   \n",
       "1      55300  103.049              28768.8  1.250         2  GB00B128DH60   \n",
       "24     55485   80.170              15663.1  1.250         2  GB00BPSNBG80   \n",
       "5      55350  102.862              26595.4  1.250         2  GB00B3D4VD98   \n",
       "25     55500   81.140              20846.3  1.250         2  GB00B0CNHZ09   \n",
       "\n",
       "   Latest redemption date Issue date First coupon payable on date  real_yield  \n",
       "20             2049-09-22 2025-03-12                   2025-09-22    0.021521  \n",
       "1              2027-11-22 2006-04-26                   2006-11-22    0.000524  \n",
       "24             2054-11-22 2024-03-14                   2024-05-22    0.021607  \n",
       "5              2032-11-22 2008-10-29                   2009-05-22    0.008565  \n",
       "25             2055-11-22 2005-09-23                   2006-05-22    0.020874  "
      ]
     },
     "execution_count": 42,
     "metadata": {},
     "output_type": "execute_result"
    }
   ],
   "source": [
    "# data_set_april[data_set_april['Latest redemption date'] > '2051-03-31']\n",
    "data_set_april.sort_values(by='%', ascending=False).head()"
   ]
  },
  {
   "cell_type": "code",
   "execution_count": 43,
   "id": "128ca8b2",
   "metadata": {},
   "outputs": [
    {
     "data": {
      "text/plain": [
       "np.float64(260758.39999999997)"
      ]
     },
     "execution_count": 43,
     "metadata": {},
     "output_type": "execute_result"
    }
   ],
   "source": [
    "data_set_april[data_set_april['price']<80]['balance_outstanding'].sum()"
   ]
  },
  {
   "cell_type": "code",
   "execution_count": 44,
   "id": "6a418578",
   "metadata": {},
   "outputs": [],
   "source": [
    "def calculate_lme_balance(row):\n",
    "    if row['price'] > 80:\n",
    "        return row['balance_outstanding']\n",
    "    else:\n",
    "        return row['balance_outstanding'] * row['price']/100\n",
    "\n",
    "def calculate_lme_real_yield(row):\n",
    "    if row['Latest redemption date'] > pd.to_datetime('2051-03-31', format=\"%Y-%m-%d\"):\n",
    "        return 0.0215\n",
    "    else:\n",
    "        return row['real_yield']\n",
    "    \n",
    "def calculate_lme_coupon(row):\n",
    "    if row['Latest redemption date'] > pd.to_datetime('2051-03-31', format=\"%Y-%m-%d\"):\n",
    "        return 2.15\n",
    "    else:\n",
    "        return row['%']\n",
    "\n",
    "data_set_april['lme_balance'] = data_set_april.apply(calculate_lme_balance, axis=1)\n",
    "data_set_april['lme_real_yield'] = data_set_april.apply(calculate_lme_real_yield, axis=1)\n",
    "data_set_april['lme_coupon'] = data_set_april.apply(calculate_lme_coupon, axis=1)"
   ]
  },
  {
   "cell_type": "code",
   "execution_count": 45,
   "id": "4e4214ed",
   "metadata": {},
   "outputs": [
    {
     "name": "stdout",
     "output_type": "stream",
     "text": [
      "24400.398750000004 22358.58295389\n"
     ]
    }
   ],
   "source": [
    "infl = 0.035\n",
    "data_set_april['uplift'] = data_set_april['balance_outstanding']*infl\n",
    "data_set_april['cash_interest'] = data_set_april['balance_outstanding']*data_set_april['%']/100\n",
    "\n",
    "data_set_april['new_uplift'] = data_set_april['lme_balance']*infl\n",
    "data_set_april['new_cash_interest'] = data_set_april['lme_balance']*data_set_april['lme_coupon']/100\n",
    "\n",
    "print(data_set_april['uplift'].sum() + data_set_april['cash_interest'].sum(), data_set_april['new_uplift'].sum() + data_set_april['new_cash_interest'].sum())"
   ]
  },
  {
   "cell_type": "code",
   "execution_count": 46,
   "id": "fa54cf67",
   "metadata": {},
   "outputs": [],
   "source": [
    "data_set_april['mat_year'] = data_set_april['Latest redemption date'].dt.year\n",
    "data_set_april['mat_decade'] = (data_set_april['mat_year'] // 10 * 10)\n",
    "data_set_april['issue_year'] = data_set_april['Issue date'].dt.year\n",
    "data_set_april['uplift_chg'] = data_set_april['new_uplift'] - data_set_april['uplift']\n",
    "data_set_april['cash_interest_chg'] = data_set_april['new_cash_interest'] - data_set_april['cash_interest']\n",
    "data_set_april['interest_chg'] = data_set_april['cash_interest_chg'] + data_set_april['uplift_chg']"
   ]
  },
  {
   "cell_type": "code",
   "execution_count": 47,
   "id": "1a29c208",
   "metadata": {},
   "outputs": [
    {
     "data": {
      "text/html": [
       "<div>\n",
       "<style scoped>\n",
       "    .dataframe tbody tr th:only-of-type {\n",
       "        vertical-align: middle;\n",
       "    }\n",
       "\n",
       "    .dataframe tbody tr th {\n",
       "        vertical-align: top;\n",
       "    }\n",
       "\n",
       "    .dataframe thead th {\n",
       "        text-align: right;\n",
       "    }\n",
       "</style>\n",
       "<table border=\"1\" class=\"dataframe\">\n",
       "  <thead>\n",
       "    <tr style=\"text-align: right;\">\n",
       "      <th></th>\n",
       "      <th>uplift</th>\n",
       "      <th>new_uplift</th>\n",
       "      <th>uplift_chg</th>\n",
       "    </tr>\n",
       "  </thead>\n",
       "  <tbody>\n",
       "    <tr>\n",
       "      <th>0</th>\n",
       "      <td>718.4765</td>\n",
       "      <td>718.476500</td>\n",
       "      <td>0.000000</td>\n",
       "    </tr>\n",
       "    <tr>\n",
       "      <th>1</th>\n",
       "      <td>1006.9080</td>\n",
       "      <td>1006.908000</td>\n",
       "      <td>0.000000</td>\n",
       "    </tr>\n",
       "    <tr>\n",
       "      <th>2</th>\n",
       "      <td>885.8255</td>\n",
       "      <td>885.825500</td>\n",
       "      <td>0.000000</td>\n",
       "    </tr>\n",
       "    <tr>\n",
       "      <th>3</th>\n",
       "      <td>897.8900</td>\n",
       "      <td>897.890000</td>\n",
       "      <td>0.000000</td>\n",
       "    </tr>\n",
       "    <tr>\n",
       "      <th>4</th>\n",
       "      <td>540.3230</td>\n",
       "      <td>540.323000</td>\n",
       "      <td>0.000000</td>\n",
       "    </tr>\n",
       "    <tr>\n",
       "      <th>5</th>\n",
       "      <td>930.8390</td>\n",
       "      <td>930.839000</td>\n",
       "      <td>0.000000</td>\n",
       "    </tr>\n",
       "    <tr>\n",
       "      <th>6</th>\n",
       "      <td>670.8940</td>\n",
       "      <td>670.894000</td>\n",
       "      <td>0.000000</td>\n",
       "    </tr>\n",
       "    <tr>\n",
       "      <th>7</th>\n",
       "      <td>865.2000</td>\n",
       "      <td>865.200000</td>\n",
       "      <td>0.000000</td>\n",
       "    </tr>\n",
       "    <tr>\n",
       "      <th>8</th>\n",
       "      <td>188.8250</td>\n",
       "      <td>188.825000</td>\n",
       "      <td>0.000000</td>\n",
       "    </tr>\n",
       "    <tr>\n",
       "      <th>9</th>\n",
       "      <td>737.4290</td>\n",
       "      <td>737.429000</td>\n",
       "      <td>0.000000</td>\n",
       "    </tr>\n",
       "    <tr>\n",
       "      <th>10</th>\n",
       "      <td>890.8865</td>\n",
       "      <td>890.886500</td>\n",
       "      <td>0.000000</td>\n",
       "    </tr>\n",
       "    <tr>\n",
       "      <th>11</th>\n",
       "      <td>679.4970</td>\n",
       "      <td>679.497000</td>\n",
       "      <td>0.000000</td>\n",
       "    </tr>\n",
       "    <tr>\n",
       "      <th>12</th>\n",
       "      <td>897.3720</td>\n",
       "      <td>897.372000</td>\n",
       "      <td>0.000000</td>\n",
       "    </tr>\n",
       "    <tr>\n",
       "      <th>13</th>\n",
       "      <td>612.8955</td>\n",
       "      <td>467.823135</td>\n",
       "      <td>-145.072365</td>\n",
       "    </tr>\n",
       "    <tr>\n",
       "      <th>14</th>\n",
       "      <td>815.1605</td>\n",
       "      <td>815.160500</td>\n",
       "      <td>0.000000</td>\n",
       "    </tr>\n",
       "    <tr>\n",
       "      <th>15</th>\n",
       "      <td>894.5335</td>\n",
       "      <td>630.914478</td>\n",
       "      <td>-263.619022</td>\n",
       "    </tr>\n",
       "    <tr>\n",
       "      <th>16</th>\n",
       "      <td>460.5335</td>\n",
       "      <td>353.505515</td>\n",
       "      <td>-107.027985</td>\n",
       "    </tr>\n",
       "    <tr>\n",
       "      <th>17</th>\n",
       "      <td>721.3885</td>\n",
       "      <td>483.907406</td>\n",
       "      <td>-237.481094</td>\n",
       "    </tr>\n",
       "    <tr>\n",
       "      <th>18</th>\n",
       "      <td>775.6735</td>\n",
       "      <td>591.683746</td>\n",
       "      <td>-183.989754</td>\n",
       "    </tr>\n",
       "    <tr>\n",
       "      <th>19</th>\n",
       "      <td>591.1955</td>\n",
       "      <td>374.108512</td>\n",
       "      <td>-217.086988</td>\n",
       "    </tr>\n",
       "    <tr>\n",
       "      <th>20</th>\n",
       "      <td>175.9135</td>\n",
       "      <td>175.913500</td>\n",
       "      <td>0.000000</td>\n",
       "    </tr>\n",
       "    <tr>\n",
       "      <th>21</th>\n",
       "      <td>789.7400</td>\n",
       "      <td>540.813952</td>\n",
       "      <td>-248.926048</td>\n",
       "    </tr>\n",
       "    <tr>\n",
       "      <th>22</th>\n",
       "      <td>517.6115</td>\n",
       "      <td>310.566900</td>\n",
       "      <td>-207.044600</td>\n",
       "    </tr>\n",
       "    <tr>\n",
       "      <th>23</th>\n",
       "      <td>704.5115</td>\n",
       "      <td>432.992768</td>\n",
       "      <td>-271.518732</td>\n",
       "    </tr>\n",
       "    <tr>\n",
       "      <th>24</th>\n",
       "      <td>548.2085</td>\n",
       "      <td>548.208500</td>\n",
       "      <td>0.000000</td>\n",
       "    </tr>\n",
       "    <tr>\n",
       "      <th>25</th>\n",
       "      <td>729.6205</td>\n",
       "      <td>729.620500</td>\n",
       "      <td>0.000000</td>\n",
       "    </tr>\n",
       "    <tr>\n",
       "      <th>26</th>\n",
       "      <td>372.0570</td>\n",
       "      <td>207.012515</td>\n",
       "      <td>-165.044485</td>\n",
       "    </tr>\n",
       "    <tr>\n",
       "      <th>27</th>\n",
       "      <td>590.2820</td>\n",
       "      <td>323.887733</td>\n",
       "      <td>-266.394267</td>\n",
       "    </tr>\n",
       "    <tr>\n",
       "      <th>28</th>\n",
       "      <td>729.7465</td>\n",
       "      <td>426.901703</td>\n",
       "      <td>-302.844798</td>\n",
       "    </tr>\n",
       "    <tr>\n",
       "      <th>29</th>\n",
       "      <td>430.2200</td>\n",
       "      <td>214.421648</td>\n",
       "      <td>-215.798352</td>\n",
       "    </tr>\n",
       "    <tr>\n",
       "      <th>30</th>\n",
       "      <td>695.8490</td>\n",
       "      <td>339.991821</td>\n",
       "      <td>-355.857179</td>\n",
       "    </tr>\n",
       "    <tr>\n",
       "      <th>31</th>\n",
       "      <td>240.3065</td>\n",
       "      <td>132.625157</td>\n",
       "      <td>-107.681343</td>\n",
       "    </tr>\n",
       "  </tbody>\n",
       "</table>\n",
       "</div>"
      ],
      "text/plain": [
       "       uplift   new_uplift  uplift_chg\n",
       "0    718.4765   718.476500    0.000000\n",
       "1   1006.9080  1006.908000    0.000000\n",
       "2    885.8255   885.825500    0.000000\n",
       "3    897.8900   897.890000    0.000000\n",
       "4    540.3230   540.323000    0.000000\n",
       "5    930.8390   930.839000    0.000000\n",
       "6    670.8940   670.894000    0.000000\n",
       "7    865.2000   865.200000    0.000000\n",
       "8    188.8250   188.825000    0.000000\n",
       "9    737.4290   737.429000    0.000000\n",
       "10   890.8865   890.886500    0.000000\n",
       "11   679.4970   679.497000    0.000000\n",
       "12   897.3720   897.372000    0.000000\n",
       "13   612.8955   467.823135 -145.072365\n",
       "14   815.1605   815.160500    0.000000\n",
       "15   894.5335   630.914478 -263.619022\n",
       "16   460.5335   353.505515 -107.027985\n",
       "17   721.3885   483.907406 -237.481094\n",
       "18   775.6735   591.683746 -183.989754\n",
       "19   591.1955   374.108512 -217.086988\n",
       "20   175.9135   175.913500    0.000000\n",
       "21   789.7400   540.813952 -248.926048\n",
       "22   517.6115   310.566900 -207.044600\n",
       "23   704.5115   432.992768 -271.518732\n",
       "24   548.2085   548.208500    0.000000\n",
       "25   729.6205   729.620500    0.000000\n",
       "26   372.0570   207.012515 -165.044485\n",
       "27   590.2820   323.887733 -266.394267\n",
       "28   729.7465   426.901703 -302.844798\n",
       "29   430.2200   214.421648 -215.798352\n",
       "30   695.8490   339.991821 -355.857179\n",
       "31   240.3065   132.625157 -107.681343"
      ]
     },
     "execution_count": 47,
     "metadata": {},
     "output_type": "execute_result"
    }
   ],
   "source": [
    "data_set_april[['uplift','new_uplift','uplift_chg']]"
   ]
  },
  {
   "cell_type": "code",
   "execution_count": 48,
   "id": "980b2753",
   "metadata": {},
   "outputs": [
    {
     "data": {
      "text/plain": [
       "<Axes: title={'center': 'Aggregated Financial Metrics by Maturity Decade'}, xlabel='mat_decade'>"
      ]
     },
     "execution_count": 48,
     "metadata": {},
     "output_type": "execute_result"
    },
    {
     "data": {
      "image/png": "[encoded data removed]",
      "text/plain": [
       "<Figure size 640x480 with 1 Axes>"
      ]
     },
     "metadata": {},
     "output_type": "display_data"
    }
   ],
   "source": [
    "data_set_april.groupby('mat_decade').agg(\n",
    "    {\n",
    "        'uplift':'sum',\n",
    "        'cash_interest':'sum',\n",
    "        'new_uplift':'sum',\n",
    "        'new_cash_interest':'sum',\n",
    "        'interest_chg':'sum'\n",
    "    }).plot(kind='bar', title='Aggregated Financial Metrics by Maturity Decade')"
   ]
  },
  {
   "cell_type": "code",
   "execution_count": null,
   "id": "2cb65319",
   "metadata": {},
   "outputs": [],
   "source": []
  }
 ],
 "metadata": {
  "kernelspec": {
   "display_name": ".venv (3.12.10)",
   "language": "python",
   "name": "python3"
  },
  "language_info": {
   "codemirror_mode": {
    "name": "ipython",
    "version": 3
   },
   "file_extension": ".py",
   "mimetype": "text/x-python",
   "name": "python",
   "nbconvert_exporter": "python",
   "pygments_lexer": "ipython3",
   "version": "3.12.10"
  }
 },
 "nbformat": 4,
 "nbformat_minor": 5
}
