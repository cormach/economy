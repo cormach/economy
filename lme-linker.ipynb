{
 "cells": [
  {
   "cell_type": "code",
   "execution_count": null,
   "id": "24f6ec6b",
   "metadata": {},
   "outputs": [],
   "source": [
    "import pandas as pd\n",
    "import requests\n",
    "import zipfile\n",
    "import io\n",
    "import os\n",
    "import csv\n",
    "import ctypes as ct\n",
    "import numpy as np\n",
    "from collections import Counter\n",
    "import matplotlib.pyplot as plt\n",
    "import re\n",
    "import seaborn as sns\n",
    "\n",
    "from bgs.load_bgs_amounts import load_bgs_amounts\n",
    "from bgs.load_gilt_details import load_csv_blocks\n",
    "from bgs.load_bgs_prices import load_prices\n",
    "from bgs.gilt_analytics import gilt_yield"
   ]
  },
  {
   "cell_type": "code",
   "execution_count": null,
   "id": "587c36eb",
   "metadata": {},
   "outputs": [],
   "source": [
    "def clean_date(bgs_index):\n",
    "    if re.match(r'^\\d{2}\\s\\w{3}\\s+\\d{4}$', bgs_index):\n",
    "        return pd.to_datetime(bgs_index, format=\"%d %b %Y\", errors='coerce').to_period('M').to_timestamp('M')\n",
    "    else:\n",
    "        return pd.to_datetime(bgs_index).to_period('M').to_timestamp('M')\n",
    "\n",
    "def clean_percentage(x):\n",
    "    if x.strip() in ['Variable','Floating']:\n",
    "        return x\n",
    "    try:\n",
    "        x = float(x)\n",
    "    except (ValueError, TypeError):\n",
    "        units, fractions = x.split(' ')\n",
    "        num, denom = map(float, fractions.split('/'))\n",
    "        x = float(units) + num / denom\n",
    "        print(x)\n",
    "    return x"
   ]
  },
  {
   "cell_type": "code",
   "execution_count": null,
   "id": "3d72a0aa",
   "metadata": {},
   "outputs": [],
   "source": [
    "tables = load_bgs_amounts(\"downloads/BGSAmounts.csv\")\n",
    "\n",
    "conv = tables['Conventionals']\n",
    "conv.replace(\"Redeemed\", \"\", inplace=True)\n",
    "conv = conv.apply(pd.to_numeric, errors='coerce')\n",
    "conv.fillna(0, inplace=True)\n",
    "conv.index = pd.Index([clean_date(x) for x in list(conv.index)]).to_period('M').to_timestamp('M')\n",
    "\n",
    "old = tables['Calculated indexed nominal Old-style']\n",
    "old.replace(\"Redeemed\", \"\", inplace=True)\n",
    "old = old.apply(pd.to_numeric, errors='coerce')\n",
    "old.fillna(0, inplace=True)\n",
    "old.index = pd.Index([clean_date(x) for x in list(old.index)]).to_period('M').to_timestamp('M')\n",
    "\n",
    "new = tables['Calculated indexed nominal New-style']\n",
    "new.replace(\"Redeemed\", \"\", inplace=True)\n",
    "new = new.apply(pd.to_numeric, errors='coerce')\n",
    "new.fillna(0, inplace=True)\n",
    "new.index = pd.Index([clean_date(x) for x in list(new.index)]).to_period('M').to_timestamp('M')\n",
    "\n",
    "new_no_idx = tables['Index-linked New-style']\n",
    "new_no_idx.replace(\"Redeemed\", \"\", inplace=True)\n",
    "new_no_idx = new_no_idx.apply(pd.to_numeric, errors='coerce')\n",
    "new_no_idx.fillna(0, inplace=True)\n",
    "new_no_idx.index = pd.Index([clean_date(x) for x in list(new_no_idx.index)]).to_period('M').to_timestamp('M')\n"
   ]
  },
  {
   "cell_type": "code",
   "execution_count": null,
   "id": "ee896022",
   "metadata": {},
   "outputs": [],
   "source": [
    "price_df=load_prices(\"downloads/BGSPrices.csv\")\n",
    "price_df.index = pd.to_datetime(price_df.index, format=\"%d %b %Y\").to_period('M').to_timestamp('M')\n",
    "for text in ['Amalgamated', 'Redeemed', 'redeemed']:\n",
    "    price_df = price_df.replace(text, 0)\n",
    "price_df = price_df.replace('missing', None)\n",
    "price_df = price_df.ffill(axis=0)\n",
    "price_df = price_df.fillna(0)"
   ]
  },
  {
   "cell_type": "code",
   "execution_count": null,
   "id": "0e5e4337",
   "metadata": {},
   "outputs": [],
   "source": [
    "details = load_csv_blocks(\"downloads/BGSDetails.csv\")\n",
    "\n",
    "details.keys()"
   ]
  },
  {
   "cell_type": "code",
   "execution_count": null,
   "id": "b8310da7",
   "metadata": {},
   "outputs": [],
   "source": [
    "\n",
    "conv_details = details['Conventionals']\n",
    "conv_details['%'] = conv_details['%'].apply(clean_percentage)\n",
    "\n",
    "new_details = details['Index-Linked New-style']\n",
    "new_details['%'] = new_details['%'].apply(clean_percentage)\n",
    "\n",
    "old_details = details['Index-Linked Old-style']\n",
    "old_details['%'] = old_details['%'].apply(clean_percentage)\n"
   ]
  },
  {
   "cell_type": "code",
   "execution_count": null,
   "id": "e4236093",
   "metadata": {},
   "outputs": [],
   "source": [
    "last = '2025-04-30'"
   ]
  },
  {
   "cell_type": "code",
   "execution_count": null,
   "id": "a5fb6c2f",
   "metadata": {},
   "outputs": [],
   "source": [
    "linkers = new.loc[last, new.loc[last] !=0].reset_index()['index'].to_list()\n",
    "linkers[0]"
   ]
  },
  {
   "cell_type": "code",
   "execution_count": null,
   "id": "7779fa98",
   "metadata": {},
   "outputs": [],
   "source": [
    "last_price = price_df.loc[last, [int(x) for x in linkers]]\n",
    "principal = new.loc[last, linkers]"
   ]
  },
  {
   "cell_type": "code",
   "execution_count": null,
   "id": "e1e0eec7",
   "metadata": {},
   "outputs": [],
   "source": [
    "principal.index = principal.index.astype(int)\n",
    "principal.name = 'balance_outstanding'\n",
    "last_price.name = 'price'"
   ]
  },
  {
   "cell_type": "code",
   "execution_count": null,
   "id": "f563b775",
   "metadata": {},
   "outputs": [],
   "source": [
    "data_set_april = last_price.reset_index().merge(principal.reset_index(), on='index')\n",
    "data_set_april.rename(columns={'index': 'Sequence'}, inplace=True)"
   ]
  },
  {
   "cell_type": "code",
   "execution_count": null,
   "id": "16cd140b",
   "metadata": {},
   "outputs": [],
   "source": [
    "#Average Price\n",
    "(data_set_april['balance_outstanding']*data_set_april['price']).sum()/data_set_april['balance_outstanding'].sum()"
   ]
  },
  {
   "cell_type": "code",
   "execution_count": null,
   "id": "85bcf321",
   "metadata": {},
   "outputs": [],
   "source": [
    "data_set_april.head()"
   ]
  },
  {
   "cell_type": "code",
   "execution_count": null,
   "id": "1c1aa202",
   "metadata": {},
   "outputs": [],
   "source": [
    "new_details['Sequence'] = new_details['Sequence'].astype(int)"
   ]
  },
  {
   "cell_type": "code",
   "execution_count": null,
   "id": "1fed44fc",
   "metadata": {},
   "outputs": [],
   "source": [
    "len([x for x in new_details['Sequence'] if x in [int(y) for y in linkers]])"
   ]
  },
  {
   "cell_type": "code",
   "execution_count": null,
   "id": "2771c1e8",
   "metadata": {},
   "outputs": [],
   "source": [
    "len(linkers)"
   ]
  },
  {
   "cell_type": "code",
   "execution_count": null,
   "id": "575a1ed7",
   "metadata": {},
   "outputs": [],
   "source": [
    "new_details.columns"
   ]
  },
  {
   "cell_type": "code",
   "execution_count": null,
   "id": "fba930b7",
   "metadata": {},
   "outputs": [],
   "source": [
    "date_variables = [\"Latest redemption date\",\"Issue date\",\"First coupon payable on date\",]\n",
    "static_variables = ['%', \"Frequency\",\"Sequence\",'ISIN Code']+date_variables\n",
    "data_set_april = data_set_april.merge(new_details[static_variables].set_index(\"Sequence\"), on='Sequence', how='inner')\n",
    "for date_var in date_variables:\n",
    "    data_set_april[date_var] = data_set_april[date_var].apply(clean_date)\n",
    "data_set_april.head()"
   ]
  },
  {
   "cell_type": "code",
   "execution_count": null,
   "id": "9efbde72",
   "metadata": {},
   "outputs": [],
   "source": [
    "(data_set_april['balance_outstanding']*data_set_april['%']).sum()/data_set_april['balance_outstanding'].sum()"
   ]
  },
  {
   "cell_type": "code",
   "execution_count": null,
   "id": "cab59924",
   "metadata": {},
   "outputs": [],
   "source": [
    "data_set_april['balance_outstanding'].plot(kind='hist')"
   ]
  },
  {
   "cell_type": "code",
   "execution_count": null,
   "id": "bafd0079",
   "metadata": {},
   "outputs": [],
   "source": [
    "sns.set_theme(style=\"darkgrid\")\n",
    "\n",
    "# use the scatterplot function to build the bubble map\n",
    "ax = sns.scatterplot(\n",
    "    data=data_set_april,\n",
    "    x=\"Latest redemption date\",\n",
    "    y=\"price\",\n",
    "    size=\"balance_outstanding\",\n",
    "    legend=False,\n",
    "    sizes=(10, 500)\n",
    ")\n",
    "\n",
    "# show the graph\n",
    "plt.show()"
   ]
  },
  {
   "cell_type": "code",
   "execution_count": null,
   "id": "6d556dd9",
   "metadata": {},
   "outputs": [],
   "source": [
    "august = \"2022-08-31\"\n",
    "september = \"2022-09-30\"\n",
    "december = \"2022-12-31\""
   ]
  },
  {
   "cell_type": "code",
   "execution_count": null,
   "id": "ef974498",
   "metadata": {},
   "outputs": [],
   "source": [
    "liz_linkers  = new.loc[august, new.loc[august] !=0].reset_index()['index'].to_list()"
   ]
  },
  {
   "cell_type": "code",
   "execution_count": null,
   "id": "04283a1a",
   "metadata": {},
   "outputs": [],
   "source": [
    "august_price = price_df.loc[august, [int(x) for x in liz_linkers]]\n",
    "september_price = price_df.loc[september, [int(x) for x in liz_linkers]]\n",
    "december_price = price_df.loc[december, [int(x) for x in liz_linkers]]"
   ]
  },
  {
   "cell_type": "code",
   "execution_count": null,
   "id": "c608804d",
   "metadata": {},
   "outputs": [],
   "source": [
    "last_price.name='Apr-2025'\n",
    "august_price.name='Aug-2022'\n",
    "september_price.name='Sep-2022'\n",
    "december_price.name='Dec-2022'"
   ]
  },
  {
   "cell_type": "code",
   "execution_count": null,
   "id": "673968a6",
   "metadata": {},
   "outputs": [],
   "source": [
    "history = pd.concat([last_price, august_price, september_price, december_price], axis=1)"
   ]
  },
  {
   "cell_type": "code",
   "execution_count": null,
   "id": "f5bdf8a6",
   "metadata": {},
   "outputs": [],
   "source": [
    "history = history.replace(0.000, np.nan)\n",
    "history"
   ]
  },
  {
   "cell_type": "code",
   "execution_count": null,
   "id": "bd22dff3",
   "metadata": {},
   "outputs": [],
   "source": [
    "history = history.reset_index().rename(columns={'index':'Sequence'})\n",
    "history = history.merge(new_details[['Sequence','Latest redemption date']], on='Sequence', how='left')"
   ]
  },
  {
   "cell_type": "code",
   "execution_count": null,
   "id": "a5f8e526",
   "metadata": {},
   "outputs": [],
   "source": [
    "history['Latest redemption date'] = history['Latest redemption date'].apply(clean_date)\n",
    "history.set_index('Latest redemption date', inplace=True)\n",
    "history.drop(columns=['Sequence'], inplace=True)\n"
   ]
  },
  {
   "cell_type": "code",
   "execution_count": null,
   "id": "192e917c",
   "metadata": {},
   "outputs": [],
   "source": [
    "sns.scatterplot(data=history[['Aug-2022','Sep-2022','Dec-2022','Apr-2025']])"
   ]
  },
  {
   "cell_type": "code",
   "execution_count": null,
   "id": "3ed85ed5",
   "metadata": {},
   "outputs": [],
   "source": [
    "higher_prices = [55360,55380, 55465,55485, 55500]"
   ]
  },
  {
   "cell_type": "code",
   "execution_count": null,
   "id": "44ff7f56",
   "metadata": {},
   "outputs": [],
   "source": [
    "data_set_april.loc[data_set_april['Sequence'].isin(higher_prices)]"
   ]
  },
  {
   "cell_type": "code",
   "execution_count": null,
   "id": "a926a849",
   "metadata": {},
   "outputs": [],
   "source": []
  }
 ],
 "metadata": {
  "kernelspec": {
   "display_name": ".venv (3.12.10)",
   "language": "python",
   "name": "python3"
  },
  "language_info": {
   "codemirror_mode": {
    "name": "ipython",
    "version": 3
   },
   "file_extension": ".py",
   "mimetype": "text/x-python",
   "name": "python",
   "nbconvert_exporter": "python",
   "pygments_lexer": "ipython3",
   "version": "3.12.10"
  }
 },
 "nbformat": 4,
 "nbformat_minor": 5
}
