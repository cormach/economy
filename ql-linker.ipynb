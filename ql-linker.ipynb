{
 "cells": [
  {
   "cell_type": "code",
   "execution_count": null,
   "id": "bb416046",
   "metadata": {},
   "outputs": [],
   "source": [
    "import pandas as pd\n",
    "import requests\n",
    "import zipfile\n",
    "import io\n",
    "import os\n",
    "import csv\n",
    "import ctypes as ct\n",
    "import numpy as np\n",
    "from collections import Counter\n",
    "import matplotlib.pyplot as plt\n",
    "import re\n",
    "import seaborn as sns\n",
    "\n",
    "from bgs.load_bgs_amounts import load_bgs_amounts\n",
    "from bgs.load_gilt_details import load_csv_blocks\n",
    "from bgs.load_bgs_prices import load_prices\n",
    "from bgs.gilt_analytics import gilt_yield"
   ]
  },
  {
   "cell_type": "code",
   "execution_count": null,
   "id": "34bca3bf",
   "metadata": {},
   "outputs": [],
   "source": [
    "today = ql.Date(30, ql.April, 2025)\n",
    "ql.Settings.instance().evaluationDate = today"
   ]
  },
  {
   "cell_type": "code",
   "execution_count": null,
   "id": "3412a5ce",
   "metadata": {},
   "outputs": [],
   "source": [
    "ukrpi = ql.UKRPI()"
   ]
  },
  {
   "cell_type": "code",
   "execution_count": null,
   "id": "6e46df40",
   "metadata": {},
   "outputs": [],
   "source": [
    "calendar = ql.UnitedKingdom()\n",
    "today = Date(5,3,2008)\n",
    "evalDate = calendar.adjust(today)\n",
    "issue_date = calendar.advance(evalDate,-1,Years)\n",
    "\n",
    "mat_date = Date(2,9,2052)\n",
    "\n",
    "settlementDays = 3\n",
    "notional = 1000000\n",
    "growthOnly = False\n",
    "baseCPI = 206.1\n",
    "contractObservationLag = Period(3, Months)\n",
    "inflatinoIndex = UKRPI()\n",
    "obsInterpolation = CPI.Flat\n",
    "fixedSchedule = MakeSchedule(issue_date, mat_date, Period(Semiannual))\n",
    "fixedRates = [0.1]\n",
    "fixedDayCounter = ActualActual(ActualActual.ISDA)\n",
    "fixedPaymentConvention = ModifiedFollowing\n",
    "\n",
    "bond = CPIBond(settlementDays, notional, growthOnly, baseCPI, contractObservationLag, inflatinoIndex, obsInterpolation, fixedSchedule, fixedRates, fixedDayCounter, fixedPaymentConvention)\n",
    "\n",
    "print(bond)\n",
    "\n",
    "settles_clean_price = 99\n",
    "day_counter = ActualActual(ActualActual.ISDA)\n",
    "compounding_rule = SimpleThenCompounded\n",
    "frequency = Semiannual\n",
    "settlement_date = today + 1\n",
    "\n",
    "print(bond.bondYield(settles_clean_price, day_counter, compounding_rule, frequency,\n",
    "    "
   ]
  }
 ],
 "metadata": {
  "language_info": {
   "name": "python"
  }
 },
 "nbformat": 4,
 "nbformat_minor": 5
}
