{
 "cells": [
  {
   "cell_type": "code",
   "execution_count": null,
   "id": "bb416046",
   "metadata": {},
   "outputs": [],
   "source": [
    "import pandas as pd\n",
    "import requests\n",
    "import zipfile\n",
    "import io\n",
    "import os\n",
    "import csv\n",
    "import ctypes as ct\n",
    "import numpy as np\n",
    "from collections import Counter\n",
    "import matplotlib.pyplot as plt\n",
    "import re\n",
    "import seaborn as sns\n",
    "import QuantLib as ql\n",
    "\n",
    "from bgs.load_bgs_amounts import load_bgs_amounts\n",
    "from bgs.load_gilt_details import load_csv_blocks\n",
    "from bgs.load_bgs_prices import load_prices\n",
    "from bgs.gilt_analytics import gilt_yield"
   ]
  },
  {
   "cell_type": "code",
   "execution_count": null,
   "id": "6e46df40",
   "metadata": {},
   "outputs": [],
   "source": [
    "calendar = ql.UnitedKingdom()\n",
    "\n",
    "today = ql.Date(5,3,2008)\n",
    "evaluationDate = calendar.adjust(today)\n",
    "issue_date = calendar.advance(evaluationDate,-1, ql.Years)\n",
    "maturity_date = ql.Date(2,9,2052)\n",
    "\n",
    "settlementDays = 3\n",
    "notional = 1000000\n",
    "growthOnly = False\n",
    "baseCPI = 206.1\n",
    "contractObservationLag = ql.Period(3, ql.Months)\n",
    "inflationIndex = ql.UKRPI(False)\n",
    "observationInterpolation = ql.CPI.Flat\n",
    "fixedSchedule = ql.MakeSchedule(issue_date, maturity_date, ql.Period(ql.Semiannual))\n",
    "fixedRates = [0.1]\n",
    "fixedDayCounter = ql.Actual365Fixed()\n",
    "fixedPaymentConvention = ql.ModifiedFollowing\n",
    "\n",
    "bond = ql.CPIBond(settlementDays,\n",
    "                    notional,\n",
    "                    growthOnly,\n",
    "                    baseCPI,\n",
    "                    contractObservationLag,\n",
    "                    inflationIndex,\n",
    "                    observationInterpolation,\n",
    "                    fixedSchedule,\n",
    "                    fixedRates,\n",
    "                    fixedDayCounter,\n",
    "                    fixedPaymentConvention)"
   ]
  }
 ],
 "metadata": {
  "kernelspec": {
   "display_name": ".venv (3.12.10)",
   "language": "python",
   "name": "python3"
  },
  "language_info": {
   "codemirror_mode": {
    "name": "ipython",
    "version": 3
   },
   "file_extension": ".py",
   "mimetype": "text/x-python",
   "name": "python",
   "nbconvert_exporter": "python",
   "pygments_lexer": "ipython3",
   "version": "3.12.10"
  }
 },
 "nbformat": 4,
 "nbformat_minor": 5
}
