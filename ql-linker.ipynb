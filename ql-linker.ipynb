{
 "cells": [
  {
   "cell_type": "code",
   "execution_count": 3,
   "id": "bb416046",
   "metadata": {},
   "outputs": [],
   "source": [
    "import pandas as pd\n",
    "import requests\n",
    "import zipfile\n",
    "import io\n",
    "import os\n",
    "import csv\n",
    "import ctypes as ct\n",
    "import numpy as np\n",
    "from collections import Counter\n",
    "import matplotlib.pyplot as plt\n",
    "import re\n",
    "import seaborn as sns\n",
    "import QuantLib as ql\n",
    "\n",
    "from bgs.load_bgs_amounts import load_bgs_amounts\n",
    "from bgs.load_gilt_details import load_csv_blocks\n",
    "from bgs.load_bgs_prices import load_prices\n",
    "from bgs.gilt_analytics import gilt_yield"
   ]
  },
  {
   "cell_type": "code",
   "execution_count": 4,
   "id": "6e46df40",
   "metadata": {},
   "outputs": [
    {
     "ename": "TypeError",
     "evalue": "Wrong number or type of arguments for overloaded function 'new_UKRPI'.\n  Possible C/C++ prototypes are:\n    UKRPI::UKRPI(Handle< ZeroInflationTermStructure > const &)\n    UKRPI::UKRPI()\n",
     "output_type": "error",
     "traceback": [
      "\u001b[31m---------------------------------------------------------------------------\u001b[39m",
      "\u001b[31mTypeError\u001b[39m                                 Traceback (most recent call last)",
      "\u001b[32m/tmp/ipykernel_2470/1586449854.py\u001b[39m in \u001b[36m?\u001b[39m\u001b[34m()\u001b[39m\n\u001b[32m      9\u001b[39m notional = \u001b[32m1000000\u001b[39m\n\u001b[32m     10\u001b[39m growthOnly = \u001b[38;5;28;01mFalse\u001b[39;00m\n\u001b[32m     11\u001b[39m baseCPI = \u001b[32m206.1\u001b[39m\n\u001b[32m     12\u001b[39m contractObservationLag = ql.Period(\u001b[32m3\u001b[39m, ql.Months)\n\u001b[32m---> \u001b[39m\u001b[32m13\u001b[39m inflationIndex = ql.UKRPI(\u001b[38;5;28;01mFalse\u001b[39;00m)\n\u001b[32m     14\u001b[39m observationInterpolation = ql.CPI.Flat\n\u001b[32m     15\u001b[39m fixedSchedule = ql.MakeSchedule(issue_date, maturity_date, ql.Period(ql.Semiannual))\n\u001b[32m     16\u001b[39m fixedRates = [\u001b[32m0.1\u001b[39m]\n",
      "\u001b[32m/workspaces/economy/.venv/lib/python3.12/site-packages/QuantLib/QuantLib.py\u001b[39m in \u001b[36m?\u001b[39m\u001b[34m(self, *args)\u001b[39m\n\u001b[32m  23928\u001b[39m     \u001b[38;5;28;01mdef\u001b[39;00m __init__(self, *args):\n\u001b[32m  23929\u001b[39m         \u001b[33mr\"\"\"__init__(UKRPI self, ZeroInflationTermStructureHandle h={}) -> UKRPI\"\"\"\u001b[39m\n\u001b[32m> \u001b[39m\u001b[32m23930\u001b[39m         _QuantLib.UKRPI_swiginit(self, _QuantLib.new_UKRPI(*args))\n",
      "\u001b[31mTypeError\u001b[39m: Wrong number or type of arguments for overloaded function 'new_UKRPI'.\n  Possible C/C++ prototypes are:\n    UKRPI::UKRPI(Handle< ZeroInflationTermStructure > const &)\n    UKRPI::UKRPI()\n"
     ]
    }
   ],
   "source": [
    "calendar = ql.UnitedKingdom()\n",
    "\n",
    "today = ql.Date(5,3,2008)\n",
    "evaluationDate = calendar.adjust(today)\n",
    "issue_date = calendar.advance(evaluationDate,-1, ql.Years)\n",
    "maturity_date = ql.Date(2,9,2052)\n",
    "\n",
    "settlementDays = 3\n",
    "notional = 1000000\n",
    "growthOnly = False\n",
    "baseCPI = 206.1\n",
    "contractObservationLag = ql.Period(3, ql.Months)\n",
    "inflationIndex = ql.UKRPI(False)\n",
    "observationInterpolation = ql.CPI.Flat\n",
    "fixedSchedule = ql.MakeSchedule(issue_date, maturity_date, ql.Period(ql.Semiannual))\n",
    "fixedRates = [0.1]\n",
    "fixedDayCounter = ql.Actual365Fixed()\n",
    "fixedPaymentConvention = ql.ModifiedFollowing\n",
    "\n",
    "bond = ql.CPIBond(settlementDays,\n",
    "                    notional,\n",
    "                    growthOnly,\n",
    "                    baseCPI,\n",
    "                    contractObservationLag,\n",
    "                    inflationIndex,\n",
    "                    observationInterpolation,\n",
    "                    fixedSchedule,\n",
    "                    fixedRates,\n",
    "                    fixedDayCounter,\n",
    "                    fixedPaymentConvention)"
   ]
  }
 ],
 "metadata": {
  "kernelspec": {
   "display_name": ".venv (3.12.10)",
   "language": "python",
   "name": "python3"
  },
  "language_info": {
   "codemirror_mode": {
    "name": "ipython",
    "version": 3
   },
   "file_extension": ".py",
   "mimetype": "text/x-python",
   "name": "python",
   "nbconvert_exporter": "python",
   "pygments_lexer": "ipython3",
   "version": "3.12.10"
  }
 },
 "nbformat": 4,
 "nbformat_minor": 5
}
