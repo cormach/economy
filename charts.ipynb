{
 "cells": [
  {
   "cell_type": "code",
   "execution_count": null,
   "id": "5b04e5a8",
   "metadata": {},
   "outputs": [],
   "source": [
    "import pandas as pd\n",
    "import requests\n",
    "import zipfile\n",
    "import io\n",
    "import os\n",
    "import csv\n",
    "import ctypes as ct\n",
    "import numpy as np\n",
    "from collections import Counter\n",
    "import matplotlib.pyplot as plt\n",
    "import re\n",
    "import seaborn as sns\n",
    "import QuantLib as ql\n",
    "\n",
    "from bgs.bgs_utils import clean_date, clean_percentage\n",
    "from bgs.load_bgs_amounts import load_bgs_amounts\n",
    "from bgs.load_gilt_details import load_csv_blocks\n",
    "from bgs.load_bgs_prices import load_prices\n",
    "from bgs.gilt_analytics import gilt_yield, yield_series\n",
    "from bgs.linker_analytics import linker_real_yield"
   ]
  },
  {
   "cell_type": "markdown",
   "id": "eef97110",
   "metadata": {},
   "source": [
    "### British Gilt Survey Amounts Table"
   ]
  },
  {
   "cell_type": "code",
   "execution_count": null,
   "id": "756a2c2c",
   "metadata": {},
   "outputs": [],
   "source": [
    "tables = load_bgs_amounts(\"downloads/BGSAmounts.csv\")\n",
    "\n",
    "conv = tables['Conventionals']\n",
    "conv.replace(\"Redeemed\", \"\", inplace=True)\n",
    "conv = conv.apply(pd.to_numeric, errors='coerce')\n",
    "conv.fillna(0, inplace=True)\n",
    "conv.index = pd.Index([clean_date(x) for x in list(conv.index)]).to_period('M').to_timestamp('M')\n",
    "conv.columns = [np.int64(x.strip()) for x in conv.columns]\n",
    "\n",
    "old = tables['Calculated indexed nominal Old-style']\n",
    "old.replace(\"Redeemed\", \"\", inplace=True)\n",
    "old = old.apply(pd.to_numeric, errors='coerce')\n",
    "old.fillna(0, inplace=True)\n",
    "old.index = pd.Index([clean_date(x) for x in list(old.index)]).to_period('M').to_timestamp('M')\n",
    "old.columns = [np.int64(x.strip()) for x in old.columns]\n",
    "\n",
    "new = tables['Calculated indexed nominal New-style']\n",
    "new.replace(\"Redeemed\", \"\", inplace=True)\n",
    "new = new.apply(pd.to_numeric, errors='coerce')\n",
    "new.fillna(0, inplace=True)\n",
    "new.index = pd.Index([clean_date(x) for x in list(new.index)]).to_period('M').to_timestamp('M')\n",
    "new.columns = [np.int64(x.strip()) for x in new.columns]\n",
    "\n",
    "new_no_idx = tables['Index-linked New-style']\n",
    "new_no_idx.replace(\"Redeemed\", \"\", inplace=True)\n",
    "new_no_idx = new_no_idx.apply(pd.to_numeric, errors='coerce')\n",
    "new_no_idx.fillna(0, inplace=True)\n",
    "new_no_idx.index = pd.Index([clean_date(x) for x in list(new_no_idx.index)]).to_period('M').to_timestamp('M')\n",
    "new_no_idx.columns = [np.int64(x.strip()) for x in new_no_idx.columns]"
   ]
  },
  {
   "cell_type": "markdown",
   "id": "79a654eb",
   "metadata": {},
   "source": [
    "### British Gilts Survey Month End Prices"
   ]
  },
  {
   "cell_type": "code",
   "execution_count": null,
   "id": "1eef1a27",
   "metadata": {},
   "outputs": [],
   "source": [
    "price_df=load_prices(\"downloads/BGSPrices.csv\")\n",
    "price_df.index = pd.to_datetime(price_df.index, format=\"%d %b %Y\").to_period('M').to_timestamp('M')\n",
    "for text in ['Amalgamated', 'Redeemed', 'redeemed']:\n",
    "    price_df = price_df.replace(text, 0)\n",
    "price_df = price_df.replace('missing', None)\n",
    "price_df = price_df.ffill(axis=0)\n",
    "price_df = price_df.fillna(0)\n",
    "price_df.columns = [np.int64(x) for x in price_df.columns]"
   ]
  },
  {
   "cell_type": "markdown",
   "id": "4ad3a87d",
   "metadata": {},
   "source": [
    "### British Gilts Survey Details Table (Bond Static Data, Coupon Maturity etc.) "
   ]
  },
  {
   "cell_type": "code",
   "execution_count": null,
   "id": "5ee0cdc8",
   "metadata": {},
   "outputs": [],
   "source": [
    "details = load_csv_blocks(\"downloads/BGSDetails.csv\")\n",
    "\n",
    "conv_details = details['Conventionals']\n",
    "conv_details['%'] = conv_details['%'].apply(clean_percentage)\n",
    "conv_details['Sequence'] = conv_details['Sequence'].apply(lambda x: np.int64(x))\n",
    "\n",
    "new_details = details['Index-Linked New-style']\n",
    "new_details['%'] = new_details['%'].apply(clean_percentage)\n",
    "new_details['Sequence'] = new_details['Sequence'].apply(lambda x: np.int64(x))\n",
    "\n",
    "old_details = details['Index-Linked Old-style']\n",
    "old_details['%'] = old_details['%'].apply(clean_percentage)\n",
    "old_details['Sequence'] = old_details['Sequence'].apply(lambda x: np.int64(x))\n",
    "\n",
    "strip_details = details['Strips']\n",
    "strip_details['%'] = 0.0\n",
    "strip_details['Sequence'] = strip_details['Sequence'].apply(lambda x: np.int64(x))\n",
    "\n",
    "date_variables = [\"Latest redemption date\",\"Issue date\",\"First coupon payable on date\",]\n",
    "for date_var in date_variables:\n",
    "    conv_details[date_var] = conv_details[date_var].apply(clean_date)\n",
    "    old_details[date_var] = old_details[date_var].apply(clean_date)\n",
    "    new_details[date_var] = new_details[date_var].apply(clean_date)\n",
    "strip_details['Latest redemption date'] = strip_details['Latest redemption date'].apply(clean_date)"
   ]
  },
  {
   "cell_type": "markdown",
   "id": "52cb032f",
   "metadata": {},
   "source": [
    "# ONS Nominal GDP"
   ]
  },
  {
   "cell_type": "code",
   "execution_count": null,
   "id": "76283102",
   "metadata": {},
   "outputs": [],
   "source": [
    "# https://www.ons.gov.uk/economy/grossdomesticproductgdp/timeseries/ybha/pn2\n",
    "ons_download_ybha = \"downloads/YBHA.csv\"\n",
    "df_ybha = pd.read_csv(ons_download_ybha, skiprows=8,names=[\"CDID\",\"YBHA\"])\n",
    "q_start =  df_ybha.loc[df_ybha['CDID']==\"1955 Q1\"].index[0]\n",
    "df_ybha_q = df_ybha.iloc[q_start:]\n",
    "df_ybha_q['date']=df_ybha_q['CDID'].apply(lambda x: f\"{x.split(' Q')[0]}-{int(x.split(' Q')[1])*3}-01\")\n",
    "df_ybha_q['date']=pd.to_datetime(df_ybha_q['date'], format='%Y-%m-%d')\n",
    "df_ybha_q.set_index('date', inplace=True)\n",
    "df_ybha_m = df_ybha_q.resample('M').ffill()\n",
    "df_ybha_m.head(10)"
   ]
  },
  {
   "cell_type": "code",
   "execution_count": null,
   "id": "237410e6",
   "metadata": {},
   "outputs": [],
   "source": [
    "# def get_ons_data(code):\n",
    "#     user_agent = \"econ-project/Version1.0.0 (organisation-name contact:cormach@github)\"\n",
    "#     url = \"https://api.beta.ons.gov.uk/v1\"\n",
    "#     headers = {\n",
    "#         \"User-Agent\": user_agent\n",
    "#     }\n",
    "#     response = requests.get(f\"https://api.beta.ons.gov.uk/v1/economy/grossdomesticproductgdp/timeseries/ybha\", headers=headers)\n",
    "#     if response.status_code == 200:\n",
    "#         return response.json()\n",
    "#     else:\n",
    "#         response.raise_for_status()\n",
    "\n",
    "# r = get_ons_data(\"YBHA\")"
   ]
  },
  {
   "cell_type": "markdown",
   "id": "1df317bd",
   "metadata": {},
   "source": [
    "### ONS Net Debt (excluding public sector banks) as a % of GDP: NSA (PUSF)"
   ]
  },
  {
   "cell_type": "code",
   "execution_count": null,
   "id": "924c3275",
   "metadata": {},
   "outputs": [],
   "source": [
    "ons_download_pusf = \"downloads/HF6X.csv\"\n",
    "df_pusf = pd.read_csv(ons_download_pusf, skiprows=8,names=[\"CDID\",\"HF6X\"])\n",
    "q_start =  df_pusf.loc[df_pusf['CDID']==\"1975 Q1\"].index[0]\n",
    "q_end =  df_pusf.loc[df_pusf['CDID']==\"2025 Q2\"].index[0]\n",
    "df_pusf_q = df_pusf.iloc[q_start:q_end].ffill()\n",
    "df_pusf_q['date']=df_pusf_q['CDID'].apply(lambda x: f\"{x.split(' Q')[0]}-{int(x.split(' Q')[1])*3}-01\")\n",
    "df_pusf_q['date']=pd.to_datetime(df_pusf_q['date'], format='%Y-%m-%d')\n",
    "df_pusf_q.set_index('date', inplace=True)\n",
    "df_pusf_m = df_pusf_q.resample('ME').ffill()\n",
    "df_pusf_m.head(10)\n",
    "df_pusf_m['HF6X'] = df_pusf_m['HF6X'].apply(lambda x: x/100)"
   ]
  },
  {
   "cell_type": "code",
   "execution_count": null,
   "id": "da21a3ad",
   "metadata": {},
   "outputs": [],
   "source": [
    "df_pusf_q"
   ]
  },
  {
   "cell_type": "code",
   "execution_count": null,
   "id": "2aa26019",
   "metadata": {},
   "outputs": [],
   "source": [
    "# price_df.columns = [str(x) for x in price_df.columns]"
   ]
  },
  {
   "cell_type": "code",
   "execution_count": null,
   "id": "9523e4a8",
   "metadata": {},
   "outputs": [],
   "source": [
    "mtm_list = []\n",
    "\n",
    "for bgs_gilt_id in conv.columns:\n",
    "    # print(bgs_gilt_id)\n",
    "    calc_df = pd.DataFrame(index=price_df.index, columns=['amounts','prices'])\n",
    "    calc_df = pd.concat([conv[bgs_gilt_id],price_df[bgs_gilt_id]], join='inner', axis=1, keys=['amounts','prices'])\n",
    "    calc_df['mtm'] = calc_df['amounts']*calc_df['prices']/100\n",
    "    mtm_list.append(calc_df['mtm'].rename(bgs_gilt_id).copy())\n",
    "#mtm_df[bgs_gilt_id] = calc_df['amounts']*calc_df['prices']\n",
    "#mtm_list.append(mtm_df)\n",
    "conv_mtm_df = pd.concat(mtm_list, axis=1)\n",
    "\n",
    "conventionals = pd.DataFrame()\n",
    "conventionals['Nominal'] = conv.sum(axis=1)\n",
    "conventionals['MTM'] = conv_mtm_df.sum(axis=1)\n",
    "conventionals.index = pd.to_datetime(conventionals.index, format=\"%b %Y\").to_period('M').to_timestamp('M')\n",
    "\n",
    "conventionals.plot()"
   ]
  },
  {
   "cell_type": "code",
   "execution_count": null,
   "id": "def3b129",
   "metadata": {},
   "outputs": [],
   "source": [
    "(conventionals['Nominal'] - conventionals['MTM']).plot()"
   ]
  },
  {
   "cell_type": "code",
   "execution_count": null,
   "id": "1bc355a2",
   "metadata": {},
   "outputs": [],
   "source": [
    "conventionals['2021-09-01':].plot()"
   ]
  },
  {
   "cell_type": "code",
   "execution_count": null,
   "id": "47e20fc0",
   "metadata": {},
   "outputs": [],
   "source": [
    "for bgs_gilt_id in old.columns:\n",
    "    # print(bgs_gilt_id)\n",
    "    calc_df = pd.DataFrame(index=price_df.index, columns=['amounts','prices'])\n",
    "    calc_df = pd.concat([old[bgs_gilt_id],price_df[bgs_gilt_id]], join='inner', axis=1, keys=['amounts','prices'])\n",
    "    calc_df['mtm'] = calc_df['amounts']*calc_df['prices']/100\n",
    "    mtm_list.append(calc_df['mtm'].rename(bgs_gilt_id).copy())"
   ]
  },
  {
   "cell_type": "code",
   "execution_count": null,
   "id": "0193c3bc",
   "metadata": {},
   "outputs": [],
   "source": [
    "for bgs_gilt_id in new.columns:\n",
    "    # print(bgs_gilt_id)\n",
    "    calc_df = pd.DataFrame(index=price_df.index, columns=['amounts','prices'])\n",
    "    calc_df = pd.concat([new[bgs_gilt_id],price_df[bgs_gilt_id]], join='inner', axis=1, keys=['amounts','prices'])\n",
    "    calc_df['mtm'] = calc_df['amounts']*calc_df['prices']/100\n",
    "    mtm_list.append(calc_df['mtm'].rename(bgs_gilt_id).copy())"
   ]
  },
  {
   "cell_type": "code",
   "execution_count": null,
   "id": "817ade37",
   "metadata": {},
   "outputs": [],
   "source": [
    "total_gilts_mtm = pd.concat(mtm_list, axis=1)\n",
    "\n",
    "total_gilts = pd.DataFrame()\n",
    "total_gilts['MTM'] = total_gilts_mtm.sum(axis=1)\n",
    "total_gilts.index = pd.to_datetime(total_gilts.index, format=\"%b %Y\").to_period('M').to_timestamp('M')\n"
   ]
  },
  {
   "cell_type": "code",
   "execution_count": null,
   "id": "1039413c",
   "metadata": {},
   "outputs": [],
   "source": [
    "total_nominal = tables['Sum of total conventional and indexed-linked'].reset_index().set_index('index')\n",
    "total_nominal = total_nominal.drop_duplicates()\n",
    "total_nominal.index = pd.Index([clean_date(x) for x in list(total_nominal.index)]).to_period('M').to_timestamp('M')\n",
    "\n",
    "total_nominal['Sum of total conventional and indexed-linked'] = pd.to_numeric(total_nominal['Sum of total conventional and indexed-linked'])"
   ]
  },
  {
   "cell_type": "code",
   "execution_count": null,
   "id": "846d0af0",
   "metadata": {},
   "outputs": [],
   "source": [
    "total_nominal['conv']= conventionals['Nominal']"
   ]
  },
  {
   "cell_type": "code",
   "execution_count": null,
   "id": "8fa5c39c",
   "metadata": {},
   "outputs": [],
   "source": [
    "def before_linkers(row):\n",
    "    if row['Sum of total conventional and indexed-linked'] == \"\":\n",
    "        total_nominal =  row['conv']\n",
    "    else:\n",
    "        total_nominal =  row['Sum of total conventional and indexed-linked']\n",
    "    return total_nominal\n",
    "\n",
    "total_nominal['Total Nominal'] = total_nominal.apply(before_linkers, axis=1)"
   ]
  },
  {
   "cell_type": "code",
   "execution_count": null,
   "id": "21c69761",
   "metadata": {},
   "outputs": [],
   "source": [
    "# ax = total_nominal['Sum of total conventional and indexed-linked'].plot()\n",
    "# total_gilts.plot(ax = ax)\n",
    "total_gilts['Nominal']=total_nominal['Total Nominal']"
   ]
  },
  {
   "cell_type": "code",
   "execution_count": null,
   "id": "50791270",
   "metadata": {},
   "outputs": [],
   "source": [
    "total_gilts.head()"
   ]
  },
  {
   "cell_type": "code",
   "execution_count": null,
   "id": "e26736db",
   "metadata": {},
   "outputs": [],
   "source": [
    "total_gilts = total_gilts.merge(df_ybha_m, left_index=True, right_index=True, how='inner')"
   ]
  },
  {
   "cell_type": "code",
   "execution_count": null,
   "id": "96a56475",
   "metadata": {},
   "outputs": [],
   "source": [
    "total_gilts.tail()"
   ]
  },
  {
   "cell_type": "code",
   "execution_count": null,
   "id": "8c3acc67",
   "metadata": {},
   "outputs": [],
   "source": [
    "total_gilts['Debt to GDP'] = total_gilts['Nominal'] / (total_gilts['YBHA'] * 4)\n",
    "total_gilts['MTM to GDP'] = total_gilts['MTM'] / (total_gilts['YBHA'] * 4)"
   ]
  },
  {
   "cell_type": "code",
   "execution_count": null,
   "id": "cbd283cf",
   "metadata": {},
   "outputs": [],
   "source": [
    "ax = total_gilts[['Debt to GDP','MTM to GDP']].plot()\n",
    "df_pusf_m.plot(ax=ax)"
   ]
  },
  {
   "cell_type": "code",
   "execution_count": null,
   "id": "d98dacaa",
   "metadata": {},
   "outputs": [],
   "source": [
    "ax = total_gilts['2021-09-01':][['Debt to GDP','MTM to GDP']].plot()\n",
    "df_pusf_m['2021-09-01':].plot(ax=ax)"
   ]
  },
  {
   "cell_type": "markdown",
   "id": "aba67d2d",
   "metadata": {},
   "source": [
    "### Illustrating Bond Price Moves"
   ]
  },
  {
   "cell_type": "code",
   "execution_count": null,
   "id": "f48ebfef",
   "metadata": {},
   "outputs": [],
   "source": [
    "id = 32280\n",
    "bond = conv_details[conv_details['Sequence']==id]\n",
    "issue_date=bond['Issue date'].dt.strftime(\"%Y-%m-%d\").values[0]\n",
    "maturity_date=bond['Latest redemption date'].dt.strftime(\"%Y-%m-%d\").values[0]\n",
    "first_cpn_date=bond['First coupon payable on date'].dt.strftime(\"%Y-%m-%d\").values[0]\n",
    "last_cpn_date=bond['Latest redemption date'].dt.strftime(\"%Y-%m-%d\").values[0]\n",
    "coupon=bond['%'].values[0]\n",
    "bond_price_series = price_df[id].replace(0, np.nan).copy().dropna()\n",
    "\n",
    "ukt_4_2060 = yield_series(bond_price_series, issue_date, maturity_date, first_cpn_date, last_cpn_date, coupon)\n"
   ]
  },
  {
   "cell_type": "code",
   "execution_count": null,
   "id": "09e06796",
   "metadata": {},
   "outputs": [],
   "source": [
    "ukt_4_2060['yield'].plot()"
   ]
  },
  {
   "cell_type": "markdown",
   "id": "902082ae",
   "metadata": {},
   "source": [
    "### Proportion of Gilts with Coupons below Base Rate"
   ]
  },
  {
   "cell_type": "code",
   "execution_count": null,
   "id": "1445194d",
   "metadata": {},
   "outputs": [],
   "source": [
    "boe_base_rate = pd.read_csv(\"downloads/Bank Rate history and data  Bank of England Database.csv\")\n",
    "boe_base_rate.head()\n",
    "boe_base_rate['Date Changed'] = pd.to_datetime(boe_base_rate['Date Changed'], format=\"%d %b %y\", errors='coerce')\n",
    "base_rate = boe_base_rate.copy().set_index('Date Changed').resample('M').ffill()\n",
    "base_rate.head()"
   ]
  },
  {
   "cell_type": "code",
   "execution_count": null,
   "id": "6aa487ce",
   "metadata": {},
   "outputs": [],
   "source": [
    "base_rate.plot()"
   ]
  },
  {
   "cell_type": "code",
   "execution_count": null,
   "id": "ce111755",
   "metadata": {},
   "outputs": [],
   "source": [
    "base_rate_start = base_rate.index.min()\n",
    "base_rate_start\n"
   ]
  },
  {
   "cell_type": "code",
   "execution_count": null,
   "id": "87d2c2e1",
   "metadata": {},
   "outputs": [],
   "source": [
    "conv_details[conv_details['Latest redemption date'] > base_rate_start]"
   ]
  },
  {
   "cell_type": "code",
   "execution_count": null,
   "id": "cb1da262",
   "metadata": {},
   "outputs": [],
   "source": [
    "boe_base_rate['Date Changed']\n"
   ]
  },
  {
   "cell_type": "markdown",
   "id": "b20a3502",
   "metadata": {},
   "source": [
    "### Central Bank of Ireland Data"
   ]
  },
  {
   "cell_type": "code",
   "execution_count": null,
   "id": "78c7c2d4",
   "metadata": {},
   "outputs": [],
   "source": [
    "history = conv_details.copy()\n",
    "history['issue_year'] = history['Issue date'].dt.year\n",
    "history['maturity_year'] = history['Latest redemption date'].dt.year"
   ]
  },
  {
   "cell_type": "code",
   "execution_count": null,
   "id": "a4addd74",
   "metadata": {},
   "outputs": [],
   "source": [
    "history['%'] = history['%'].apply(lambda x: x if isinstance(x, (int, float)) else np.nan)\n",
    "history.dropna(subset=['%'], inplace=True)"
   ]
  },
  {
   "cell_type": "code",
   "execution_count": null,
   "id": "7c324bcc",
   "metadata": {},
   "outputs": [],
   "source": [
    "history.groupby('issue_year')['%'].mean().plot()"
   ]
  },
  {
   "cell_type": "code",
   "execution_count": null,
   "id": "13fad894",
   "metadata": {},
   "outputs": [],
   "source": [
    "marginal_rate = history.groupby('issue_year')['%'].mean()\n",
    "marginal_rate.head()"
   ]
  },
  {
   "cell_type": "code",
   "execution_count": null,
   "id": "a0328be0",
   "metadata": {},
   "outputs": [],
   "source": [
    "outstanding = conv.copy()\n",
    "outstanding = outstanding.resample('Y').last()\n",
    "outstanding.index = [x.year for x in outstanding.index]\n",
    "outstanding.head()\n"
   ]
  },
  {
   "cell_type": "code",
   "execution_count": null,
   "id": "83d3692a",
   "metadata": {},
   "outputs": [],
   "source": [
    "low_coupons = []\n",
    "for year in outstanding.index:\n",
    "    funding_rate = marginal_rate.loc[year]\n",
    "    lower_ids = history.loc[history['%']< funding_rate - 2.0]['Sequence'].to_list()\n",
    "    lower_proportion = outstanding.loc[year, lower_ids].sum()/outstanding.loc[year].sum()\n",
    "    low_coupons.append(pd.DataFrame({'year':year, 'funding_rate':funding_rate, 'lower_proportion': lower_proportion}, index=[0]))\n",
    "pd.concat(low_coupons).set_index('year')['lower_proportion'].plot()\n",
    "\n"
   ]
  },
  {
   "cell_type": "code",
   "execution_count": null,
   "id": "18714b87",
   "metadata": {},
   "outputs": [],
   "source": [
    "funding_rate"
   ]
  },
  {
   "cell_type": "markdown",
   "id": "417d8add",
   "metadata": {},
   "source": [
    "### Low Coupons"
   ]
  },
  {
   "cell_type": "code",
   "execution_count": null,
   "id": "564c3897",
   "metadata": {},
   "outputs": [],
   "source": [
    "id = 32260\n",
    "bond = conv_details[conv_details['Sequence']==id]\n",
    "issue_date=bond['Issue date'].dt.strftime(\"%Y-%m-%d\").values[0]\n",
    "maturity_date=bond['Latest redemption date'].dt.strftime(\"%Y-%m-%d\").values[0]\n",
    "first_cpn_date=bond['First coupon payable on date'].dt.strftime(\"%Y-%m-%d\").values[0]\n",
    "last_cpn_date=bond['Latest redemption date'].dt.strftime(\"%Y-%m-%d\").values[0]\n",
    "coupon=bond['%'].values[0]\n",
    "bond_price_series = price_df[id].replace(0, np.nan).copy().dropna()\n",
    "\n",
    "ukt4_25_2049 = yield_series(bond_price_series, issue_date, maturity_date, first_cpn_date, last_cpn_date, coupon)\n"
   ]
  },
  {
   "cell_type": "code",
   "execution_count": null,
   "id": "1f44184d",
   "metadata": {},
   "outputs": [],
   "source": [
    "conv_details.loc[\n",
    "    (conv_details['Latest redemption date'] > pd.to_datetime(maturity_date, format=\"%Y-%m-%d\") - pd.DateOffset(years=2))\n",
    "].loc[\n",
    "    (conv_details['Latest redemption date'] < pd.to_datetime(maturity_date, format=\"%Y-%m-%d\") + pd.DateOffset(years=2))\n",
    "]"
   ]
  },
  {
   "cell_type": "code",
   "execution_count": null,
   "id": "15ee7bdb",
   "metadata": {},
   "outputs": [],
   "source": [
    "id = 32262\n",
    "bond = conv_details[conv_details['Sequence']==id]\n",
    "issue_date=bond['Issue date'].dt.strftime(\"%Y-%m-%d\").values[0]\n",
    "maturity_date=bond['Latest redemption date'].dt.strftime(\"%Y-%m-%d\").values[0]\n",
    "first_cpn_date=bond['First coupon payable on date'].dt.strftime(\"%Y-%m-%d\").values[0]\n",
    "last_cpn_date=bond['Latest redemption date'].dt.strftime(\"%Y-%m-%d\").values[0]\n",
    "coupon=bond['%'].values[0]\n",
    "bond_price_series = price_df[id].replace(0, np.nan).copy().dropna()\n",
    "\n",
    "ukt0_625_2050 = yield_series(bond_price_series, issue_date, maturity_date, first_cpn_date, last_cpn_date, coupon)"
   ]
  },
  {
   "cell_type": "code",
   "execution_count": null,
   "id": "76ea63c2",
   "metadata": {},
   "outputs": [],
   "source": [
    "strip_details.loc[\n",
    "    (strip_details['Latest redemption date'] > pd.to_datetime(maturity_date, format=\"%Y-%m-%d\") - pd.DateOffset(years=3))\n",
    "].loc[\n",
    "    (strip_details['Latest redemption date'] < pd.to_datetime(maturity_date, format=\"%Y-%m-%d\") + pd.DateOffset(years=3))\n",
    "]"
   ]
  },
  {
   "cell_type": "code",
   "execution_count": null,
   "id": "810418e6",
   "metadata": {},
   "outputs": [],
   "source": [
    "id = 32260\n",
    "bond = conv_details[conv_details['Sequence']==id]\n",
    "issue_date=bond['Issue date'].dt.strftime(\"%Y-%m-%d\").values[0]\n",
    "first_cpn_date=bond['First coupon payable on date'].dt.strftime(\"%Y-%m-%d\").values[0]\n",
    "strip_id = 76650\n",
    "bond = strip_details[strip_details['Sequence']==strip_id]\n",
    "maturity_date=bond['Latest redemption date'].dt.strftime(\"%Y-%m-%d\").values[0]\n",
    "last_cpn_date=bond['Latest redemption date'].dt.strftime(\"%Y-%m-%d\").values[0]\n",
    "coupon=0.0\n",
    "bond_price_series = price_df[strip_id].replace(0, np.nan).copy().dropna()\n",
    "\n",
    "ukt_strip_2049 = yield_series(bond_price_series, issue_date, maturity_date, first_cpn_date, last_cpn_date, coupon)"
   ]
  },
  {
   "cell_type": "code",
   "execution_count": null,
   "id": "c3451619",
   "metadata": {},
   "outputs": [],
   "source": [
    "ax = ukt_strip_2049['yield']['2020-01-01':'2022-12-31'].plot(legend=True)\n",
    "ukt4_25_2049['yield']['2020-01-01':'2022-12-31'].plot(ax=ax, legend=True)\n",
    "ukt0_625_2050['yield']['2020-01-01':'2022-12-31'].plot(ax=ax, legend=True)"
   ]
  },
  {
   "cell_type": "code",
   "execution_count": null,
   "id": "c86e839a",
   "metadata": {},
   "outputs": [],
   "source": [
    "ax = (ukt0_625_2050['yield'] - ukt_strip_2049['yield']).plot()\n",
    "(ukt4_25_2049['yield'] - ukt_strip_2049['yield']).plot(ax=ax)\n"
   ]
  },
  {
   "cell_type": "code",
   "execution_count": null,
   "id": "d56486eb",
   "metadata": {},
   "outputs": [],
   "source": [
    "(ukt4_25_2049['yield'] - ukt_strip_2049['yield']).plot()"
   ]
  },
  {
   "cell_type": "code",
   "execution_count": null,
   "id": "c5473d78",
   "metadata": {},
   "outputs": [],
   "source": [
    "id = 32175\n",
    "bond = conv_details[conv_details['Sequence']==id]\n",
    "bond.head()"
   ]
  },
  {
   "cell_type": "code",
   "execution_count": null,
   "id": "da8c1bfe",
   "metadata": {},
   "outputs": [],
   "source": [
    "issue_date=bond['Issue date'].dt.strftime(\"%Y-%m-%d\").values[0]\n",
    "maturity_date=bond['Latest redemption date'].dt.strftime(\"%Y-%m-%d\").values[0]\n",
    "first_cpn_date=bond['First coupon payable on date'].dt.strftime(\"%Y-%m-%d\").values[0]\n",
    "last_cpn_date=bond['Latest redemption date'].dt.strftime(\"%Y-%m-%d\").values[0]\n",
    "coupon=bond['%'].values[0]\n",
    "bond_price_series = price_df[id].replace(0, np.nan).copy().dropna()\n",
    "\n",
    "ukt0_25_2031 = yield_series(bond_price_series, issue_date, maturity_date, first_cpn_date, last_cpn_date, coupon)"
   ]
  },
  {
   "cell_type": "code",
   "execution_count": null,
   "id": "19f6198c",
   "metadata": {},
   "outputs": [],
   "source": [
    "conv_details.loc[\n",
    "    (conv_details['Latest redemption date'] > pd.to_datetime(maturity_date, format=\"%Y-%m-%d\") - pd.DateOffset(years=2))\n",
    "].loc[\n",
    "    (conv_details['Latest redemption date'] < pd.to_datetime(maturity_date, format=\"%Y-%m-%d\") + pd.DateOffset(years=2))\n",
    "]"
   ]
  },
  {
   "cell_type": "code",
   "execution_count": null,
   "id": "67db24ab",
   "metadata": {},
   "outputs": [],
   "source": [
    "id = 32150\n",
    "bond = conv_details[conv_details['Sequence']==id]\n",
    "issue_date=bond['Issue date'].dt.strftime(\"%Y-%m-%d\").values[0]\n",
    "maturity_date=bond['Latest redemption date'].dt.strftime(\"%Y-%m-%d\").values[0]\n",
    "first_cpn_date=bond['First coupon payable on date'].dt.strftime(\"%Y-%m-%d\").values[0]\n",
    "last_cpn_date=bond['Latest redemption date'].dt.strftime(\"%Y-%m-%d\").values[0]\n",
    "coupon=bond['%'].values[0]\n",
    "bond_price_series = price_df[id].replace(0, np.nan).copy().dropna()\n",
    "\n",
    "ukt4_75_2030 = yield_series(bond_price_series, issue_date, maturity_date, first_cpn_date, last_cpn_date, coupon)"
   ]
  },
  {
   "cell_type": "code",
   "execution_count": null,
   "id": "606e78bd",
   "metadata": {},
   "outputs": [],
   "source": [
    "strip_details.loc[\n",
    "    (strip_details['Latest redemption date'] > pd.to_datetime(maturity_date, format=\"%Y-%m-%d\") - pd.DateOffset(years=1))\n",
    "].loc[\n",
    "    (strip_details['Latest redemption date'] < pd.to_datetime(maturity_date, format=\"%Y-%m-%d\") + pd.DateOffset(years=1))\n",
    "]"
   ]
  },
  {
   "cell_type": "code",
   "execution_count": null,
   "id": "7834c0eb",
   "metadata": {},
   "outputs": [],
   "source": [
    "\n",
    "id = 32150\n",
    "bond = conv_details[conv_details['Sequence']==id]\n",
    "issue_date=bond['Issue date'].dt.strftime(\"%Y-%m-%d\").values[0]\n",
    "first_cpn_date=bond['First coupon payable on date'].dt.strftime(\"%Y-%m-%d\").values[0]\n",
    "strip_id = 72410\n",
    "bond = strip_details[strip_details['Sequence']==strip_id]\n",
    "maturity_date=bond['Latest redemption date'].dt.strftime(\"%Y-%m-%d\").values[0]\n",
    "last_cpn_date=bond['Latest redemption date'].dt.strftime(\"%Y-%m-%d\").values[0]\n",
    "coupon=0.0\n",
    "bond_price_series = price_df[strip_id].replace(0, np.nan).copy().dropna()\n",
    "\n",
    "ukt_strip_2030 = yield_series(bond_price_series, issue_date, maturity_date, first_cpn_date, last_cpn_date, coupon)"
   ]
  },
  {
   "cell_type": "code",
   "execution_count": null,
   "id": "74d75507",
   "metadata": {},
   "outputs": [],
   "source": [
    "ax = (ukt0_25_2031['yield'] - ukt_strip_2030['yield']).plot()\n",
    "(ukt4_75_2030['yield'] - ukt_strip_2030['yield']).plot(ax=ax)"
   ]
  },
  {
   "cell_type": "code",
   "execution_count": null,
   "id": "fb36d44a",
   "metadata": {},
   "outputs": [],
   "source": []
  },
  {
   "cell_type": "markdown",
   "id": "c872c145",
   "metadata": {},
   "source": [
    "### Convexity"
   ]
  },
  {
   "cell_type": "markdown",
   "id": "7da78296",
   "metadata": {},
   "source": [
    "### The state of play at OBR March 2025"
   ]
  },
  {
   "cell_type": "code",
   "execution_count": null,
   "id": "0e04c973",
   "metadata": {},
   "outputs": [],
   "source": [
    "last = '2025-03-31'"
   ]
  },
  {
   "cell_type": "code",
   "execution_count": null,
   "id": "5000c6d8",
   "metadata": {},
   "outputs": [],
   "source": [
    "outstanding = conv.loc[last, conv.loc[last] !=0].reset_index()['index'].to_list()\n",
    "outstanding[:10]"
   ]
  },
  {
   "cell_type": "code",
   "execution_count": null,
   "id": "1a122ac9",
   "metadata": {},
   "outputs": [],
   "source": [
    "last_price = price_df.loc[last][outstanding]\n",
    "principal = conv.loc[last][outstanding]"
   ]
  },
  {
   "cell_type": "code",
   "execution_count": null,
   "id": "3f4f5483",
   "metadata": {},
   "outputs": [],
   "source": [
    "principal.name = 'balance_outstanding'\n",
    "last_price.name = 'price'"
   ]
  },
  {
   "cell_type": "code",
   "execution_count": null,
   "id": "d200897f",
   "metadata": {},
   "outputs": [],
   "source": [
    "data_set_0325 = last_price.reset_index().merge(principal.reset_index(), on='index')\n",
    "data_set_0325.rename(columns={'index': 'Sequence'}, inplace=True)"
   ]
  },
  {
   "cell_type": "code",
   "execution_count": null,
   "id": "ae111cc0",
   "metadata": {},
   "outputs": [],
   "source": [
    "(data_set_0325['balance_outstanding']*data_set_0325['price']).sum()/data_set_0325['balance_outstanding'].sum()"
   ]
  },
  {
   "cell_type": "code",
   "execution_count": null,
   "id": "27d48865",
   "metadata": {},
   "outputs": [],
   "source": [
    "(data_set_0325['balance_outstanding']*0.17).sum()"
   ]
  },
  {
   "cell_type": "code",
   "execution_count": null,
   "id": "7f8d71cc",
   "metadata": {},
   "outputs": [],
   "source": [
    "data_set_0325.head()"
   ]
  },
  {
   "cell_type": "code",
   "execution_count": null,
   "id": "7f8d71cc",
   "metadata": {},
   "outputs": [],
   "source": [
    "conv_details['Sequence'] = conv_details['Sequence'].astype(int)"
   ]
  },
  {
   "cell_type": "code",
   "execution_count": null,
   "id": "22fae9b7",
   "metadata": {},
   "outputs": [],
   "source": [
    "len([x for x in conv_details['Sequence'] if x in [y for y in outstanding]])"
   ]
  },
  {
   "cell_type": "code",
   "execution_count": null,
   "id": "fd93b5e7",
   "metadata": {},
   "outputs": [],
   "source": [
    "conv_details.columns"
   ]
  },
  {
   "cell_type": "code",
   "execution_count": null,
   "id": "36582d6b",
   "metadata": {},
   "outputs": [],
   "source": [
    "conv_details.loc[0, 'Sequence']"
   ]
  },
  {
   "cell_type": "code",
   "execution_count": null,
   "id": "f4c9077b",
   "metadata": {},
   "outputs": [],
   "source": [
    "data_set_0325.loc[0, 'Sequence']"
   ]
  },
  {
   "cell_type": "code",
   "execution_count": null,
   "id": "c929433d",
   "metadata": {},
   "outputs": [],
   "source": [
    "static_variables = ['%', \"Frequency\",\"Sequence\",'ISIN Code']+date_variables\n",
    "data_set_0325 = data_set_0325.merge(conv_details[static_variables], on='Sequence', how='inner')\n",
    "data_set_0325.head()"
   ]
  },
  {
   "cell_type": "code",
   "execution_count": null,
   "id": "5d17bf02",
   "metadata": {},
   "outputs": [],
   "source": [
    "(data_set_0325['balance_outstanding']*data_set_0325['%']).sum()/data_set_0325['balance_outstanding'].sum()"
   ]
  },
  {
   "cell_type": "code",
   "execution_count": null,
   "id": "7da3ab66",
   "metadata": {},
   "outputs": [],
   "source": [
    "data_set_0325['balance_outstanding'].plot(kind='hist')"
   ]
  },
  {
   "cell_type": "code",
   "execution_count": null,
   "id": "cd43547c",
   "metadata": {},
   "outputs": [],
   "source": [
    "sns.set_theme(style=\"darkgrid\")\n",
    "\n",
    "# use the scatterplot function to build the bubble map\n",
    "ax = sns.scatterplot(\n",
    "    data=data_set_0325,\n",
    "    x=\"Latest redemption date\",\n",
    "    y=\"price\",\n",
    "    size=\"balance_outstanding\",\n",
    "    legend=False,\n",
    "    sizes=(10, 500)\n",
    ")\n",
    "\n",
    "# show the graph\n",
    "plt.show()"
   ]
  },
  {
   "cell_type": "code",
   "execution_count": null,
   "id": "2e6faca3",
   "metadata": {},
   "outputs": [],
   "source": [
    "range = ax.get_xaxis().get_data_interval()"
   ]
  },
  {
   "cell_type": "code",
   "execution_count": null,
   "id": "cc5e0454",
   "metadata": {},
   "outputs": [],
   "source": [
    "from sklearn.pipeline import make_pipeline\n",
    "from sklearn import preprocessing\n",
    "from sklearn.svm import SVR\n",
    "\n",
    "pipeline = make_pipeline(\n",
    "    preprocessing.StandardScaler(),\n",
    "    SVR(kernel='linear', epsilon=0.01, C=100, gamma = 0.01),\n",
    ")\n",
    "\n",
    "X = ((data_set_0325['Latest redemption date'] - pd.Timestamp(\"1970-01-01\")).dt.days).to_list()\n",
    "# X = [np.array(X)[:, np.newaxis]]\n",
    "X = np.array(X).reshape(-1, 1)\n",
    "y = data_set_0325['price']\n",
    "\n",
    "pipeline.fit(X, y)"
   ]
  },
  {
   "cell_type": "code",
   "execution_count": null,
   "id": "13e2eac1",
   "metadata": {},
   "outputs": [],
   "source": [
    "y_hat = pipeline.predict(X)"
   ]
  },
  {
   "cell_type": "code",
   "execution_count": null,
   "id": "4c6202be",
   "metadata": {},
   "outputs": [],
   "source": [
    "sns.set_theme(style=\"darkgrid\")\n",
    "\n",
    "# use the scatterplot function to build the bubble map\n",
    "ax = sns.scatterplot(\n",
    "    data=data_set_0325,\n",
    "    x=\"Latest redemption date\",\n",
    "    y=\"price\",\n",
    "    size=\"balance_outstanding\",\n",
    "    legend=False,\n",
    "    sizes=(10, 500)\n",
    ")\n",
    "\n",
    "# show the graph\n",
    "ax.plot(data_set_0325['Latest redemption date'], y_hat)\n",
    "plt.show()"
   ]
  },
  {
   "cell_type": "code",
   "execution_count": null,
   "id": "ed71a4c2",
   "metadata": {},
   "outputs": [],
   "source": [
    "decision_line = pd.DataFrame(\n",
    "    {\n",
    "        \"Latest redemption date\": data_set_0325['Latest redemption date'],\n",
    "        \"decision_line_price\": y_hat\n",
    "    })"
   ]
  },
  {
   "cell_type": "code",
   "execution_count": null,
   "id": "995a363e",
   "metadata": {},
   "outputs": [],
   "source": [
    "data_set_0325 = data_set_0325.merge(decision_line, on='Latest redemption date', how='inner')"
   ]
  },
  {
   "cell_type": "code",
   "execution_count": null,
   "id": "cb27823d",
   "metadata": {},
   "outputs": [],
   "source": [
    "(\n",
    "    (data_set_0325['decision_line_price'] -\n",
    "     data_set_0325['price'])/data_set_0325['price']\n",
    "     ).plot(kind='hist', bins=50, title='Difference between decision line and actual price')"
   ]
  },
  {
   "cell_type": "code",
   "execution_count": null,
   "id": "4768ec51",
   "metadata": {},
   "outputs": [],
   "source": [
    "sns.set_theme(style=\"darkgrid\")\n",
    "\n",
    "f, axs = plt.subplots(1, 1, figsize=(8, 4))\n",
    "\n",
    "condition = (data_set_0325['decision_line_price'] - data_set_0325['price']) > 2\n",
    "data_set_0325['segmentation'] = condition.apply(lambda x: 'low coupon' if x else 'high coupon')\n",
    "\n",
    "# use the scatterplot function to build the bubble map\n",
    "sns.scatterplot(\n",
    "    data=data_set_0325,\n",
    "    x=\"Latest redemption date\",\n",
    "    y=\"price\",\n",
    "    size=\"balance_outstanding\",\n",
    "    sizes=(10, 500),\n",
    "    hue='segmentation',\n",
    "    legend='brief',\n",
    "    ax=axs\n",
    ")\n",
    "\n",
    "# show the graph\n",
    "axs.plot(data_set_0325['Latest redemption date'], y_hat, )\n",
    "sns.move_legend(axs, \"upper left\", bbox_to_anchor=(1, 1))\n",
    "f.show()"
   ]
  }
 ],
 "metadata": {
  "kernelspec": {
   "display_name": ".venv (3.12.10)",
   "language": "python",
   "name": "python3"
  },
  "language_info": {
   "codemirror_mode": {
    "name": "ipython",
    "version": 3
   },
   "file_extension": ".py",
   "mimetype": "text/x-python",
   "name": "python",
   "nbconvert_exporter": "python",
   "pygments_lexer": "ipython3",
   "version": "3.12.10"
  }
 },
 "nbformat": 4,
 "nbformat_minor": 5
}
