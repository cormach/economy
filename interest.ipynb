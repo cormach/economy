{
 "cells": [
  {
   "cell_type": "code",
   "execution_count": null,
   "id": "a5dd9e06",
   "metadata": {},
   "outputs": [],
   "source": [
    "import pandas as pd\n",
    "import requests\n",
    "import zipfile\n",
    "import io\n",
    "import os\n",
    "import csv\n",
    "import ctypes as ct\n",
    "import numpy as np\n",
    "from collections import Counter\n",
    "import matplotlib.pyplot as plt\n",
    "import re\n",
    "\n",
    "from bgs.load_bgs_amounts import load_bgs_amounts\n",
    "from bgs.load_gilt_details import load_csv_blocks\n",
    "from bgs.load_bgs_prices import load_prices"
   ]
  },
  {
   "cell_type": "code",
   "execution_count": null,
   "id": "b0bebe62",
   "metadata": {},
   "outputs": [],
   "source": [
    "def clean_date(bgs_index):\n",
    "    if re.match(r'^\\d{2}\\s\\w{3}\\s+\\d{4}$', bgs_index):\n",
    "        return pd.to_datetime(bgs_index, format=\"%d %b %Y\", errors='coerce').to_period('M').to_timestamp('M')\n",
    "    else:\n",
    "        return pd.to_datetime(bgs_index).to_period('M').to_timestamp('M')\n",
    "\n",
    "def clean_percentage(x):\n",
    "    if x.strip() in ['Variable','Floating']:\n",
    "        return x\n",
    "    try:\n",
    "        x = float(x)\n",
    "    except (ValueError, TypeError):\n",
    "        units, fractions = x.split(' ')\n",
    "        num, denom = map(float, fractions.split('/'))\n",
    "        x = float(units) + num / denom\n",
    "        print(x)\n",
    "    return x"
   ]
  },
  {
   "cell_type": "code",
   "execution_count": null,
   "id": "7d5a16bc",
   "metadata": {},
   "outputs": [],
   "source": [
    "tables = load_bgs_amounts(\"downloads/BGSAmounts.csv\")\n",
    "\n",
    "conv = tables['Conventionals']\n",
    "conv.replace(\"Redeemed\", \"\", inplace=True)\n",
    "conv = conv.apply(pd.to_numeric, errors='coerce')\n",
    "conv.fillna(0, inplace=True)\n",
    "conv.index = pd.Index([clean_date(x) for x in list(conv.index)]).to_period('M').to_timestamp('M')\n",
    "\n",
    "old = tables['Calculated indexed nominal Old-style']\n",
    "old.replace(\"Redeemed\", \"\", inplace=True)\n",
    "old = old.apply(pd.to_numeric, errors='coerce')\n",
    "old.fillna(0, inplace=True)\n",
    "old.index = pd.Index([clean_date(x) for x in list(old.index)]).to_period('M').to_timestamp('M')\n",
    "\n",
    "new = tables['Calculated indexed nominal New-style']\n",
    "new.replace(\"Redeemed\", \"\", inplace=True)\n",
    "new = new.apply(pd.to_numeric, errors='coerce')\n",
    "new.fillna(0, inplace=True)\n",
    "new.index = pd.Index([clean_date(x) for x in list(new.index)]).to_period('M').to_timestamp('M')\n",
    "\n",
    "new_no_idx = tables['Index-linked New-style']\n",
    "new_no_idx.replace(\"Redeemed\", \"\", inplace=True)\n",
    "new_no_idx = new_no_idx.apply(pd.to_numeric, errors='coerce')\n",
    "new_no_idx.fillna(0, inplace=True)\n",
    "new_no_idx.index = pd.Index([clean_date(x) for x in list(new_no_idx.index)]).to_period('M').to_timestamp('M')\n"
   ]
  },
  {
   "cell_type": "code",
   "execution_count": null,
   "id": "6ca78ef6",
   "metadata": {},
   "outputs": [],
   "source": []
  },
  {
   "cell_type": "code",
   "execution_count": null,
   "id": "2b15cae6",
   "metadata": {},
   "outputs": [],
   "source": [
    "price_df=load_prices(\"downloads/BGSPrices.csv\")\n",
    "price_df.index = pd.to_datetime(price_df.index, format=\"%d %b %Y\").to_period('M').to_timestamp('M')\n",
    "for text in ['Amalgamated', 'Redeemed', 'redeemed']:\n",
    "    price_df = price_df.replace(text, 0)\n",
    "price_df = price_df.replace('missing', None)\n",
    "price_df = price_df.ffill(axis=0)\n",
    "price_df = price_df.fillna(0)"
   ]
  },
  {
   "cell_type": "code",
   "execution_count": null,
   "id": "68d7b1a1",
   "metadata": {},
   "outputs": [],
   "source": [
    "details = load_csv_blocks(\"downloads/BGSDetails.csv\")\n",
    "\n",
    "details.keys()"
   ]
  },
  {
   "cell_type": "code",
   "execution_count": null,
   "id": "c79fcb2a",
   "metadata": {},
   "outputs": [],
   "source": [
    "\n",
    "conv_details = details['Conventionals']\n",
    "conv_details['%'] = conv_details['%'].apply(clean_percentage)\n",
    "\n",
    "new_details = details['Index-Linked New-style']\n",
    "new_details['%'] = new_details['%'].apply(clean_percentage)\n",
    "\n",
    "old_details = details['Index-Linked Old-style']\n",
    "old_details['%'] = old_details['%'].apply(clean_percentage)\n"
   ]
  },
  {
   "cell_type": "code",
   "execution_count": null,
   "id": "142fbfeb",
   "metadata": {},
   "outputs": [],
   "source": [
    "pos = conv['31-03-2024':'30-04-2025'].sum(axis = 0).reset_index()\n",
    "bonds_paying_interest=pos[pos[0]>0]['index'].to_list()\n"
   ]
  },
  {
   "cell_type": "code",
   "execution_count": null,
   "id": "231fcc51",
   "metadata": {},
   "outputs": [],
   "source": [
    "gilt = bonds_paying_interest[0]\n",
    "gilt"
   ]
  },
  {
   "cell_type": "code",
   "execution_count": null,
   "id": "01a98e90",
   "metadata": {},
   "outputs": [],
   "source": [
    "conv['31-03-2024':'30-04-2025'][gilt]"
   ]
  },
  {
   "cell_type": "code",
   "execution_count": null,
   "id": "2d462c8d",
   "metadata": {},
   "outputs": [],
   "source": [
    "conv_details[conv_details['Sequence'] ==gilt]['%'].values[0]"
   ]
  },
  {
   "cell_type": "code",
   "execution_count": null,
   "id": "62c2d2b1",
   "metadata": {},
   "outputs": [],
   "source": [
    "conv['31-03-2024':'30-04-2025'][gilt]*conv_details[conv_details['Sequence'] ==gilt]['%'].values[0]/12/100"
   ]
  },
  {
   "cell_type": "code",
   "execution_count": null,
   "id": "46326c52",
   "metadata": {},
   "outputs": [],
   "source": [
    "conv_interest = 0\n",
    "for gilt in bonds_paying_interest:\n",
    "    conv_interest += (conv['31-03-2024':'30-04-2025'][gilt]*conv_details[conv_details['Sequence'] ==gilt]['%'].values[0]/12/100).sum()\n",
    "conv_interest"
   ]
  },
  {
   "cell_type": "code",
   "execution_count": null,
   "id": "013ba677",
   "metadata": {},
   "outputs": [],
   "source": [
    "tables.keys()"
   ]
  },
  {
   "cell_type": "code",
   "execution_count": null,
   "id": "e10a6f8c",
   "metadata": {},
   "outputs": [],
   "source": [
    "linker_pos =  new_no_idx['31-03-2024':'30-04-2025'].sum(axis = 0).reset_index()\n",
    "linkers_paying_interest=linker_pos[linker_pos[0]>0]['index'].to_list()\n",
    "len(linkers_paying_interest)"
   ]
  },
  {
   "cell_type": "code",
   "execution_count": null,
   "id": "bd637abb",
   "metadata": {},
   "outputs": [],
   "source": [
    "linker_inc = new_no_idx.loc['31-03-2024':'30-04-2025',linkers_paying_interest].diff().sum().reset_index().rename(columns={0:'Increase', 'index':'Sequence'})\n",
    "linker_inc = linker_inc[linker_inc['Increase']>0].copy()"
   ]
  },
  {
   "cell_type": "code",
   "execution_count": null,
   "id": "373196e0",
   "metadata": {},
   "outputs": [],
   "source": [
    "linker_pos_check = new['31-03-2024':'30-04-2025'].sum(axis = 0).reset_index()\n",
    "linker_check_list=linker_pos[linker_pos[0]>0]['index'].to_list()\n",
    "[x for x in linker_check_list if x not in linkers_paying_interest]"
   ]
  },
  {
   "cell_type": "code",
   "execution_count": null,
   "metadata": {},
   "outputs": [],
   "source": [
    "new_linker_interest = 0\n",
    "for linker in linkers_paying_interest:\n",
    "    new_linker_interest += (new['31-03-2024':'30-04-2025'][linker]*new_details[new_details['Sequence'] ==linker]['%'].values[0]/12/100).sum()\n",
    "new_linker_interest"
   ]
  },
  {
   "cell_type": "code",
   "execution_count": null,
   "id": "92a6b3f2",
   "metadata": {},
   "outputs": [],
   "source": [
    "linker_inc"
   ]
  },
  {
   "cell_type": "code",
   "execution_count": null,
   "id": "9ad2ff67",
   "metadata": {},
   "outputs": [],
   "source": [
    "linkers_base = new['31-03-2024':'30-04-2025'].copy()\n",
    "gross_change = linkers_base.diff().sum()"
   ]
  },
  {
   "cell_type": "code",
   "execution_count": null,
   "id": "0f241533",
   "metadata": {},
   "outputs": [],
   "source": [
    "start = '31-03-2024'\n",
    "end = '30-04-2025'\n",
    "idx_start = linkers_base.loc[start, linker_inc['Sequence'].to_list()]\n",
    "idx_diff = linkers_base.loc[end, linker_inc['Sequence'].to_list()] - idx_start"
   ]
  },
  {
   "cell_type": "code",
   "execution_count": null,
   "id": "cdd77d8a",
   "metadata": {},
   "outputs": [],
   "source": [
    "idx_diff"
   ]
  },
  {
   "cell_type": "code",
   "execution_count": null,
   "id": "2dfa6dff",
   "metadata": {},
   "outputs": [],
   "source": [
    "idx_start"
   ]
  },
  {
   "cell_type": "code",
   "execution_count": null,
   "id": "f1de3da1",
   "metadata": {},
   "outputs": [],
   "source": [
    "no_idx_end = new_no_idx.loc[end, linker_inc['Sequence'].to_list()]\n",
    "no_idx_diff = no_idx_end - new_no_idx.loc[start, linker_inc['Sequence'].to_list()]\n",
    "no_idx_end"
   ]
  },
  {
   "cell_type": "code",
   "execution_count": null,
   "id": "2c480531",
   "metadata": {},
   "outputs": [],
   "source": [
    "(idx_diff + idx_start)/no_idx_end * no_idx_diff"
   ]
  },
  {
   "cell_type": "code",
   "execution_count": null,
   "id": "77ef2642",
   "metadata": {},
   "outputs": [],
   "source": [
    "inflation_uplift = gross_change.sum() - ((idx_diff + idx_start)/no_idx_end * no_idx_diff).sum()"
   ]
  },
  {
   "cell_type": "code",
   "execution_count": null,
   "id": "4bbed846",
   "metadata": {},
   "outputs": [],
   "source": [
    "old_linker_pos =  old[start:end].sum(axis = 0).reset_index()\n",
    "old_linkers_paying_interest=old_linker_pos[old_linker_pos[0]>0]['index'].to_list()"
   ]
  },
  {
   "cell_type": "code",
   "execution_count": null,
   "id": "2731e7a0",
   "metadata": {},
   "outputs": [],
   "source": [
    "old.loc[start:end, old_linkers_paying_interest]"
   ]
  },
  {
   "cell_type": "code",
   "execution_count": null,
   "id": "5f4b823c",
   "metadata": {},
   "outputs": [],
   "source": [
    "old_linker_interest = 0\n",
    "for linker in old_linkers_paying_interest:\n",
    "    old_linker_interest += (old['31-03-2024':'30-04-2025'][linker]*old_details[old_details['Sequence'] ==linker]['%'].values[0]/12/100).sum()\n",
    "old_linker_interest"
   ]
  },
  {
   "cell_type": "code",
   "execution_count": null,
   "id": "8a395ffa",
   "metadata": {},
   "outputs": [],
   "source": [
    "apf_losses = - 18500\n",
    "conv_interest + new_linker_interest + old_linker_interest + inflation_uplift - apf_losses\n",
    "# Actual Answer 105.2"
   ]
  },
  {
   "cell_type": "code",
   "execution_count": null,
   "id": "88373d35",
   "metadata": {},
   "outputs": [],
   "source": []
  }
 ],
 "metadata": {
  "kernelspec": {
   "display_name": ".venv (3.12.10)",
   "language": "python",
   "name": "python3"
  },
  "language_info": {
   "codemirror_mode": {
    "name": "ipython",
    "version": 3
   },
   "file_extension": ".py",
   "mimetype": "text/x-python",
   "name": "python",
   "nbconvert_exporter": "python",
   "pygments_lexer": "ipython3",
   "version": "3.12.10"
  }
 },
 "nbformat": 4,
 "nbformat_minor": 5
}
