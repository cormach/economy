{
 "cells": [
  {
   "cell_type": "code",
   "execution_count": null,
   "id": "ccd26481",
   "metadata": {},
   "outputs": [],
   "source": [
    "import pandas as pd\n",
    "import requests\n",
    "import zipfile\n",
    "import io\n",
    "import os\n",
    "import csv\n",
    "import ctypes as ct\n",
    "import numpy as np\n",
    "from collections import Counter\n",
    "import matplotlib.pyplot as plt\n",
    "from matplotlib.dates import YearLocator\n",
    "from matplotlib.ticker import PercentFormatter\n",
    "import re\n",
    "import seaborn as sns\n",
    "import QuantLib as ql\n",
    "\n",
    "from bgs.bgs_utils import clean_date, clean_percentage\n",
    "from bgs.load_bgs_amounts import load_bgs_amounts\n",
    "from bgs.load_gilt_details import load_csv_blocks\n",
    "from bgs.load_bgs_prices import load_prices\n",
    "from bgs.gilt_analytics import gilt_yield, yield_series, yield_curve, from_iso, yield_curves_pw, yield_curve_rv\n",
    "from bgs.linker_analytics import linker_real_yield\n",
    "\n",
    "%load_ext autoreload\n",
    "%autoreload 2"
   ]
  },
  {
   "cell_type": "markdown",
   "id": "2ef0bd54",
   "metadata": {},
   "source": [
    "### British Gilt Survey Amounts Table"
   ]
  },
  {
   "cell_type": "code",
   "execution_count": null,
   "id": "b2c93421",
   "metadata": {},
   "outputs": [],
   "source": [
    "tables = load_bgs_amounts(\"downloads/BGSAmounts.csv\")\n",
    "\n",
    "conv = tables['Conventionals']\n",
    "conv.replace(\"Redeemed\", \"\", inplace=True)\n",
    "conv = conv.apply(pd.to_numeric, errors='coerce')\n",
    "conv.fillna(0, inplace=True)\n",
    "conv.index = pd.Index([clean_date(x) for x in list(conv.index)]).to_period('M').to_timestamp('M')\n",
    "conv.columns = [np.int64(x.strip()) for x in conv.columns]\n",
    "\n",
    "old = tables['Calculated indexed nominal Old-style']\n",
    "old.replace(\"Redeemed\", \"\", inplace=True)\n",
    "old = old.apply(pd.to_numeric, errors='coerce')\n",
    "old.fillna(0, inplace=True)\n",
    "old.index = pd.Index([clean_date(x) for x in list(old.index)]).to_period('M').to_timestamp('M')\n",
    "old.columns = [np.int64(x.strip()) for x in old.columns]\n",
    "\n",
    "new = tables['Calculated indexed nominal New-style']\n",
    "new.replace(\"Redeemed\", \"\", inplace=True)\n",
    "new = new.apply(pd.to_numeric, errors='coerce')\n",
    "new.fillna(0, inplace=True)\n",
    "new.index = pd.Index([clean_date(x) for x in list(new.index)]).to_period('M').to_timestamp('M')\n",
    "new.columns = [np.int64(x.strip()) for x in new.columns]\n",
    "\n",
    "new_no_idx = tables['Index-linked New-style']\n",
    "new_no_idx.replace(\"Redeemed\", \"\", inplace=True)\n",
    "new_no_idx = new_no_idx.apply(pd.to_numeric, errors='coerce')\n",
    "new_no_idx.fillna(0, inplace=True)\n",
    "new_no_idx.index = pd.Index([clean_date(x) for x in list(new_no_idx.index)]).to_period('M').to_timestamp('M')\n",
    "new_no_idx.columns = [np.int64(x.strip()) for x in new_no_idx.columns]"
   ]
  },
  {
   "cell_type": "markdown",
   "id": "6c3e5d1f",
   "metadata": {},
   "source": [
    "### British Gilts Survey Month End Prices"
   ]
  },
  {
   "cell_type": "code",
   "execution_count": null,
   "id": "89594e87",
   "metadata": {},
   "outputs": [],
   "source": [
    "price_df=load_prices(\"downloads/BGSPrices.csv\")\n",
    "price_df.index = pd.to_datetime(price_df.index, format=\"%d %b %Y\").to_period('M').to_timestamp('M')\n",
    "for text in ['Amalgamated', 'Redeemed', 'redeemed']:\n",
    "    price_df = price_df.replace(text, 0)\n",
    "price_df = price_df.replace('missing', None)\n",
    "price_df = price_df.ffill(axis=0)\n",
    "price_df = price_df.fillna(0)\n",
    "price_df.columns = [np.int64(x) for x in price_df.columns]"
   ]
  },
  {
   "cell_type": "markdown",
   "id": "953c3847",
   "metadata": {},
   "source": [
    "### British Gilts Survey Details Table (Bond Static Data, Coupon Maturity etc.) "
   ]
  },
  {
   "cell_type": "code",
   "execution_count": null,
   "id": "d18549ef",
   "metadata": {},
   "outputs": [],
   "source": [
    "details = load_csv_blocks(\"downloads/BGSDetails.csv\")\n",
    "\n",
    "conv_details = details['Conventionals']\n",
    "conv_details['%'] = conv_details['%'].apply(clean_percentage)\n",
    "conv_details['Sequence'] = conv_details['Sequence'].apply(lambda x: np.int64(x))\n",
    "\n",
    "new_details = details['Index-Linked New-style']\n",
    "new_details['%'] = new_details['%'].apply(clean_percentage)\n",
    "new_details['Sequence'] = new_details['Sequence'].apply(lambda x: np.int64(x))\n",
    "\n",
    "old_details = details['Index-Linked Old-style']\n",
    "old_details['%'] = old_details['%'].apply(clean_percentage)\n",
    "old_details['Sequence'] = old_details['Sequence'].apply(lambda x: np.int64(x))\n",
    "\n",
    "strip_details = details['Strips']\n",
    "strip_details['%'] = 0.0\n",
    "strip_details['Sequence'] = strip_details['Sequence'].apply(lambda x: np.int64(x))\n",
    "\n",
    "date_variables = [\"Latest redemption date\",\"Issue date\",\"First coupon payable on date\",]\n",
    "for date_var in date_variables:\n",
    "    conv_details[date_var] = conv_details[date_var].apply(clean_date)\n",
    "    old_details[date_var] = old_details[date_var].apply(clean_date)\n",
    "    new_details[date_var] = new_details[date_var].apply(clean_date)\n",
    "strip_details['Latest redemption date'] = strip_details['Latest redemption date'].apply(clean_date)"
   ]
  },
  {
   "cell_type": "code",
   "execution_count": null,
   "id": "1870520e",
   "metadata": {},
   "outputs": [],
   "source": [
    "all_conv = conv_details[['Sequence', 'ISIN Code','%','Latest redemption date', 'Issue date', 'First coupon payable on date']]\n"
   ]
  },
  {
   "cell_type": "markdown",
   "id": "10df164e",
   "metadata": {},
   "source": [
    "### Fix a date"
   ]
  },
  {
   "cell_type": "code",
   "execution_count": null,
   "id": "e6373d3a",
   "metadata": {},
   "outputs": [],
   "source": [
    "def bgs_gilt_yield(bgs_id, calc_date):\n",
    "\n",
    "    bond = conv_details[conv_details['Sequence']==bgs_id]\n",
    "    issue_date=bond['Issue date'].dt.strftime(\"%Y-%m-%d\").values[0]\n",
    "    maturity_date=bond['Latest redemption date'].dt.strftime(\"%Y-%m-%d\").values[0]\n",
    "    first_cpn_date=bond['First coupon payable on date'].dt.strftime(\"%Y-%m-%d\").values[0]\n",
    "    last_cpn_date=bond['Latest redemption date'].dt.strftime(\"%Y-%m-%d\").values[0]\n",
    "    coupon=bond['%'].values[0]/100\n",
    "\n",
    "    clean_price=price_df.loc[calc_date,bgs_id]\n",
    "\n",
    "\n",
    "    return gilt_yield(\n",
    "        trade_date=calc_date,\n",
    "        issue_date=issue_date,\n",
    "        maturity_date=maturity_date,\n",
    "        first_cpn_date=first_cpn_date,\n",
    "        last_cpn_date=last_cpn_date,\n",
    "        clean_price=clean_price,\n",
    "        coupon=coupon)\n",
    "    "
   ]
  },
  {
   "cell_type": "code",
   "execution_count": null,
   "id": "a6c4fecd",
   "metadata": {},
   "outputs": [],
   "source": [
    "calculation_date = \"2025-04-30\"\n",
    "\n",
    "\n",
    "gilts_list = all_conv.loc[(all_conv['Latest redemption date'] > pd.to_datetime(calculation_date))&(all_conv['Issue date']< pd.to_datetime(calculation_date))]\n",
    "gilts_list['yield'] = gilts_list['Sequence'].apply(lambda x: bgs_gilt_yield(bgs_id=x, calc_date=calculation_date))\n",
    "\n",
    "\n",
    "f = plt.figure(figsize=(8, 5))\n",
    "ax = f.add_subplot(1, 1, 1)\n",
    "\n",
    "ax.xaxis.grid(True, \"major\", color=\"lightgray\")\n",
    "ax.yaxis.grid(True, \"major\", color=\"lightgray\")\n",
    "ax.xaxis.set_major_locator(YearLocator(10))\n",
    "ax.set_ylim(0.03,0.055)\n",
    "ax.yaxis.set_major_formatter(PercentFormatter(1.0))\n",
    "\n",
    "sns.set_theme(style=\"darkgrid\")\n",
    "\n",
    "# use the scatterplot function to build the bubble map\n",
    "sns.scatterplot(\n",
    "    data=gilts_list,\n",
    "    x=\"Latest redemption date\",\n",
    "    y=\"yield\",\n",
    "    ax=ax\n",
    ")\n",
    "plt.show()"
   ]
  },
  {
   "cell_type": "code",
   "execution_count": null,
   "id": "20fda2b7",
   "metadata": {},
   "outputs": [],
   "source": [
    "gilts_list['low_coupon'] = gilts_list.apply(lambda row: 1 if row['%'] < 2.0 else 0, axis=1)"
   ]
  },
  {
   "cell_type": "code",
   "execution_count": null,
   "id": "11f8b4a3",
   "metadata": {},
   "outputs": [],
   "source": [
    "sns.set_theme(style=\"darkgrid\")\n",
    "f = plt.figure(figsize=(8, 5))\n",
    "ax = f.add_subplot(1, 1, 1)\n",
    "\n",
    "ax.xaxis.grid(True, \"major\", color=\"lightgray\")\n",
    "ax.yaxis.grid(True, \"major\", color=\"lightgray\")\n",
    "ax.xaxis.set_major_locator(YearLocator(10))\n",
    "ax.set_ylim(0.03,0.055)\n",
    "ax.yaxis.set_major_formatter(PercentFormatter(1.0))\n",
    "\n",
    "sns.set_theme(style=\"darkgrid\")\n",
    "# use the scatterplot function to build the bubble map\n",
    "ax = sns.scatterplot(\n",
    "    data=gilts_list,\n",
    "    x=\"Latest redemption date\",\n",
    "    y=\"yield\",\n",
    "    hue=\"low_coupon\",\n",
    "    ax=ax\n",
    ")\n",
    "ax.set_ylim(0.03,0.055)\n",
    "plt.show()"
   ]
  },
  {
   "cell_type": "code",
   "execution_count": null,
   "id": "5cca3895",
   "metadata": {},
   "outputs": [],
   "source": [
    "gilts_list['price'] = gilts_list['Sequence'].apply(lambda x: price_df[x].loc[calculation_date])"
   ]
  },
  {
   "cell_type": "code",
   "execution_count": null,
   "id": "7bc20353",
   "metadata": {},
   "outputs": [],
   "source": [
    "c = yield_curve(calculation_date, gilts_list, method=\"Nelson/Siegel\")"
   ]
  },
  {
   "cell_type": "code",
   "execution_count": null,
   "id": "abfbeefa",
   "metadata": {},
   "outputs": [],
   "source": [
    "c.maxDate()"
   ]
  },
  {
   "cell_type": "code",
   "execution_count": null,
   "id": "e948eb4b",
   "metadata": {},
   "outputs": [],
   "source": [
    "gilts_list['yield']"
   ]
  },
  {
   "cell_type": "code",
   "execution_count": null,
   "id": "dc2dca29",
   "metadata": {},
   "outputs": [],
   "source": [
    "f = plt.figure(figsize=(8, 5))\n",
    "ax = f.add_subplot(1, 1, 1)\n",
    "\n",
    "ax.xaxis.grid(True, \"major\", color=\"lightgray\")\n",
    "ax.yaxis.grid(True, \"major\", color=\"lightgray\")\n",
    "ax.xaxis.set_major_locator(YearLocator(10))\n",
    "\n",
    "ax.yaxis.set_major_formatter(PercentFormatter(1.0))\n",
    "styles = iter([\"-\", \"--\", \":\", \"-.\"])\n",
    "ax.set_ylim(0.03,0.055)\n",
    "\n",
    "dates = [from_iso(calculation_date) + ql.Period(i, ql.Months) for i in range(12 * 48 + 1)]\n",
    "\n",
    "day_count = ql.ActualActual(ql.ActualActual.Bond)\n",
    "\n",
    "rates = [\n",
    "        c.zeroRate(d, day_count, ql.Continuous).rate() for d in dates\n",
    "    ]\n",
    "ax.plot_date(\n",
    "    [d.to_date() for d in dates],\n",
    "    rates,\n",
    "    next(styles)\n",
    ")\n",
    "ax.legend(loc=\"best\")\n",
    "\n",
    "sns.scatterplot(\n",
    "    data=gilts_list,\n",
    "    x=\"Latest redemption date\",\n",
    "    y=\"yield\",\n",
    "    hue=\"low_coupon\",\n",
    "    ax=ax\n",
    ")"
   ]
  },
  {
   "cell_type": "code",
   "execution_count": null,
   "id": "372e5b7e",
   "metadata": {},
   "outputs": [],
   "source": [
    "high_coupon = gilts_list[gilts_list['low_coupon']==0]\n",
    "high_coupon_curve = yield_curve(calculation_date, high_coupon, method=\"Nelson/Siegel\")"
   ]
  },
  {
   "cell_type": "code",
   "execution_count": null,
   "id": "4205f271",
   "metadata": {},
   "outputs": [],
   "source": [
    "f = plt.figure(figsize=(8, 5))\n",
    "ax = f.add_subplot(1, 1, 1)\n",
    "\n",
    "ax.xaxis.grid(True, \"major\", color=\"lightgray\")\n",
    "ax.yaxis.grid(True, \"major\", color=\"lightgray\")\n",
    "ax.xaxis.set_major_locator(YearLocator(10))\n",
    "\n",
    "ax.yaxis.set_major_formatter(PercentFormatter(1.0))\n",
    "styles = iter([\"-\", \"--\", \":\", \"-.\"])\n",
    "ax.set_ylim(0.03,0.055)\n",
    "\n",
    "dates = [from_iso(calculation_date) + ql.Period(i, ql.Months) for i in range(12 * 43 + 1)]\n",
    "\n",
    "day_count = ql.ActualActual(ql.ActualActual.Bond)\n",
    "\n",
    "\n",
    "rates = [\n",
    "    high_coupon_curve.zeroRate(d, day_count, ql.Continuous).rate() for d in dates\n",
    "]\n",
    "ax.plot_date(\n",
    "    [d.to_date() for d in dates],\n",
    "    rates,\n",
    "    next(styles),\n",
    ")\n",
    "ax.legend(loc=\"best\")\n",
    "\n",
    "sns.scatterplot(\n",
    "    data=gilts_list,\n",
    "    x=\"Latest redemption date\",\n",
    "    y=\"yield\",\n",
    "    hue=\"low_coupon\",\n",
    "    ax=ax\n",
    ")"
   ]
  },
  {
   "cell_type": "code",
   "execution_count": null,
   "id": "1f51ae3b",
   "metadata": {},
   "outputs": [],
   "source": [
    "low_coupon = gilts_list[gilts_list['low_coupon']==1]\n",
    "low_coupon_curve = yield_curve(calculation_date, low_coupon)"
   ]
  },
  {
   "cell_type": "code",
   "execution_count": null,
   "id": "b880cee1",
   "metadata": {},
   "outputs": [],
   "source": [
    "f = plt.figure(figsize=(8, 5))\n",
    "ax = f.add_subplot(1, 1, 1)\n",
    "\n",
    "ax.xaxis.grid(True, \"major\", color=\"lightgray\")\n",
    "ax.yaxis.grid(True, \"major\", color=\"lightgray\")\n",
    "ax.xaxis.set_major_locator(YearLocator(10))\n",
    "ax.set_ylim(0.03,0.055)\n",
    "\n",
    "ax.yaxis.set_major_formatter(PercentFormatter(1.0))\n",
    "styles = iter([\"-\", \"--\", \":\", \"-.\"])\n",
    "\n",
    "dates = [from_iso(calculation_date) + ql.Period(i, ql.Months) for i in range(12 * 43 + 1)]\n",
    "\n",
    "day_count = ql.ActualActual(ql.ActualActual.Bond)\n",
    "\n",
    "rates = [\n",
    "    low_coupon_curve.zeroRate(d, day_count, ql.Continuous).rate() for d in dates\n",
    "]\n",
    "ax.plot_date(\n",
    "    [d.to_date() for d in dates],\n",
    "    rates,\n",
    "    next(styles),\n",
    ")\n",
    "ax.legend(loc=\"best\")\n",
    "\n",
    "sns.scatterplot(\n",
    "    data=gilts_list,\n",
    "    x=\"Latest redemption date\",\n",
    "    y=\"yield\",\n",
    "    hue=\"low_coupon\",\n",
    "    ax=ax\n",
    ")"
   ]
  },
  {
   "cell_type": "code",
   "execution_count": null,
   "id": "54aa073d",
   "metadata": {},
   "outputs": [],
   "source": [
    "gilts_list.loc[gilts_list['yield']==gilts_list['yield'].min()]"
   ]
  },
  {
   "cell_type": "code",
   "execution_count": null,
   "id": "a63e214b",
   "metadata": {},
   "outputs": [],
   "source": [
    "rv_df = yield_curve_rv(calculation_date, gilts_list)"
   ]
  },
  {
   "cell_type": "code",
   "execution_count": null,
   "id": "e959ceac",
   "metadata": {},
   "outputs": [],
   "source": [
    "rv_df.columns"
   ]
  },
  {
   "cell_type": "code",
   "execution_count": null,
   "id": "9ea4f7ce",
   "metadata": {},
   "outputs": [],
   "source": [
    "(rv_df['yield'] - rv_df['curve_yield']).mean()"
   ]
  },
  {
   "cell_type": "code",
   "execution_count": null,
   "id": "bda01e2f",
   "metadata": {},
   "outputs": [],
   "source": [
    "(rv_df['price'] - rv_df['curve_price']).abs().mean()"
   ]
  },
  {
   "cell_type": "code",
   "execution_count": null,
   "id": "18bffa66",
   "metadata": {},
   "outputs": [],
   "source": [
    "(rv_df['yield'] - rv_df['curve_yield']).abs().mean()"
   ]
  },
  {
   "cell_type": "code",
   "execution_count": null,
   "id": "0913d2cd",
   "metadata": {},
   "outputs": [],
   "source": [
    "rv_df.columns"
   ]
  },
  {
   "cell_type": "code",
   "execution_count": null,
   "id": "dad9f161",
   "metadata": {},
   "outputs": [],
   "source": [
    "c = yield_curve(calculation_date, gilts_list, method=\"Nelson/Siegel\")"
   ]
  },
  {
   "cell_type": "code",
   "execution_count": null,
   "id": "2790bc71",
   "metadata": {},
   "outputs": [],
   "source": [
    "f = plt.figure(figsize=(8, 5))\n",
    "ax = f.add_subplot(1, 1, 1)\n",
    "\n",
    "ax.xaxis.grid(True, \"major\", color=\"lightgray\")\n",
    "ax.yaxis.grid(True, \"major\", color=\"lightgray\")\n",
    "ax.xaxis.set_major_locator(YearLocator(10))\n",
    "ax.set_ylim(0.03,0.055)\n",
    "\n",
    "ax.yaxis.set_major_formatter(PercentFormatter(1.0))\n",
    "styles = iter([\"-\", \"--\", \":\", \"-.\"])\n",
    "\n",
    "sns.scatterplot(\n",
    "    data=rv_df,\n",
    "    x=\"Latest redemption date\",\n",
    "    y=\"curve_yield\",\n",
    "    ax=ax\n",
    ")\n",
    "\n",
    "dates = [from_iso(calculation_date) + ql.Period(i, ql.Months) for i in range(12 * 48 + 1)]\n",
    "\n",
    "day_count = ql.ActualActual(ql.ActualActual.Bond)\n",
    "\n",
    "rates = [\n",
    "        c.zeroRate(d, day_count, ql.Continuous).rate() for d in dates\n",
    "    ]\n",
    "ax.plot_date(\n",
    "    [d.to_date() for d in dates],\n",
    "    rates,\n",
    "    next(styles)\n",
    ")\n",
    "ax.legend(loc=\"best\")"
   ]
  }
 ],
 "metadata": {
  "kernelspec": {
   "display_name": ".venv",
   "language": "python",
   "name": "python3"
  },
  "language_info": {
   "codemirror_mode": {
    "name": "ipython",
    "version": 3
   },
   "file_extension": ".py",
   "mimetype": "text/x-python",
   "name": "python",
   "nbconvert_exporter": "python",
   "pygments_lexer": "ipython3",
   "version": "3.12.10"
  }
 },
 "nbformat": 4,
 "nbformat_minor": 5
}
