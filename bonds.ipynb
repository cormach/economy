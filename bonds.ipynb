{
 "cells": [
  {
   "cell_type": "code",
   "execution_count": 1,
   "metadata": {},
   "outputs": [],
   "source": [
    "import pandas as pd\n",
    "import requests\n",
    "import zipfile\n",
    "import io\n",
    "import os\n",
    "import csv\n",
    "import ctypes as ct\n"
   ]
  },
  {
   "cell_type": "code",
   "execution_count": 1,
   "metadata": {},
   "outputs": [],
   "source": [
    "# source_file = \"https://escoe-website.s3.amazonaws.com/wp-content/uploads/2018/10/05232820/BGSCSV.zip\"\n",
    "# r = requests.get(source_file)\n",
    "# z = zipfile.ZipFile(io.BytesIO(r.content))\n",
    "# z.extractall(\"downloads/\")\n",
    "# os.listdir(\"downloads/\")"
   ]
  },
  {
   "cell_type": "code",
   "execution_count": 2,
   "metadata": {},
   "outputs": [],
   "source": [
    "from bgs.load_bgs_amounts import load_bgs_amounts"
   ]
  },
  {
   "cell_type": "code",
   "execution_count": 3,
   "metadata": {},
   "outputs": [
    {
     "name": "stdout",
     "output_type": "stream",
     "text": [
      "           index Sum of Conventionals\n",
      "0       Mar 1964           19,070.000\n",
      "1       Apr 1964           19,070.000\n",
      "2       May 1964           18,691.000\n",
      "3       Jun 1964           18,691.000\n",
      "4       Jul 1964           18,691.000\n",
      "..           ...                  ...\n",
      "725  30 Aug 2024        1,946,970.116\n",
      "726  30 Sep 2024        1,938,161.862\n",
      "727  31 Oct 2024        1,964,737.881\n",
      "728  29 Nov 2024        1,982,318.500\n",
      "729  31 Dec 2024        1,996,881.000\n",
      "\n",
      "[730 rows x 2 columns]\n"
     ]
    }
   ],
   "source": [
    "tables = load_bgs_amounts(\"downloads/BGSAmounts.csv\")"
   ]
  },
  {
   "cell_type": "code",
   "execution_count": 4,
   "metadata": {},
   "outputs": [
    {
     "data": {
      "text/plain": [
       "dict_keys(['Conventionals', 'Sum of Conventionals', 'Index-linked Old-style', 'Index-linked New-style', 'Calculated indexed nominal Old-style', 'Calculated indexed nominal New-style', 'Sum of total conventional and indexed-linked'])"
      ]
     },
     "execution_count": 4,
     "metadata": {},
     "output_type": "execute_result"
    }
   ],
   "source": [
    "tables.keys()"
   ]
  },
  {
   "cell_type": "code",
   "execution_count": 5,
   "metadata": {},
   "outputs": [],
   "source": [
    "conv = tables['Conventionals']"
   ]
  },
  {
   "cell_type": "code",
   "execution_count": 6,
   "metadata": {},
   "outputs": [
    {
     "data": {
      "text/plain": [
       "(730, 428)"
      ]
     },
     "execution_count": 6,
     "metadata": {},
     "output_type": "execute_result"
    }
   ],
   "source": [
    "conv.shape"
   ]
  },
  {
   "cell_type": "code",
   "execution_count": 7,
   "metadata": {},
   "outputs": [
    {
     "data": {
      "text/html": [
       "<div>\n",
       "<style scoped>\n",
       "    .dataframe tbody tr th:only-of-type {\n",
       "        vertical-align: middle;\n",
       "    }\n",
       "\n",
       "    .dataframe tbody tr th {\n",
       "        vertical-align: top;\n",
       "    }\n",
       "\n",
       "    .dataframe thead th {\n",
       "        text-align: right;\n",
       "    }\n",
       "</style>\n",
       "<table border=\"1\" class=\"dataframe\">\n",
       "  <thead>\n",
       "    <tr style=\"text-align: right;\">\n",
       "      <th></th>\n",
       "      <th>100</th>\n",
       "      <th>200</th>\n",
       "      <th>300</th>\n",
       "      <th>400</th>\n",
       "      <th>500</th>\n",
       "      <th>600</th>\n",
       "      <th>700</th>\n",
       "      <th>800</th>\n",
       "      <th>900</th>\n",
       "      <th>1000</th>\n",
       "      <th>...</th>\n",
       "      <th>32295</th>\n",
       "      <th>32297</th>\n",
       "      <th>32300</th>\n",
       "      <th>32400</th>\n",
       "      <th>32500</th>\n",
       "      <th>32600</th>\n",
       "      <th>32700</th>\n",
       "      <th>32800</th>\n",
       "      <th>32900</th>\n",
       "      <th>33000</th>\n",
       "    </tr>\n",
       "  </thead>\n",
       "  <tbody>\n",
       "    <tr>\n",
       "      <th>Mar 1964</th>\n",
       "      <td>505</td>\n",
       "      <td>274</td>\n",
       "      <td>391</td>\n",
       "      <td>709</td>\n",
       "      <td>978</td>\n",
       "      <td></td>\n",
       "      <td>749</td>\n",
       "      <td>400</td>\n",
       "      <td>500</td>\n",
       "      <td>533</td>\n",
       "      <td>...</td>\n",
       "      <td></td>\n",
       "      <td></td>\n",
       "      <td>374</td>\n",
       "      <td>1909</td>\n",
       "      <td>510</td>\n",
       "      <td>58</td>\n",
       "      <td>2</td>\n",
       "      <td>21</td>\n",
       "      <td>276</td>\n",
       "      <td>482</td>\n",
       "    </tr>\n",
       "    <tr>\n",
       "      <th>Apr 1964</th>\n",
       "      <td>505</td>\n",
       "      <td>274</td>\n",
       "      <td>391</td>\n",
       "      <td>709</td>\n",
       "      <td>978</td>\n",
       "      <td></td>\n",
       "      <td>749</td>\n",
       "      <td>400</td>\n",
       "      <td>500</td>\n",
       "      <td>533</td>\n",
       "      <td>...</td>\n",
       "      <td></td>\n",
       "      <td></td>\n",
       "      <td>374</td>\n",
       "      <td>1909</td>\n",
       "      <td>510</td>\n",
       "      <td>58</td>\n",
       "      <td>2</td>\n",
       "      <td>21</td>\n",
       "      <td>276</td>\n",
       "      <td>482</td>\n",
       "    </tr>\n",
       "    <tr>\n",
       "      <th>May 1964</th>\n",
       "      <td>Redeemed</td>\n",
       "      <td>Redeemed</td>\n",
       "      <td>391</td>\n",
       "      <td>709</td>\n",
       "      <td>978</td>\n",
       "      <td></td>\n",
       "      <td>749</td>\n",
       "      <td>400</td>\n",
       "      <td>500</td>\n",
       "      <td>533</td>\n",
       "      <td>...</td>\n",
       "      <td></td>\n",
       "      <td></td>\n",
       "      <td>374</td>\n",
       "      <td>1909</td>\n",
       "      <td>510</td>\n",
       "      <td>58</td>\n",
       "      <td>2</td>\n",
       "      <td>21</td>\n",
       "      <td>276</td>\n",
       "      <td>482</td>\n",
       "    </tr>\n",
       "    <tr>\n",
       "      <th>Jun 1964</th>\n",
       "      <td></td>\n",
       "      <td></td>\n",
       "      <td>391</td>\n",
       "      <td>709</td>\n",
       "      <td>978</td>\n",
       "      <td></td>\n",
       "      <td>749</td>\n",
       "      <td>400</td>\n",
       "      <td>500</td>\n",
       "      <td>533</td>\n",
       "      <td>...</td>\n",
       "      <td></td>\n",
       "      <td></td>\n",
       "      <td>374</td>\n",
       "      <td>1909</td>\n",
       "      <td>510</td>\n",
       "      <td>58</td>\n",
       "      <td>2</td>\n",
       "      <td>21</td>\n",
       "      <td>276</td>\n",
       "      <td>482</td>\n",
       "    </tr>\n",
       "    <tr>\n",
       "      <th>Jul 1964</th>\n",
       "      <td></td>\n",
       "      <td></td>\n",
       "      <td>391</td>\n",
       "      <td>709</td>\n",
       "      <td>978</td>\n",
       "      <td></td>\n",
       "      <td>749</td>\n",
       "      <td>400</td>\n",
       "      <td>500</td>\n",
       "      <td>533</td>\n",
       "      <td>...</td>\n",
       "      <td></td>\n",
       "      <td></td>\n",
       "      <td>374</td>\n",
       "      <td>1909</td>\n",
       "      <td>510</td>\n",
       "      <td>58</td>\n",
       "      <td>2</td>\n",
       "      <td>21</td>\n",
       "      <td>276</td>\n",
       "      <td>482</td>\n",
       "    </tr>\n",
       "  </tbody>\n",
       "</table>\n",
       "<p>5 rows × 428 columns</p>\n",
       "</div>"
      ],
      "text/plain": [
       "               100       200  300  400  500 600  700  800  900 1000  ...  \\\n",
       "Mar 1964       505       274  391  709  978      749  400  500  533  ...   \n",
       "Apr 1964       505       274  391  709  978      749  400  500  533  ...   \n",
       "May 1964  Redeemed  Redeemed  391  709  978      749  400  500  533  ...   \n",
       "Jun 1964                      391  709  978      749  400  500  533  ...   \n",
       "Jul 1964                      391  709  978      749  400  500  533  ...   \n",
       "\n",
       "         32295 32297 32300 32400 32500 32600 32700 32800 32900 33000  \n",
       "Mar 1964               374  1909   510    58     2    21   276   482  \n",
       "Apr 1964               374  1909   510    58     2    21   276   482  \n",
       "May 1964               374  1909   510    58     2    21   276   482  \n",
       "Jun 1964               374  1909   510    58     2    21   276   482  \n",
       "Jul 1964               374  1909   510    58     2    21   276   482  \n",
       "\n",
       "[5 rows x 428 columns]"
      ]
     },
     "execution_count": 7,
     "metadata": {},
     "output_type": "execute_result"
    }
   ],
   "source": [
    "conv.head()"
   ]
  },
  {
   "cell_type": "code",
   "execution_count": 8,
   "metadata": {},
   "outputs": [],
   "source": [
    "conv.replace(\"Redeemed\", \"\", inplace=True)\n",
    "conv = conv.apply(pd.to_numeric, errors='coerce')\n",
    "conv.fillna(0, inplace=True)\n"
   ]
  },
  {
   "cell_type": "code",
   "execution_count": 9,
   "metadata": {},
   "outputs": [
    {
     "data": {
      "text/html": [
       "<div>\n",
       "<style scoped>\n",
       "    .dataframe tbody tr th:only-of-type {\n",
       "        vertical-align: middle;\n",
       "    }\n",
       "\n",
       "    .dataframe tbody tr th {\n",
       "        vertical-align: top;\n",
       "    }\n",
       "\n",
       "    .dataframe thead th {\n",
       "        text-align: right;\n",
       "    }\n",
       "</style>\n",
       "<table border=\"1\" class=\"dataframe\">\n",
       "  <thead>\n",
       "    <tr style=\"text-align: right;\">\n",
       "      <th></th>\n",
       "      <th>100</th>\n",
       "      <th>200</th>\n",
       "      <th>300</th>\n",
       "      <th>400</th>\n",
       "      <th>500</th>\n",
       "      <th>600</th>\n",
       "      <th>700</th>\n",
       "      <th>800</th>\n",
       "      <th>900</th>\n",
       "      <th>1000</th>\n",
       "      <th>...</th>\n",
       "      <th>32295</th>\n",
       "      <th>32297</th>\n",
       "      <th>32300</th>\n",
       "      <th>32400</th>\n",
       "      <th>32500</th>\n",
       "      <th>32600</th>\n",
       "      <th>32700</th>\n",
       "      <th>32800</th>\n",
       "      <th>32900</th>\n",
       "      <th>33000</th>\n",
       "    </tr>\n",
       "  </thead>\n",
       "  <tbody>\n",
       "    <tr>\n",
       "      <th>Mar 1964</th>\n",
       "      <td>505.0</td>\n",
       "      <td>274.0</td>\n",
       "      <td>391.0</td>\n",
       "      <td>709.0</td>\n",
       "      <td>978.0</td>\n",
       "      <td>0.0</td>\n",
       "      <td>749.0</td>\n",
       "      <td>400.0</td>\n",
       "      <td>500.0</td>\n",
       "      <td>533.0</td>\n",
       "      <td>...</td>\n",
       "      <td>0.0</td>\n",
       "      <td>0.0</td>\n",
       "      <td>374.0</td>\n",
       "      <td>1909.0</td>\n",
       "      <td>510.0</td>\n",
       "      <td>58.0</td>\n",
       "      <td>2.0</td>\n",
       "      <td>21.0</td>\n",
       "      <td>276.0</td>\n",
       "      <td>482.0</td>\n",
       "    </tr>\n",
       "    <tr>\n",
       "      <th>Apr 1964</th>\n",
       "      <td>505.0</td>\n",
       "      <td>274.0</td>\n",
       "      <td>391.0</td>\n",
       "      <td>709.0</td>\n",
       "      <td>978.0</td>\n",
       "      <td>0.0</td>\n",
       "      <td>749.0</td>\n",
       "      <td>400.0</td>\n",
       "      <td>500.0</td>\n",
       "      <td>533.0</td>\n",
       "      <td>...</td>\n",
       "      <td>0.0</td>\n",
       "      <td>0.0</td>\n",
       "      <td>374.0</td>\n",
       "      <td>1909.0</td>\n",
       "      <td>510.0</td>\n",
       "      <td>58.0</td>\n",
       "      <td>2.0</td>\n",
       "      <td>21.0</td>\n",
       "      <td>276.0</td>\n",
       "      <td>482.0</td>\n",
       "    </tr>\n",
       "    <tr>\n",
       "      <th>May 1964</th>\n",
       "      <td>0.0</td>\n",
       "      <td>0.0</td>\n",
       "      <td>391.0</td>\n",
       "      <td>709.0</td>\n",
       "      <td>978.0</td>\n",
       "      <td>0.0</td>\n",
       "      <td>749.0</td>\n",
       "      <td>400.0</td>\n",
       "      <td>500.0</td>\n",
       "      <td>533.0</td>\n",
       "      <td>...</td>\n",
       "      <td>0.0</td>\n",
       "      <td>0.0</td>\n",
       "      <td>374.0</td>\n",
       "      <td>1909.0</td>\n",
       "      <td>510.0</td>\n",
       "      <td>58.0</td>\n",
       "      <td>2.0</td>\n",
       "      <td>21.0</td>\n",
       "      <td>276.0</td>\n",
       "      <td>482.0</td>\n",
       "    </tr>\n",
       "    <tr>\n",
       "      <th>Jun 1964</th>\n",
       "      <td>0.0</td>\n",
       "      <td>0.0</td>\n",
       "      <td>391.0</td>\n",
       "      <td>709.0</td>\n",
       "      <td>978.0</td>\n",
       "      <td>0.0</td>\n",
       "      <td>749.0</td>\n",
       "      <td>400.0</td>\n",
       "      <td>500.0</td>\n",
       "      <td>533.0</td>\n",
       "      <td>...</td>\n",
       "      <td>0.0</td>\n",
       "      <td>0.0</td>\n",
       "      <td>374.0</td>\n",
       "      <td>1909.0</td>\n",
       "      <td>510.0</td>\n",
       "      <td>58.0</td>\n",
       "      <td>2.0</td>\n",
       "      <td>21.0</td>\n",
       "      <td>276.0</td>\n",
       "      <td>482.0</td>\n",
       "    </tr>\n",
       "    <tr>\n",
       "      <th>Jul 1964</th>\n",
       "      <td>0.0</td>\n",
       "      <td>0.0</td>\n",
       "      <td>391.0</td>\n",
       "      <td>709.0</td>\n",
       "      <td>978.0</td>\n",
       "      <td>0.0</td>\n",
       "      <td>749.0</td>\n",
       "      <td>400.0</td>\n",
       "      <td>500.0</td>\n",
       "      <td>533.0</td>\n",
       "      <td>...</td>\n",
       "      <td>0.0</td>\n",
       "      <td>0.0</td>\n",
       "      <td>374.0</td>\n",
       "      <td>1909.0</td>\n",
       "      <td>510.0</td>\n",
       "      <td>58.0</td>\n",
       "      <td>2.0</td>\n",
       "      <td>21.0</td>\n",
       "      <td>276.0</td>\n",
       "      <td>482.0</td>\n",
       "    </tr>\n",
       "  </tbody>\n",
       "</table>\n",
       "<p>5 rows × 428 columns</p>\n",
       "</div>"
      ],
      "text/plain": [
       "            100    200    300    400    500  600    700    800    900   1000  \\\n",
       "Mar 1964  505.0  274.0  391.0  709.0  978.0  0.0  749.0  400.0  500.0  533.0   \n",
       "Apr 1964  505.0  274.0  391.0  709.0  978.0  0.0  749.0  400.0  500.0  533.0   \n",
       "May 1964    0.0    0.0  391.0  709.0  978.0  0.0  749.0  400.0  500.0  533.0   \n",
       "Jun 1964    0.0    0.0  391.0  709.0  978.0  0.0  749.0  400.0  500.0  533.0   \n",
       "Jul 1964    0.0    0.0  391.0  709.0  978.0  0.0  749.0  400.0  500.0  533.0   \n",
       "\n",
       "          ...  32295  32297  32300   32400  32500  32600  32700  32800  32900  \\\n",
       "Mar 1964  ...    0.0    0.0  374.0  1909.0  510.0   58.0    2.0   21.0  276.0   \n",
       "Apr 1964  ...    0.0    0.0  374.0  1909.0  510.0   58.0    2.0   21.0  276.0   \n",
       "May 1964  ...    0.0    0.0  374.0  1909.0  510.0   58.0    2.0   21.0  276.0   \n",
       "Jun 1964  ...    0.0    0.0  374.0  1909.0  510.0   58.0    2.0   21.0  276.0   \n",
       "Jul 1964  ...    0.0    0.0  374.0  1909.0  510.0   58.0    2.0   21.0  276.0   \n",
       "\n",
       "          33000  \n",
       "Mar 1964  482.0  \n",
       "Apr 1964  482.0  \n",
       "May 1964  482.0  \n",
       "Jun 1964  482.0  \n",
       "Jul 1964  482.0  \n",
       "\n",
       "[5 rows x 428 columns]"
      ]
     },
     "execution_count": 9,
     "metadata": {},
     "output_type": "execute_result"
    }
   ],
   "source": [
    "conv.head()"
   ]
  },
  {
   "cell_type": "code",
   "execution_count": 10,
   "metadata": {},
   "outputs": [
    {
     "data": {
      "text/plain": [
       "Mar 1964    19070.0\n",
       "Apr 1964    19070.0\n",
       "May 1964    18691.0\n",
       "Jun 1964    18691.0\n",
       "Jul 1964    18691.0\n",
       "dtype: float64"
      ]
     },
     "execution_count": 10,
     "metadata": {},
     "output_type": "execute_result"
    }
   ],
   "source": [
    "conv.sum(axis=1).head()"
   ]
  },
  {
   "cell_type": "code",
   "execution_count": 11,
   "metadata": {},
   "outputs": [
    {
     "data": {
      "text/html": [
       "<div>\n",
       "<style scoped>\n",
       "    .dataframe tbody tr th:only-of-type {\n",
       "        vertical-align: middle;\n",
       "    }\n",
       "\n",
       "    .dataframe tbody tr th {\n",
       "        vertical-align: top;\n",
       "    }\n",
       "\n",
       "    .dataframe thead th {\n",
       "        text-align: right;\n",
       "    }\n",
       "</style>\n",
       "<table border=\"1\" class=\"dataframe\">\n",
       "  <thead>\n",
       "    <tr style=\"text-align: right;\">\n",
       "      <th></th>\n",
       "      <th>index</th>\n",
       "      <th>Sum of Conventionals</th>\n",
       "    </tr>\n",
       "  </thead>\n",
       "  <tbody>\n",
       "    <tr>\n",
       "      <th>0</th>\n",
       "      <td>Mar 1964</td>\n",
       "      <td>19,070.000</td>\n",
       "    </tr>\n",
       "    <tr>\n",
       "      <th>1</th>\n",
       "      <td>Apr 1964</td>\n",
       "      <td>19,070.000</td>\n",
       "    </tr>\n",
       "    <tr>\n",
       "      <th>2</th>\n",
       "      <td>May 1964</td>\n",
       "      <td>18,691.000</td>\n",
       "    </tr>\n",
       "    <tr>\n",
       "      <th>3</th>\n",
       "      <td>Jun 1964</td>\n",
       "      <td>18,691.000</td>\n",
       "    </tr>\n",
       "    <tr>\n",
       "      <th>4</th>\n",
       "      <td>Jul 1964</td>\n",
       "      <td>18,691.000</td>\n",
       "    </tr>\n",
       "  </tbody>\n",
       "</table>\n",
       "</div>"
      ],
      "text/plain": [
       "      index Sum of Conventionals\n",
       "0  Mar 1964           19,070.000\n",
       "1  Apr 1964           19,070.000\n",
       "2  May 1964           18,691.000\n",
       "3  Jun 1964           18,691.000\n",
       "4  Jul 1964           18,691.000"
      ]
     },
     "execution_count": 11,
     "metadata": {},
     "output_type": "execute_result"
    }
   ],
   "source": [
    "sum_conv = tables[\"Sum of Conventionals\"]\n",
    "sum_conv.head()"
   ]
  },
  {
   "cell_type": "code",
   "execution_count": 12,
   "metadata": {},
   "outputs": [],
   "source": [
    "from bgs.load_bgs_prices import load_prices\n",
    "price_df=load_prices(\"downloads/BGSPrices.csv\")"
   ]
  },
  {
   "cell_type": "code",
   "execution_count": 13,
   "metadata": {},
   "outputs": [
    {
     "data": {
      "text/html": [
       "<div>\n",
       "<style scoped>\n",
       "    .dataframe tbody tr th:only-of-type {\n",
       "        vertical-align: middle;\n",
       "    }\n",
       "\n",
       "    .dataframe tbody tr th {\n",
       "        vertical-align: top;\n",
       "    }\n",
       "\n",
       "    .dataframe thead th {\n",
       "        text-align: right;\n",
       "    }\n",
       "</style>\n",
       "<table border=\"1\" class=\"dataframe\">\n",
       "  <thead>\n",
       "    <tr style=\"text-align: right;\">\n",
       "      <th></th>\n",
       "      <th>100</th>\n",
       "      <th>200</th>\n",
       "      <th>300</th>\n",
       "      <th>400</th>\n",
       "      <th>500</th>\n",
       "      <th>600</th>\n",
       "      <th>700</th>\n",
       "      <th>800</th>\n",
       "      <th>900</th>\n",
       "      <th>1000</th>\n",
       "      <th>...</th>\n",
       "      <th>77000</th>\n",
       "      <th>77100</th>\n",
       "      <th>77200</th>\n",
       "      <th>77300</th>\n",
       "      <th>77400</th>\n",
       "      <th>77500</th>\n",
       "      <th>77600</th>\n",
       "      <th>77700</th>\n",
       "      <th>77800</th>\n",
       "      <th>77900</th>\n",
       "    </tr>\n",
       "  </thead>\n",
       "  <tbody>\n",
       "    <tr>\n",
       "      <th>28 Nov 1975</th>\n",
       "      <td>0</td>\n",
       "      <td>0</td>\n",
       "      <td>0</td>\n",
       "      <td>0</td>\n",
       "      <td>0</td>\n",
       "      <td>0</td>\n",
       "      <td>0</td>\n",
       "      <td>0</td>\n",
       "      <td>0</td>\n",
       "      <td>0</td>\n",
       "      <td>...</td>\n",
       "      <td>0</td>\n",
       "      <td>0</td>\n",
       "      <td>0</td>\n",
       "      <td>0</td>\n",
       "      <td>0</td>\n",
       "      <td>0</td>\n",
       "      <td>0</td>\n",
       "      <td>0</td>\n",
       "      <td>0</td>\n",
       "      <td>0</td>\n",
       "    </tr>\n",
       "    <tr>\n",
       "      <th>31 Dec 1975</th>\n",
       "      <td>0.0</td>\n",
       "      <td>0.0</td>\n",
       "      <td>0.0</td>\n",
       "      <td>0.0</td>\n",
       "      <td>0.0</td>\n",
       "      <td>0.0</td>\n",
       "      <td>0.0</td>\n",
       "      <td>0.0</td>\n",
       "      <td>0.0</td>\n",
       "      <td>0.0</td>\n",
       "      <td>...</td>\n",
       "      <td>0.0</td>\n",
       "      <td>0.0</td>\n",
       "      <td>0.0</td>\n",
       "      <td>0.0</td>\n",
       "      <td>0.0</td>\n",
       "      <td>0.0</td>\n",
       "      <td>0.0</td>\n",
       "      <td>0.0</td>\n",
       "      <td>0.0</td>\n",
       "      <td>0.0</td>\n",
       "    </tr>\n",
       "    <tr>\n",
       "      <th>30 Jan 1976</th>\n",
       "      <td>0.0</td>\n",
       "      <td>0.0</td>\n",
       "      <td>0.0</td>\n",
       "      <td>0.0</td>\n",
       "      <td>0.0</td>\n",
       "      <td>0.0</td>\n",
       "      <td>0.0</td>\n",
       "      <td>0.0</td>\n",
       "      <td>0.0</td>\n",
       "      <td>0.0</td>\n",
       "      <td>...</td>\n",
       "      <td>0.0</td>\n",
       "      <td>0.0</td>\n",
       "      <td>0.0</td>\n",
       "      <td>0.0</td>\n",
       "      <td>0.0</td>\n",
       "      <td>0.0</td>\n",
       "      <td>0.0</td>\n",
       "      <td>0.0</td>\n",
       "      <td>0.0</td>\n",
       "      <td>0.0</td>\n",
       "    </tr>\n",
       "    <tr>\n",
       "      <th>27 Feb 1976</th>\n",
       "      <td>0</td>\n",
       "      <td>0</td>\n",
       "      <td>0</td>\n",
       "      <td>0</td>\n",
       "      <td>0</td>\n",
       "      <td>0</td>\n",
       "      <td>0</td>\n",
       "      <td>0</td>\n",
       "      <td>0</td>\n",
       "      <td>0</td>\n",
       "      <td>...</td>\n",
       "      <td>0</td>\n",
       "      <td>0</td>\n",
       "      <td>0</td>\n",
       "      <td>0</td>\n",
       "      <td>0</td>\n",
       "      <td>0</td>\n",
       "      <td>0</td>\n",
       "      <td>0</td>\n",
       "      <td>0</td>\n",
       "      <td>0</td>\n",
       "    </tr>\n",
       "    <tr>\n",
       "      <th>31 Mar 1976</th>\n",
       "      <td>0</td>\n",
       "      <td>0</td>\n",
       "      <td>0</td>\n",
       "      <td>0</td>\n",
       "      <td>0</td>\n",
       "      <td>0</td>\n",
       "      <td>0</td>\n",
       "      <td>0</td>\n",
       "      <td>0</td>\n",
       "      <td>0</td>\n",
       "      <td>...</td>\n",
       "      <td>0</td>\n",
       "      <td>0</td>\n",
       "      <td>0</td>\n",
       "      <td>0</td>\n",
       "      <td>0</td>\n",
       "      <td>0</td>\n",
       "      <td>0</td>\n",
       "      <td>0</td>\n",
       "      <td>0</td>\n",
       "      <td>0</td>\n",
       "    </tr>\n",
       "  </tbody>\n",
       "</table>\n",
       "<p>5 rows × 724 columns</p>\n",
       "</div>"
      ],
      "text/plain": [
       "            100   200   300   400   500   600   700   800   900   1000   ...  \\\n",
       "28 Nov 1975     0     0     0     0     0     0     0     0     0     0  ...   \n",
       "31 Dec 1975   0.0   0.0   0.0   0.0   0.0   0.0   0.0   0.0   0.0   0.0  ...   \n",
       "30 Jan 1976   0.0   0.0   0.0   0.0   0.0   0.0   0.0   0.0   0.0   0.0  ...   \n",
       "27 Feb 1976     0     0     0     0     0     0     0     0     0     0  ...   \n",
       "31 Mar 1976     0     0     0     0     0     0     0     0     0     0  ...   \n",
       "\n",
       "            77000 77100 77200 77300 77400 77500 77600 77700 77800 77900  \n",
       "28 Nov 1975     0     0     0     0     0     0     0     0     0     0  \n",
       "31 Dec 1975   0.0   0.0   0.0   0.0   0.0   0.0   0.0   0.0   0.0   0.0  \n",
       "30 Jan 1976   0.0   0.0   0.0   0.0   0.0   0.0   0.0   0.0   0.0   0.0  \n",
       "27 Feb 1976     0     0     0     0     0     0     0     0     0     0  \n",
       "31 Mar 1976     0     0     0     0     0     0     0     0     0     0  \n",
       "\n",
       "[5 rows x 724 columns]"
      ]
     },
     "execution_count": 13,
     "metadata": {},
     "output_type": "execute_result"
    }
   ],
   "source": [
    "price_df.head()"
   ]
  },
  {
   "cell_type": "code",
   "execution_count": 14,
   "metadata": {},
   "outputs": [
    {
     "data": {
      "text/plain": [
       "'28 Nov 1975'"
      ]
     },
     "execution_count": 14,
     "metadata": {},
     "output_type": "execute_result"
    }
   ],
   "source": [
    "price_df.index[0]"
   ]
  },
  {
   "cell_type": "code",
   "execution_count": 15,
   "metadata": {},
   "outputs": [
    {
     "data": {
      "text/plain": [
       "array(['Nov 1975', 'Dec 1975', 'Jan 1976', 'Feb 1976', 'Mar 1976',\n",
       "       'Apr 1976', 'May 1976', 'Jun 1976', 'Jul 1976', 'Aug 1976'],\n",
       "      dtype=object)"
      ]
     },
     "execution_count": 15,
     "metadata": {},
     "output_type": "execute_result"
    }
   ],
   "source": [
    "c = pd.Series(pd.to_datetime(price_df.index, format=\"%d %b %Y\")).dt.strftime(\"%b %Y\").values\n",
    "c[:10]"
   ]
  },
  {
   "cell_type": "code",
   "execution_count": 16,
   "metadata": {},
   "outputs": [
    {
     "data": {
      "text/plain": [
       "'Nov 1975'"
      ]
     },
     "execution_count": 16,
     "metadata": {},
     "output_type": "execute_result"
    }
   ],
   "source": [
    "c[0]"
   ]
  },
  {
   "cell_type": "code",
   "execution_count": 17,
   "metadata": {},
   "outputs": [
    {
     "data": {
      "text/html": [
       "<div>\n",
       "<style scoped>\n",
       "    .dataframe tbody tr th:only-of-type {\n",
       "        vertical-align: middle;\n",
       "    }\n",
       "\n",
       "    .dataframe tbody tr th {\n",
       "        vertical-align: top;\n",
       "    }\n",
       "\n",
       "    .dataframe thead th {\n",
       "        text-align: right;\n",
       "    }\n",
       "</style>\n",
       "<table border=\"1\" class=\"dataframe\">\n",
       "  <thead>\n",
       "    <tr style=\"text-align: right;\">\n",
       "      <th></th>\n",
       "      <th>100</th>\n",
       "      <th>200</th>\n",
       "      <th>300</th>\n",
       "      <th>400</th>\n",
       "      <th>500</th>\n",
       "      <th>600</th>\n",
       "      <th>700</th>\n",
       "      <th>800</th>\n",
       "      <th>900</th>\n",
       "      <th>1000</th>\n",
       "      <th>...</th>\n",
       "      <th>32295</th>\n",
       "      <th>32297</th>\n",
       "      <th>32300</th>\n",
       "      <th>32400</th>\n",
       "      <th>32500</th>\n",
       "      <th>32600</th>\n",
       "      <th>32700</th>\n",
       "      <th>32800</th>\n",
       "      <th>32900</th>\n",
       "      <th>33000</th>\n",
       "    </tr>\n",
       "  </thead>\n",
       "  <tbody>\n",
       "    <tr>\n",
       "      <th>Nov 1975</th>\n",
       "      <td>0.0</td>\n",
       "      <td>0.0</td>\n",
       "      <td>0.0</td>\n",
       "      <td>0.0</td>\n",
       "      <td>0.0</td>\n",
       "      <td>0.0</td>\n",
       "      <td>0.0</td>\n",
       "      <td>0.0</td>\n",
       "      <td>0.0</td>\n",
       "      <td>0.0</td>\n",
       "      <td>...</td>\n",
       "      <td>0.0</td>\n",
       "      <td>0.0</td>\n",
       "      <td>365.0</td>\n",
       "      <td>1909.0</td>\n",
       "      <td>292.0</td>\n",
       "      <td>58.0</td>\n",
       "      <td>2.0</td>\n",
       "      <td>21.0</td>\n",
       "      <td>276.0</td>\n",
       "      <td>482.0</td>\n",
       "    </tr>\n",
       "  </tbody>\n",
       "</table>\n",
       "<p>1 rows × 428 columns</p>\n",
       "</div>"
      ],
      "text/plain": [
       "          100  200  300  400  500  600  700  800  900  1000  ...  32295  \\\n",
       "Nov 1975  0.0  0.0  0.0  0.0  0.0  0.0  0.0  0.0  0.0   0.0  ...    0.0   \n",
       "\n",
       "          32297  32300   32400  32500  32600  32700  32800  32900  33000  \n",
       "Nov 1975    0.0  365.0  1909.0  292.0   58.0    2.0   21.0  276.0  482.0  \n",
       "\n",
       "[1 rows x 428 columns]"
      ]
     },
     "execution_count": 17,
     "metadata": {},
     "output_type": "execute_result"
    }
   ],
   "source": [
    "conv[conv.index==c[0]]"
   ]
  },
  {
   "cell_type": "code",
   "execution_count": 18,
   "metadata": {},
   "outputs": [
    {
     "data": {
      "text/plain": [
       "28 Nov 1975    27.6875\n",
       "31 Dec 1975     26.375\n",
       "30 Jan 1976       29.5\n",
       "27 Feb 1976    28.9375\n",
       "31 Mar 1976      28.75\n",
       "                ...   \n",
       "30 Aug 2024        0.0\n",
       "30 Sep 2024          0\n",
       "31 Oct 2024        0.0\n",
       "29 Nov 2024        0.0\n",
       "31 Dec 2024          0\n",
       "Name: 32300, Length: 590, dtype: object"
      ]
     },
     "execution_count": 18,
     "metadata": {},
     "output_type": "execute_result"
    }
   ],
   "source": [
    "price_df[32300]"
   ]
  },
  {
   "cell_type": "code",
   "execution_count": 19,
   "metadata": {},
   "outputs": [],
   "source": [
    "from bgs.load_gilt_details import load_csv_blocks, process_index_linked_stocks"
   ]
  },
  {
   "cell_type": "code",
   "execution_count": 20,
   "metadata": {},
   "outputs": [],
   "source": [
    "details = load_csv_blocks(\"downloads/BGSDetails.csv\")"
   ]
  },
  {
   "cell_type": "code",
   "execution_count": 21,
   "metadata": {},
   "outputs": [
    {
     "data": {
      "text/plain": [
       "dict_keys([])"
      ]
     },
     "execution_count": 21,
     "metadata": {},
     "output_type": "execute_result"
    }
   ],
   "source": [
    "details.keys()"
   ]
  },
  {
   "cell_type": "code",
   "execution_count": null,
   "metadata": {},
   "outputs": [],
   "source": []
  }
 ],
 "metadata": {
  "kernelspec": {
   "display_name": ".venv",
   "language": "python",
   "name": "python3"
  },
  "language_info": {
   "codemirror_mode": {
    "name": "ipython",
    "version": 3
   },
   "file_extension": ".py",
   "mimetype": "text/x-python",
   "name": "python",
   "nbconvert_exporter": "python",
   "pygments_lexer": "ipython3",
   "version": "3.12.8"
  }
 },
 "nbformat": 4,
 "nbformat_minor": 2
}
