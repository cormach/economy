{
 "cells": [
  {
   "cell_type": "code",
   "execution_count": null,
   "metadata": {},
   "outputs": [],
   "source": [
    "import pandas as pd\n",
    "import requests\n",
    "import zipfile\n",
    "import io\n",
    "import os\n",
    "import csv\n",
    "import ctypes as ct\n",
    "import numpy as np\n",
    "from collections import Counter\n",
    "import matplotlib.pyplot as plt\n",
    "import re\n"
   ]
  },
  {
   "cell_type": "code",
   "execution_count": null,
   "metadata": {},
   "outputs": [],
   "source": [
    "# source_file = \"https://escoe-website.s3.amazonaws.com/wp-content/uploads/2018/10/08164544/BGSCSV.zip\"\n",
    "# r = requests.get(source_file)\n",
    "# z = zipfile.ZipFile(io.BytesIO(r.content))\n",
    "# z.extractall(\"downloads/\")\n",
    "# os.listdir(\"downloads/\")\n",
    "\n"
   ]
  },
  {
   "cell_type": "code",
   "execution_count": null,
   "metadata": {},
   "outputs": [],
   "source": [
    "from bgs.load_bgs_amounts import load_bgs_amounts"
   ]
  },
  {
   "cell_type": "code",
   "execution_count": null,
   "metadata": {},
   "outputs": [],
   "source": [
    "tables = load_bgs_amounts(\"downloads/BGSAmounts.csv\")"
   ]
  },
  {
   "cell_type": "code",
   "execution_count": null,
   "metadata": {},
   "outputs": [],
   "source": [
    "tables.keys()"
   ]
  },
  {
   "cell_type": "code",
   "execution_count": null,
   "metadata": {},
   "outputs": [],
   "source": [
    "conv = tables['Conventionals']"
   ]
  },
  {
   "cell_type": "code",
   "execution_count": null,
   "metadata": {},
   "outputs": [],
   "source": [
    "conv.shape"
   ]
  },
  {
   "cell_type": "code",
   "execution_count": null,
   "metadata": {},
   "outputs": [],
   "source": [
    "conv.head()"
   ]
  },
  {
   "cell_type": "code",
   "execution_count": null,
   "metadata": {},
   "outputs": [],
   "source": [
    "conv.replace(\"Redeemed\", \"\", inplace=True)\n",
    "conv = conv.apply(pd.to_numeric, errors='coerce')\n",
    "conv.fillna(0, inplace=True)\n"
   ]
  },
  {
   "cell_type": "code",
   "execution_count": null,
   "metadata": {},
   "outputs": [],
   "source": [
    "conv.head()"
   ]
  },
  {
   "cell_type": "code",
   "execution_count": null,
   "metadata": {},
   "outputs": [],
   "source": [
    "conv.sum(axis=1).head()"
   ]
  },
  {
   "cell_type": "code",
   "execution_count": null,
   "metadata": {},
   "outputs": [],
   "source": [
    "sum_conv = tables[\"Sum of Conventionals\"]\n",
    "sum_conv.head()"
   ]
  },
  {
   "cell_type": "code",
   "execution_count": null,
   "metadata": {},
   "outputs": [],
   "source": [
    "from bgs.load_bgs_prices import load_prices\n",
    "price_df=load_prices(\"downloads/BGSPrices.csv\")"
   ]
  },
  {
   "cell_type": "code",
   "execution_count": null,
   "metadata": {},
   "outputs": [],
   "source": [
    "price_df.head()"
   ]
  },
  {
   "cell_type": "code",
   "execution_count": null,
   "metadata": {},
   "outputs": [],
   "source": [
    "price_df.tail(20)"
   ]
  },
  {
   "cell_type": "code",
   "execution_count": null,
   "metadata": {},
   "outputs": [],
   "source": [
    "price_df.index[0]"
   ]
  },
  {
   "cell_type": "code",
   "execution_count": null,
   "metadata": {},
   "outputs": [],
   "source": [
    "c = pd.Series(pd.to_datetime(price_df.index, format=\"%d %b %Y\")).dt.strftime(\"%b %Y\").values\n",
    "c[:10]"
   ]
  },
  {
   "cell_type": "code",
   "execution_count": null,
   "metadata": {},
   "outputs": [],
   "source": [
    "c[0]"
   ]
  },
  {
   "cell_type": "code",
   "execution_count": null,
   "metadata": {},
   "outputs": [],
   "source": [
    "conv[conv.index==c[0]]"
   ]
  },
  {
   "cell_type": "code",
   "execution_count": null,
   "metadata": {},
   "outputs": [],
   "source": [
    "price_df[32300]"
   ]
  },
  {
   "cell_type": "code",
   "execution_count": null,
   "metadata": {},
   "outputs": [],
   "source": [
    "price_df.index = pd.to_datetime(price_df.index, format=\"%d %b %Y\").to_period('M').to_timestamp('M')"
   ]
  },
  {
   "cell_type": "code",
   "execution_count": null,
   "metadata": {},
   "outputs": [],
   "source": [
    "price_df.columns = price_df.columns.map(str)\n",
    "price_df['3500']"
   ]
  },
  {
   "cell_type": "code",
   "execution_count": null,
   "metadata": {},
   "outputs": [],
   "source": [
    "price_strings = np.where(price_df.map(lambda x: type(x)==str))\n",
    "price_strings"
   ]
  },
  {
   "cell_type": "code",
   "execution_count": null,
   "metadata": {},
   "outputs": [],
   "source": [
    "c = Counter()\n",
    "for i, x in enumerate(price_strings[0]):\n",
    "    c[price_df.loc[price_df.index[x],price_df.columns[price_strings[1][i]]]]+=1\n",
    "c.most_common(10)"
   ]
  },
  {
   "cell_type": "code",
   "execution_count": null,
   "metadata": {},
   "outputs": [],
   "source": [
    "c.keys()"
   ]
  },
  {
   "cell_type": "code",
   "execution_count": null,
   "metadata": {},
   "outputs": [],
   "source": [
    "for text in ['Amalgamated', 'Redeemed', 'redeemed']:\n",
    "    price_df = price_df.replace(text, None)\n",
    "price_df = price_df.fillna(0)\n",
    "price_df = price_df.replace('missing', None)\n",
    "price_df = price_df.ffill(axis=0)"
   ]
  },
  {
   "cell_type": "code",
   "execution_count": null,
   "metadata": {},
   "outputs": [],
   "source": [
    "conv.columns"
   ]
  },
  {
   "cell_type": "code",
   "execution_count": null,
   "metadata": {},
   "outputs": [],
   "source": [
    "not_in_conventionals = set(price_df.columns.astype(str)) - set(conv.columns)"
   ]
  },
  {
   "cell_type": "code",
   "execution_count": null,
   "metadata": {},
   "outputs": [],
   "source": [
    "from bgs.load_gilt_details import load_csv_blocks\n",
    "details = load_csv_blocks(\"downloads/BGSDetails.csv\")"
   ]
  },
  {
   "cell_type": "code",
   "execution_count": null,
   "metadata": {},
   "outputs": [],
   "source": [
    "details['Conventionals'].head()"
   ]
  },
  {
   "cell_type": "code",
   "execution_count": null,
   "metadata": {},
   "outputs": [],
   "source": [
    "details['Index-Linked Old-style'].head()"
   ]
  },
  {
   "cell_type": "code",
   "execution_count": null,
   "metadata": {},
   "outputs": [],
   "source": [
    "details['Index-Linked New-style'].head()"
   ]
  },
  {
   "cell_type": "code",
   "execution_count": null,
   "metadata": {},
   "outputs": [],
   "source": [
    "details['Conventionals']['Earliest redemption date']"
   ]
  },
  {
   "cell_type": "code",
   "execution_count": null,
   "metadata": {},
   "outputs": [],
   "source": [
    "details['Conventionals']['Latest redemption date']"
   ]
  },
  {
   "cell_type": "code",
   "execution_count": null,
   "metadata": {},
   "outputs": [],
   "source": [
    "details['Index-Linked Old-style'].index"
   ]
  },
  {
   "cell_type": "code",
   "execution_count": null,
   "metadata": {},
   "outputs": [],
   "source": [
    "(set(details['Index-Linked Old-style'].index) | set(details['Index-Linked New-style'].index)) - not_in_conventionals"
   ]
  },
  {
   "cell_type": "code",
   "execution_count": null,
   "metadata": {},
   "outputs": [],
   "source": [
    "def clean_date(bgs_index):\n",
    "    if re.match(r'^\\d{2}\\s\\w{3}\\s+\\d{4}$', bgs_index):\n",
    "        return pd.to_datetime(bgs_index, format=\"%d %b %Y\", errors='coerce').to_period('M').to_timestamp('M')\n",
    "    else:\n",
    "        return pd.to_datetime(bgs_index).to_period('M').to_timestamp('M')\n",
    "\n",
    "conv.index = pd.Index([clean_date(x) for x in list(conv.index)])"
   ]
  },
  {
   "cell_type": "code",
   "execution_count": null,
   "metadata": {},
   "outputs": [],
   "source": [
    "re.match(r'^\\d{2}\\s\\w{3}\\s+\\d{4}$','30 Apr 2024')"
   ]
  },
  {
   "cell_type": "code",
   "execution_count": null,
   "metadata": {},
   "outputs": [],
   "source": [
    "mtm_list = []\n",
    "\n",
    "for bgs_gilt_id in conv.columns:\n",
    "    # print(bgs_gilt_id)\n",
    "    calc_df = pd.DataFrame(index=price_df.index, columns=['amounts','prices'])\n",
    "    calc_df = pd.concat([conv[bgs_gilt_id],price_df[bgs_gilt_id]], join='inner', axis=1, keys=['amounts','prices'])\n",
    "    calc_df['mtm'] = calc_df['amounts']*calc_df['prices']/100\n",
    "    mtm_list.append(calc_df['mtm'].rename(bgs_gilt_id).copy())\n",
    "#mtm_df[bgs_gilt_id] = calc_df['amounts']*calc_df['prices']\n",
    "#mtm_list.append(mtm_df)\n",
    "conv_mtm_df = pd.concat(mtm_list, axis=1)\n"
   ]
  },
  {
   "cell_type": "code",
   "execution_count": null,
   "metadata": {},
   "outputs": [],
   "source": [
    "conv_mtm_df.index"
   ]
  },
  {
   "cell_type": "code",
   "execution_count": null,
   "metadata": {},
   "outputs": [],
   "source": [
    "conv_mtm_df.sum(axis=1)"
   ]
  },
  {
   "cell_type": "code",
   "execution_count": null,
   "metadata": {},
   "outputs": [],
   "source": [
    "conv.index"
   ]
  },
  {
   "cell_type": "code",
   "execution_count": null,
   "metadata": {},
   "outputs": [],
   "source": [
    "conv.loc['Dec 2024']"
   ]
  },
  {
   "cell_type": "code",
   "execution_count": null,
   "metadata": {},
   "outputs": [],
   "source": [
    "conventionals = pd.DataFrame()\n",
    "conventionals['Nominal'] = conv.sum(axis=1)\n",
    "conventionals['MTM'] = conv_mtm_df.sum(axis=1)\n",
    "conventionals.index = pd.to_datetime(conventionals.index, format=\"%b %Y\").to_period('M').to_timestamp('M')\n",
    "conventionals.plot()\n",
    "# fig = plt.figure(figsize=(12, 6))\n",
    "# ax = fig.add_subplot(111)\n",
    "# ax.set_title(\"BGS MTM\")\n",
    "# ax.set_xlabel(\"Date\")\n",
    "# ax.set_ylabel(\"MTM\")\n",
    "# conv.sum(axis=1).plot(ax=ax, label='Conv')\n",
    "# mtm_df.sum(axis=1).plot(ax=ax, label='MTM')\n",
    "# ax.legend()"
   ]
  },
  {
   "cell_type": "code",
   "execution_count": null,
   "metadata": {},
   "outputs": [],
   "source": [
    "(conventionals['Nominal'] - conventionals['MTM']).plot()"
   ]
  },
  {
   "cell_type": "code",
   "execution_count": null,
   "metadata": {},
   "outputs": [],
   "source": [
    "conventionals['2021-09-01':].plot()"
   ]
  },
  {
   "cell_type": "code",
   "execution_count": null,
   "metadata": {},
   "outputs": [],
   "source": [
    "old = tables['Calculated indexed nominal Old-style']\n",
    "\n",
    "old.replace(\"Redeemed\", \"\", inplace=True)\n",
    "old = old.apply(pd.to_numeric, errors='coerce')\n",
    "old.fillna(0, inplace=True)"
   ]
  },
  {
   "cell_type": "code",
   "execution_count": null,
   "metadata": {},
   "outputs": [],
   "source": [
    "old.index = pd.Index([clean_date(x) for x in list(old.index)]).to_period('M').to_timestamp('M')"
   ]
  },
  {
   "cell_type": "code",
   "execution_count": null,
   "metadata": {},
   "outputs": [],
   "source": [
    "for bgs_gilt_id in old.columns:\n",
    "    # print(bgs_gilt_id)\n",
    "    calc_df = pd.DataFrame(index=price_df.index, columns=['amounts','prices'])\n",
    "    calc_df = pd.concat([old[bgs_gilt_id],price_df[bgs_gilt_id]], join='inner', axis=1, keys=['amounts','prices'])\n",
    "    calc_df['mtm'] = calc_df['amounts']*calc_df['prices']/100\n",
    "    mtm_list.append(calc_df['mtm'].rename(bgs_gilt_id).copy())"
   ]
  },
  {
   "cell_type": "code",
   "execution_count": null,
   "metadata": {},
   "outputs": [],
   "source": [
    "new = tables['Calculated indexed nominal New-style']\n",
    "new.head()"
   ]
  },
  {
   "cell_type": "code",
   "execution_count": null,
   "metadata": {},
   "outputs": [],
   "source": [
    "new.replace(\"Redeemed\", \"\", inplace=True)\n",
    "new = new.apply(pd.to_numeric, errors='coerce')\n",
    "new.fillna(0, inplace=True)\n",
    "\n",
    "new.index = pd.Index([clean_date(x) for x in list(new.index)])\n",
    "\n",
    "for bgs_gilt_id in new.columns:\n",
    "    # print(bgs_gilt_id)\n",
    "    calc_df = pd.DataFrame(index=price_df.index, columns=['amounts','prices'])\n",
    "    calc_df = pd.concat([new[bgs_gilt_id],price_df[bgs_gilt_id]], join='inner', axis=1, keys=['amounts','prices'])\n",
    "    calc_df['mtm'] = calc_df['amounts']*calc_df['prices']/100\n",
    "    mtm_list.append(calc_df['mtm'].rename(bgs_gilt_id).copy())"
   ]
  },
  {
   "cell_type": "code",
   "execution_count": null,
   "metadata": {},
   "outputs": [],
   "source": [
    "new.head()"
   ]
  },
  {
   "cell_type": "code",
   "execution_count": null,
   "metadata": {},
   "outputs": [],
   "source": [
    "total_gilts_mtm = pd.concat(mtm_list, axis=1)\n",
    "\n",
    "total_gilts = pd.DataFrame()\n",
    "total_gilts['MTM'] = total_gilts_mtm.sum(axis=1)\n",
    "total_gilts.index = pd.to_datetime(total_gilts.index, format=\"%b %Y\").to_period('M').to_timestamp('M')\n"
   ]
  },
  {
   "cell_type": "code",
   "execution_count": null,
   "metadata": {},
   "outputs": [],
   "source": [
    "total_nominal = tables['Sum of total conventional and indexed-linked'].reset_index().set_index('index')\n",
    "total_nominal = total_nominal.drop_duplicates()\n",
    "total_nominal.index = pd.Index([clean_date(x) for x in list(total_nominal.index)])\n",
    "\n",
    "total_nominal['Sum of total conventional and indexed-linked'] = pd.to_numeric(total_nominal['Sum of total conventional and indexed-linked'])\n",
    "ax = total_nominal['Sum of total conventional and indexed-linked'].plot()\n",
    "total_gilts.plot(ax = ax)"
   ]
  },
  {
   "cell_type": "code",
   "execution_count": null,
   "metadata": {},
   "outputs": [],
   "source": [
    "total_nominal.head()"
   ]
  },
  {
   "cell_type": "code",
   "execution_count": null,
   "metadata": {},
   "outputs": [],
   "source": [
    "total_nominal.drop_duplicates().index"
   ]
  },
  {
   "cell_type": "code",
   "execution_count": null,
   "metadata": {},
   "outputs": [],
   "source": [
    "total_nominal.head()"
   ]
  },
  {
   "cell_type": "code",
   "execution_count": null,
   "metadata": {},
   "outputs": [],
   "source": [
    "total_nominal['Sum of total conventional and indexed-linked']"
   ]
  },
  {
   "cell_type": "code",
   "execution_count": null,
   "metadata": {},
   "outputs": [],
   "source": [
    "total_gilts"
   ]
  },
  {
   "cell_type": "code",
   "execution_count": null,
   "metadata": {},
   "outputs": [],
   "source": [
    "total_nominal['Sum of total conventional and indexed-linked'] - total_gilts['MTM']"
   ]
  },
  {
   "cell_type": "code",
   "execution_count": null,
   "metadata": {},
   "outputs": [],
   "source": [
    "p_apr25 = price_df.loc['2025-04-30']\n",
    "p_apr25"
   ]
  },
  {
   "cell_type": "code",
   "execution_count": null,
   "metadata": {},
   "outputs": [],
   "source": [
    "conv.loc['2025-04-30'].tail(20)"
   ]
  },
  {
   "cell_type": "code",
   "execution_count": null,
   "metadata": {},
   "outputs": [],
   "source": [
    "new.index"
   ]
  },
  {
   "cell_type": "code",
   "execution_count": null,
   "metadata": {},
   "outputs": [],
   "source": [
    "old.index"
   ]
  },
  {
   "cell_type": "code",
   "execution_count": null,
   "metadata": {},
   "outputs": [],
   "source": [
    "details['Index-Linked New-style'].index"
   ]
  },
  {
   "cell_type": "code",
   "execution_count": null,
   "metadata": {},
   "outputs": [],
   "source": [
    "disc_apr25 =  p_apr25.replace(0,None).map(lambda x: 100 - x if x and x < 100 else 0).fillna(0).T\n",
    "disc_apr25"
   ]
  },
  {
   "cell_type": "code",
   "execution_count": null,
   "metadata": {},
   "outputs": [],
   "source": [
    "conv_discount = (conv.loc['2025-04-30'].T * disc_apr25)/100\n",
    "conv_discount = conv_discount[conv_discount>0].reset_index().rename(columns={'index':'Sequence',pd.to_datetime('2025-04-30'):'Discount'})\n",
    "conv_discount\n"
   ]
  },
  {
   "cell_type": "code",
   "execution_count": null,
   "metadata": {},
   "outputs": [],
   "source": [
    "conv_details = details['Conventionals']\n"
   ]
  },
  {
   "cell_type": "code",
   "execution_count": null,
   "metadata": {},
   "outputs": [],
   "source": [
    "conv_details.loc[conv_details['Sequence']=='32295'].T"
   ]
  },
  {
   "cell_type": "code",
   "execution_count": null,
   "metadata": {},
   "outputs": [],
   "source": [
    "disc_apr25['32295']"
   ]
  },
  {
   "cell_type": "code",
   "execution_count": null,
   "metadata": {},
   "outputs": [],
   "source": [
    "conv.loc['Apr 2025']['32295']"
   ]
  },
  {
   "cell_type": "code",
   "execution_count": null,
   "metadata": {},
   "outputs": [],
   "source": [
    "conv_dis = conv_discount.merge(conv_details[['Sequence','%','Latest redemption date', 'Issue date']], left_on='Sequence', right_on='Sequence')"
   ]
  },
  {
   "cell_type": "code",
   "execution_count": null,
   "metadata": {},
   "outputs": [],
   "source": [
    "conv_dis['%'].value_counts()"
   ]
  },
  {
   "cell_type": "code",
   "execution_count": null,
   "metadata": {},
   "outputs": [],
   "source": [
    "def clean_percentage(x):\n",
    "    try:\n",
    "        x = float(x)\n",
    "    except (ValueError, TypeError):\n",
    "        units, fractions = x.split(' ')\n",
    "        num, denom = map(float, fractions.split('/'))\n",
    "        x = float(units) + num / denom\n",
    "    return x\n",
    "\n",
    "conv_dis['%'] = conv_dis['%'].apply(clean_percentage).astype(float)"
   ]
  },
  {
   "cell_type": "code",
   "execution_count": null,
   "metadata": {},
   "outputs": [],
   "source": [
    "conv_dis.groupby('%')['Discount'].sum().plot(kind='bar')"
   ]
  },
  {
   "cell_type": "code",
   "execution_count": null,
   "metadata": {},
   "outputs": [],
   "source": [
    "conv_dis.groupby('%')['Discount'].sum().cumsum().plot(kind='bar')"
   ]
  },
  {
   "cell_type": "code",
   "execution_count": null,
   "metadata": {},
   "outputs": [],
   "source": [
    "conv_dis.groupby('%')['Discount'].sum().sum()"
   ]
  },
  {
   "cell_type": "code",
   "execution_count": null,
   "metadata": {},
   "outputs": [],
   "source": [
    "new_discount = (new.loc['30 Apr 2025'] * disc_apr25)/100\n",
    "new_discount = new_discount[new_discount>0].reset_index().rename(columns={'index':'Sequence',pd.to_datetime('2025-04-30'):'Discount'})\n",
    "new_discount"
   ]
  },
  {
   "cell_type": "code",
   "execution_count": null,
   "metadata": {},
   "outputs": [],
   "source": [
    "new_details = details['Index-Linked New-style']\n",
    "new_dis = new_discount.merge(new_details[['Sequence','%','Latest redemption date', 'Issue date']], left_on='Sequence', right_on='Sequence')\n",
    "new_dis['%'] = new_dis['%'].apply(clean_percentage).astype(float)\n",
    "new_dis.groupby('%')['Discount'].sum().cumsum().plot(kind='bar')"
   ]
  },
  {
   "cell_type": "code",
   "execution_count": null,
   "metadata": {},
   "outputs": [],
   "source": [
    "old.tail()"
   ]
  },
  {
   "cell_type": "code",
   "execution_count": null,
   "metadata": {},
   "outputs": [],
   "source": [
    "old_discount = (old.loc['Apr 2025'] * disc_apr25)/100\n",
    "old_discount = old_discount[old_discount>0].reset_index().rename(columns={'index':'Sequence',0:'Discount'})\n",
    "old_discount"
   ]
  },
  {
   "cell_type": "code",
   "execution_count": null,
   "metadata": {},
   "outputs": [],
   "source": [
    "new_dis.groupby('%')['Discount'].sum().sum() + conv_dis.groupby('%')['Discount'].sum().sum()"
   ]
  },
  {
   "cell_type": "code",
   "execution_count": null,
   "metadata": {},
   "outputs": [],
   "source": [
    "conv_dis['Issue date'] = conv_dis['Issue date'].apply(clean_date).dt.year"
   ]
  },
  {
   "cell_type": "code",
   "execution_count": null,
   "metadata": {},
   "outputs": [],
   "source": [
    "conv_dis.sort_values('Issue date').groupby('Issue date')['Discount'].sum().plot(kind='bar')"
   ]
  },
  {
   "cell_type": "code",
   "execution_count": null,
   "metadata": {},
   "outputs": [],
   "source": [
    "conv_dis['Latest redemption date'].to_list()"
   ]
  },
  {
   "cell_type": "code",
   "execution_count": null,
   "metadata": {},
   "outputs": [],
   "source": [
    "conv_dis['Maturity date'] = conv_dis['Latest redemption date'].apply(clean_date).dt.year//5 * 5\n",
    "conv_dis.sort_values('Maturity date').groupby('Maturity date')['Discount'].sum().plot(kind='bar')\n"
   ]
  },
  {
   "cell_type": "code",
   "execution_count": null,
   "metadata": {},
   "outputs": [],
   "source": [
    "new_dis['Issue date'] = new_dis['Issue date'].apply(clean_date).dt.year\n",
    "new_dis.sort_values('Issue date').groupby('Issue date')['Discount'].sum().plot(kind='bar')"
   ]
  },
  {
   "cell_type": "code",
   "execution_count": null,
   "metadata": {},
   "outputs": [],
   "source": [
    "new_dis['Maturity date'] = new_dis['Latest redemption date'].apply(clean_date).dt.year//5 * 5\n",
    "new_dis.sort_values('Maturity date').groupby('Maturity date')['Discount'].sum().plot(kind='bar')"
   ]
  }
 ],
 "metadata": {
  "kernelspec": {
   "display_name": ".venv (3.12.10)",
   "language": "python",
   "name": "python3"
  },
  "language_info": {
   "codemirror_mode": {
    "name": "ipython",
    "version": 3
   },
   "file_extension": ".py",
   "mimetype": "text/x-python",
   "name": "python",
   "nbconvert_exporter": "python",
   "pygments_lexer": "ipython3",
   "version": "3.12.10"
  }
 },
 "nbformat": 4,
 "nbformat_minor": 2
}
