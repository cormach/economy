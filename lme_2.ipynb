{
 "cells": [
  {
   "cell_type": "code",
   "execution_count": null,
   "id": "b070674a",
   "metadata": {},
   "outputs": [],
   "source": [
    "import pandas as pd\n",
    "import requests\n",
    "import zipfile\n",
    "import io\n",
    "import os\n",
    "import csv\n",
    "import ctypes as ct\n",
    "import numpy as np\n",
    "from collections import Counter\n",
    "import matplotlib.pyplot as plt\n",
    "from matplotlib.dates import YearLocator\n",
    "from matplotlib.ticker import PercentFormatter\n",
    "import re\n",
    "import seaborn as sns\n",
    "import QuantLib as ql\n",
    "\n",
    "from bgs.bgs_utils import clean_date, clean_percentage\n",
    "from bgs.load_bgs_amounts import load_bgs_amounts\n",
    "from bgs.load_gilt_details import load_csv_blocks\n",
    "from bgs.load_bgs_prices import load_prices\n",
    "from bgs.gilt_analytics import gilt_yield, yield_series, yield_curve, from_iso, yield_curves_pw, yield_curve_rv\n",
    "from bgs.linker_analytics import linker_real_yield\n",
    "\n",
    "%load_ext autoreload\n",
    "%autoreload 2"
   ]
  },
  {
   "cell_type": "code",
   "execution_count": null,
   "id": "ca2440b8",
   "metadata": {},
   "outputs": [],
   "source": [
    "import pandas as pd\n",
    "import requests\n",
    "import zipfile\n",
    "import io\n",
    "import os\n",
    "import csv\n",
    "import ctypes as ct\n",
    "import numpy as np\n",
    "from collections import Counter\n",
    "import matplotlib.pyplot as plt\n",
    "from matplotlib.dates import YearLocator\n",
    "from matplotlib.ticker import PercentFormatter\n",
    "import re\n",
    "import seaborn as sns\n",
    "import QuantLib as ql\n",
    "\n",
    "from bgs.bgs_utils import clean_date, clean_percentage\n",
    "from bgs.load_bgs_amounts import load_bgs_amounts\n",
    "from bgs.load_gilt_details import load_csv_blocks\n",
    "from bgs.load_bgs_prices import load_prices\n",
    "from bgs.gilt_analytics import gilt_yield, yield_series, yield_curve, from_iso, yield_curves_pw, yield_curve_rv\n",
    "from bgs.linker_analytics import linker_real_yield\n",
    "\n",
    "%load_ext autoreload\n",
    "%autoreload 2"
   ]
  },
  {
   "cell_type": "markdown",
   "id": "31b4e960",
   "metadata": {},
   "source": [
    "### British Gilt Survey Amounts Table"
   ]
  },
  {
   "cell_type": "code",
   "execution_count": null,
   "id": "b6f01610",
   "metadata": {},
   "outputs": [],
   "source": [
    "tables = load_bgs_amounts(\"downloads/BGSAmounts.csv\")\n",
    "\n",
    "conv = tables['Conventionals']\n",
    "conv.replace(\"Redeemed\", \"\", inplace=True)\n",
    "conv = conv.apply(pd.to_numeric, errors='coerce')\n",
    "conv.fillna(0, inplace=True)\n",
    "conv.index = pd.Index([clean_date(x) for x in list(conv.index)]).to_period('M').to_timestamp('M')\n",
    "conv.columns = [np.int64(x.strip()) for x in conv.columns]\n",
    "\n",
    "old = tables['Calculated indexed nominal Old-style']\n",
    "old.replace(\"Redeemed\", \"\", inplace=True)\n",
    "old = old.apply(pd.to_numeric, errors='coerce')\n",
    "old.fillna(0, inplace=True)\n",
    "old.index = pd.Index([clean_date(x) for x in list(old.index)]).to_period('M').to_timestamp('M')\n",
    "old.columns = [np.int64(x.strip()) for x in old.columns]\n",
    "\n",
    "new = tables['Calculated indexed nominal New-style']\n",
    "new.replace(\"Redeemed\", \"\", inplace=True)\n",
    "new = new.apply(pd.to_numeric, errors='coerce')\n",
    "new.fillna(0, inplace=True)\n",
    "new.index = pd.Index([clean_date(x) for x in list(new.index)]).to_period('M').to_timestamp('M')\n",
    "new.columns = [np.int64(x.strip()) for x in new.columns]\n",
    "\n",
    "new_no_idx = tables['Index-linked New-style']\n",
    "new_no_idx.replace(\"Redeemed\", \"\", inplace=True)\n",
    "new_no_idx = new_no_idx.apply(pd.to_numeric, errors='coerce')\n",
    "new_no_idx.fillna(0, inplace=True)\n",
    "new_no_idx.index = pd.Index([clean_date(x) for x in list(new_no_idx.index)]).to_period('M').to_timestamp('M')\n",
    "new_no_idx.columns = [np.int64(x.strip()) for x in new_no_idx.columns]"
   ]
  },
  {
   "cell_type": "markdown",
   "id": "ea7204dd",
   "metadata": {},
   "source": [
    "### British Gilts Survey Month End Prices"
   ]
  },
  {
   "cell_type": "code",
   "execution_count": null,
   "id": "cda2e65b",
   "metadata": {},
   "outputs": [],
   "source": [
    "price_df=load_prices(\"downloads/BGSPrices.csv\")\n",
    "price_df.index = pd.to_datetime(price_df.index, format=\"%d %b %Y\").to_period('M').to_timestamp('M')\n",
    "for text in ['Amalgamated', 'Redeemed', 'redeemed']:\n",
    "    price_df = price_df.replace(text, 0)\n",
    "price_df = price_df.replace('missing', None)\n",
    "price_df = price_df.ffill(axis=0)\n",
    "price_df = price_df.fillna(0)\n",
    "price_df.columns = [np.int64(x) for x in price_df.columns]"
   ]
  },
  {
   "cell_type": "markdown",
   "id": "c3d6ad46",
   "metadata": {},
   "source": [
    "### British Gilts Survey Details Table (Bond Static Data, Coupon Maturity etc.) "
   ]
  },
  {
   "cell_type": "code",
   "execution_count": null,
   "id": "1e1f470c",
   "metadata": {},
   "outputs": [],
   "source": [
    "details = load_csv_blocks(\"downloads/BGSDetails.csv\")\n",
    "\n",
    "conv_details = details['Conventionals']\n",
    "conv_details['%'] = conv_details['%'].apply(clean_percentage)\n",
    "conv_details['Sequence'] = conv_details['Sequence'].apply(lambda x: np.int64(x))\n",
    "\n",
    "new_details = details['Index-Linked New-style']\n",
    "new_details['%'] = new_details['%'].apply(clean_percentage)\n",
    "new_details['Sequence'] = new_details['Sequence'].apply(lambda x: np.int64(x))\n",
    "\n",
    "old_details = details['Index-Linked Old-style']\n",
    "old_details['%'] = old_details['%'].apply(clean_percentage)\n",
    "old_details['Sequence'] = old_details['Sequence'].apply(lambda x: np.int64(x))\n",
    "\n",
    "strip_details = details['Strips']\n",
    "strip_details['%'] = 0.0\n",
    "strip_details['Sequence'] = strip_details['Sequence'].apply(lambda x: np.int64(x))\n",
    "\n",
    "date_variables = [\"Latest redemption date\",\"Issue date\",\"First coupon payable on date\",]\n",
    "for date_var in date_variables:\n",
    "    conv_details[date_var] = conv_details[date_var].apply(clean_date)\n",
    "    old_details[date_var] = old_details[date_var].apply(clean_date)\n",
    "    new_details[date_var] = new_details[date_var].apply(clean_date)\n",
    "strip_details['Latest redemption date'] = strip_details['Latest redemption date'].apply(clean_date)"
   ]
  },
  {
   "cell_type": "markdown",
   "id": "59bb8fea",
   "metadata": {},
   "source": [
    "### British Gilt Survey Amounts Table"
   ]
  },
  {
   "cell_type": "code",
   "execution_count": null,
   "id": "96d5215b",
   "metadata": {},
   "outputs": [],
   "source": [
    "tables = load_bgs_amounts(\"downloads/BGSAmounts.csv\")\n",
    "\n",
    "conv = tables['Conventionals']\n",
    "conv.replace(\"Redeemed\", \"\", inplace=True)\n",
    "conv = conv.apply(pd.to_numeric, errors='coerce')\n",
    "conv.fillna(0, inplace=True)\n",
    "conv.index = pd.Index([clean_date(x) for x in list(conv.index)]).to_period('M').to_timestamp('M')\n",
    "conv.columns = [np.int64(x.strip()) for x in conv.columns]\n",
    "\n",
    "old = tables['Calculated indexed nominal Old-style']\n",
    "old.replace(\"Redeemed\", \"\", inplace=True)\n",
    "old = old.apply(pd.to_numeric, errors='coerce')\n",
    "old.fillna(0, inplace=True)\n",
    "old.index = pd.Index([clean_date(x) for x in list(old.index)]).to_period('M').to_timestamp('M')\n",
    "old.columns = [np.int64(x.strip()) for x in old.columns]\n",
    "\n",
    "new = tables['Calculated indexed nominal New-style']\n",
    "new.replace(\"Redeemed\", \"\", inplace=True)\n",
    "new = new.apply(pd.to_numeric, errors='coerce')\n",
    "new.fillna(0, inplace=True)\n",
    "new.index = pd.Index([clean_date(x) for x in list(new.index)]).to_period('M').to_timestamp('M')\n",
    "new.columns = [np.int64(x.strip()) for x in new.columns]\n",
    "\n",
    "new_no_idx = tables['Index-linked New-style']\n",
    "new_no_idx.replace(\"Redeemed\", \"\", inplace=True)\n",
    "new_no_idx = new_no_idx.apply(pd.to_numeric, errors='coerce')\n",
    "new_no_idx.fillna(0, inplace=True)\n",
    "new_no_idx.index = pd.Index([clean_date(x) for x in list(new_no_idx.index)]).to_period('M').to_timestamp('M')\n",
    "new_no_idx.columns = [np.int64(x.strip()) for x in new_no_idx.columns]"
   ]
  },
  {
   "cell_type": "markdown",
   "id": "6782f206",
   "metadata": {},
   "source": [
    "### British Gilts Survey Month End Prices"
   ]
  },
  {
   "cell_type": "code",
   "execution_count": null,
   "id": "2f35c568",
   "metadata": {},
   "outputs": [],
   "source": [
    "price_df=load_prices(\"downloads/BGSPrices.csv\")\n",
    "price_df.index = pd.to_datetime(price_df.index, format=\"%d %b %Y\").to_period('M').to_timestamp('M')\n",
    "for text in ['Amalgamated', 'Redeemed', 'redeemed']:\n",
    "    price_df = price_df.replace(text, 0)\n",
    "price_df = price_df.replace('missing', None)\n",
    "price_df = price_df.ffill(axis=0)\n",
    "price_df = price_df.fillna(0)\n",
    "price_df.columns = [np.int64(x) for x in price_df.columns]"
   ]
  },
  {
   "cell_type": "markdown",
   "id": "0a64e2e6",
   "metadata": {},
   "source": [
    "### British Gilts Survey Details Table (Bond Static Data, Coupon Maturity etc.) "
   ]
  },
  {
   "cell_type": "code",
   "execution_count": null,
   "id": "59878e09",
   "metadata": {},
   "outputs": [],
   "source": [
    "details = load_csv_blocks(\"downloads/BGSDetails.csv\")\n",
    "\n",
    "conv_details = details['Conventionals']\n",
    "conv_details['%'] = conv_details['%'].apply(clean_percentage)\n",
    "conv_details['Sequence'] = conv_details['Sequence'].apply(lambda x: np.int64(x))\n",
    "\n",
    "new_details = details['Index-Linked New-style']\n",
    "new_details['%'] = new_details['%'].apply(clean_percentage)\n",
    "new_details['Sequence'] = new_details['Sequence'].apply(lambda x: np.int64(x))\n",
    "\n",
    "old_details = details['Index-Linked Old-style']\n",
    "old_details['%'] = old_details['%'].apply(clean_percentage)\n",
    "old_details['Sequence'] = old_details['Sequence'].apply(lambda x: np.int64(x))\n",
    "\n",
    "strip_details = details['Strips']\n",
    "strip_details['%'] = 0.0\n",
    "strip_details['Sequence'] = strip_details['Sequence'].apply(lambda x: np.int64(x))\n",
    "\n",
    "date_variables = [\"Latest redemption date\",\"Issue date\",\"First coupon payable on date\",]\n",
    "for date_var in date_variables:\n",
    "    conv_details[date_var] = conv_details[date_var].apply(clean_date)\n",
    "    old_details[date_var] = old_details[date_var].apply(clean_date)\n",
    "    new_details[date_var] = new_details[date_var].apply(clean_date)\n",
    "strip_details['Latest redemption date'] = strip_details['Latest redemption date'].apply(clean_date)"
   ]
  },
  {
   "cell_type": "markdown",
   "id": "a9ed4a28",
   "metadata": {},
   "source": [
    "### Base Rate"
   ]
  },
  {
   "cell_type": "code",
   "execution_count": null,
   "id": "84ab5501",
   "metadata": {},
   "outputs": [],
   "source": [
    "boe_base_rate = pd.read_csv(\"downloads/Bank Rate history and data  Bank of England Database.csv\")\n",
    "boe_base_rate.head()\n",
    "boe_base_rate['Date Changed'] = pd.to_datetime(boe_base_rate['Date Changed'], format=\"%d %b %y\", errors='coerce')\n",
    "base_rate = boe_base_rate.copy().set_index('Date Changed').resample('D').ffill().reset_index().set_index('Date Changed')\n",
    "base_rate.index = pd.to_datetime(base_rate.index)"
   ]
  },
  {
   "cell_type": "code",
   "execution_count": null,
   "id": "623113b8",
   "metadata": {},
   "outputs": [],
   "source": [
    "all_conv = conv_details[['Sequence', 'ISIN Code','%','Latest redemption date', 'Issue date', 'First coupon payable on date']]\n"
   ]
  },
  {
   "cell_type": "code",
   "execution_count": null,
   "id": "4dd1f6ee",
   "metadata": {},
   "outputs": [],
   "source": [
    "month_end_dates = pd.date_range(start='2024-01-31', end='2025-04-30', freq='ME').strftime(\"%Y-%m-%d\").to_list()"
   ]
  },
  {
   "cell_type": "code",
   "execution_count": null,
   "id": "950cfa7f",
   "metadata": {},
   "outputs": [],
   "source": [
    "def bgs_gilt_yield(bgs_id, calc_date):\n",
    "\n",
    "    bond = conv_details[conv_details['Sequence']==bgs_id]\n",
    "    issue_date=bond['Issue date'].dt.strftime(\"%Y-%m-%d\").values[0]\n",
    "    maturity_date=bond['Latest redemption date'].dt.strftime(\"%Y-%m-%d\").values[0]\n",
    "    first_cpn_date=bond['First coupon payable on date'].dt.strftime(\"%Y-%m-%d\").values[0]\n",
    "    last_cpn_date=bond['Latest redemption date'].dt.strftime(\"%Y-%m-%d\").values[0]\n",
    "    coupon=bond['%'].values[0]/100\n",
    "\n",
    "    clean_price=price_df.loc[calc_date,bgs_id]\n",
    "\n",
    "\n",
    "    return gilt_yield(\n",
    "        trade_date=calc_date,\n",
    "        issue_date=issue_date,\n",
    "        maturity_date=maturity_date,\n",
    "        first_cpn_date=first_cpn_date,\n",
    "        last_cpn_date=last_cpn_date,\n",
    "        clean_price=clean_price,\n",
    "        coupon=coupon)"
   ]
  },
  {
   "cell_type": "code",
   "execution_count": null,
   "id": "cd666428",
   "metadata": {},
   "outputs": [],
   "source": [
    "dislocations = []\n",
    "starting = all_conv.copy()\n",
    "calculation_date = month_end_dates[0]\n",
    "\n",
    "gilts_list = starting.loc[(starting['Latest redemption date'] > pd.to_datetime(calculation_date))&(starting['Issue date']< pd.to_datetime(calculation_date))]\n",
    "gilts_list['Amount_Outstanding']=gilts_list['Sequence'].map( lambda x: conv.loc[calculation_date, x])\n",
    "gilts_list['price'] = gilts_list['Sequence'].apply(lambda x: price_df[x].loc[calculation_date])"
   ]
  },
  {
   "cell_type": "code",
   "execution_count": null,
   "id": "4a2da704",
   "metadata": {},
   "outputs": [],
   "source": [
    "X = ((gilts_list['Latest redemption date'] - pd.Timestamp(\"1970-01-01\")).dt.days).to_list()\n",
    "# X = [np.array(X)[:, np.newaxis]]\n",
    "X = np.array(X).reshape(-1, 1)\n",
    "y = gilts_list['price']"
   ]
  },
  {
   "cell_type": "code",
   "execution_count": null,
   "id": "186278a4",
   "metadata": {},
   "outputs": [],
   "source": [
    "from sklearn.pipeline import make_pipeline\n",
    "from sklearn import preprocessing\n",
    "from sklearn.svm import SVR\n",
    "\n",
    "pipeline = make_pipeline(\n",
    "    preprocessing.StandardScaler(),\n",
    "    SVR(kernel='linear', epsilon=0.01, C=100, gamma = 0.01),\n",
    ")"
   ]
  },
  {
   "cell_type": "code",
   "execution_count": null,
   "id": "82e11742",
   "metadata": {},
   "outputs": [],
   "source": [
    "pipeline.fit(X, y)"
   ]
  },
  {
   "cell_type": "code",
   "execution_count": null,
   "id": "4b02db60",
   "metadata": {},
   "outputs": [],
   "source": [
    "gilts_list['decision_line'] = pipeline.predict(X)"
   ]
  },
  {
   "cell_type": "code",
   "execution_count": null,
   "id": "2a803d7c",
   "metadata": {},
   "outputs": [],
   "source": [
    "condition = (gilts_list['decision_line'] - gilts_list['price']) > 2\n",
    "gilts_list['segmentation'] = condition.apply(lambda x: 1 if x else 0)"
   ]
  },
  {
   "cell_type": "code",
   "execution_count": null,
   "id": "8945ad79",
   "metadata": {},
   "outputs": [],
   "source": [
    "sns.set_theme(style=\"darkgrid\")\n",
    "\n",
    "# use the scatterplot function to build the bubble map\n",
    "ax = sns.scatterplot(\n",
    "    data=gilts_list,\n",
    "    x=\"Latest redemption date\",\n",
    "    y=\"price\",\n",
    "    size=\"Amount_Outstanding\",\n",
    "    hue=\"segmentation\",\n",
    "    legend=False,\n",
    "    sizes=(10, 500)\n",
    ")\n",
    "\n",
    "# show the graph\n",
    "ax.plot(gilts_list['Latest redemption date'], gilts_list['decision_line'])\n",
    "plt.show()"
   ]
  },
  {
   "cell_type": "code",
   "execution_count": null,
   "id": "589a4c48",
   "metadata": {},
   "outputs": [],
   "source": [
    "gilts_list['yield'] = gilts_list['Sequence'].apply(lambda x: bgs_gilt_yield(bgs_id=x, calc_date=calculation_date))\n",
    "\n",
    "c = yield_curve(calculation_date, gilts_list, method=\"Svensson\")\n",
    "dates = [from_iso(x) for x in [x.strftime(\"%Y-%m-%d\") for x in gilts_list['Latest redemption date'].to_list()]]\n",
    "\n",
    "\n",
    "day_count = ql.ActualActual(ql.ActualActual.Bond)\n",
    "\n",
    "gilts_list['curve_yield'] = [\n",
    "        c.zeroRate(d, day_count, ql.Continuous).rate() for d in dates\n",
    "    ]"
   ]
  },
  {
   "cell_type": "code",
   "execution_count": null,
   "id": "5db5927b",
   "metadata": {},
   "outputs": [],
   "source": [
    "f = plt.figure(figsize=(8, 5))\n",
    "ax = f.add_subplot(1, 1, 1)\n",
    "\n",
    "ax.xaxis.grid(True, \"major\", color=\"lightgray\")\n",
    "ax.yaxis.grid(True, \"major\", color=\"lightgray\")\n",
    "ax.xaxis.set_major_locator(YearLocator(10))\n",
    "ax.set_ylim(0.03,0.055)\n",
    "\n",
    "ax.yaxis.set_major_formatter(PercentFormatter(1.0))\n",
    "styles = iter([\"-\", \"--\", \":\", \"-.\"])\n",
    "\n",
    "sns.scatterplot(\n",
    "    data=gilts_list,\n",
    "    x=\"Latest redemption date\",\n",
    "    y=\"curve_yield\",\n",
    "    ax=ax\n",
    ")\n",
    "\n",
    "sns.scatterplot(\n",
    "    data=gilts_list,\n",
    "    x=\"Latest redemption date\",\n",
    "    y=\"yield\",\n",
    "    ax=ax\n",
    ")"
   ]
  },
  {
   "cell_type": "markdown",
   "id": "b16db2b8",
   "metadata": {},
   "source": [
    "### Bank of England Portfolio"
   ]
  },
  {
   "cell_type": "code",
   "execution_count": null,
   "id": "3175110c",
   "metadata": {},
   "outputs": [],
   "source": [
    "df_buy = pd.read_excel(\"downloads/gilt-purchase-operational-results.XLSX\", sheet_name=\"APF Gilts\", header=1)\n",
    "df_sell = pd.read_excel(\"downloads/gilt-sales-time-series.XLSX\", sheet_name=\"APF gilt sales\", header=1)\n",
    "\n",
    "df_boe = df_buy[['Operation date','Total allocation (proceeds £mn)', 'Total allocation (nominal £mn)']].copy()\n",
    "df_boe['Operation date'] = pd.to_datetime(df_boe['Operation date'], format='%d-%m-%Y')\n",
    "df_boe.set_index('Operation date', inplace=True)\n",
    "\n",
    "df_boe_exit = df_sell[['Operation date','Total allocation (proceeds £mn)', 'Total allocation (nominal £mn)']].copy()\n",
    "df_boe_exit['Operation date'] = pd.to_datetime(df_boe_exit['Operation date'], format='%d-%m-%Y')\n",
    "df_boe_exit.set_index('Operation date', inplace=True)"
   ]
  },
  {
   "cell_type": "code",
   "execution_count": null,
   "id": "2399d849",
   "metadata": {},
   "outputs": [],
   "source": [
    "gilt_level_buys = df_buy[[\n",
    "    'ISIN',\n",
    "    'Operation date',\n",
    "    'Total allocation (proceeds £mn)',\n",
    "    'Total allocation (nominal £mn)'\n",
    "    ]].copy()\n",
    "gilt_level_buys.set_index('Operation date', inplace=True)\n",
    "gilt_level_buys.index = pd.to_datetime(gilt_level_buys.index, format='%d-%m-%Y').to_period('M').to_timestamp('M')\n",
    "gilt_level_buys.reset_index(inplace=True)\n",
    "\n",
    "gilt_buys_ts = gilt_level_buys.pivot_table(\n",
    "    index='Operation date', \n",
    "    columns='ISIN', \n",
    "    values='Total allocation (nominal £mn)', aggfunc='sum')\n",
    "\n",
    "gilt_buys_ts = gilt_buys_ts.fillna(0).cumsum()\n",
    "\n",
    "gilt_buys_total = gilt_level_buys.reset_index().groupby([ 'ISIN']).agg(\n",
    "    Total_Allocation_Proceeds=('Total allocation (proceeds £mn)', 'sum'),\n",
    "    Total_Allocation_Nominal=('Total allocation (nominal £mn)', 'sum'),\n",
    "    Last_Purchase_Month=('Operation date', 'max')\n",
    ")\n",
    "gilt_buys_total.reset_index(inplace=True)\n"
   ]
  },
  {
   "cell_type": "code",
   "execution_count": null,
   "id": "cdeccc7b",
   "metadata": {},
   "outputs": [],
   "source": [
    "gilt_buys_total.head()"
   ]
  },
  {
   "cell_type": "code",
   "execution_count": null,
   "id": "017158a4",
   "metadata": {},
   "outputs": [],
   "source": [
    "gilts_list.head()"
   ]
  },
  {
   "cell_type": "code",
   "execution_count": null,
   "id": "124bb281",
   "metadata": {},
   "outputs": [],
   "source": [
    "gilts_list.shape"
   ]
  },
  {
   "cell_type": "code",
   "execution_count": null,
   "id": "3346d72f",
   "metadata": {},
   "outputs": [],
   "source": [
    "gilts_list = gilts_list.merge(gilt_buys_total, left_on='ISIN Code', right_on='ISIN', how='left')"
   ]
  },
  {
   "cell_type": "code",
   "execution_count": null,
   "id": "5e47d7e4",
   "metadata": {},
   "outputs": [],
   "source": [
    "gilts_list.shape"
   ]
  },
  {
   "cell_type": "code",
   "execution_count": null,
   "id": "71c9e7cb",
   "metadata": {},
   "outputs": [],
   "source": [
    "gilts_list.columns"
   ]
  },
  {
   "cell_type": "code",
   "execution_count": null,
   "id": "587b4755",
   "metadata": {},
   "outputs": [],
   "source": [
    "gilt_level_sales = df_sell[[\n",
    "    'ISIN',\n",
    "    'Operation date',\n",
    "    'Total allocation (proceeds £mn)',\n",
    "    'Total allocation (nominal £mn)'\n",
    "    ]].copy()\n",
    "gilt_level_sales.set_index('Operation date', inplace=True)\n",
    "gilt_level_sales.index = pd.to_datetime(gilt_level_sales.index, format='%d-%m-%Y')\n",
    "gilt_level_sales.reset_index(inplace=True)\n",
    "gilt_level_sales.head()"
   ]
  },
  {
   "cell_type": "code",
   "execution_count": null,
   "id": "3ea99e4d",
   "metadata": {},
   "outputs": [],
   "source": [
    "gilt_sales_date = gilt_level_sales.loc[gilt_level_sales['Operation date']< calculation_date]"
   ]
  },
  {
   "cell_type": "code",
   "execution_count": null,
   "id": "751801ad",
   "metadata": {},
   "outputs": [],
   "source": [
    "gilt_sales_date.groupby(['ISIN']).agg(\n",
    "    Total_Sales_Proceeds=('Total allocation (proceeds £mn)', 'sum'),\n",
    "    Total_Sales_Nominal=('Total allocation (nominal £mn)', 'sum'))"
   ]
  },
  {
   "cell_type": "code",
   "execution_count": null,
   "id": "135207df",
   "metadata": {},
   "outputs": [],
   "source": [
    "gilts_list = gilts_list.merge(\n",
    "    gilt_sales_date.groupby(['ISIN']).agg(\n",
    "    Total_Sales_Proceeds=('Total allocation (proceeds £mn)', 'sum'),\n",
    "    Total_Sales_Nominal=('Total allocation (nominal £mn)', 'sum')\n",
    "    ), \n",
    "    left_on='ISIN', \n",
    "    right_on='ISIN', \n",
    "    how='left')"
   ]
  },
  {
   "cell_type": "code",
   "execution_count": null,
   "id": "2060e0ad",
   "metadata": {},
   "outputs": [],
   "source": [
    "gilts_list.head()"
   ]
  },
  {
   "cell_type": "code",
   "execution_count": null,
   "id": "61cfb61d",
   "metadata": {},
   "outputs": [],
   "source": [
    "gilts_list['Total_Sales_Proceeds'].sum()\n",
    "gilts_list['Amount_Outstanding']=gilts_list['Sequence'].map( lambda x: conv.loc[calculation_date, x])"
   ]
  },
  {
   "cell_type": "code",
   "execution_count": null,
   "id": "104e130b",
   "metadata": {},
   "outputs": [],
   "source": [
    "gilts_list = gilts_list.fillna(0)"
   ]
  },
  {
   "cell_type": "code",
   "execution_count": null,
   "id": "b8086738",
   "metadata": {},
   "outputs": [],
   "source": [
    "focus = gilts_list.loc[(gilts_list['segmentation']==1)&(gilts_list['price']<100)].copy()"
   ]
  },
  {
   "cell_type": "code",
   "execution_count": null,
   "id": "10af2b99",
   "metadata": {},
   "outputs": [],
   "source": [
    "funding_rate = base_rate.loc[base_rate.index==calculation_date]['Rate'][0]"
   ]
  },
  {
   "cell_type": "code",
   "execution_count": null,
   "id": "b753aa33",
   "metadata": {},
   "outputs": [],
   "source": [
    "# interest paid on the bonds\n",
    "(focus['Amount_Outstanding']*focus['%']/100).sum()"
   ]
  },
  {
   "cell_type": "code",
   "execution_count": null,
   "id": "9edfd7f5",
   "metadata": {},
   "outputs": [],
   "source": [
    "# interest received by boe\n",
    "((focus['Total_Allocation_Nominal'] - focus['Total_Sales_Nominal'])*focus['%']/100).sum()"
   ]
  },
  {
   "cell_type": "code",
   "execution_count": null,
   "id": "84ab1550",
   "metadata": {},
   "outputs": [],
   "source": [
    "# funding cost of the boe\n",
    "((focus['Total_Allocation_Proceeds'] - focus['Total_Sales_Proceeds'])*funding_rate/100).sum()"
   ]
  },
  {
   "cell_type": "code",
   "execution_count": null,
   "id": "369eae7c",
   "metadata": {},
   "outputs": [],
   "source": [
    "total_cost = (focus['Amount_Outstanding']*focus['%']/100).sum() \\\n",
    "- ((focus['Total_Allocation_Nominal'] - focus['Total_Sales_Nominal'])*focus['%']/100).sum() \\\n",
    "+ ((focus['Total_Allocation_Proceeds'] - focus['Total_Sales_Proceeds'])*funding_rate/100).sum()\n",
    "total_cost"
   ]
  },
  {
   "cell_type": "code",
   "execution_count": null,
   "id": "3e62b1b9",
   "metadata": {},
   "outputs": [],
   "source": [
    "# market holdings\n",
    "((focus['Amount_Outstanding'] - focus['Total_Allocation_Nominal'] + focus['Total_Sales_Nominal'])*focus['price']/100).sum()"
   ]
  },
  {
   "cell_type": "code",
   "execution_count": null,
   "id": "a2fe7a32",
   "metadata": {},
   "outputs": [],
   "source": [
    "# boe holdings\n",
    "((focus['Total_Allocation_Proceeds'] - focus['Total_Sales_Proceeds'])).sum()"
   ]
  },
  {
   "cell_type": "code",
   "execution_count": null,
   "id": "a52f607e",
   "metadata": {},
   "outputs": [],
   "source": [
    "(\n",
    "    (\n",
    "        (\n",
    "            focus['Amount_Outstanding'] - focus['Total_Allocation_Nominal'] + focus['Total_Sales_Nominal']\n",
    "        )*focus['price']/100 + (\n",
    "            focus['Total_Allocation_Proceeds'] - focus['Total_Sales_Proceeds']\n",
    "            )\n",
    "            )*focus['curve_yield']\n",
    "            ).sum()"
   ]
  },
  {
   "cell_type": "code",
   "execution_count": null,
   "id": "9d4ef195",
   "metadata": {},
   "outputs": [],
   "source": [
    "((focus['Total_Allocation_Proceeds'] - focus['Total_Sales_Proceeds'])*focus['curve_yield']).sum()"
   ]
  },
  {
   "cell_type": "code",
   "execution_count": null,
   "id": "3e9c5a44",
   "metadata": {},
   "outputs": [],
   "source": [
    "lme_cost = (\n",
    "    (\n",
    "        (\n",
    "            focus['Amount_Outstanding'] - focus['Total_Allocation_Nominal'] + focus['Total_Sales_Nominal']\n",
    "        )*focus['price']/100 + (\n",
    "            focus['Total_Allocation_Proceeds'] - focus['Total_Sales_Proceeds']\n",
    "            )\n",
    "            )*focus['curve_yield']\n",
    "            ).sum() \\\n",
    "     - ((focus['Total_Allocation_Proceeds'] - focus['Total_Sales_Proceeds'])*focus['curve_yield']).sum() \\\n",
    "     + ((focus['Total_Allocation_Proceeds'] - focus['Total_Sales_Proceeds'])*funding_rate/100).sum()\n",
    "\n",
    "lme_cost"
   ]
  }
 ],
 "metadata": {
  "kernelspec": {
   "display_name": ".venv",
   "language": "python",
   "name": "python3"
  },
  "language_info": {
   "codemirror_mode": {
    "name": "ipython",
    "version": 3
   },
   "file_extension": ".py",
   "mimetype": "text/x-python",
   "name": "python",
   "nbconvert_exporter": "python",
   "pygments_lexer": "ipython3",
   "version": "3.12.10"
  }
 },
 "nbformat": 4,
 "nbformat_minor": 5
}
