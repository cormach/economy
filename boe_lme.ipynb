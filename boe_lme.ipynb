{
 "cells": [
  {
   "cell_type": "code",
   "execution_count": null,
   "id": "a4a4458e",
   "metadata": {},
   "outputs": [],
   "source": [
    "import pandas as pd\n",
    "import requests\n",
    "import zipfile\n",
    "import io\n",
    "import os\n",
    "import csv\n",
    "import ctypes as ct\n",
    "import numpy as np\n",
    "from collections import Counter\n",
    "import matplotlib.pyplot as plt\n",
    "import re\n",
    "from functools import reduce\n"
   ]
  },
  {
   "cell_type": "markdown",
   "id": "93818247",
   "metadata": {},
   "source": [
    "- \"https://www.bankofengland.co.uk/-/media/boe/files/markets/asset-purchase-facility/gilt-purchase-operational-results.xlsx\"\n",
    "- \"https://www.bankofengland.co.uk/-/media/boe/files/markets/asset-purchase-facility/gilt-sales-time-series.xlsx\""
   ]
  },
  {
   "cell_type": "code",
   "execution_count": null,
   "id": "5655fda0",
   "metadata": {},
   "outputs": [],
   "source": [
    "df_buy = pd.ExcelFile(\"downloads/gilt-purchase-operational-results.XLSX\")"
   ]
  },
  {
   "cell_type": "code",
   "execution_count": null,
   "id": "bb841716",
   "metadata": {},
   "outputs": [],
   "source": [
    "df_buy.sheet_names"
   ]
  },
  {
   "cell_type": "code",
   "execution_count": null,
   "id": "ed88e2b2",
   "metadata": {},
   "outputs": [],
   "source": [
    "df_buy = pd.read_excel(\"downloads/gilt-purchase-operational-results.XLSX\", sheet_name=\"APF Gilts\", header=1)"
   ]
  },
  {
   "cell_type": "code",
   "execution_count": null,
   "id": "2ede796b",
   "metadata": {},
   "outputs": [],
   "source": [
    "df_buy.columns"
   ]
  },
  {
   "cell_type": "code",
   "execution_count": null,
   "id": "b27bf302",
   "metadata": {},
   "outputs": [],
   "source": [
    "df_boe = df_buy[['Operation date','Total allocation (proceeds £mn)', 'Total allocation (nominal £mn)']].copy()"
   ]
  },
  {
   "cell_type": "code",
   "execution_count": null,
   "id": "e9034bfc",
   "metadata": {},
   "outputs": [],
   "source": [
    "df_sell = pd.ExcelFile(\"downloads/gilt-sales-time-series.XLSX\")"
   ]
  },
  {
   "cell_type": "code",
   "execution_count": null,
   "id": "36017e92",
   "metadata": {},
   "outputs": [],
   "source": [
    "df_sell.sheet_names"
   ]
  },
  {
   "cell_type": "code",
   "execution_count": null,
   "id": "b479edb7",
   "metadata": {},
   "outputs": [],
   "source": [
    "df_sell = pd.read_excel(\"downloads/gilt-sales-time-series.XLSX\", sheet_name=\"APF gilt sales\", header=1)"
   ]
  },
  {
   "cell_type": "code",
   "execution_count": null,
   "id": "e48b077e",
   "metadata": {},
   "outputs": [],
   "source": [
    "df_sell.columns"
   ]
  },
  {
   "cell_type": "code",
   "execution_count": null,
   "id": "47a41df4",
   "metadata": {},
   "outputs": [],
   "source": [
    "df_sell['Operation date'] = pd.to_datetime(df_sell['Operation date'], format='%d-%m-%Y')\n",
    "last_date = df_sell['Operation date'].min()"
   ]
  },
  {
   "cell_type": "code",
   "execution_count": null,
   "id": "b5c96312",
   "metadata": {},
   "outputs": [],
   "source": [
    "from bgs.load_gilt_details import load_csv_blocks\n",
    "from bgs.load_bgs_prices import load_prices\n",
    "from bgs.load_bgs_amounts import load_bgs_amounts\n",
    "from bgs.bgs_utils import clean_date, clean_percentage\n",
    "from bgs.gilt_analytics import coupon_schedule\n"
   ]
  },
  {
   "cell_type": "code",
   "execution_count": null,
   "id": "0dec7fdc",
   "metadata": {},
   "outputs": [],
   "source": [
    "details = load_csv_blocks(\"downloads/BGSDetails.csv\")\n",
    "\n",
    "conv_details = details['Conventionals']\n",
    "conv_details['%'] = conv_details['%'].apply(clean_percentage)\n",
    "conv_details['Sequence'] = conv_details['Sequence'].apply(lambda x: np.int64(x))\n",
    "\n",
    "new_details = details['Index-Linked New-style']\n",
    "new_details['%'] = new_details['%'].apply(clean_percentage)\n",
    "new_details['Sequence'] = new_details['Sequence'].apply(lambda x: np.int64(x))\n",
    "\n",
    "old_details = details['Index-Linked Old-style']\n",
    "old_details['%'] = old_details['%'].apply(clean_percentage)\n",
    "old_details['Sequence'] = old_details['Sequence'].apply(lambda x: np.int64(x))\n",
    "\n",
    "date_variables = [\"Latest redemption date\",\"Issue date\",\"First coupon payable on date\",]\n",
    "for date_var in date_variables:\n",
    "    conv_details[date_var] = conv_details[date_var].apply(clean_date)\n",
    "    old_details[date_var] = old_details[date_var].apply(clean_date)\n",
    "    new_details[date_var] = new_details[date_var].apply(clean_date)\n",
    "\n",
    "price_df=load_prices(\"downloads/BGSPrices.csv\")\n",
    "price_df.index = pd.to_datetime(price_df.index, format=\"%d %b %Y\").to_period('M').to_timestamp('M')\n",
    "for text in ['Amalgamated', 'Redeemed', 'redeemed']:\n",
    "    price_df = price_df.replace(text, 0)\n",
    "price_df = price_df.replace('missing', None)\n",
    "price_df = price_df.ffill(axis=0)\n",
    "price_df = price_df.fillna(0)\n",
    "price_df.columns = [np.int64(x) for x in price_df.columns]"
   ]
  },
  {
   "cell_type": "code",
   "execution_count": null,
   "id": "a38b13e3",
   "metadata": {},
   "outputs": [],
   "source": [
    "gilt_level_buys = df_buy[[\n",
    "    'ISIN',\n",
    "    'Operation date',\n",
    "    'Total allocation (proceeds £mn)',\n",
    "    'Total allocation (nominal £mn)'\n",
    "    ]].copy()\n",
    "gilt_level_buys.set_index('Operation date', inplace=True)\n",
    "gilt_level_buys.index = pd.to_datetime(gilt_level_buys.index, format='%d-%m-%Y').to_period('M').to_timestamp('M')\n",
    "gilt_level_buys.reset_index(inplace=True)"
   ]
  },
  {
   "cell_type": "code",
   "execution_count": null,
   "id": "8c6b5f4d",
   "metadata": {},
   "outputs": [],
   "source": [
    "gilt_buys_total = gilt_level_buys.reset_index().groupby([ 'ISIN']).agg(\n",
    "    Total_Allocation_Proceeds=('Total allocation (proceeds £mn)', 'sum'),\n",
    "    Total_Allocation_Nominal=('Total allocation (nominal £mn)', 'sum'),\n",
    "    Last_Purchase_Month=('Operation date', 'max')\n",
    ")\n",
    "gilt_buys_total.reset_index(inplace=True)\n",
    "gilt_buys_total.head()"
   ]
  },
  {
   "cell_type": "code",
   "execution_count": null,
   "id": "b5bd02ee",
   "metadata": {},
   "outputs": [],
   "source": [
    "gilt_buys_total['maturity_date'] = gilt_buys_total['ISIN'].map(\n",
    "    lambda x: conv_details[\n",
    "        conv_details['ISIN Code']==x\n",
    "        ]['Latest redemption date'].values[0]\n",
    "    )\n",
    "gilt_buys_total['bgs_id'] = gilt_buys_total['ISIN'].map(\n",
    "    lambda x: conv_details[\n",
    "        conv_details['ISIN Code']==x\n",
    "        ]['Sequence'].values[0]\n",
    "    )"
   ]
  },
  {
   "cell_type": "code",
   "execution_count": null,
   "id": "280ef441",
   "metadata": {},
   "outputs": [],
   "source": [
    "gilt_buys_total.head()"
   ]
  },
  {
   "cell_type": "code",
   "execution_count": null,
   "id": "1776bd2e",
   "metadata": {},
   "outputs": [],
   "source": [
    "gilt_buys_total['maturity_date'] = pd.to_datetime(\n",
    "    gilt_buys_total['maturity_date'], format=\"%d %b %Y\"\n",
    ")"
   ]
  },
  {
   "cell_type": "code",
   "execution_count": null,
   "id": "5b9ec39e",
   "metadata": {},
   "outputs": [],
   "source": [
    "gilt_level_sales = df_sell[[\n",
    "    'ISIN',\n",
    "    'Operation date',\n",
    "    'Total allocation (proceeds £mn)',\n",
    "    'Total allocation (nominal £mn)'\n",
    "    ]].copy()\n",
    "gilt_level_sales.set_index('Operation date', inplace=True)\n",
    "gilt_level_sales.index = pd.to_datetime(gilt_level_sales.index, format='%d-%m-%Y').to_period('M').to_timestamp('M')\n",
    "gilt_level_sales.reset_index(inplace=True)\n",
    "gilt_level_sales.head()"
   ]
  },
  {
   "cell_type": "code",
   "execution_count": null,
   "id": "816fcc7f",
   "metadata": {},
   "outputs": [],
   "source": [
    "gilt_sales_total = gilt_level_sales.reset_index().groupby([ 'ISIN']).agg(\n",
    "    Total_sales_proceeds=('Total allocation (proceeds £mn)', 'sum'),\n",
    "    Total_nominal_reduction=('Total allocation (nominal £mn)', 'sum'),\n",
    ")\n",
    "gilt_sales_total.reset_index(inplace=True)"
   ]
  },
  {
   "cell_type": "code",
   "execution_count": null,
   "id": "99b4918c",
   "metadata": {},
   "outputs": [],
   "source": [
    "boe_portfolio = gilt_buys_total.set_index('ISIN').merge(\n",
    "    gilt_sales_total[[\n",
    "        'ISIN',\n",
    "        'Total_nominal_reduction',\n",
    "        'Total_sales_proceeds'\n",
    "    ]].set_index('ISIN'),\n",
    "        how='left',\n",
    "        left_index=True,\n",
    "        right_index=True,\n",
    "        suffixes=('_buy', '_sell')\n",
    "        ).copy().fillna(0).reset_index()"
   ]
  },
  {
   "cell_type": "code",
   "execution_count": null,
   "id": "0dc5d629",
   "metadata": {},
   "outputs": [],
   "source": [
    "boe_portfolio.head()"
   ]
  },
  {
   "cell_type": "code",
   "execution_count": null,
   "id": "28bc97b3",
   "metadata": {},
   "outputs": [],
   "source": [
    "boe_portfolio['Coupon']=boe_portfolio['ISIN'].map(\n",
    "    lambda x: conv_details[\n",
    "        conv_details['ISIN Code']==x\n",
    "        ]['%'].values[0]\n",
    "    )"
   ]
  },
  {
   "cell_type": "code",
   "execution_count": null,
   "id": "5c77fbc8",
   "metadata": {},
   "outputs": [],
   "source": [
    "today = \"2025-08-31\"\n",
    "boe_current = boe_portfolio.loc[boe_portfolio['maturity_date']>today].copy()"
   ]
  },
  {
   "cell_type": "code",
   "execution_count": null,
   "id": "d4f16f62",
   "metadata": {},
   "outputs": [],
   "source": [
    "boe_current.head()"
   ]
  },
  {
   "cell_type": "code",
   "execution_count": null,
   "id": "ea594ef0",
   "metadata": {},
   "outputs": [],
   "source": [
    "avg_coupon = ((boe_current['Total_Allocation_Nominal'] - boe_current['Total_nominal_reduction'])*boe_current['Coupon']).sum()/(boe_current['Total_Allocation_Nominal'] - boe_current['Total_nominal_reduction']).sum()\n",
    "apf_funding = (boe_current['Total_Allocation_Proceeds'] - boe_current['Total_sales_proceeds']).sum()\n",
    "base_rate = 4\n",
    "(base_rate - avg_coupon) * apf_funding / 100"
   ]
  },
  {
   "cell_type": "code",
   "execution_count": null,
   "id": "2d20df8a",
   "metadata": {},
   "outputs": [],
   "source": [
    "ons_download_pusf = \"downloads/MF7A.csv\"\n",
    "df_pusf = pd.read_csv(ons_download_pusf, skiprows=8,names=[\"CDID\",\"MF7A\"])\n",
    "q_start =  df_pusf.loc[df_pusf['CDID']==\"1997 APR\"].index[0]\n",
    "df_mf7a_m = df_pusf.iloc[q_start:].ffill()\n",
    "df_mf7a_m['date']=pd.to_datetime(df_mf7a_m['CDID'], format=\"%Y %b\")\n",
    "df_mf7a_m.set_index('date', inplace=True)\n",
    "# df_mf7a_m = df_mf7a_m.resample('ME').ffill()\n",
    "df_mf7a_m.tail(10)\n",
    "# df_mf7a_m['MF7A'] = df_mf7a_m['MF7A'].apply(lambda x: x/100)"
   ]
  },
  {
   "cell_type": "code",
   "execution_count": null,
   "id": "aceefa61",
   "metadata": {},
   "outputs": [],
   "source": [
    "df_mf7a_m['MF7A'].sum()"
   ]
  },
  {
   "cell_type": "code",
   "execution_count": null,
   "id": "6958950a",
   "metadata": {},
   "outputs": [],
   "source": [
    "(boe_current['Total_Allocation_Proceeds']*boe_current['Total_nominal_reduction']/boe_current['Total_Allocation_Nominal'] - boe_current['Total_sales_proceeds']).sum()"
   ]
  },
  {
   "cell_type": "code",
   "execution_count": null,
   "id": "0b78b0fe",
   "metadata": {},
   "outputs": [],
   "source": [
    "price_df.index.max()"
   ]
  },
  {
   "cell_type": "code",
   "execution_count": null,
   "id": "ffbbef23",
   "metadata": {},
   "outputs": [],
   "source": [
    "price_df.loc['2025-04-30', 32100]"
   ]
  },
  {
   "cell_type": "code",
   "execution_count": null,
   "id": "d3bd5608",
   "metadata": {},
   "outputs": [],
   "source": [
    "boe_current['mkt_price'] = boe_current['bgs_id'].map(\n",
    "    lambda x: price_df.loc['2025-04-30', int(x)])"
   ]
  },
  {
   "cell_type": "code",
   "execution_count": null,
   "id": "0c046a4e",
   "metadata": {},
   "outputs": [],
   "source": [
    "((boe_current['Total_Allocation_Proceeds'] - boe_current['Total_sales_proceeds']) - (boe_current['Total_Allocation_Nominal'] - boe_current['Total_nominal_reduction'])*boe_current['mkt_price']/100).sum()"
   ]
  },
  {
   "cell_type": "code",
   "execution_count": null,
   "id": "91ffcd76",
   "metadata": {},
   "outputs": [],
   "source": [
    "isin_list = ['GB00BK5CVX03', 'GB00BTHH2R79', 'GB00BL68HJ26', 'GB00BYZW3G56', 'GB00BNNGP668', 'GB00BDRHNP05', 'GB00BMBL1G81', 'GB00BFX0ZL78', 'GB00BLPK7227', 'GB00BJMHB534', 'GB00BL68HH02', 'GB00BMGR2809', 'GB00BM8Z2T38', 'GB00BM8Z2S21', 'GB00BMGR2916', 'GB00BZB26Y51', 'GB00BLPK7334', 'GB00BJQWYH73', 'GB00B84Z9V04', 'GB00BNNGP775', 'GB00BDCHBW80', 'GB00BFWFPP71', 'GB00BMBL1F74', 'GB00BLH38158', 'GB00BM8Z2V59', 'GB00BJLR0J16', 'GB00BD0XH204', 'GB00BMBL1D50', 'GB00BFMCN652', 'GB00BLBDX619']"
   ]
  },
  {
   "cell_type": "code",
   "execution_count": null,
   "id": "b51374d7",
   "metadata": {},
   "outputs": [],
   "source": [
    "boe_lme = boe_current.loc[boe_current['ISIN'].isin(isin_list)]"
   ]
  },
  {
   "cell_type": "code",
   "execution_count": null,
   "id": "10474f56",
   "metadata": {},
   "outputs": [],
   "source": [
    "((boe_lme['Total_Allocation_Proceeds'] - boe_lme['Total_sales_proceeds']) - (boe_lme['Total_Allocation_Nominal'] - boe_lme['Total_nominal_reduction'])*boe_lme['mkt_price']/100).sum()"
   ]
  },
  {
   "cell_type": "code",
   "execution_count": null,
   "id": "9217f05c",
   "metadata": {},
   "outputs": [],
   "source": [
    "boe_current['lme_flag'] = boe_current['ISIN'].isin(isin_list)"
   ]
  },
  {
   "cell_type": "code",
   "execution_count": null,
   "id": "30e20ca4",
   "metadata": {},
   "outputs": [],
   "source": [
    "(((boe_current['Total_Allocation_Proceeds'] - boe_current['Total_sales_proceeds']) - (boe_current['Total_Allocation_Nominal'] - boe_current['Total_nominal_reduction'])*boe_current['mkt_price']/100)*boe_current['lme_flag']).sum()"
   ]
  },
  {
   "cell_type": "code",
   "execution_count": null,
   "id": "de83d1e1",
   "metadata": {},
   "outputs": [],
   "source": [
    "boe_current.head()"
   ]
  },
  {
   "cell_type": "code",
   "execution_count": null,
   "id": "66261328",
   "metadata": {},
   "outputs": [],
   "source": [
    "boe_curves = \"downloads/GLC Nominal month end data_2025 to present.xlsx\"\n",
    "df_curves = pd.ExcelFile(boe_curves)\n",
    "df_curve = pd.read_excel(boe_curves, sheet_name='4. spot curve', skiprows=3)\n",
    "df_curve = df_curve.set_index('years:')\n",
    "spot_curve = df_curve.loc['2025-04-30'].to_dict()\n"
   ]
  },
  {
   "cell_type": "code",
   "execution_count": null,
   "id": "d09cacfc",
   "metadata": {},
   "outputs": [],
   "source": [
    "flat_long = spot_curve.get(40)\n",
    "boe_current['lme_coupon'] = ((boe_current['maturity_date'].dt.year-2025) + (boe_current['maturity_date'].dt.month)//6*0.5).apply(\n",
    "    lambda x: spot_curve.get(x, flat_long))\n",
    "boe_current['new_coupon'] = boe_current.apply(lambda x: x['lme_coupon'] if x['lme_flag']==1 else x['Coupon'], axis=1)"
   ]
  },
  {
   "cell_type": "code",
   "execution_count": null,
   "id": "0519ce5f",
   "metadata": {},
   "outputs": [],
   "source": [
    "new_avg_coupon = ((boe_current['Total_Allocation_Nominal'] - boe_current['Total_nominal_reduction'])*boe_current['new_coupon']).sum()/(boe_current['Total_Allocation_Nominal'] - boe_current['Total_nominal_reduction']).sum()\n",
    "(base_rate - new_avg_coupon) * apf_funding / 100"
   ]
  },
  {
   "cell_type": "code",
   "execution_count": null,
   "id": "99bcee1e",
   "metadata": {},
   "outputs": [],
   "source": []
  }
 ],
 "metadata": {
  "kernelspec": {
   "display_name": ".venv (3.12.10)",
   "language": "python",
   "name": "python3"
  },
  "language_info": {
   "codemirror_mode": {
    "name": "ipython",
    "version": 3
   },
   "file_extension": ".py",
   "mimetype": "text/x-python",
   "name": "python",
   "nbconvert_exporter": "python",
   "pygments_lexer": "ipython3",
   "version": "3.12.10"
  }
 },
 "nbformat": 4,
 "nbformat_minor": 5
}
