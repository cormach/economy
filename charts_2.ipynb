{
 "cells": [
  {
   "cell_type": "code",
   "execution_count": null,
   "id": "735f933c",
   "metadata": {},
   "outputs": [],
   "source": [
    "import pandas as pd\n",
    "import requests\n",
    "import zipfile\n",
    "import io\n",
    "import os\n",
    "import csv\n",
    "import ctypes as ct\n",
    "import numpy as np\n",
    "from collections import Counter\n",
    "import matplotlib.pyplot as plt\n",
    "import re\n",
    "import seaborn as sns\n",
    "import QuantLib as ql\n",
    "\n",
    "from bgs.bgs_utils import clean_date, clean_percentage\n",
    "from bgs.load_bgs_amounts import load_bgs_amounts\n",
    "from bgs.load_gilt_details import load_csv_blocks\n",
    "from bgs.load_bgs_prices import load_prices\n",
    "from bgs.gilt_analytics import gilt_yield, yield_series\n",
    "from bgs.linker_analytics import linker_real_yield"
   ]
  },
  {
   "cell_type": "markdown",
   "id": "4e9581d9",
   "metadata": {},
   "source": [
    "### British Gilt Survey Amounts Table"
   ]
  },
  {
   "cell_type": "code",
   "execution_count": null,
   "id": "4d0dbfba",
   "metadata": {},
   "outputs": [],
   "source": [
    "tables = load_bgs_amounts(\"downloads/BGSAmounts.csv\")\n",
    "\n",
    "conv = tables['Conventionals']\n",
    "conv.replace(\"Redeemed\", \"\", inplace=True)\n",
    "conv = conv.apply(pd.to_numeric, errors='coerce')\n",
    "conv.fillna(0, inplace=True)\n",
    "conv.index = pd.Index([clean_date(x) for x in list(conv.index)]).to_period('M').to_timestamp('M')\n",
    "conv.columns = [np.int64(x.strip()) for x in conv.columns]\n",
    "\n",
    "old = tables['Calculated indexed nominal Old-style']\n",
    "old.replace(\"Redeemed\", \"\", inplace=True)\n",
    "old = old.apply(pd.to_numeric, errors='coerce')\n",
    "old.fillna(0, inplace=True)\n",
    "old.index = pd.Index([clean_date(x) for x in list(old.index)]).to_period('M').to_timestamp('M')\n",
    "old.columns = [np.int64(x.strip()) for x in old.columns]\n",
    "\n",
    "new = tables['Calculated indexed nominal New-style']\n",
    "new.replace(\"Redeemed\", \"\", inplace=True)\n",
    "new = new.apply(pd.to_numeric, errors='coerce')\n",
    "new.fillna(0, inplace=True)\n",
    "new.index = pd.Index([clean_date(x) for x in list(new.index)]).to_period('M').to_timestamp('M')\n",
    "new.columns = [np.int64(x.strip()) for x in new.columns]\n",
    "\n",
    "new_no_idx = tables['Index-linked New-style']\n",
    "new_no_idx.replace(\"Redeemed\", \"\", inplace=True)\n",
    "new_no_idx = new_no_idx.apply(pd.to_numeric, errors='coerce')\n",
    "new_no_idx.fillna(0, inplace=True)\n",
    "new_no_idx.index = pd.Index([clean_date(x) for x in list(new_no_idx.index)]).to_period('M').to_timestamp('M')\n",
    "new_no_idx.columns = [np.int64(x.strip()) for x in new_no_idx.columns]"
   ]
  },
  {
   "cell_type": "markdown",
   "id": "9923c1ca",
   "metadata": {},
   "source": [
    "### British Gilts Survey Month End Prices"
   ]
  },
  {
   "cell_type": "code",
   "execution_count": null,
   "id": "e4457d4e",
   "metadata": {},
   "outputs": [],
   "source": [
    "price_df=load_prices(\"downloads/BGSPrices.csv\")\n",
    "price_df.index = pd.to_datetime(price_df.index, format=\"%d %b %Y\").to_period('M').to_timestamp('M')\n",
    "for text in ['Amalgamated', 'Redeemed', 'redeemed']:\n",
    "    price_df = price_df.replace(text, 0)\n",
    "price_df = price_df.replace('missing', None)\n",
    "price_df = price_df.ffill(axis=0)\n",
    "price_df = price_df.fillna(0)\n",
    "price_df.columns = [np.int64(x) for x in price_df.columns]"
   ]
  },
  {
   "cell_type": "markdown",
   "id": "88ffb08f",
   "metadata": {},
   "source": [
    "### British Gilts Survey Details Table (Bond Static Data, Coupon Maturity etc.) "
   ]
  },
  {
   "cell_type": "code",
   "execution_count": null,
   "id": "eb16cd90",
   "metadata": {},
   "outputs": [],
   "source": [
    "details = load_csv_blocks(\"downloads/BGSDetails.csv\")\n",
    "\n",
    "conv_details = details['Conventionals']\n",
    "conv_details['%'] = conv_details['%'].apply(clean_percentage)\n",
    "conv_details['Sequence'] = conv_details['Sequence'].apply(lambda x: np.int64(x))\n",
    "\n",
    "new_details = details['Index-Linked New-style']\n",
    "new_details['%'] = new_details['%'].apply(clean_percentage)\n",
    "new_details['Sequence'] = new_details['Sequence'].apply(lambda x: np.int64(x))\n",
    "\n",
    "old_details = details['Index-Linked Old-style']\n",
    "old_details['%'] = old_details['%'].apply(clean_percentage)\n",
    "old_details['Sequence'] = old_details['Sequence'].apply(lambda x: np.int64(x))\n",
    "\n",
    "strip_details = details['Strips']\n",
    "strip_details['%'] = 0.0\n",
    "strip_details['Sequence'] = strip_details['Sequence'].apply(lambda x: np.int64(x))\n",
    "\n",
    "date_variables = [\"Latest redemption date\",\"Issue date\",\"First coupon payable on date\",]\n",
    "for date_var in date_variables:\n",
    "    conv_details[date_var] = conv_details[date_var].apply(clean_date)\n",
    "    old_details[date_var] = old_details[date_var].apply(clean_date)\n",
    "    new_details[date_var] = new_details[date_var].apply(clean_date)\n",
    "strip_details['Latest redemption date'] = strip_details['Latest redemption date'].apply(clean_date)"
   ]
  },
  {
   "cell_type": "markdown",
   "id": "f4ddea70",
   "metadata": {},
   "source": [
    "### Low Coupons"
   ]
  },
  {
   "cell_type": "code",
   "execution_count": null,
   "id": "23a7dafa",
   "metadata": {},
   "outputs": [],
   "source": [
    "id = 32260\n",
    "bond = conv_details[conv_details['Sequence']==id]\n",
    "issue_date=bond['Issue date'].dt.strftime(\"%Y-%m-%d\").values[0]\n",
    "maturity_date=bond['Latest redemption date'].dt.strftime(\"%Y-%m-%d\").values[0]\n",
    "first_cpn_date=bond['First coupon payable on date'].dt.strftime(\"%Y-%m-%d\").values[0]\n",
    "last_cpn_date=bond['Latest redemption date'].dt.strftime(\"%Y-%m-%d\").values[0]\n",
    "coupon=bond['%'].values[0]\n",
    "bond_price_series = price_df[id].replace(0, np.nan).copy().dropna()\n",
    "\n",
    "ukt4_25_2049 = yield_series(bond_price_series, issue_date, maturity_date, first_cpn_date, last_cpn_date, coupon)\n"
   ]
  },
  {
   "cell_type": "code",
   "execution_count": null,
   "id": "855dee77",
   "metadata": {},
   "outputs": [],
   "source": [
    "conv_details.loc[\n",
    "    (conv_details['Latest redemption date'] > pd.to_datetime(maturity_date, format=\"%Y-%m-%d\") - pd.DateOffset(years=2))\n",
    "].loc[\n",
    "    (conv_details['Latest redemption date'] < pd.to_datetime(maturity_date, format=\"%Y-%m-%d\") + pd.DateOffset(years=2))\n",
    "]"
   ]
  },
  {
   "cell_type": "code",
   "execution_count": null,
   "id": "7697af57",
   "metadata": {},
   "outputs": [],
   "source": [
    "id = 32262\n",
    "bond = conv_details[conv_details['Sequence']==id]\n",
    "issue_date=bond['Issue date'].dt.strftime(\"%Y-%m-%d\").values[0]\n",
    "maturity_date=bond['Latest redemption date'].dt.strftime(\"%Y-%m-%d\").values[0]\n",
    "first_cpn_date=bond['First coupon payable on date'].dt.strftime(\"%Y-%m-%d\").values[0]\n",
    "last_cpn_date=bond['Latest redemption date'].dt.strftime(\"%Y-%m-%d\").values[0]\n",
    "coupon=bond['%'].values[0]\n",
    "bond_price_series = price_df[id].replace(0, np.nan).copy().dropna()\n",
    "\n",
    "ukt0_625_2050 = yield_series(bond_price_series, issue_date, maturity_date, first_cpn_date, last_cpn_date, coupon)"
   ]
  },
  {
   "cell_type": "code",
   "execution_count": null,
   "id": "7529b6e2",
   "metadata": {},
   "outputs": [],
   "source": [
    "strip_details.loc[\n",
    "    (strip_details['Latest redemption date'] > pd.to_datetime(maturity_date, format=\"%Y-%m-%d\") - pd.DateOffset(years=1))\n",
    "].loc[\n",
    "    (strip_details['Latest redemption date'] < pd.to_datetime(maturity_date, format=\"%Y-%m-%d\") + pd.DateOffset(years=1))\n",
    "]"
   ]
  },
  {
   "cell_type": "code",
   "execution_count": null,
   "id": "9933c153",
   "metadata": {},
   "outputs": [],
   "source": [
    "id = 32260\n",
    "bond = conv_details[conv_details['Sequence']==id]\n",
    "issue_date=bond['Issue date'].dt.strftime(\"%Y-%m-%d\").values[0]\n",
    "first_cpn_date=bond['First coupon payable on date'].dt.strftime(\"%Y-%m-%d\").values[0]\n",
    "strip_id = 76650\n",
    "bond = strip_details[strip_details['Sequence']==strip_id]\n",
    "maturity_date=bond['Latest redemption date'].dt.strftime(\"%Y-%m-%d\").values[0]\n",
    "last_cpn_date=bond['Latest redemption date'].dt.strftime(\"%Y-%m-%d\").values[0]\n",
    "coupon=0.0\n",
    "bond_price_series = price_df[strip_id].replace(0, np.nan).copy().dropna()\n",
    "\n",
    "ukt_strip_2049 = yield_series(bond_price_series, issue_date, maturity_date, first_cpn_date, last_cpn_date, coupon)"
   ]
  },
  {
   "cell_type": "code",
   "execution_count": null,
   "id": "54be33fa",
   "metadata": {},
   "outputs": [],
   "source": [
    "ax = ukt_strip_2049['yield']['2020-01-01':'2022-12-31'].plot(legend=True)\n",
    "ukt4_25_2049['yield']['2020-01-01':'2022-12-31'].plot(ax=ax, legend=True)\n",
    "ukt0_625_2050['yield']['2020-01-01':'2022-12-31'].plot(ax=ax, legend=True)"
   ]
  },
  {
   "cell_type": "code",
   "execution_count": null,
   "id": "7010a0f4",
   "metadata": {},
   "outputs": [],
   "source": [
    "ax = (ukt0_625_2050['yield'] - ukt_strip_2049['yield']).plot()\n",
    "(ukt4_25_2049['yield'] - ukt_strip_2049['yield']).plot(ax=ax)\n"
   ]
  },
  {
   "cell_type": "code",
   "execution_count": null,
   "id": "dc25c2de",
   "metadata": {},
   "outputs": [],
   "source": [
    "(ukt4_25_2049['yield'] - ukt_strip_2049['yield']).plot()"
   ]
  },
  {
   "cell_type": "code",
   "execution_count": null,
   "id": "f8d5e387",
   "metadata": {},
   "outputs": [],
   "source": [
    "id = 32175\n",
    "bond = conv_details[conv_details['Sequence']==id]\n",
    "bond.head()"
   ]
  },
  {
   "cell_type": "code",
   "execution_count": null,
   "id": "e022841a",
   "metadata": {},
   "outputs": [],
   "source": [
    "issue_date=bond['Issue date'].dt.strftime(\"%Y-%m-%d\").values[0]\n",
    "maturity_date=bond['Latest redemption date'].dt.strftime(\"%Y-%m-%d\").values[0]\n",
    "first_cpn_date=bond['First coupon payable on date'].dt.strftime(\"%Y-%m-%d\").values[0]\n",
    "last_cpn_date=bond['Latest redemption date'].dt.strftime(\"%Y-%m-%d\").values[0]\n",
    "coupon=bond['%'].values[0]\n",
    "bond_price_series = price_df[id].replace(0, np.nan).copy().dropna()\n",
    "\n",
    "ukt0_25_2031 = yield_series(bond_price_series, issue_date, maturity_date, first_cpn_date, last_cpn_date, coupon)"
   ]
  },
  {
   "cell_type": "code",
   "execution_count": null,
   "id": "572c8b23",
   "metadata": {},
   "outputs": [],
   "source": [
    "conv_details.loc[\n",
    "    (conv_details['Latest redemption date'] > pd.to_datetime(maturity_date, format=\"%Y-%m-%d\") - pd.DateOffset(years=2))\n",
    "].loc[\n",
    "    (conv_details['Latest redemption date'] < pd.to_datetime(maturity_date, format=\"%Y-%m-%d\") + pd.DateOffset(years=2))\n",
    "]"
   ]
  },
  {
   "cell_type": "code",
   "execution_count": null,
   "id": "2281acab",
   "metadata": {},
   "outputs": [],
   "source": [
    "id = 32150\n",
    "bond = conv_details[conv_details['Sequence']==id]\n",
    "issue_date=bond['Issue date'].dt.strftime(\"%Y-%m-%d\").values[0]\n",
    "maturity_date=bond['Latest redemption date'].dt.strftime(\"%Y-%m-%d\").values[0]\n",
    "first_cpn_date=bond['First coupon payable on date'].dt.strftime(\"%Y-%m-%d\").values[0]\n",
    "last_cpn_date=bond['Latest redemption date'].dt.strftime(\"%Y-%m-%d\").values[0]\n",
    "coupon=bond['%'].values[0]\n",
    "bond_price_series = price_df[id].replace(0, np.nan).copy().dropna()\n",
    "\n",
    "ukt4_75_2030 = yield_series(bond_price_series, issue_date, maturity_date, first_cpn_date, last_cpn_date, coupon)"
   ]
  },
  {
   "cell_type": "code",
   "execution_count": null,
   "id": "553a1c6d",
   "metadata": {},
   "outputs": [],
   "source": [
    "strip_details.loc[\n",
    "    (strip_details['Latest redemption date'] > pd.to_datetime(maturity_date, format=\"%Y-%m-%d\") - pd.DateOffset(years=1))\n",
    "].loc[\n",
    "    (strip_details['Latest redemption date'] < pd.to_datetime(maturity_date, format=\"%Y-%m-%d\") + pd.DateOffset(years=1))\n",
    "]"
   ]
  },
  {
   "cell_type": "code",
   "execution_count": null,
   "id": "38bb0132",
   "metadata": {},
   "outputs": [],
   "source": [
    "\n",
    "id = 32150\n",
    "bond = conv_details[conv_details['Sequence']==id]\n",
    "issue_date=bond['Issue date'].dt.strftime(\"%Y-%m-%d\").values[0]\n",
    "first_cpn_date=bond['First coupon payable on date'].dt.strftime(\"%Y-%m-%d\").values[0]\n",
    "strip_id = 72410\n",
    "bond = strip_details[strip_details['Sequence']==strip_id]\n",
    "maturity_date=bond['Latest redemption date'].dt.strftime(\"%Y-%m-%d\").values[0]\n",
    "last_cpn_date=bond['Latest redemption date'].dt.strftime(\"%Y-%m-%d\").values[0]\n",
    "coupon=0.0\n",
    "bond_price_series = price_df[strip_id].replace(0, np.nan).copy().dropna()\n",
    "\n",
    "ukt_strip_2030 = yield_series(bond_price_series, issue_date, maturity_date, first_cpn_date, last_cpn_date, coupon)"
   ]
  },
  {
   "cell_type": "code",
   "execution_count": null,
   "id": "b67263c5",
   "metadata": {},
   "outputs": [],
   "source": [
    "ax = (ukt0_25_2031['yield'] - ukt_strip_2030['yield']).plot()\n",
    "(ukt4_75_2030['yield'] - ukt_strip_2030['yield']).plot(ax=ax)"
   ]
  },
  {
   "cell_type": "code",
   "execution_count": null,
   "id": "2560bb63",
   "metadata": {},
   "outputs": [],
   "source": []
  }
 ],
 "metadata": {
  "kernelspec": {
   "display_name": ".venv (3.12.10)",
   "language": "python",
   "name": "python3"
  },
  "language_info": {
   "codemirror_mode": {
    "name": "ipython",
    "version": 3
   },
   "file_extension": ".py",
   "mimetype": "text/x-python",
   "name": "python",
   "nbconvert_exporter": "python",
   "pygments_lexer": "ipython3",
   "version": "3.12.10"
  }
 },
 "nbformat": 4,
 "nbformat_minor": 5
}
